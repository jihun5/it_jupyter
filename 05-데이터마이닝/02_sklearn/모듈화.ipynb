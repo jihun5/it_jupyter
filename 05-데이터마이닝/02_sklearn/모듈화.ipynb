{
 "cells": [
  {
   "cell_type": "markdown",
   "metadata": {},
   "source": [
    "## 모듈 기능 정의\n",
    "\n",
    "| 파라미터 | 설명 |\n",
    "|---|---|\n",
    "| `C`(cost) | 어느정도의 오차를 허용할지에 대한 파라미터 |\n",
    "| `kernel` | 사용하고자 하는 커널함수 종류. 'linear', 'rbf'(기본값), 'sigmoid', 'poly' |\n",
    "| `degree` | 다항 차수로 분류할 때 어느 차수까지 분류할지 결정 (kernel이 `poly`인 경우만 사용 가능) |"
   ]
  },
  {
   "cell_type": "code",
   "execution_count": 1,
   "metadata": {},
   "outputs": [],
   "source": [
    "# 모듈이 사용할 패키지\n",
    "from sklearn.model_selection import cross_val_score, cross_validate\n",
    "from sklearn.model_selection import GridSearchCV\n",
    "from pandas import DataFrame"
   ]
  },
  {
   "cell_type": "code",
   "execution_count": 2,
   "metadata": {},
   "outputs": [],
   "source": [
    "def singleML(modelName, x, y=None, cv=5, *kargs):\n",
    "    # 모델 생성\n",
    "    model = modelName( *kargs)\n",
    "    # 교차 검증\n",
    "    score = cross_val_score(model, x, y, cv=cv).mean()\n",
    "    # 결과 데이터 프레임\n",
    "    df = DataFrame(cross_validate(model, x, y, cv=cv))\n",
    "    return [model, score, df]"
   ]
  },
  {
   "cell_type": "code",
   "execution_count": 3,
   "metadata": {},
   "outputs": [],
   "source": [
    "def gridML(modelName, x, y=None, params={}, cv=5, *kargs):\n",
    "    model = modelName( *kargs)\n",
    "    grid = GridSearchCV(model, param_grid=params, cv=cv)\n",
    "    try:\n",
    "        grid.fit(x, y)\n",
    "    except:\n",
    "        grid.fit(x)\n",
    "    result_df = DataFrame(grid.cv_results_['params'])\n",
    "    result_df['mean_test_score'] = grid.cv_results_['mean_test_score']\n",
    "    result_df.sort_values(by='mean_test_score', ascending=False)\n",
    "    return [grid.best_estimator_, grid.best_params_, result_df]"
   ]
  },
  {
   "cell_type": "markdown",
   "metadata": {},
   "source": [
    "모듈 테스트"
   ]
  },
  {
   "cell_type": "code",
   "execution_count": 4,
   "metadata": {},
   "outputs": [],
   "source": [
    "from pandas import read_excel\n",
    "from sklearn.linear_model import LinearRegression\n",
    "from sklearn.svm import SVC"
   ]
  },
  {
   "cell_type": "code",
   "execution_count": 5,
   "metadata": {},
   "outputs": [
    {
     "data": {
      "text/plain": [
       "((569, 30), (569,))"
      ]
     },
     "execution_count": 5,
     "metadata": {},
     "output_type": "execute_result"
    }
   ],
   "source": [
    "origin = read_excel('https://data.hossam.kr/G02/breast_cancer.xlsx')\n",
    "x = origin.drop('target', axis=1)\n",
    "y = origin['target']\n",
    "x.shape, y.shape\n"
   ]
  },
  {
   "cell_type": "code",
   "execution_count": 6,
   "metadata": {},
   "outputs": [
    {
     "data": {
      "text/plain": [
       "LinearRegression()"
      ]
     },
     "execution_count": 6,
     "metadata": {},
     "output_type": "execute_result"
    }
   ],
   "source": [
    "model, score, df = singleML(LinearRegression, x, y)\n",
    "model"
   ]
  },
  {
   "cell_type": "code",
   "execution_count": 7,
   "metadata": {},
   "outputs": [
    {
     "data": {
      "text/plain": [
       "0.704686173464433"
      ]
     },
     "execution_count": 7,
     "metadata": {},
     "output_type": "execute_result"
    }
   ],
   "source": [
    "score"
   ]
  },
  {
   "cell_type": "code",
   "execution_count": 8,
   "metadata": {},
   "outputs": [
    {
     "data": {
      "text/html": [
       "<div>\n",
       "<style scoped>\n",
       "    .dataframe tbody tr th:only-of-type {\n",
       "        vertical-align: middle;\n",
       "    }\n",
       "\n",
       "    .dataframe tbody tr th {\n",
       "        vertical-align: top;\n",
       "    }\n",
       "\n",
       "    .dataframe thead th {\n",
       "        text-align: right;\n",
       "    }\n",
       "</style>\n",
       "<table border=\"1\" class=\"dataframe\">\n",
       "  <thead>\n",
       "    <tr style=\"text-align: right;\">\n",
       "      <th></th>\n",
       "      <th>fit_time</th>\n",
       "      <th>score_time</th>\n",
       "      <th>test_score</th>\n",
       "    </tr>\n",
       "  </thead>\n",
       "  <tbody>\n",
       "    <tr>\n",
       "      <th>0</th>\n",
       "      <td>0.002999</td>\n",
       "      <td>0.001001</td>\n",
       "      <td>0.623595</td>\n",
       "    </tr>\n",
       "    <tr>\n",
       "      <th>1</th>\n",
       "      <td>0.003999</td>\n",
       "      <td>0.001000</td>\n",
       "      <td>0.698961</td>\n",
       "    </tr>\n",
       "    <tr>\n",
       "      <th>2</th>\n",
       "      <td>0.004030</td>\n",
       "      <td>0.001973</td>\n",
       "      <td>0.755933</td>\n",
       "    </tr>\n",
       "    <tr>\n",
       "      <th>3</th>\n",
       "      <td>0.003002</td>\n",
       "      <td>0.000998</td>\n",
       "      <td>0.773021</td>\n",
       "    </tr>\n",
       "    <tr>\n",
       "      <th>4</th>\n",
       "      <td>0.003973</td>\n",
       "      <td>0.000000</td>\n",
       "      <td>0.671920</td>\n",
       "    </tr>\n",
       "  </tbody>\n",
       "</table>\n",
       "</div>"
      ],
      "text/plain": [
       "   fit_time  score_time  test_score\n",
       "0  0.002999    0.001001    0.623595\n",
       "1  0.003999    0.001000    0.698961\n",
       "2  0.004030    0.001973    0.755933\n",
       "3  0.003002    0.000998    0.773021\n",
       "4  0.003973    0.000000    0.671920"
      ]
     },
     "execution_count": 8,
     "metadata": {},
     "output_type": "execute_result"
    }
   ],
   "source": [
    "df"
   ]
  },
  {
   "cell_type": "code",
   "execution_count": 9,
   "metadata": {},
   "outputs": [
    {
     "ename": "TypeError",
     "evalue": "singleML() got an unexpected keyword argument 'kernel'",
     "output_type": "error",
     "traceback": [
      "\u001b[1;31m---------------------------------------------------------------------------\u001b[0m",
      "\u001b[1;31mTypeError\u001b[0m                                 Traceback (most recent call last)",
      "\u001b[1;32md:\\jihun5\\jupyter\\05-데이터마이닝\\02_sklearn\\모듈화.ipynb 셀 11\u001b[0m line \u001b[0;36m1\n\u001b[1;32m----> <a href='vscode-notebook-cell:/d%3A/jihun5/jupyter/05-%EB%8D%B0%EC%9D%B4%ED%84%B0%EB%A7%88%EC%9D%B4%EB%8B%9D/02_sklearn/%EB%AA%A8%EB%93%88%ED%99%94.ipynb#X15sZmlsZQ%3D%3D?line=0'>1</a>\u001b[0m model, score, df \u001b[39m=\u001b[39m singleML(SVC, x, y, kernel\u001b[39m=\u001b[39;49m\u001b[39m'\u001b[39;49m\u001b[39mlinear\u001b[39;49m\u001b[39m'\u001b[39;49m, C\u001b[39m=\u001b[39;49m\u001b[39m0.1\u001b[39;49m, random_state\u001b[39m=\u001b[39;49m\u001b[39m777\u001b[39;49m)\n\u001b[0;32m      <a href='vscode-notebook-cell:/d%3A/jihun5/jupyter/05-%EB%8D%B0%EC%9D%B4%ED%84%B0%EB%A7%88%EC%9D%B4%EB%8B%9D/02_sklearn/%EB%AA%A8%EB%93%88%ED%99%94.ipynb#X15sZmlsZQ%3D%3D?line=1'>2</a>\u001b[0m model\n",
      "\u001b[1;31mTypeError\u001b[0m: singleML() got an unexpected keyword argument 'kernel'"
     ]
    }
   ],
   "source": [
    "model, score, df = singleML(SVC, x, y, kernel='linear', C=0.1, random_state=777)\n",
    "model"
   ]
  },
  {
   "cell_type": "markdown",
   "metadata": {},
   "source": [
    "모듈 테스트 2"
   ]
  },
  {
   "cell_type": "code",
   "execution_count": 10,
   "metadata": {},
   "outputs": [
    {
     "data": {
      "text/plain": [
       "LinearRegression()"
      ]
     },
     "execution_count": 10,
     "metadata": {},
     "output_type": "execute_result"
    }
   ],
   "source": [
    "model, best, score = gridML(LinearRegression, x, y)\n",
    "model"
   ]
  },
  {
   "cell_type": "code",
   "execution_count": 11,
   "metadata": {},
   "outputs": [
    {
     "data": {
      "text/html": [
       "<div>\n",
       "<style scoped>\n",
       "    .dataframe tbody tr th:only-of-type {\n",
       "        vertical-align: middle;\n",
       "    }\n",
       "\n",
       "    .dataframe tbody tr th {\n",
       "        vertical-align: top;\n",
       "    }\n",
       "\n",
       "    .dataframe thead th {\n",
       "        text-align: right;\n",
       "    }\n",
       "</style>\n",
       "<table border=\"1\" class=\"dataframe\">\n",
       "  <thead>\n",
       "    <tr style=\"text-align: right;\">\n",
       "      <th></th>\n",
       "      <th>mean_test_score</th>\n",
       "    </tr>\n",
       "  </thead>\n",
       "  <tbody>\n",
       "    <tr>\n",
       "      <th>0</th>\n",
       "      <td>0.704686</td>\n",
       "    </tr>\n",
       "  </tbody>\n",
       "</table>\n",
       "</div>"
      ],
      "text/plain": [
       "   mean_test_score\n",
       "0         0.704686"
      ]
     },
     "execution_count": 11,
     "metadata": {},
     "output_type": "execute_result"
    }
   ],
   "source": [
    "score"
   ]
  },
  {
   "cell_type": "code",
   "execution_count": 13,
   "metadata": {},
   "outputs": [
    {
     "ename": "TypeError",
     "evalue": "gridML() got an unexpected keyword argument 'random_state'",
     "output_type": "error",
     "traceback": [
      "\u001b[1;31m---------------------------------------------------------------------------\u001b[0m",
      "\u001b[1;31mTypeError\u001b[0m                                 Traceback (most recent call last)",
      "\u001b[1;32md:\\jihun5\\jupyter\\05-데이터마이닝\\02_sklearn\\모듈화.ipynb 셀 15\u001b[0m line \u001b[0;36m5\n\u001b[0;32m      <a href='vscode-notebook-cell:/d%3A/jihun5/jupyter/05-%EB%8D%B0%EC%9D%B4%ED%84%B0%EB%A7%88%EC%9D%B4%EB%8B%9D/02_sklearn/%EB%AA%A8%EB%93%88%ED%99%94.ipynb#X22sZmlsZQ%3D%3D?line=0'>1</a>\u001b[0m params \u001b[39m=\u001b[39m {\n\u001b[0;32m      <a href='vscode-notebook-cell:/d%3A/jihun5/jupyter/05-%EB%8D%B0%EC%9D%B4%ED%84%B0%EB%A7%88%EC%9D%B4%EB%8B%9D/02_sklearn/%EB%AA%A8%EB%93%88%ED%99%94.ipynb#X22sZmlsZQ%3D%3D?line=1'>2</a>\u001b[0m     \u001b[39m'\u001b[39m\u001b[39mC\u001b[39m\u001b[39m'\u001b[39m: [\u001b[39m0.001\u001b[39m, \u001b[39m0.01\u001b[39m],\n\u001b[0;32m      <a href='vscode-notebook-cell:/d%3A/jihun5/jupyter/05-%EB%8D%B0%EC%9D%B4%ED%84%B0%EB%A7%88%EC%9D%B4%EB%8B%9D/02_sklearn/%EB%AA%A8%EB%93%88%ED%99%94.ipynb#X22sZmlsZQ%3D%3D?line=2'>3</a>\u001b[0m     \u001b[39m'\u001b[39m\u001b[39mkernel\u001b[39m\u001b[39m'\u001b[39m: [\u001b[39m'\u001b[39m\u001b[39mlinear\u001b[39m\u001b[39m'\u001b[39m, \u001b[39m'\u001b[39m\u001b[39mrbf\u001b[39m\u001b[39m'\u001b[39m],\n\u001b[0;32m      <a href='vscode-notebook-cell:/d%3A/jihun5/jupyter/05-%EB%8D%B0%EC%9D%B4%ED%84%B0%EB%A7%88%EC%9D%B4%EB%8B%9D/02_sklearn/%EB%AA%A8%EB%93%88%ED%99%94.ipynb#X22sZmlsZQ%3D%3D?line=3'>4</a>\u001b[0m     }\n\u001b[1;32m----> <a href='vscode-notebook-cell:/d%3A/jihun5/jupyter/05-%EB%8D%B0%EC%9D%B4%ED%84%B0%EB%A7%88%EC%9D%B4%EB%8B%9D/02_sklearn/%EB%AA%A8%EB%93%88%ED%99%94.ipynb#X22sZmlsZQ%3D%3D?line=4'>5</a>\u001b[0m model, best, score \u001b[39m=\u001b[39m gridML(SVC, x, y, params\u001b[39m=\u001b[39;49mparams, random_state\u001b[39m=\u001b[39;49m\u001b[39m777\u001b[39;49m)\n\u001b[0;32m      <a href='vscode-notebook-cell:/d%3A/jihun5/jupyter/05-%EB%8D%B0%EC%9D%B4%ED%84%B0%EB%A7%88%EC%9D%B4%EB%8B%9D/02_sklearn/%EB%AA%A8%EB%93%88%ED%99%94.ipynb#X22sZmlsZQ%3D%3D?line=5'>6</a>\u001b[0m model\n",
      "\u001b[1;31mTypeError\u001b[0m: gridML() got an unexpected keyword argument 'random_state'"
     ]
    }
   ],
   "source": [
    "params = {\n",
    "    'C': [0.001, 0.01],\n",
    "    'kernel': ['linear', 'rbf'],\n",
    "    }\n",
    "model, best, score = gridML(SVC, x, y, params=params, random_state=777)\n",
    "model"
   ]
  },
  {
   "cell_type": "code",
   "execution_count": 14,
   "metadata": {},
   "outputs": [
    {
     "data": {
      "text/html": [
       "<div>\n",
       "<style scoped>\n",
       "    .dataframe tbody tr th:only-of-type {\n",
       "        vertical-align: middle;\n",
       "    }\n",
       "\n",
       "    .dataframe tbody tr th {\n",
       "        vertical-align: top;\n",
       "    }\n",
       "\n",
       "    .dataframe thead th {\n",
       "        text-align: right;\n",
       "    }\n",
       "</style>\n",
       "<table border=\"1\" class=\"dataframe\">\n",
       "  <thead>\n",
       "    <tr style=\"text-align: right;\">\n",
       "      <th></th>\n",
       "      <th>mean_test_score</th>\n",
       "    </tr>\n",
       "  </thead>\n",
       "  <tbody>\n",
       "    <tr>\n",
       "      <th>0</th>\n",
       "      <td>0.704686</td>\n",
       "    </tr>\n",
       "  </tbody>\n",
       "</table>\n",
       "</div>"
      ],
      "text/plain": [
       "   mean_test_score\n",
       "0         0.704686"
      ]
     },
     "execution_count": 14,
     "metadata": {},
     "output_type": "execute_result"
    }
   ],
   "source": [
    "score"
   ]
  },
  {
   "cell_type": "code",
   "execution_count": 15,
   "metadata": {},
   "outputs": [
    {
     "data": {
      "text/plain": [
       "{}"
      ]
     },
     "execution_count": 15,
     "metadata": {},
     "output_type": "execute_result"
    }
   ],
   "source": [
    "best"
   ]
  },
  {
   "cell_type": "code",
   "execution_count": null,
   "metadata": {},
   "outputs": [],
   "source": []
  }
 ],
 "metadata": {
  "kernelspec": {
   "display_name": "Python 3",
   "language": "python",
   "name": "python3"
  },
  "language_info": {
   "codemirror_mode": {
    "name": "ipython",
    "version": 3
   },
   "file_extension": ".py",
   "mimetype": "text/x-python",
   "name": "python",
   "nbconvert_exporter": "python",
   "pygments_lexer": "ipython3",
   "version": "3.11.3"
  }
 },
 "nbformat": 4,
 "nbformat_minor": 2
}
