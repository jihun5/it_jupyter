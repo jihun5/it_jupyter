{
 "cells": [
  {
   "cell_type": "markdown",
   "metadata": {},
   "source": [
    "# 지도학습(4) - 회귀모델 성능 측정 지표\n",
    "\n",
    "회귀분석을 통해 에측 모델을 만들고 해당 모델의 성능을 파악하기 위해 제공되는 사이킷런의 성능 측정 지표모듈\n",
    "\n",
    "### #01. 작업준비\n",
    "\n",
    "#### 패키지 가져오기"
   ]
  },
  {
   "cell_type": "code",
   "execution_count": 2,
   "metadata": {},
   "outputs": [],
   "source": [
    "import sys\n",
    "\n",
    "sys.path.append(\"../../\")\n",
    "import helper\n",
    "\n",
    "import numpy as np\n",
    "import seaborn as sb\n",
    "from pandas import read_excel, DataFrame\n",
    "from matplotlib import pyplot as plt\n",
    "\n",
    "from sklearn.linear_model import LinearRegression\n",
    "from sklearn.model_selection import train_test_split\n",
    "from sklearn.preprocessing import PolynomialFeatures\n",
    "\n",
    "# 성능 측정 지표 모듈\n",
    "from sklearn.metrics import mean_squared_error, r2_score, mean_absolute_error, mean_squared_log_error"
   ]
  },
  {
   "cell_type": "markdown",
   "metadata": {},
   "source": [
    "### 샘플 회귀분석 모델 만들기\n",
    "#### #02. 자동차 속도에 따른 제동거리 회귀모델\n",
    "#### 데이터 가져오기"
   ]
  },
  {
   "cell_type": "code",
   "execution_count": 3,
   "metadata": {},
   "outputs": [
    {
     "data": {
      "text/html": [
       "<div>\n",
       "<style scoped>\n",
       "    .dataframe tbody tr th:only-of-type {\n",
       "        vertical-align: middle;\n",
       "    }\n",
       "\n",
       "    .dataframe tbody tr th {\n",
       "        vertical-align: top;\n",
       "    }\n",
       "\n",
       "    .dataframe thead th {\n",
       "        text-align: right;\n",
       "    }\n",
       "</style>\n",
       "<table border=\"1\" class=\"dataframe\">\n",
       "  <thead>\n",
       "    <tr style=\"text-align: right;\">\n",
       "      <th></th>\n",
       "      <th>speed</th>\n",
       "      <th>dist</th>\n",
       "    </tr>\n",
       "  </thead>\n",
       "  <tbody>\n",
       "    <tr>\n",
       "      <th>0</th>\n",
       "      <td>4</td>\n",
       "      <td>2</td>\n",
       "    </tr>\n",
       "    <tr>\n",
       "      <th>1</th>\n",
       "      <td>4</td>\n",
       "      <td>10</td>\n",
       "    </tr>\n",
       "    <tr>\n",
       "      <th>2</th>\n",
       "      <td>7</td>\n",
       "      <td>4</td>\n",
       "    </tr>\n",
       "    <tr>\n",
       "      <th>3</th>\n",
       "      <td>7</td>\n",
       "      <td>22</td>\n",
       "    </tr>\n",
       "    <tr>\n",
       "      <th>4</th>\n",
       "      <td>8</td>\n",
       "      <td>16</td>\n",
       "    </tr>\n",
       "  </tbody>\n",
       "</table>\n",
       "</div>"
      ],
      "text/plain": [
       "   speed  dist\n",
       "0      4     2\n",
       "1      4    10\n",
       "2      7     4\n",
       "3      7    22\n",
       "4      8    16"
      ]
     },
     "execution_count": 3,
     "metadata": {},
     "output_type": "execute_result"
    }
   ],
   "source": [
    "origin = read_excel(\"https://data.hossam.kr/E04/cars.xlsx\")\n",
    "origin.head()"
   ]
  },
  {
   "cell_type": "markdown",
   "metadata": {},
   "source": [
    "#### 독립변수에 대한 다항식 생성"
   ]
  },
  {
   "cell_type": "code",
   "execution_count": 4,
   "metadata": {},
   "outputs": [
    {
     "data": {
      "text/html": [
       "<div>\n",
       "<style scoped>\n",
       "    .dataframe tbody tr th:only-of-type {\n",
       "        vertical-align: middle;\n",
       "    }\n",
       "\n",
       "    .dataframe tbody tr th {\n",
       "        vertical-align: top;\n",
       "    }\n",
       "\n",
       "    .dataframe thead th {\n",
       "        text-align: right;\n",
       "    }\n",
       "</style>\n",
       "<table border=\"1\" class=\"dataframe\">\n",
       "  <thead>\n",
       "    <tr style=\"text-align: right;\">\n",
       "      <th></th>\n",
       "      <th>speed</th>\n",
       "      <th>speed^2</th>\n",
       "    </tr>\n",
       "  </thead>\n",
       "  <tbody>\n",
       "    <tr>\n",
       "      <th>0</th>\n",
       "      <td>4.0</td>\n",
       "      <td>16.0</td>\n",
       "    </tr>\n",
       "    <tr>\n",
       "      <th>1</th>\n",
       "      <td>4.0</td>\n",
       "      <td>16.0</td>\n",
       "    </tr>\n",
       "    <tr>\n",
       "      <th>2</th>\n",
       "      <td>7.0</td>\n",
       "      <td>49.0</td>\n",
       "    </tr>\n",
       "    <tr>\n",
       "      <th>3</th>\n",
       "      <td>7.0</td>\n",
       "      <td>49.0</td>\n",
       "    </tr>\n",
       "    <tr>\n",
       "      <th>4</th>\n",
       "      <td>8.0</td>\n",
       "      <td>64.0</td>\n",
       "    </tr>\n",
       "  </tbody>\n",
       "</table>\n",
       "</div>"
      ],
      "text/plain": [
       "   speed  speed^2\n",
       "0    4.0     16.0\n",
       "1    4.0     16.0\n",
       "2    7.0     49.0\n",
       "3    7.0     49.0\n",
       "4    8.0     64.0"
      ]
     },
     "execution_count": 4,
     "metadata": {},
     "output_type": "execute_result"
    }
   ],
   "source": [
    "poly = PolynomialFeatures(include_bias=False)\n",
    "fit = poly.fit_transform(origin[['speed']])\n",
    "x = DataFrame(fit, columns=poly.get_feature_names_out())\n",
    "x.head()"
   ]
  },
  {
   "cell_type": "markdown",
   "metadata": {},
   "source": [
    "종속변수 추출"
   ]
  },
  {
   "cell_type": "code",
   "execution_count": 5,
   "metadata": {},
   "outputs": [
    {
     "data": {
      "text/html": [
       "<div>\n",
       "<style scoped>\n",
       "    .dataframe tbody tr th:only-of-type {\n",
       "        vertical-align: middle;\n",
       "    }\n",
       "\n",
       "    .dataframe tbody tr th {\n",
       "        vertical-align: top;\n",
       "    }\n",
       "\n",
       "    .dataframe thead th {\n",
       "        text-align: right;\n",
       "    }\n",
       "</style>\n",
       "<table border=\"1\" class=\"dataframe\">\n",
       "  <thead>\n",
       "    <tr style=\"text-align: right;\">\n",
       "      <th></th>\n",
       "      <th>dist</th>\n",
       "    </tr>\n",
       "  </thead>\n",
       "  <tbody>\n",
       "    <tr>\n",
       "      <th>0</th>\n",
       "      <td>2</td>\n",
       "    </tr>\n",
       "    <tr>\n",
       "      <th>1</th>\n",
       "      <td>10</td>\n",
       "    </tr>\n",
       "    <tr>\n",
       "      <th>2</th>\n",
       "      <td>4</td>\n",
       "    </tr>\n",
       "    <tr>\n",
       "      <th>3</th>\n",
       "      <td>22</td>\n",
       "    </tr>\n",
       "    <tr>\n",
       "      <th>4</th>\n",
       "      <td>16</td>\n",
       "    </tr>\n",
       "  </tbody>\n",
       "</table>\n",
       "</div>"
      ],
      "text/plain": [
       "   dist\n",
       "0     2\n",
       "1    10\n",
       "2     4\n",
       "3    22\n",
       "4    16"
      ]
     },
     "execution_count": 5,
     "metadata": {},
     "output_type": "execute_result"
    }
   ],
   "source": [
    "y = origin[['dist']]\n",
    "y.head()"
   ]
  },
  {
   "cell_type": "markdown",
   "metadata": {},
   "source": [
    "데이터 분할"
   ]
  },
  {
   "cell_type": "code",
   "execution_count": 6,
   "metadata": {},
   "outputs": [
    {
     "data": {
      "text/plain": [
       "((35, 2), (35, 1))"
      ]
     },
     "execution_count": 6,
     "metadata": {},
     "output_type": "execute_result"
    }
   ],
   "source": [
    "x_train, x_test, y_train, y_test = train_test_split(x, y, test_size=0.3, shuffle=True, random_state=42)\n",
    "x_train.shape, y_train.shape"
   ]
  },
  {
   "cell_type": "code",
   "execution_count": 22,
   "metadata": {},
   "outputs": [
    {
     "name": "stdout",
     "output_type": "stream",
     "text": [
      "계수:  [[1.97370235 0.0601573 ]]\n",
      "절편:  [-4.44412881]\n",
      "훈련 데이터 설명력:  0.6386048074085511\n",
      "검증 데이터 설명력:  0.7101851923162426\n"
     ]
    }
   ],
   "source": [
    "model = LinearRegression()\n",
    "fit = model.fit(x_train, y_train)\n",
    "\n",
    "print(\"계수: \", fit.coef_)\n",
    "print(\"절편: \", fit.intercept_)\n",
    "print(\"훈련 데이터 설명력: \", fit.score(x_train, y_train))\n",
    "print(\"검증 데이터 설명력: \", fit.score(x_test, y_test))"
   ]
  },
  {
   "cell_type": "markdown",
   "metadata": {},
   "source": [
    "예측값 생성\n",
    "\n",
    "훈련 데이터에 대한 예측값"
   ]
  },
  {
   "cell_type": "code",
   "execution_count": 8,
   "metadata": {},
   "outputs": [
    {
     "data": {
      "text/plain": [
       "array([21.30862466, 59.09283798, 77.57533206, 77.57533206, 31.38058538,\n",
       "       24.5456303 , 31.38058538, 38.69679884, 50.57347853, 50.57347853,\n",
       "        4.4131974 , 72.77423665, 42.53537747, 50.57347853, 18.19193362,\n",
       "       46.4942707 , 27.90295054, 54.77300096,  4.4131974 , 34.97853481,\n",
       "       12.31949534, 68.09345583, 54.77300096, 38.69679884, 59.09283798,\n",
       "       24.5456303 , 34.97853481, 31.38058538, 82.49674208, 34.97853481,\n",
       "       21.30862466, 59.09283798, 27.90295054, 46.4942707 , 59.09283798])"
      ]
     },
     "execution_count": 8,
     "metadata": {},
     "output_type": "execute_result"
    }
   ],
   "source": [
    "y_train_pred = fit.predict(x_train)\n",
    "y_train_pred = y_train_pred.reshape(-1)\n",
    "y_train_pred"
   ]
  },
  {
   "cell_type": "markdown",
   "metadata": {},
   "source": [
    "검증 데이터에 대한 예측값"
   ]
  },
  {
   "cell_type": "code",
   "execution_count": 9,
   "metadata": {},
   "outputs": [
    {
     "data": {
      "text/plain": [
       "array([27.90295054, 59.09283798, 46.4942707 , 77.57533206, 31.38058538,\n",
       "       77.57533206, 42.53537747, 38.69679884, 50.57347853, 34.97853481,\n",
       "       27.90295054, 15.19555718, 54.77300096, 21.30862466, 12.31949534])"
      ]
     },
     "execution_count": 9,
     "metadata": {},
     "output_type": "execute_result"
    }
   ],
   "source": [
    "y_test_pred = fit.predict(x_test)\n",
    "y_test_pred = y_test_pred.reshape(-1)\n",
    "y_test_pred"
   ]
  },
  {
   "cell_type": "markdown",
   "metadata": {},
   "source": [
    "### #03. 회귀분석 모델의 성능평가\n",
    "\n",
    "회귀분석 모델의 평가를 위한 지표는 실제값(관측치) 회귀 예측값의 차이를 기반으로 한다.(잔차를 기반으로)\n",
    "\n",
    "|구분|설명|\n",
    "|--|--|\n",
    "|에러율|낮을 수록 좋음(0에 가까울수록)|\n",
    "|설명력|높을 수록 좋음(1에 가까울수록)|\n",
    "\n",
    "\n",
    "### 1) 설명력\n",
    "### $R^2$ (결정계수)\n",
    "회귀분석에서 가장 많이 채택되는 설명력 값\n",
    "\n",
    "기본적으로 모델의 학습 결과를 갖고 있는 'fit'객체의 score() 매서드를 통해 조회가능"
   ]
  },
  {
   "cell_type": "code",
   "execution_count": 10,
   "metadata": {},
   "outputs": [
    {
     "name": "stdout",
     "output_type": "stream",
     "text": [
      "훈련 데이터 설명력:  0.6386048074085511\n",
      "검증 데이터 설명력:  0.7101851923162426\n"
     ]
    }
   ],
   "source": [
    "print(\"훈련 데이터 설명력: \", fit.score(x_train, y_train))\n",
    "print(\"검증 데이터 설명력: \", fit.score(x_test, y_test))"
   ]
  },
  {
   "cell_type": "markdown",
   "metadata": {},
   "source": [
    "sklearn이 제공하는 metrics 객체에 r2_score() 매서드를 통해서도 조회할 수 있다.\n",
    "\n",
    "이 때 파라미터는 관측치와 예측치를 전달한다."
   ]
  },
  {
   "cell_type": "code",
   "execution_count": 11,
   "metadata": {},
   "outputs": [
    {
     "name": "stdout",
     "output_type": "stream",
     "text": [
      "훈련데이터 설명력 : 0.6386048074085511\n",
      "검증데이터 설명력 : 0.7101851923162426\n"
     ]
    }
   ],
   "source": [
    "print(\"훈련데이터 설명력 :\", r2_score(y_train, y_train_pred))\n",
    "print(\"검증데이터 설명력 :\",r2_score(y_test, y_test_pred))"
   ]
  },
  {
   "cell_type": "markdown",
   "metadata": {},
   "source": [
    "#### 2) 에러율\n",
    "\n",
    "|종류|이름|한글명|잔차계산|이상치 영향여부|\n",
    "|--|--|--|--|--|\n",
    "|MAE|Mean Abolute Error|평균절대오차|절대값|Yes|\n",
    "|MSE|Mean Squared Error|평균제곱오차|제곱값|No|\n",
    "|RMSE|Root Mean Squared Error|평균오차|제곱값|No|\n",
    "|MAPE|Mean Abolute Percentage Error|평균 절대 백분 오차 비율|절대값|Yes|\n",
    "|MPE|Mean Percentage Error|평균 비율 오차|N/A|Yes|\n",
    "\n",
    "#### $MAE$ (mean, Absolute, Error) : 평균절대오차\n",
    "\n",
    "![mae_expr](res/mae_expr.png)\n",
    "\n",
    "모델의 예측값과 실제값의 차이를 모두 더하는 개념이다.(잔차 더하기)\n",
    "\n",
    "절대값을 취하기 때문에 직관적으로 알 수 있는 지표다.\n",
    "\n",
    "이상치에 영향을 받지 않는다.\n",
    "\n",
    "MAE는 절대값을 취하는 지표이기에 실제보다 낮은 값(underperformance)인지 큰 값(overperformance)인지 알 수 없다.\n",
    "\n",
    "실제 데이터를 기준으로 오차가 얼마날 것인지? ex) 11이면 관측치 13 실제값 2\n",
    "\n",
    "![mae](res/mae.jpg)"
   ]
  },
  {
   "cell_type": "code",
   "execution_count": 12,
   "metadata": {},
   "outputs": [
    {
     "name": "stdout",
     "output_type": "stream",
     "text": [
      "훈련데이터 MAE : 11.328321180738177\n",
      "검증데이터 MAE : 10.378055983452917\n"
     ]
    }
   ],
   "source": [
    "print(\"훈련데이터 MAE :\", mean_absolute_error(y_train, y_train_pred))\n",
    "print(\"검증데이터 MAE :\",mean_absolute_error(y_test, y_test_pred))"
   ]
  },
  {
   "cell_type": "markdown",
   "metadata": {},
   "source": [
    "#### $MSE$ (Mean Squared Error)\n",
    "\n",
    "![img](res/mse_expr.png)\n",
    "\n",
    "MAE와는 다르게 제곱을 하기 때문에 모델의 실제값과 예측값의 차이의 면적의 합이다.\n",
    "\n",
    "제곱을 하기때문에 특이값이 존재하면 수치가 많이 늘어난다.(=특이치에 민감)\n",
    "\n",
    "![img](res/mse.jpg)\n",
    "\n"
   ]
  },
  {
   "cell_type": "code",
   "execution_count": 13,
   "metadata": {},
   "outputs": [
    {
     "name": "stdout",
     "output_type": "stream",
     "text": [
      "훈련데이터 MSE : 229.58182765278815\n",
      "검증데이터 MSE : 197.51716386425815\n"
     ]
    }
   ],
   "source": [
    "print(\"훈련데이터 MSE :\", mean_squared_error(y_train, y_train_pred))\n",
    "print(\"검증데이터 MSE :\",mean_squared_error(y_test, y_test_pred))\n",
    "# 제곱근을 구해서 RMAE값을 구하는 것이 일반적"
   ]
  },
  {
   "cell_type": "markdown",
   "metadata": {},
   "source": [
    "#### $RMSE$ (Root Mean Squared Error) : 평균 오차 \n",
    "\n",
    "![rmse](res/rmse_expr.png)\n",
    "\n",
    "MSE를 구한 값에 루트를 씌운다.\n",
    "\n",
    "오류 지표를 실제 값과 유사한 단위로 변환하여 해석을 쉽게 한다.\n",
    "\n",
    "###### np.sqrt 값의 루트 씌우기"
   ]
  },
  {
   "cell_type": "code",
   "execution_count": 14,
   "metadata": {},
   "outputs": [
    {
     "name": "stdout",
     "output_type": "stream",
     "text": [
      "훈련데이터 RMSE : 15.151957881831251\n",
      "검증데이터 RMSE : 14.05407997217385\n"
     ]
    }
   ],
   "source": [
    "print(\"훈련데이터 RMSE :\", np.sqrt(mean_squared_error(y_train, y_train_pred)))\n",
    "print(\"검증데이터 RMSE :\", np.sqrt(mean_squared_error(y_test, y_test_pred)))"
   ]
  },
  {
   "cell_type": "markdown",
   "metadata": {},
   "source": [
    "#### $MAPE$ (Mean Abolute Percentage Error) : 평균 절대 백분 오차 비율\n",
    "\n",
    "![img](res/mape_expr.png)\n",
    "\n",
    "MAE를 퍼센트로 변환한 것이다.\n",
    "\n",
    "MAE와 동일하게 MSE보다 이상치에 민감하며 실제값보다 낮은 값인지 높은 값인지 알 수없다.\n",
    "\n",
    "모델에 대한 편향이 있다. (이를 대응하기 위해 MPE도 추가로 확인하는 것을 추천)\n",
    "\n",
    "![img](res/mape.jpg)\n",
    "\n"
   ]
  },
  {
   "cell_type": "code",
   "execution_count": 15,
   "metadata": {},
   "outputs": [
    {
     "name": "stdout",
     "output_type": "stream",
     "text": [
      "훈련 데이터 MAPE:  160.26058863689647\n",
      "검증 데이터 MAPE:  65.26193942487288\n"
     ]
    }
   ],
   "source": [
    "# API로 제공되는 기능이 아니고, 직접 계산해야 하기 때문에 관측치와 예측치의 데이터 타입이 일치해야 한다.\n",
    "# -> numpy 배열 혹은 Series 타입으로 통일해야 한다.\n",
    "print(\"훈련 데이터 MAPE: \", np.mean(np.abs((y_train.values - y_train_pred) / y_train.values)) * 100)\n",
    "print(\"검증 데이터 MAPE: \", np.mean(np.abs((y_test.values - y_test_pred) / y_test.values)) * 100)"
   ]
  },
  {
   "cell_type": "markdown",
   "metadata": {},
   "source": [
    "#### $MPE$ (Mean Percent Error) : 평균 비율 오차\n",
    "\n",
    "![img](res/mpe_expr.png)\n",
    "\n",
    "MAPE와 비슷하지만 MAPE에서 절대값을 제외한 지표다.\n",
    "\n",
    "장점은 모델이 실제값보다 낮은 값인지 큰 값인지 판단 할 수 있다.\n",
    "\n",
    "![img](res/mpe.jpg)\n"
   ]
  },
  {
   "cell_type": "code",
   "execution_count": 16,
   "metadata": {},
   "outputs": [],
   "source": [
    "# API로 제공되는 기능이 아니고,\n",
    "# 직접 계산해야 하기 때문에 관측치와 데이터 타입이 일치해야 한다.\n",
    "# -> numpy 배열 혹은 Series 타입으로 통일해야 한다.\n",
    "# print(\"훈련데이터 MAPE :\", np.mean((np.absmean_squared_error(y_train.values - y_train_pred.values) / y_train.values * 100))\n",
    "# print(\"검증데이터 MAPE :\", np.mean((np.absmean_squared_error(y_test.values - y_test_pred.values) / y_test.values * 100))"
   ]
  },
  {
   "cell_type": "code",
   "execution_count": 17,
   "metadata": {},
   "outputs": [
    {
     "name": "stdout",
     "output_type": "stream",
     "text": [
      "훈련 데이터 MPE:  -118.10435798524273\n",
      "검증 데이터 MPE:  -21.652277000596218\n"
     ]
    }
   ],
   "source": [
    "# API로 제공되는 기능이 아니고, 직접 계산해야 하기 때문에 관측치와 예측치의 데이터 타입이 일치해야 한다.\n",
    "# -> numpy 배열 혹은 Series 타입으로 통일해야 한다.\n",
    "print(\"훈련 데이터 MPE: \", np.mean((y_train.values - y_train_pred) / y_train.values) * 100)\n",
    "print(\"검증 데이터 MPE: \", np.mean((y_test.values - y_test_pred) / y_test.values) * 100)"
   ]
  },
  {
   "cell_type": "markdown",
   "metadata": {},
   "source": [
    "#### #04. 머신러닝 회귀분석 모듈 테스트\n",
    "회귀분석 수행"
   ]
  },
  {
   "cell_type": "code",
   "execution_count": 18,
   "metadata": {},
   "outputs": [
    {
     "name": "stdout",
     "output_type": "stream",
     "text": [
      "계수: [[1.97370235 0.0601573 ]]\n",
      "절편: [-4.44412881]\n"
     ]
    }
   ],
   "source": [
    "olsResult = helper.ml_ols(origin, xnames='speed', yname='dist', degree=2, test_size=0.3, random_state=42)\n",
    "print(\"계수:\", olsResult.coef)\n",
    "print(\"절편:\", olsResult.intercept)"
   ]
  },
  {
   "cell_type": "markdown",
   "metadata": {},
   "source": [
    "훈련데이터에 대한 평가지표"
   ]
  },
  {
   "cell_type": "code",
   "execution_count": 19,
   "metadata": {},
   "outputs": [
    {
     "name": "stdout",
     "output_type": "stream",
     "text": [
      "R^2:  0.6386048074085511\n",
      "MAE:  11.328321180738177\n",
      "MSE:  229.58182765278815\n",
      "RMSE:  15.151957881831251\n",
      "MAPE:  39.42700152257923\n",
      "MPE:  -19.82562327875809\n"
     ]
    }
   ],
   "source": [
    "print(\"R^2: \", olsResult.trainRegMetric.r2)\n",
    "print(\"MAE: \", olsResult.trainRegMetric.mae)\n",
    "print(\"MSE: \", olsResult.trainRegMetric.mse)\n",
    "print(\"RMSE: \", olsResult.trainRegMetric.rmse)\n",
    "print(\"MAPE: \", olsResult.trainRegMetric.mape)\n",
    "print(\"MPE: \", olsResult.trainRegMetric.mpe)"
   ]
  },
  {
   "cell_type": "markdown",
   "metadata": {},
   "source": [
    "검증 데이터에 대한 평가지표"
   ]
  },
  {
   "cell_type": "code",
   "execution_count": 21,
   "metadata": {},
   "outputs": [
    {
     "name": "stdout",
     "output_type": "stream",
     "text": [
      "R^2:  0.7101851923162426\n",
      "MAE:  10.378055983452917\n",
      "MSE:  197.51716386425815\n",
      "RMSE:  14.05407997217385\n",
      "MAPE:  23.404866814977726\n",
      "MPE:  2.44954555043573\n"
     ]
    }
   ],
   "source": [
    "print(\"R^2: \", olsResult.testRegMetric.r2)\n",
    "print(\"MAE: \", olsResult.testRegMetric.mae)\n",
    "print(\"MSE: \", olsResult.testRegMetric.mse)\n",
    "print(\"RMSE: \", olsResult.testRegMetric.rmse)\n",
    "print(\"MAPE: \", olsResult.testRegMetric.mape)\n",
    "print(\"MPE: \", olsResult.testRegMetric.mpe)"
   ]
  },
  {
   "cell_type": "code",
   "execution_count": null,
   "metadata": {},
   "outputs": [],
   "source": []
  }
 ],
 "metadata": {
  "kernelspec": {
   "display_name": "Python 3",
   "language": "python",
   "name": "python3"
  },
  "language_info": {
   "codemirror_mode": {
    "name": "ipython",
    "version": 3
   },
   "file_extension": ".py",
   "mimetype": "text/x-python",
   "name": "python",
   "nbconvert_exporter": "python",
   "pygments_lexer": "ipython3",
   "version": "3.11.3"
  },
  "orig_nbformat": 4
 },
 "nbformat": 4,
 "nbformat_minor": 2
}
