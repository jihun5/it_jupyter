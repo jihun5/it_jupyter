{
 "cells": [
  {
   "attachments": {},
   "cell_type": "markdown",
   "metadata": {},
   "source": [
    "파이썬 보충 Take 4"
   ]
  },
  {
   "attachments": {},
   "cell_type": "markdown",
   "metadata": {},
   "source": [
    "01.csv 파일 저장하기"
   ]
  },
  {
   "attachments": {},
   "cell_type": "markdown",
   "metadata": {},
   "source": [
    "딕셔너리를 포함하는 리스트 구조를 CSV로 저장하기"
   ]
  },
  {
   "cell_type": "code",
   "execution_count": 1,
   "metadata": {},
   "outputs": [],
   "source": [
    "# 한 학급의 성적표 데이터 예시\n",
    "grade = [\n",
    "    {\"name\": \"철수\", \"kor\": 95, \"eng\": 88, \"math\": 72},\n",
    "    {\"name\": \"영희\", \"kor\": 92, \"eng\": 90, \"math\": 95},\n",
    "    {\"name\": \"철민\", \"kor\": 88, \"eng\": 76, \"math\": 64}\n",
    "]\n",
    "# CSV 파일의 한 행에 대한 구문 형식 정의\n",
    "tpl = \"{0},{1},{2},{3}\\n\"\n",
    "ㄴ\n",
    "# csv파일의 한 행에 대한 구문 형식 정의\n",
    "# -> Excel의 csv는 euc-kr 형식\n",
    "with open(\"grade.csv\", \"w\", encoding='euc-kr') as f:\n",
    "# 첫 줄에 각 항목의 제목 기록\n",
    "    f.write(\"이름,국어,영어,수학\\n\")\n",
    "# 각 데이터를 한 줄씩 콤마로 구분하여 기록\n",
    "    for item in grade:\n",
    "        tmp = tpl.format(item[\"name\"], item[\"kor\"], item[\"eng\"], item[\"math\"])\n",
    "        f.write( tmp )"
   ]
  },
  {
   "attachments": {},
   "cell_type": "markdown",
   "metadata": {},
   "source": [
    "CSV 파일 읽어오기"
   ]
  },
  {
   "attachments": {},
   "cell_type": "markdown",
   "metadata": {},
   "source": [
    "CSV파일의 내용을 파이썬 데이터로 변환"
   ]
  },
  {
   "cell_type": "code",
   "execution_count": 2,
   "metadata": {},
   "outputs": [
    {
     "name": "stdout",
     "output_type": "stream",
     "text": [
      "이름,국어,영어,수학\n",
      "\n"
     ]
    }
   ],
   "source": [
    "#-----------------------------------\n",
    "# step1. 파일 읽기\n",
    "#------------------------------------\n",
    "# 읽어들인 내용을 저장하기 위한 빈 변수 생성\n",
    "csv_list = None\n",
    "\n",
    "# grade.csv 파일에 대한 파일 객체를 읽기 모드로 생성\n",
    "with open(\"grade.csv\", 'r', encoding='euc-kr') as f:\n",
    "    # 파일의 각 행을 원소로 갖는 리스트 생성\n",
    "    # -> ['이름,국어,영어,수학\\n', '철수,95,88,72\\n', '영희,92,90,95\\n', '철민,88,76,64\\n']\n",
    "    csv_list = f.readline()\n",
    "print(csv_list)"
   ]
  },
  {
   "attachments": {},
   "cell_type": "markdown",
   "metadata": {},
   "source": []
  }
 ],
 "metadata": {
  "kernelspec": {
   "display_name": "Python 3",
   "language": "python",
   "name": "python3"
  },
  "language_info": {
   "codemirror_mode": {
    "name": "ipython",
    "version": 3
   },
   "file_extension": ".py",
   "mimetype": "text/x-python",
   "name": "python",
   "nbconvert_exporter": "python",
   "pygments_lexer": "ipython3",
   "version": "3.11.3"
  },
  "orig_nbformat": 4
 },
 "nbformat": 4,
 "nbformat_minor": 2
}
