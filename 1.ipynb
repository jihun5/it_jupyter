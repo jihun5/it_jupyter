{
 "cells": [
  {
   "cell_type": "code",
   "execution_count": 1,
   "metadata": {},
   "outputs": [],
   "source": [
    "import numpy as np\n",
    "import pandas as pd"
   ]
  },
  {
   "cell_type": "code",
   "execution_count": 9,
   "metadata": {},
   "outputs": [
    {
     "name": "stdout",
     "output_type": "stream",
     "text": [
      "RandomForestClassifier(class_weight='balanced')\n",
      "10\n",
      "90\n"
     ]
    },
    {
     "ename": "ValueError",
     "evalue": "all the input arrays must have same number of dimensions, but the array at index 0 has 1 dimension(s) and the array at index 1 has 10 dimension(s)",
     "output_type": "error",
     "traceback": [
      "\u001b[1;31m---------------------------------------------------------------------------\u001b[0m",
      "\u001b[1;31mValueError\u001b[0m                                Traceback (most recent call last)",
      "Cell \u001b[1;32mIn[9], line 26\u001b[0m\n\u001b[0;32m     23\u001b[0m \u001b[39mprint\u001b[39m(\u001b[39mlen\u001b[39m(class1))\n\u001b[0;32m     25\u001b[0m downsaple \u001b[39m=\u001b[39m np\u001b[39m.\u001b[39mrandom\u001b[39m.\u001b[39mchoice(class1, size\u001b[39m=\u001b[39m(class0), replace\u001b[39m=\u001b[39m\u001b[39mFalse\u001b[39;00m) \u001b[39m# replace=False 중복제거\u001b[39;00m\n\u001b[1;32m---> 26\u001b[0m result \u001b[39m=\u001b[39m np\u001b[39m.\u001b[39;49mhstack((target[class0], target[downsaple]))\n\u001b[0;32m     27\u001b[0m \u001b[39mprint\u001b[39m(result)\n",
      "File \u001b[1;32m<__array_function__ internals>:200\u001b[0m, in \u001b[0;36mhstack\u001b[1;34m(*args, **kwargs)\u001b[0m\n",
      "File \u001b[1;32mc:\\Users\\user\\AppData\\Local\\Programs\\Python\\Python311\\Lib\\site-packages\\numpy\\core\\shape_base.py:368\u001b[0m, in \u001b[0;36mhstack\u001b[1;34m(tup, dtype, casting)\u001b[0m\n\u001b[0;32m    366\u001b[0m \u001b[39m# As a special case, dimension 0 of 1-dimensional arrays is \"horizontal\"\u001b[39;00m\n\u001b[0;32m    367\u001b[0m \u001b[39mif\u001b[39;00m arrs \u001b[39mand\u001b[39;00m arrs[\u001b[39m0\u001b[39m]\u001b[39m.\u001b[39mndim \u001b[39m==\u001b[39m \u001b[39m1\u001b[39m:\n\u001b[1;32m--> 368\u001b[0m     \u001b[39mreturn\u001b[39;00m _nx\u001b[39m.\u001b[39;49mconcatenate(arrs, \u001b[39m0\u001b[39;49m, dtype\u001b[39m=\u001b[39;49mdtype, casting\u001b[39m=\u001b[39;49mcasting)\n\u001b[0;32m    369\u001b[0m \u001b[39melse\u001b[39;00m:\n\u001b[0;32m    370\u001b[0m     \u001b[39mreturn\u001b[39;00m _nx\u001b[39m.\u001b[39mconcatenate(arrs, \u001b[39m1\u001b[39m, dtype\u001b[39m=\u001b[39mdtype, casting\u001b[39m=\u001b[39mcasting)\n",
      "File \u001b[1;32m<__array_function__ internals>:200\u001b[0m, in \u001b[0;36mconcatenate\u001b[1;34m(*args, **kwargs)\u001b[0m\n",
      "\u001b[1;31mValueError\u001b[0m: all the input arrays must have same number of dimensions, but the array at index 0 has 1 dimension(s) and the array at index 1 has 10 dimension(s)"
     ]
    }
   ],
   "source": [
    "list1 = []\n",
    "for i in range(0, 10 ,1):\n",
    "    list1.append(0)\n",
    "\n",
    "list2 = []\n",
    "for i in range(0, 90, 1):\n",
    "    list2.append(1)\n",
    "\n",
    "target = np.array(list1 + list2)\n",
    "# print(list(target))\n",
    "\n",
    "from sklearn.ensemble import RandomForestClassifier\n",
    "# weights = {0:0.9, 1:.1}\n",
    "# rfc = RandomForestClassifier(class_weight=weights)\n",
    "# print(rfc)\n",
    "\n",
    "rfc = RandomForestClassifier(class_weight='balanced')\n",
    "print(rfc)\n",
    "\n",
    "class0 = np.where(target==0)[0]\n",
    "class1 = np.where(target==1)[0]\n",
    "print(len(class0))\n",
    "print(len(class1))\n",
    "\n",
    "downsaple = np.random.choice(class1, size=(class0), replace=False) # replace=False 중복제거\n",
    "result = np.hstack((target[class0], target[downsaple]))\n",
    "print(result)"
   ]
  },
  {
   "cell_type": "code",
   "execution_count": null,
   "metadata": {},
   "outputs": [],
   "source": []
  }
 ],
 "metadata": {
  "kernelspec": {
   "display_name": "Python 3",
   "language": "python",
   "name": "python3"
  },
  "language_info": {
   "codemirror_mode": {
    "name": "ipython",
    "version": 3
   },
   "file_extension": ".py",
   "mimetype": "text/x-python",
   "name": "python",
   "nbconvert_exporter": "python",
   "pygments_lexer": "ipython3",
   "version": "3.11.3"
  },
  "orig_nbformat": 4
 },
 "nbformat": 4,
 "nbformat_minor": 2
}
