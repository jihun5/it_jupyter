{
 "cells": [
  {
   "attachments": {},
   "cell_type": "markdown",
   "metadata": {},
   "source": [
    "파파고 번역기"
   ]
  },
  {
   "attachments": {},
   "cell_type": "markdown",
   "metadata": {},
   "source": [
    "01 필요한 모듈 참조"
   ]
  },
  {
   "cell_type": "code",
   "execution_count": 1,
   "metadata": {},
   "outputs": [],
   "source": [
    "import chromedriver_autoinstaller\n",
    "from selenium import webdriver\n",
    "from selenium.webdriver.common.by import By\n",
    "from selenium.webdriver.support.ui import WebDriverWait\n",
    "from bs4 import BeautifulSoup\n",
    "from pandas import DataFrame\n",
    "import time\n",
    "import datetime as dt"
   ]
  },
  {
   "attachments": {},
   "cell_type": "markdown",
   "metadata": {},
   "source": [
    "02 번역할 파일 가져오기"
   ]
  },
  {
   "cell_type": "code",
   "execution_count": 3,
   "metadata": {},
   "outputs": [],
   "source": [
    "# 변역할 문장이 행단위로 입력되어 있는 영문 텍스트 파일이 필요함\n",
    "source = None\n",
    "with open('news.txt', 'r', encoding='utf-8') as f:\n",
    "    source = f.readlines()\n",
    "\n",
    "# source"
   ]
  },
  {
   "attachments": {},
   "cell_type": "markdown",
   "metadata": {},
   "source": [
    "03 웹브라우저 준비"
   ]
  },
  {
   "cell_type": "code",
   "execution_count": null,
   "metadata": {},
   "outputs": [],
   "source": [
    "# 크롬드라이버 자동 설치\n",
    "chromedriver_autoinstaller.install()\n",
    "\n",
    "# 크롬드라이버를 통해 크롬을 실행시킴\n",
    "# -> driver 객체는 Chrome 자체\n",
    "driver = webdriver.Chrome()\n",
    "\n",
    "# 크롬브라우저가 준비될 때 까지 최대 5초씩 대기\n",
    "driver.implicitly_wait(5)\n",
    "\n",
    "# 파파고 페이지로 이동\n",
    "driver.get(\"https: /papago.naver.com/\")\n",
    "time.sleep(3)"
   ]
  },
  {
   "cell_type": "markdown",
   "metadata": {},
   "source": [
    "04 번역 수행하기"
   ]
  },
  {
   "cell_type": "code",
   "execution_count": 26,
   "metadata": {},
   "outputs": [
    {
     "name": "stdout",
     "output_type": "stream",
     "text": [
      "작업이 완료되었습니다.\n"
     ]
    }
   ],
   "source": [
    "# 번역 결과가 저장될 텍스트 파일 생성\n",
    "fileName = dt.datetime.now().strftime(\"%y%m%d_%H%M%S.md\")\n",
    "\n",
    "with open(fileName, \"w\", encoding=\"utf-8\") as f:\n",
    "    # 읽어온 텍스트의 원소 만큼 반복\n",
    "    for s in source:\n",
    "        # 각 행마다 줄바꿈 문자 등의 앞뒤 공백을 제거\n",
    "        s = s.strip()\n",
    "        # 이번 턴에서 번역할 내용이 빈 행이라면 반복을 다음턴으로 이동\n",
    "        if not s:\n",
    "            continue\n",
    "        # print(s)\n",
    "\n",
    "        # 번역할 원문을 입력하는 요소를 취득\n",
    "        txtSource = WebDriverWait(driver, 3).until(lambda x: x.find_element(By.CSS_SELECTOR, \"#txtSource\"))\n",
    "\n",
    "        # 기존의 입력내용을 삭제\n",
    "        txtSource.clear()\n",
    "        # 번역할 한 행을 입력요소에 키보드로 입력한다.\n",
    "        txtSource.send_keys(s)\n",
    "\n",
    "        # 번역하기 버튼요소 취득\n",
    "        btnTranslate = WebDriverWait(driver, 3).until(lambda x: x.find_element(By.CSS_SELECTOR, \"#btnTranslate\"))\n",
    "        # 번역버튼 클릭\n",
    "        btnTranslate.click()\n",
    "\n",
    "        # 번역이 되는 동안 1초 대기\n",
    "        time.sleep(1)\n",
    "        #--------------------------------------------------------------------\n",
    "\n",
    "        # 번역결과가 표시될 요소 취득\n",
    "        txtTarget = WebDriverWait(driver, 3).until(lambda x:x.find_element(By.CSS_SELECTOR, \"#txtTarget\"))\n",
    "\n",
    "        # 번역 결과 가져오기\n",
    "        currentTrans = txtTarget.text.strip()\n",
    "        # print(currentTrans)\n",
    "\n",
    "        # 번역이 되는 동안 1초대기\n",
    "        time.sleep(1)\n",
    "        #--------------------------------------------------------------------\n",
    "    \n",
    "        #번역결과를 파일에 기록\n",
    "        f.write(s)\n",
    "        f.write(\"\\n\\n\")\n",
    "        f.write(\"> \")\n",
    "        f.write(currentTrans)\n",
    "        f.write(\"\\n\\n\")\n",
    "print('작업이 완료되었습니다.')"
   ]
  },
  {
   "cell_type": "code",
   "execution_count": null,
   "metadata": {},
   "outputs": [],
   "source": []
  }
 ],
 "metadata": {
  "kernelspec": {
   "display_name": "Python 3",
   "language": "python",
   "name": "python3"
  },
  "language_info": {
   "codemirror_mode": {
    "name": "ipython",
    "version": 3
   },
   "file_extension": ".py",
   "mimetype": "text/x-python",
   "name": "python",
   "nbconvert_exporter": "python",
   "pygments_lexer": "ipython3",
   "version": "3.11.3"
  },
  "orig_nbformat": 4
 },
 "nbformat": 4,
 "nbformat_minor": 2
}
