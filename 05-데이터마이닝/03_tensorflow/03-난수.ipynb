{
 "cells": [
  {
   "cell_type": "markdown",
   "metadata": {},
   "source": [
    "# 난수\n",
    "\n",
    "#### #01. 작업준비\n",
    "\n",
    "패키지 참조"
   ]
  },
  {
   "cell_type": "code",
   "execution_count": 1,
   "metadata": {},
   "outputs": [],
   "source": [
    "import tensorflow as tf"
   ]
  },
  {
   "cell_type": "markdown",
   "metadata": {},
   "source": [
    "### #02. 균등 분포 난수\n",
    "\n",
    "일반적으로 각 이벤트의 결과값을 알 수 없는 경우 미래에 발생할 이벤트의 결과값 $x$가 각 예상되는 범위별로 균등한 확률로 일어날 것이라고 예상될 때 사용\n",
    "\n",
    "#### 1) 균등 분포 난수의 사용 예\n",
    "\n",
    "주사위에 대한 확률 \n",
    "\n",
    "- 200번을 던지고 201번째  주사위를 던진다고 했을 때 201번째 결과값은 앞의 1에서 200번까지 결과값에 영향을 받지 않는다.\n",
    "- 201번째 결과값이 1,2,3,4,5,6 각각의 결과값으로 나올 확률은 6분의 1이며 이는 앞의 1~200번째 결과값에 영향을 받아 줄어들거나 늘어나지 않는다는 것이다.\n",
    "- 이처럼 미래 결과값이 경험적으로 알 수 없을 상황에서 사용하는 것이 균등분포이다.\n",
    "\n",
    "#### 2) 균등 분포 난수 실험\n",
    "\n",
    "##### 스칼라 형태의 균등 분포 난수"
   ]
  },
  {
   "cell_type": "code",
   "execution_count": 2,
   "metadata": {},
   "outputs": [
    {
     "name": "stdout",
     "output_type": "stream",
     "text": [
      "70\n"
     ]
    }
   ],
   "source": [
    "uni_rnd1 = tf.random.uniform(shape=[], minval=0, maxval=100, dtype=tf.int32)\n",
    "tf.print(uni_rnd1)"
   ]
  },
  {
   "cell_type": "markdown",
   "metadata": {},
   "source": [
    "백터 형태의 균등 분포 난수"
   ]
  },
  {
   "cell_type": "code",
   "execution_count": 3,
   "metadata": {},
   "outputs": [
    {
     "name": "stdout",
     "output_type": "stream",
     "text": [
      "[38 67 32 84 41]\n"
     ]
    }
   ],
   "source": [
    "uni_rnd2 = tf.random.uniform(shape=[5], minval=0, maxval=100, dtype=tf.int32)\n",
    "tf.print(uni_rnd2)"
   ]
  },
  {
   "cell_type": "markdown",
   "metadata": {},
   "source": [
    "행렬형태의 균등 분포 난수"
   ]
  },
  {
   "cell_type": "code",
   "execution_count": 4,
   "metadata": {},
   "outputs": [
    {
     "name": "stdout",
     "output_type": "stream",
     "text": [
      "[[38 38 66]\n",
      " [18 39 0]]\n"
     ]
    }
   ],
   "source": [
    "uni_rnd3 = tf.random.uniform(shape=[2,3], minval=0, maxval=100, dtype=tf.int32)\n",
    "tf.print(uni_rnd3)"
   ]
  },
  {
   "cell_type": "markdown",
   "metadata": {},
   "source": [
    "텐서 형태의 균등 분포 난수"
   ]
  },
  {
   "cell_type": "code",
   "execution_count": 5,
   "metadata": {},
   "outputs": [
    {
     "name": "stdout",
     "output_type": "stream",
     "text": [
      "[[[37 7 93 32]\n",
      "  [9 17 68 89]\n",
      "  [58 22 66 27]]\n",
      "\n",
      " [[66 48 19 43]\n",
      "  [21 93 78 20]\n",
      "  [27 42 62 1]]]\n"
     ]
    }
   ],
   "source": [
    "uni_rnd4 = tf.random.uniform(shape=[2,3,4], minval=0, maxval=100, dtype=tf.int32)\n",
    "tf.print(uni_rnd4)"
   ]
  },
  {
   "cell_type": "markdown",
   "metadata": {},
   "source": [
    "#### 3) 랜덤값을 갖는 행렬 곱 예시\n",
    "\n",
    "랜덤값을 갖는 3행 2열의 행렬을 변수 x로 정의"
   ]
  },
  {
   "cell_type": "code",
   "execution_count": 6,
   "metadata": {},
   "outputs": [
    {
     "name": "stdout",
     "output_type": "stream",
     "text": [
      "[[0.677112 0.0690854788]\n",
      " [0.621616364 0.942868829]\n",
      " [0.612108469 0.196483612]]\n"
     ]
    }
   ],
   "source": [
    "x = tf.Variable(tf.random.uniform([3,2]))\n",
    "tf.print(x)"
   ]
  },
  {
   "cell_type": "markdown",
   "metadata": {},
   "source": [
    "랜덤값을 갖는 2행 1열의 행렬 변수 y로 정의"
   ]
  },
  {
   "cell_type": "code",
   "execution_count": 7,
   "metadata": {},
   "outputs": [
    {
     "name": "stdout",
     "output_type": "stream",
     "text": [
      "[[0.132179618]\n",
      " [0.901804686]]\n"
     ]
    }
   ],
   "source": [
    "y = tf.Variable(tf.random.uniform([2, 1]))\n",
    "tf.print(y)"
   ]
  },
  {
   "cell_type": "markdown",
   "metadata": {},
   "source": [
    "### #03. 정규 분포 난수 \n",
    "\n",
    "정규분포란 과거의 축적된 경험적 데이터를 이미 보유하고 있는 상태에서 이용하여 미래에 발생할 결과값 $x$의 각 예상되는 범위별로 발생될 확률을 어느 정도 추정할 수 있을 때 사용\n",
    "\n",
    "#### 1) 정규 분포 난수의 사용 예\n",
    "\n",
    "매장의 매출액 예측\n",
    "\n",
    "- 이전 3개월의 매출이 2천만원, 2천백만원, 2천2백원 발생한 경우 평균이나 범위에 대한 예측이 가능하다.\n",
    "- **`평균`에 대한 예측** → 이번달 매출은 과거 3개월의 매출평균인 2천백만원으로 예측.\n",
    "- **`범위`에 대한 예측** → 최소 2천만원 ~  최대 2천2백만원까지 매출이 발생할 수 있다는 예상이 가능함.\n",
    "\n",
    "로또 추첨\n",
    "\n",
    "- 64개의 공 중에서 하나를 랜덤으로 추출하면, 두 번째 랜덤 범위는 첫 번째 추출된 공을 제외한 범위 안에서 생성된다.\n",
    "- 만약 로또 추첨시 하나의 공을 뽑아 번호를 확인하고 그 공을 다시 추첨 대상에 포함시켰다면 균등분포 난수가 된다.\n",
    "\n",
    "#### 2) 정규 분포 난수 실험\n",
    "\n",
    "정규 분포 난수를 생성할 때는 평균(mean)과 표준편차(stddev)를 지정해야 한다.\n",
    "\n",
    "##### 스칼라 형태의 정규 분포난수"
   ]
  },
  {
   "cell_type": "code",
   "execution_count": 8,
   "metadata": {},
   "outputs": [
    {
     "name": "stdout",
     "output_type": "stream",
     "text": [
      "-0.349421889\n"
     ]
    }
   ],
   "source": [
    "normal_rnd1 = tf.random.normal(shape=[], mean=0.0, stddev=1.0)\n",
    "tf.print(normal_rnd1)"
   ]
  },
  {
   "cell_type": "markdown",
   "metadata": {},
   "source": [
    "백터 형태의 정규 분포 난수"
   ]
  },
  {
   "cell_type": "code",
   "execution_count": 9,
   "metadata": {},
   "outputs": [
    {
     "name": "stdout",
     "output_type": "stream",
     "text": [
      "[0.468889326 0.716476 1.67981112 0.40576458 -2.0106]\n"
     ]
    }
   ],
   "source": [
    "uni_rnd2 = tf.random.normal(shape=[5], mean=0.0, stddev=1.0)\n",
    "tf.print(uni_rnd2)"
   ]
  },
  {
   "cell_type": "markdown",
   "metadata": {},
   "source": [
    "행렬 형태의 정규 분포 난수"
   ]
  },
  {
   "cell_type": "code",
   "execution_count": 10,
   "metadata": {},
   "outputs": [
    {
     "name": "stdout",
     "output_type": "stream",
     "text": [
      "[[-1.87936211 -0.5581671 -0.19370392]\n",
      " [0.43584463 0.952019691 -1.66048634]]\n"
     ]
    }
   ],
   "source": [
    "normal_rnd3 = tf.random.normal(shape=[2,3], mean=0.0, stddev=1.0)\n",
    "tf.print(normal_rnd3)"
   ]
  },
  {
   "cell_type": "markdown",
   "metadata": {},
   "source": [
    "텐서 형태의 정규 분포 난수"
   ]
  },
  {
   "cell_type": "code",
   "execution_count": 11,
   "metadata": {},
   "outputs": [
    {
     "name": "stdout",
     "output_type": "stream",
     "text": [
      "[[[-0.316873461 -1.28567111 1.92898834 -0.413979828]\n",
      "  [0.34747839 0.9246611 -0.348163754 1.1726104]\n",
      "  [1.57721579 0.392415196 0.174386322 -1.80796552]]\n",
      "\n",
      " [[-0.288910031 -0.195958734 0.95764333 1.6247772]\n",
      "  [-0.453394234 -0.220619291 0.212131456 0.466130644]\n",
      "  [-0.632350087 0.0403366163 0.529046774 -0.221130773]]]\n"
     ]
    }
   ],
   "source": [
    "normal_rnd4 = tf.random.normal(shape=[2,3,4], mean=0.0, stddev=1.0)\n",
    "tf.print(normal_rnd4)"
   ]
  }
 ],
 "metadata": {
  "kernelspec": {
   "display_name": "Python 3",
   "language": "python",
   "name": "python3"
  },
  "language_info": {
   "codemirror_mode": {
    "name": "ipython",
    "version": 3
   },
   "file_extension": ".py",
   "mimetype": "text/x-python",
   "name": "python",
   "nbconvert_exporter": "python",
   "pygments_lexer": "ipython3",
   "version": "3.9.13"
  },
  "orig_nbformat": 4
 },
 "nbformat": 4,
 "nbformat_minor": 2
}
