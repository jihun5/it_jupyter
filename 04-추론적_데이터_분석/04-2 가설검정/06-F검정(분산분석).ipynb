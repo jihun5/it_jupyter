{
 "cells": [
  {
   "cell_type": "markdown",
   "metadata": {},
   "source": [
    "### F검정 (분산분석, ANOVA)\n",
    "#### 통계분석의 주요 검정 기법\n",
    "\n",
    "|기법|설명|\n",
    "|--|--|\n",
    "|독립표본t검정|독립된 두 그룹의 평균비교(정규분포 가정이 가능할 때)|\n",
    "|대응표본t검정|쌍을 이룬 두 그룹의 평균비교(정규분포 가정이 가능할 때)|\n",
    "|분산분석|세 그룹의 평균비교(정규분포 가정이 가능할 때)|\n",
    "|상관분석|두 수치형 변수 사이의 상관관계 유무와 강도 계산|\n",
    "|회귀분석|종속변수와 독립변수의 관계를 모델링 |"
   ]
  },
  {
   "cell_type": "markdown",
   "metadata": {},
   "source": [
    "##### F검정의 이해\n",
    "###### 분산을 비교할 때 사용\n",
    "###### 세 개 이상의 집단을 대상으로 두 집단씩 여러번 t검정을 수행하게 되면 신뢰도가 급격히 감소한다.\n",
    "###### 분산 분석은 이러한 현상이 발생하지 않는다."
   ]
  },
  {
   "cell_type": "markdown",
   "metadata": {},
   "source": [
    "##### 분산\n",
    "- 데이터의 변동 정도를 의미하는 지표\n",
    "- 편차의 제곱에 대한 평균\n",
    "- 분산이 크다 -> 데이터의 산포도가 크다(데이터가 넓게 퍼져있음)"
   ]
  },
  {
   "cell_type": "markdown",
   "metadata": {},
   "source": [
    "##### F감정의 가설\n",
    "|가설|설명|식|\n",
    "|--|--|--|\n",
    "|귀무가설|데이터간의 분산이 같다|$H_0 : \\sigma_1 = \\sigma_2$|\n",
    "|대립가설|데이터간의 분산이 같지 않다|$H_0 : \\sigma_1 \\neq \\sigma_2$|"
   ]
  },
  {
   "cell_type": "code",
   "execution_count": 1,
   "metadata": {},
   "outputs": [],
   "source": [
    "from pandas import read_excel\n",
    "from scipy.stats import f_oneway"
   ]
  },
  {
   "cell_type": "code",
   "execution_count": 2,
   "metadata": {},
   "outputs": [
    {
     "data": {
      "text/html": [
       "<div>\n",
       "<style scoped>\n",
       "    .dataframe tbody tr th:only-of-type {\n",
       "        vertical-align: middle;\n",
       "    }\n",
       "\n",
       "    .dataframe tbody tr th {\n",
       "        vertical-align: top;\n",
       "    }\n",
       "\n",
       "    .dataframe thead th {\n",
       "        text-align: right;\n",
       "    }\n",
       "</style>\n",
       "<table border=\"1\" class=\"dataframe\">\n",
       "  <thead>\n",
       "    <tr style=\"text-align: right;\">\n",
       "      <th></th>\n",
       "      <th>store1</th>\n",
       "      <th>store2</th>\n",
       "    </tr>\n",
       "  </thead>\n",
       "  <tbody>\n",
       "    <tr>\n",
       "      <th>0</th>\n",
       "      <td>46</td>\n",
       "      <td>78</td>\n",
       "    </tr>\n",
       "    <tr>\n",
       "      <th>1</th>\n",
       "      <td>47</td>\n",
       "      <td>57</td>\n",
       "    </tr>\n",
       "    <tr>\n",
       "      <th>2</th>\n",
       "      <td>58</td>\n",
       "      <td>31</td>\n",
       "    </tr>\n",
       "    <tr>\n",
       "      <th>3</th>\n",
       "      <td>47</td>\n",
       "      <td>28</td>\n",
       "    </tr>\n",
       "    <tr>\n",
       "      <th>4</th>\n",
       "      <td>27</td>\n",
       "      <td>67</td>\n",
       "    </tr>\n",
       "    <tr>\n",
       "      <th>5</th>\n",
       "      <td>58</td>\n",
       "      <td>77</td>\n",
       "    </tr>\n",
       "    <tr>\n",
       "      <th>6</th>\n",
       "      <td>56</td>\n",
       "      <td>36</td>\n",
       "    </tr>\n",
       "    <tr>\n",
       "      <th>7</th>\n",
       "      <td>26</td>\n",
       "      <td>57</td>\n",
       "    </tr>\n",
       "    <tr>\n",
       "      <th>8</th>\n",
       "      <td>47</td>\n",
       "      <td>36</td>\n",
       "    </tr>\n",
       "    <tr>\n",
       "      <th>9</th>\n",
       "      <td>25</td>\n",
       "      <td>57</td>\n",
       "    </tr>\n",
       "  </tbody>\n",
       "</table>\n",
       "</div>"
      ],
      "text/plain": [
       "   store1  store2\n",
       "0      46      78\n",
       "1      47      57\n",
       "2      58      31\n",
       "3      47      28\n",
       "4      27      67\n",
       "5      58      77\n",
       "6      56      36\n",
       "7      26      57\n",
       "8      47      36\n",
       "9      25      57"
      ]
     },
     "execution_count": 2,
     "metadata": {},
     "output_type": "execute_result"
    }
   ],
   "source": [
    "df = read_excel(\"https://data.hossam.kr/E02/store.xlsx\")\n",
    "df"
   ]
  },
  {
   "cell_type": "markdown",
   "metadata": {},
   "source": [
    "## 02. 분산분석 시행"
   ]
  },
  {
   "cell_type": "code",
   "execution_count": 3,
   "metadata": {},
   "outputs": [
    {
     "data": {
      "text/plain": [
       "F_onewayResult(statistic=1.4591624718860445, pvalue=0.24269553293319623)"
      ]
     },
     "execution_count": 3,
     "metadata": {},
     "output_type": "execute_result"
    }
   ],
   "source": [
    "f_oneway(df['store1'], df['store2'])"
   ]
  },
  {
   "cell_type": "markdown",
   "metadata": {},
   "source": [
    "##### 해석\n",
    "- p-value가 0.05보다 크므로 귀무가설을 기각할 수 없다. \n",
    "- 즉, 두 가게의 일별 매출 분산은 같다."
   ]
  },
  {
   "cell_type": "markdown",
   "metadata": {},
   "source": [
    "## F검정 (분산분석, ANOVA)\n",
    "## F검정(분산분석)의 이해\n",
    "###### 두 집단의 평균을 비교할 때는 t 검정을 쓰고, 3개 이상의 집단의 평균을 비교할 때는 분산 분석을 수행한다.\n",
    "###### 두 집단의 경우에 분산분석을 해도 되는데, 그때는 t 검정과 결과가 동일함\n",
    "###### 세 개 이상의 집단을 대상으로 두 집단씩 여러번 t검정을 수행하게 되면 신뢰도가 급격히 감소하게 되는데 분산 분석은 이러한 현상이 발생하지 않는다."
   ]
  },
  {
   "cell_type": "markdown",
   "metadata": {},
   "source": [
    "분산\n",
    "\n",
    "- 데이터의 변동 정도를 의미하는 지표\n",
    "- 편차의 제곱에 대한 평균\n",
    "- 분산이 크다 --> 데이터의 산포도가 크다(데이터가 넓게 펴저있음)"
   ]
  },
  {
   "cell_type": "markdown",
   "metadata": {},
   "source": [
    "분산분석의 조건\n",
    "|조건|설명|\n",
    "|--|--|\n",
    "|정규성|각 샘플 데이터는 정규분포를 따르는 모집단으로 부터 추출되었다.|\n",
    "|등분산성|Y의 모집단 분산은 각각의 모집단에서 동일|\n",
    "|독립성|그룹들의 모집단의 분산은 모두 동일하다.|"
   ]
  },
  {
   "cell_type": "markdown",
   "metadata": {},
   "source": [
    "분산 분석의 종류\n",
    "\n",
    "|종류|이름|설명|\n",
    "|--|--|--|\n",
    "|일원분산분석|One-way ANOVA|종속변수1개, 독립변수 집단도 1개인 경우 / 한가지 변수의 변화가 결과 변수에 미치는 영향을 알아보기 위해 사용됨|\n",
    "|이원분산분석|Two-way ANOVA|독립변수 집단이 두 개 이상인 집단 간 차이가 유의한지를 검증하기 위해 사용한 변수의 변화가 결과에 미치는 영향이 다른 변수의 수준에 따라 달라지는 지를 확인하기 위해 사용|"
   ]
  },
  {
   "cell_type": "markdown",
   "metadata": {},
   "source": [
    "##### F감정의 가설\n",
    "|가설|설명|식|\n",
    "|--|--|--|\n",
    "|귀무가설|데이터간의 분산이 같다|$H_0 : \\sigma_1 = \\sigma_2$|\n",
    "|대립가설|데이터간의 분산이 같지 않다|$H_0 : \\sigma_1 \\neq \\sigma_2$|"
   ]
  },
  {
   "cell_type": "markdown",
   "metadata": {},
   "source": [
    "p < 유의수준 이면 귀무가설을 기각하고, 대립가설을 채택한다.\n",
    "대립가설을 자세히 보면 \"어떤 집단의 평균이 다르다\"이다.\n",
    "집단이 A,B,C가 있으면 A와 B가 다른지 B와 C가 다른지 분산 분석으로 알 수 없다.\n",
    "- A와 B가 다른지 B와 C가 다른지는 사후 검정으로 확인해야한다."
   ]
  },
  {
   "cell_type": "markdown",
   "metadata": {},
   "source": [
    "파이썬에서 ANOVA를 사용하기 위한 패키지\n",
    "\n",
    "###### scipy.stats 패키지와 statsmodels 패키지가 ANOVA 검정 방법을 제공한다."
   ]
  }
 ],
 "metadata": {
  "kernelspec": {
   "display_name": "Python 3",
   "language": "python",
   "name": "python3"
  },
  "language_info": {
   "codemirror_mode": {
    "name": "ipython",
    "version": 3
   },
   "file_extension": ".py",
   "mimetype": "text/x-python",
   "name": "python",
   "nbconvert_exporter": "python",
   "pygments_lexer": "ipython3",
   "version": "3.11.3"
  },
  "orig_nbformat": 4
 },
 "nbformat": 4,
 "nbformat_minor": 2
}
