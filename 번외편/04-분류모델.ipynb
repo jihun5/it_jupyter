{
 "cells": [
  {
   "cell_type": "markdown",
   "metadata": {},
   "source": [
    "# 코로나 이후 매출 증감여부 예측 모델\n",
    "\n",
    "#### #01. 패키지 준비하기"
   ]
  },
  {
   "cell_type": "code",
   "execution_count": 1,
   "metadata": {},
   "outputs": [],
   "source": [
    "import sys\n",
    "sys.path.append('../')\n",
    "import helper\n",
    "\n",
    "import numpy as np\n",
    "from pandas import read_excel, DataFrame, get_dummies\n",
    "from matplotlib import pyplot as plt\n",
    "import seaborn as sb\n",
    "\n",
    "from sklearn.model_selection import train_test_split\n",
    "from sklearn.preprocessing import StandardScaler\n",
    "\n",
    "from tensorflow.keras.models import Sequential\n",
    "from tensorflow.keras.layers import Dense\n",
    "from tensorflow.keras.callbacks import EarlyStopping\n",
    "from tensorflow.keras.callbacks import ReduceLROnPlateau"
   ]
  },
  {
   "cell_type": "markdown",
   "metadata": {},
   "source": [
    "#### #02. 데이터셋 준비하기"
   ]
  },
  {
   "cell_type": "code",
   "execution_count": 2,
   "metadata": {},
   "outputs": [
    {
     "name": "stdout",
     "output_type": "stream",
     "text": [
      "<class 'pandas.core.frame.DataFrame'>\n",
      "RangeIndex: 1009 entries, 0 to 1008\n",
      "Data columns (total 10 columns):\n",
      " #   Column       Non-Null Count  Dtype  \n",
      "---  ------       --------------  -----  \n",
      " 0   상권_코드        1009 non-null   int64  \n",
      " 1   상권_코드_명      1009 non-null   object \n",
      " 2   점포수_x        1009 non-null   float64\n",
      " 3   도심_x         1009 non-null   int64  \n",
      " 4   총_직장_인구_수_x  1009 non-null   float64\n",
      " 5   총_생활인구_수_x   1009 non-null   float64\n",
      " 6   점포수_y        1009 non-null   float64\n",
      " 7   총_직장_인구_수_y  1009 non-null   int64  \n",
      " 8   총_생활인구_수_y   1009 non-null   float64\n",
      " 9   매출증감         1009 non-null   int64  \n",
      "dtypes: float64(5), int64(4), object(1)\n",
      "memory usage: 79.0+ KB\n"
     ]
    }
   ],
   "source": [
    "origin = read_excel(\"tdf.xlsx\")\n",
    "origin.info()"
   ]
  },
  {
   "cell_type": "markdown",
   "metadata": {},
   "source": [
    "#### #03. 데이터 전처리 \n",
    "\n",
    "결측치 확인"
   ]
  },
  {
   "cell_type": "code",
   "execution_count": 3,
   "metadata": {},
   "outputs": [
    {
     "data": {
      "text/plain": [
       "상권_코드          0\n",
       "상권_코드_명        0\n",
       "점포수_x          0\n",
       "도심_x           0\n",
       "총_직장_인구_수_x    0\n",
       "총_생활인구_수_x     0\n",
       "점포수_y          0\n",
       "총_직장_인구_수_y    0\n",
       "총_생활인구_수_y     0\n",
       "매출증감           0\n",
       "dtype: int64"
      ]
     },
     "execution_count": 3,
     "metadata": {},
     "output_type": "execute_result"
    }
   ],
   "source": [
    "origin.isna().sum()"
   ]
  },
  {
   "cell_type": "markdown",
   "metadata": {},
   "source": [
    "#### #04. 탐색적 데이터 분석\n",
    "\n",
    "> ###### 앞 과정에서 이미 수행하였으므로 생략"
   ]
  },
  {
   "cell_type": "markdown",
   "metadata": {},
   "source": [
    "#### #05. 데이터셋 분할하기\n",
    "\n",
    "랜덤시드 고정"
   ]
  },
  {
   "cell_type": "code",
   "execution_count": 4,
   "metadata": {},
   "outputs": [],
   "source": [
    "np.random.seed(777)"
   ]
  },
  {
   "cell_type": "markdown",
   "metadata": {},
   "source": [
    "훈련 데이터(독랍변수)와 레이블(종속변수) 구분하기"
   ]
  },
  {
   "cell_type": "code",
   "execution_count": 5,
   "metadata": {},
   "outputs": [
    {
     "data": {
      "text/html": [
       "<div>\n",
       "<style scoped>\n",
       "    .dataframe tbody tr th:only-of-type {\n",
       "        vertical-align: middle;\n",
       "    }\n",
       "\n",
       "    .dataframe tbody tr th {\n",
       "        vertical-align: top;\n",
       "    }\n",
       "\n",
       "    .dataframe thead th {\n",
       "        text-align: right;\n",
       "    }\n",
       "</style>\n",
       "<table border=\"1\" class=\"dataframe\">\n",
       "  <thead>\n",
       "    <tr style=\"text-align: right;\">\n",
       "      <th></th>\n",
       "      <th>점포수_x</th>\n",
       "      <th>도심_x</th>\n",
       "      <th>총_직장_인구_수_x</th>\n",
       "      <th>총_생활인구_수_x</th>\n",
       "      <th>점포수_y</th>\n",
       "      <th>총_직장_인구_수_y</th>\n",
       "      <th>총_생활인구_수_y</th>\n",
       "    </tr>\n",
       "  </thead>\n",
       "  <tbody>\n",
       "    <tr>\n",
       "      <th>0</th>\n",
       "      <td>6.825688</td>\n",
       "      <td>1</td>\n",
       "      <td>21133.770642</td>\n",
       "      <td>9.668614e+05</td>\n",
       "      <td>6.564356</td>\n",
       "      <td>13700</td>\n",
       "      <td>1.108208e+06</td>\n",
       "    </tr>\n",
       "    <tr>\n",
       "      <th>1</th>\n",
       "      <td>4.519231</td>\n",
       "      <td>1</td>\n",
       "      <td>10343.230769</td>\n",
       "      <td>3.061709e+06</td>\n",
       "      <td>4.493333</td>\n",
       "      <td>11773</td>\n",
       "      <td>3.704169e+06</td>\n",
       "    </tr>\n",
       "    <tr>\n",
       "      <th>2</th>\n",
       "      <td>7.094340</td>\n",
       "      <td>1</td>\n",
       "      <td>43510.654088</td>\n",
       "      <td>2.080373e+06</td>\n",
       "      <td>7.382550</td>\n",
       "      <td>39506</td>\n",
       "      <td>1.775981e+06</td>\n",
       "    </tr>\n",
       "    <tr>\n",
       "      <th>3</th>\n",
       "      <td>4.418182</td>\n",
       "      <td>1</td>\n",
       "      <td>8267.454545</td>\n",
       "      <td>2.114242e+06</td>\n",
       "      <td>4.390000</td>\n",
       "      <td>1696</td>\n",
       "      <td>3.109088e+06</td>\n",
       "    </tr>\n",
       "    <tr>\n",
       "      <th>4</th>\n",
       "      <td>3.263158</td>\n",
       "      <td>1</td>\n",
       "      <td>2711.131579</td>\n",
       "      <td>2.506074e+05</td>\n",
       "      <td>3.417910</td>\n",
       "      <td>4252</td>\n",
       "      <td>4.745286e+05</td>\n",
       "    </tr>\n",
       "  </tbody>\n",
       "</table>\n",
       "</div>"
      ],
      "text/plain": [
       "      점포수_x  도심_x   총_직장_인구_수_x    총_생활인구_수_x     점포수_y  총_직장_인구_수_y  \\\n",
       "0  6.825688     1  21133.770642  9.668614e+05  6.564356        13700   \n",
       "1  4.519231     1  10343.230769  3.061709e+06  4.493333        11773   \n",
       "2  7.094340     1  43510.654088  2.080373e+06  7.382550        39506   \n",
       "3  4.418182     1   8267.454545  2.114242e+06  4.390000         1696   \n",
       "4  3.263158     1   2711.131579  2.506074e+05  3.417910         4252   \n",
       "\n",
       "     총_생활인구_수_y  \n",
       "0  1.108208e+06  \n",
       "1  3.704169e+06  \n",
       "2  1.775981e+06  \n",
       "3  3.109088e+06  \n",
       "4  4.745286e+05  "
      ]
     },
     "execution_count": 5,
     "metadata": {},
     "output_type": "execute_result"
    }
   ],
   "source": [
    "x = origin.drop(['상권_코드','상권_코드_명','매출증감'], axis=1)\n",
    "x.head()"
   ]
  },
  {
   "cell_type": "code",
   "execution_count": 6,
   "metadata": {},
   "outputs": [
    {
     "data": {
      "text/plain": [
       "0       0\n",
       "1       0\n",
       "2       0\n",
       "3       0\n",
       "4       0\n",
       "       ..\n",
       "1004    0\n",
       "1005    1\n",
       "1006    0\n",
       "1007    0\n",
       "1008    1\n",
       "Name: 매출증감, Length: 1009, dtype: int64"
      ]
     },
     "execution_count": 6,
     "metadata": {},
     "output_type": "execute_result"
    }
   ],
   "source": [
    "y = origin['매출증감']\n",
    "y"
   ]
  },
  {
   "cell_type": "markdown",
   "metadata": {},
   "source": [
    "데이터 표준화\n",
    "\n",
    "명목형을 제거한 임시 데이터프레임을 생성"
   ]
  },
  {
   "cell_type": "code",
   "execution_count": 7,
   "metadata": {},
   "outputs": [
    {
     "data": {
      "text/html": [
       "<div>\n",
       "<style scoped>\n",
       "    .dataframe tbody tr th:only-of-type {\n",
       "        vertical-align: middle;\n",
       "    }\n",
       "\n",
       "    .dataframe tbody tr th {\n",
       "        vertical-align: top;\n",
       "    }\n",
       "\n",
       "    .dataframe thead th {\n",
       "        text-align: right;\n",
       "    }\n",
       "</style>\n",
       "<table border=\"1\" class=\"dataframe\">\n",
       "  <thead>\n",
       "    <tr style=\"text-align: right;\">\n",
       "      <th></th>\n",
       "      <th>점포수_x</th>\n",
       "      <th>총_직장_인구_수_x</th>\n",
       "      <th>총_생활인구_수_x</th>\n",
       "      <th>점포수_y</th>\n",
       "      <th>총_직장_인구_수_y</th>\n",
       "      <th>총_생활인구_수_y</th>\n",
       "    </tr>\n",
       "  </thead>\n",
       "  <tbody>\n",
       "    <tr>\n",
       "      <th>0</th>\n",
       "      <td>6.825688</td>\n",
       "      <td>21133.770642</td>\n",
       "      <td>9.668614e+05</td>\n",
       "      <td>6.564356</td>\n",
       "      <td>13700</td>\n",
       "      <td>1.108208e+06</td>\n",
       "    </tr>\n",
       "    <tr>\n",
       "      <th>1</th>\n",
       "      <td>4.519231</td>\n",
       "      <td>10343.230769</td>\n",
       "      <td>3.061709e+06</td>\n",
       "      <td>4.493333</td>\n",
       "      <td>11773</td>\n",
       "      <td>3.704169e+06</td>\n",
       "    </tr>\n",
       "    <tr>\n",
       "      <th>2</th>\n",
       "      <td>7.094340</td>\n",
       "      <td>43510.654088</td>\n",
       "      <td>2.080373e+06</td>\n",
       "      <td>7.382550</td>\n",
       "      <td>39506</td>\n",
       "      <td>1.775981e+06</td>\n",
       "    </tr>\n",
       "    <tr>\n",
       "      <th>3</th>\n",
       "      <td>4.418182</td>\n",
       "      <td>8267.454545</td>\n",
       "      <td>2.114242e+06</td>\n",
       "      <td>4.390000</td>\n",
       "      <td>1696</td>\n",
       "      <td>3.109088e+06</td>\n",
       "    </tr>\n",
       "    <tr>\n",
       "      <th>4</th>\n",
       "      <td>3.263158</td>\n",
       "      <td>2711.131579</td>\n",
       "      <td>2.506074e+05</td>\n",
       "      <td>3.417910</td>\n",
       "      <td>4252</td>\n",
       "      <td>4.745286e+05</td>\n",
       "    </tr>\n",
       "    <tr>\n",
       "      <th>...</th>\n",
       "      <td>...</td>\n",
       "      <td>...</td>\n",
       "      <td>...</td>\n",
       "      <td>...</td>\n",
       "      <td>...</td>\n",
       "      <td>...</td>\n",
       "    </tr>\n",
       "    <tr>\n",
       "      <th>1004</th>\n",
       "      <td>3.347826</td>\n",
       "      <td>1999.320652</td>\n",
       "      <td>3.245324e+06</td>\n",
       "      <td>3.603659</td>\n",
       "      <td>2122</td>\n",
       "      <td>5.776149e+06</td>\n",
       "    </tr>\n",
       "    <tr>\n",
       "      <th>1005</th>\n",
       "      <td>4.018072</td>\n",
       "      <td>4313.216867</td>\n",
       "      <td>5.847782e+05</td>\n",
       "      <td>4.311765</td>\n",
       "      <td>966</td>\n",
       "      <td>1.371762e+06</td>\n",
       "    </tr>\n",
       "    <tr>\n",
       "      <th>1006</th>\n",
       "      <td>5.335484</td>\n",
       "      <td>4582.309677</td>\n",
       "      <td>5.188177e+06</td>\n",
       "      <td>5.780303</td>\n",
       "      <td>2503</td>\n",
       "      <td>7.212605e+06</td>\n",
       "    </tr>\n",
       "    <tr>\n",
       "      <th>1007</th>\n",
       "      <td>4.771084</td>\n",
       "      <td>5432.831325</td>\n",
       "      <td>5.725559e+06</td>\n",
       "      <td>4.650685</td>\n",
       "      <td>6064</td>\n",
       "      <td>8.757489e+06</td>\n",
       "    </tr>\n",
       "    <tr>\n",
       "      <th>1008</th>\n",
       "      <td>3.274194</td>\n",
       "      <td>3262.266129</td>\n",
       "      <td>5.570232e+06</td>\n",
       "      <td>4.024390</td>\n",
       "      <td>2748</td>\n",
       "      <td>9.605700e+06</td>\n",
       "    </tr>\n",
       "  </tbody>\n",
       "</table>\n",
       "<p>1009 rows × 6 columns</p>\n",
       "</div>"
      ],
      "text/plain": [
       "         점포수_x   총_직장_인구_수_x    총_생활인구_수_x     점포수_y  총_직장_인구_수_y  \\\n",
       "0     6.825688  21133.770642  9.668614e+05  6.564356        13700   \n",
       "1     4.519231  10343.230769  3.061709e+06  4.493333        11773   \n",
       "2     7.094340  43510.654088  2.080373e+06  7.382550        39506   \n",
       "3     4.418182   8267.454545  2.114242e+06  4.390000         1696   \n",
       "4     3.263158   2711.131579  2.506074e+05  3.417910         4252   \n",
       "...        ...           ...           ...       ...          ...   \n",
       "1004  3.347826   1999.320652  3.245324e+06  3.603659         2122   \n",
       "1005  4.018072   4313.216867  5.847782e+05  4.311765          966   \n",
       "1006  5.335484   4582.309677  5.188177e+06  5.780303         2503   \n",
       "1007  4.771084   5432.831325  5.725559e+06  4.650685         6064   \n",
       "1008  3.274194   3262.266129  5.570232e+06  4.024390         2748   \n",
       "\n",
       "        총_생활인구_수_y  \n",
       "0     1.108208e+06  \n",
       "1     3.704169e+06  \n",
       "2     1.775981e+06  \n",
       "3     3.109088e+06  \n",
       "4     4.745286e+05  \n",
       "...            ...  \n",
       "1004  5.776149e+06  \n",
       "1005  1.371762e+06  \n",
       "1006  7.212605e+06  \n",
       "1007  8.757489e+06  \n",
       "1008  9.605700e+06  \n",
       "\n",
       "[1009 rows x 6 columns]"
      ]
     },
     "execution_count": 7,
     "metadata": {},
     "output_type": "execute_result"
    }
   ],
   "source": [
    "tmp = x.drop('도심_x', axis=1)\n",
    "tmp"
   ]
  },
  {
   "cell_type": "markdown",
   "metadata": {},
   "source": [
    "임시 데이터프레임을 활용하여 표준화"
   ]
  },
  {
   "cell_type": "code",
   "execution_count": 8,
   "metadata": {},
   "outputs": [
    {
     "data": {
      "text/html": [
       "<div>\n",
       "<style scoped>\n",
       "    .dataframe tbody tr th:only-of-type {\n",
       "        vertical-align: middle;\n",
       "    }\n",
       "\n",
       "    .dataframe tbody tr th {\n",
       "        vertical-align: top;\n",
       "    }\n",
       "\n",
       "    .dataframe thead th {\n",
       "        text-align: right;\n",
       "    }\n",
       "</style>\n",
       "<table border=\"1\" class=\"dataframe\">\n",
       "  <thead>\n",
       "    <tr style=\"text-align: right;\">\n",
       "      <th></th>\n",
       "      <th>점포수_x</th>\n",
       "      <th>총_직장_인구_수_x</th>\n",
       "      <th>총_생활인구_수_x</th>\n",
       "      <th>점포수_y</th>\n",
       "      <th>총_직장_인구_수_y</th>\n",
       "      <th>총_생활인구_수_y</th>\n",
       "    </tr>\n",
       "  </thead>\n",
       "  <tbody>\n",
       "    <tr>\n",
       "      <th>0</th>\n",
       "      <td>1.466482</td>\n",
       "      <td>1.423805</td>\n",
       "      <td>-1.545368</td>\n",
       "      <td>1.082146</td>\n",
       "      <td>0.790915</td>\n",
       "      <td>-1.809769</td>\n",
       "    </tr>\n",
       "    <tr>\n",
       "      <th>1</th>\n",
       "      <td>0.114631</td>\n",
       "      <td>0.317615</td>\n",
       "      <td>0.057226</td>\n",
       "      <td>-0.064296</td>\n",
       "      <td>0.578999</td>\n",
       "      <td>-0.461570</td>\n",
       "    </tr>\n",
       "    <tr>\n",
       "      <th>2</th>\n",
       "      <td>1.623943</td>\n",
       "      <td>3.717765</td>\n",
       "      <td>-0.693512</td>\n",
       "      <td>1.535069</td>\n",
       "      <td>3.628849</td>\n",
       "      <td>-1.462965</td>\n",
       "    </tr>\n",
       "    <tr>\n",
       "      <th>3</th>\n",
       "      <td>0.055405</td>\n",
       "      <td>0.104818</td>\n",
       "      <td>-0.667602</td>\n",
       "      <td>-0.121498</td>\n",
       "      <td>-0.529187</td>\n",
       "      <td>-0.770622</td>\n",
       "    </tr>\n",
       "    <tr>\n",
       "      <th>4</th>\n",
       "      <td>-0.621573</td>\n",
       "      <td>-0.464787</td>\n",
       "      <td>-2.093314</td>\n",
       "      <td>-0.659611</td>\n",
       "      <td>-0.248099</td>\n",
       "      <td>-2.138868</td>\n",
       "    </tr>\n",
       "    <tr>\n",
       "      <th>...</th>\n",
       "      <td>...</td>\n",
       "      <td>...</td>\n",
       "      <td>...</td>\n",
       "      <td>...</td>\n",
       "      <td>...</td>\n",
       "      <td>...</td>\n",
       "    </tr>\n",
       "    <tr>\n",
       "      <th>1004</th>\n",
       "      <td>-0.571948</td>\n",
       "      <td>-0.537758</td>\n",
       "      <td>0.197695</td>\n",
       "      <td>-0.556788</td>\n",
       "      <td>-0.482339</td>\n",
       "      <td>0.614503</td>\n",
       "    </tr>\n",
       "    <tr>\n",
       "      <th>1005</th>\n",
       "      <td>-0.179106</td>\n",
       "      <td>-0.300550</td>\n",
       "      <td>-1.837668</td>\n",
       "      <td>-0.164806</td>\n",
       "      <td>-0.609466</td>\n",
       "      <td>-1.672894</td>\n",
       "    </tr>\n",
       "    <tr>\n",
       "      <th>1006</th>\n",
       "      <td>0.593050</td>\n",
       "      <td>-0.272964</td>\n",
       "      <td>1.684010</td>\n",
       "      <td>0.648123</td>\n",
       "      <td>-0.440440</td>\n",
       "      <td>1.360518</td>\n",
       "    </tr>\n",
       "    <tr>\n",
       "      <th>1007</th>\n",
       "      <td>0.262246</td>\n",
       "      <td>-0.185773</td>\n",
       "      <td>2.095117</td>\n",
       "      <td>0.022808</td>\n",
       "      <td>-0.048830</td>\n",
       "      <td>2.162846</td>\n",
       "    </tr>\n",
       "    <tr>\n",
       "      <th>1008</th>\n",
       "      <td>-0.615105</td>\n",
       "      <td>-0.408288</td>\n",
       "      <td>1.976289</td>\n",
       "      <td>-0.323886</td>\n",
       "      <td>-0.413497</td>\n",
       "      <td>2.603360</td>\n",
       "    </tr>\n",
       "  </tbody>\n",
       "</table>\n",
       "<p>1009 rows × 6 columns</p>\n",
       "</div>"
      ],
      "text/plain": [
       "         점포수_x  총_직장_인구_수_x  총_생활인구_수_x     점포수_y  총_직장_인구_수_y  총_생활인구_수_y\n",
       "0     1.466482     1.423805   -1.545368  1.082146     0.790915   -1.809769\n",
       "1     0.114631     0.317615    0.057226 -0.064296     0.578999   -0.461570\n",
       "2     1.623943     3.717765   -0.693512  1.535069     3.628849   -1.462965\n",
       "3     0.055405     0.104818   -0.667602 -0.121498    -0.529187   -0.770622\n",
       "4    -0.621573    -0.464787   -2.093314 -0.659611    -0.248099   -2.138868\n",
       "...        ...          ...         ...       ...          ...         ...\n",
       "1004 -0.571948    -0.537758    0.197695 -0.556788    -0.482339    0.614503\n",
       "1005 -0.179106    -0.300550   -1.837668 -0.164806    -0.609466   -1.672894\n",
       "1006  0.593050    -0.272964    1.684010  0.648123    -0.440440    1.360518\n",
       "1007  0.262246    -0.185773    2.095117  0.022808    -0.048830    2.162846\n",
       "1008 -0.615105    -0.408288    1.976289 -0.323886    -0.413497    2.603360\n",
       "\n",
       "[1009 rows x 6 columns]"
      ]
     },
     "execution_count": 8,
     "metadata": {},
     "output_type": "execute_result"
    }
   ],
   "source": [
    "x_scaller = StandardScaler()\n",
    "x_scale = x_scaller.fit_transform(tmp)\n",
    "x_scale_df = DataFrame(x_scale, columns=tmp.columns, index=tmp.index)\n",
    "x_scale_df"
   ]
  },
  {
   "cell_type": "markdown",
   "metadata": {},
   "source": [
    "표준화 결과에 명목형 변수를 결합"
   ]
  },
  {
   "cell_type": "code",
   "execution_count": 9,
   "metadata": {},
   "outputs": [
    {
     "data": {
      "text/html": [
       "<div>\n",
       "<style scoped>\n",
       "    .dataframe tbody tr th:only-of-type {\n",
       "        vertical-align: middle;\n",
       "    }\n",
       "\n",
       "    .dataframe tbody tr th {\n",
       "        vertical-align: top;\n",
       "    }\n",
       "\n",
       "    .dataframe thead th {\n",
       "        text-align: right;\n",
       "    }\n",
       "</style>\n",
       "<table border=\"1\" class=\"dataframe\">\n",
       "  <thead>\n",
       "    <tr style=\"text-align: right;\">\n",
       "      <th></th>\n",
       "      <th>점포수_x</th>\n",
       "      <th>총_직장_인구_수_x</th>\n",
       "      <th>총_생활인구_수_x</th>\n",
       "      <th>점포수_y</th>\n",
       "      <th>총_직장_인구_수_y</th>\n",
       "      <th>총_생활인구_수_y</th>\n",
       "      <th>도심</th>\n",
       "    </tr>\n",
       "  </thead>\n",
       "  <tbody>\n",
       "    <tr>\n",
       "      <th>0</th>\n",
       "      <td>1.466482</td>\n",
       "      <td>1.423805</td>\n",
       "      <td>-1.545368</td>\n",
       "      <td>1.082146</td>\n",
       "      <td>0.790915</td>\n",
       "      <td>-1.809769</td>\n",
       "      <td>1</td>\n",
       "    </tr>\n",
       "    <tr>\n",
       "      <th>1</th>\n",
       "      <td>0.114631</td>\n",
       "      <td>0.317615</td>\n",
       "      <td>0.057226</td>\n",
       "      <td>-0.064296</td>\n",
       "      <td>0.578999</td>\n",
       "      <td>-0.461570</td>\n",
       "      <td>1</td>\n",
       "    </tr>\n",
       "    <tr>\n",
       "      <th>2</th>\n",
       "      <td>1.623943</td>\n",
       "      <td>3.717765</td>\n",
       "      <td>-0.693512</td>\n",
       "      <td>1.535069</td>\n",
       "      <td>3.628849</td>\n",
       "      <td>-1.462965</td>\n",
       "      <td>1</td>\n",
       "    </tr>\n",
       "    <tr>\n",
       "      <th>3</th>\n",
       "      <td>0.055405</td>\n",
       "      <td>0.104818</td>\n",
       "      <td>-0.667602</td>\n",
       "      <td>-0.121498</td>\n",
       "      <td>-0.529187</td>\n",
       "      <td>-0.770622</td>\n",
       "      <td>1</td>\n",
       "    </tr>\n",
       "    <tr>\n",
       "      <th>4</th>\n",
       "      <td>-0.621573</td>\n",
       "      <td>-0.464787</td>\n",
       "      <td>-2.093314</td>\n",
       "      <td>-0.659611</td>\n",
       "      <td>-0.248099</td>\n",
       "      <td>-2.138868</td>\n",
       "      <td>1</td>\n",
       "    </tr>\n",
       "    <tr>\n",
       "      <th>...</th>\n",
       "      <td>...</td>\n",
       "      <td>...</td>\n",
       "      <td>...</td>\n",
       "      <td>...</td>\n",
       "      <td>...</td>\n",
       "      <td>...</td>\n",
       "      <td>...</td>\n",
       "    </tr>\n",
       "    <tr>\n",
       "      <th>1004</th>\n",
       "      <td>-0.571948</td>\n",
       "      <td>-0.537758</td>\n",
       "      <td>0.197695</td>\n",
       "      <td>-0.556788</td>\n",
       "      <td>-0.482339</td>\n",
       "      <td>0.614503</td>\n",
       "      <td>0</td>\n",
       "    </tr>\n",
       "    <tr>\n",
       "      <th>1005</th>\n",
       "      <td>-0.179106</td>\n",
       "      <td>-0.300550</td>\n",
       "      <td>-1.837668</td>\n",
       "      <td>-0.164806</td>\n",
       "      <td>-0.609466</td>\n",
       "      <td>-1.672894</td>\n",
       "      <td>0</td>\n",
       "    </tr>\n",
       "    <tr>\n",
       "      <th>1006</th>\n",
       "      <td>0.593050</td>\n",
       "      <td>-0.272964</td>\n",
       "      <td>1.684010</td>\n",
       "      <td>0.648123</td>\n",
       "      <td>-0.440440</td>\n",
       "      <td>1.360518</td>\n",
       "      <td>0</td>\n",
       "    </tr>\n",
       "    <tr>\n",
       "      <th>1007</th>\n",
       "      <td>0.262246</td>\n",
       "      <td>-0.185773</td>\n",
       "      <td>2.095117</td>\n",
       "      <td>0.022808</td>\n",
       "      <td>-0.048830</td>\n",
       "      <td>2.162846</td>\n",
       "      <td>0</td>\n",
       "    </tr>\n",
       "    <tr>\n",
       "      <th>1008</th>\n",
       "      <td>-0.615105</td>\n",
       "      <td>-0.408288</td>\n",
       "      <td>1.976289</td>\n",
       "      <td>-0.323886</td>\n",
       "      <td>-0.413497</td>\n",
       "      <td>2.603360</td>\n",
       "      <td>0</td>\n",
       "    </tr>\n",
       "  </tbody>\n",
       "</table>\n",
       "<p>1009 rows × 7 columns</p>\n",
       "</div>"
      ],
      "text/plain": [
       "         점포수_x  총_직장_인구_수_x  총_생활인구_수_x     점포수_y  총_직장_인구_수_y  총_생활인구_수_y  도심\n",
       "0     1.466482     1.423805   -1.545368  1.082146     0.790915   -1.809769   1\n",
       "1     0.114631     0.317615    0.057226 -0.064296     0.578999   -0.461570   1\n",
       "2     1.623943     3.717765   -0.693512  1.535069     3.628849   -1.462965   1\n",
       "3     0.055405     0.104818   -0.667602 -0.121498    -0.529187   -0.770622   1\n",
       "4    -0.621573    -0.464787   -2.093314 -0.659611    -0.248099   -2.138868   1\n",
       "...        ...          ...         ...       ...          ...         ...  ..\n",
       "1004 -0.571948    -0.537758    0.197695 -0.556788    -0.482339    0.614503   0\n",
       "1005 -0.179106    -0.300550   -1.837668 -0.164806    -0.609466   -1.672894   0\n",
       "1006  0.593050    -0.272964    1.684010  0.648123    -0.440440    1.360518   0\n",
       "1007  0.262246    -0.185773    2.095117  0.022808    -0.048830    2.162846   0\n",
       "1008 -0.615105    -0.408288    1.976289 -0.323886    -0.413497    2.603360   0\n",
       "\n",
       "[1009 rows x 7 columns]"
      ]
     },
     "execution_count": 9,
     "metadata": {},
     "output_type": "execute_result"
    }
   ],
   "source": [
    "x_scale_df['도심'] = x['도심_x']\n",
    "x_scale_df"
   ]
  },
  {
   "cell_type": "markdown",
   "metadata": {},
   "source": [
    "훈련데이터와 검증 데이터로 분할"
   ]
  },
  {
   "cell_type": "code",
   "execution_count": 10,
   "metadata": {},
   "outputs": [
    {
     "data": {
      "text/plain": [
       "((706, 7), (303, 7), (706,), (303,))"
      ]
     },
     "execution_count": 10,
     "metadata": {},
     "output_type": "execute_result"
    }
   ],
   "source": [
    "x_train, x_test, y_train, y_test = train_test_split(x_scale_df, y, test_size=0.3, random_state=777)\n",
    "x_train.shape, x_test.shape, y_train.shape, y_test.shape"
   ]
  },
  {
   "cell_type": "markdown",
   "metadata": {},
   "source": [
    "#### #06. 모델 개발\n",
    "\n",
    "모델 정의"
   ]
  },
  {
   "cell_type": "code",
   "execution_count": 11,
   "metadata": {},
   "outputs": [
    {
     "name": "stdout",
     "output_type": "stream",
     "text": [
      "Model: \"sequential\"\n",
      "_________________________________________________________________\n",
      " Layer (type)                Output Shape              Param #   \n",
      "=================================================================\n",
      " dense (Dense)               (None, 64)                512       \n",
      "                                                                 \n",
      " dense_1 (Dense)             (None, 1)                 65        \n",
      "                                                                 \n",
      "=================================================================\n",
      "Total params: 577 (2.25 KB)\n",
      "Trainable params: 577 (2.25 KB)\n",
      "Non-trainable params: 0 (0.00 Byte)\n",
      "_________________________________________________________________\n"
     ]
    }
   ],
   "source": [
    "model = Sequential()\n",
    "model.add(Dense(64, activation='relu', input_shape=(7, )))\n",
    "model.add(Dense(1, activation='sigmoid'))\n",
    "model.compile(optimizer='rmsprop', loss = 'binary_crossentropy', metrics = ['acc'])\n",
    "model.summary()"
   ]
  },
  {
   "cell_type": "markdown",
   "metadata": {},
   "source": [
    "학습하기"
   ]
  },
  {
   "cell_type": "code",
   "execution_count": 12,
   "metadata": {},
   "outputs": [
    {
     "name": "stdout",
     "output_type": "stream",
     "text": [
      "Epoch 1/500\n",
      "23/23 [==============================] - 1s 8ms/step - loss: 0.6992 - acc: 0.5000 - val_loss: 0.6961 - val_acc: 0.5215 - lr: 0.0010\n",
      "Epoch 2/500\n",
      "23/23 [==============================] - 0s 3ms/step - loss: 0.6879 - acc: 0.5467 - val_loss: 0.6904 - val_acc: 0.5281 - lr: 0.0010\n",
      "Epoch 3/500\n",
      "23/23 [==============================] - 0s 3ms/step - loss: 0.6829 - acc: 0.5793 - val_loss: 0.6899 - val_acc: 0.5479 - lr: 0.0010\n",
      "Epoch 4/500\n",
      "23/23 [==============================] - 0s 4ms/step - loss: 0.6804 - acc: 0.5907 - val_loss: 0.6900 - val_acc: 0.5446 - lr: 0.0010\n",
      "Epoch 5/500\n",
      "23/23 [==============================] - 0s 3ms/step - loss: 0.6792 - acc: 0.5892 - val_loss: 0.6886 - val_acc: 0.5512 - lr: 0.0010\n",
      "Epoch 6/500\n",
      "23/23 [==============================] - 0s 3ms/step - loss: 0.6778 - acc: 0.5822 - val_loss: 0.6867 - val_acc: 0.5677 - lr: 0.0010\n",
      "Epoch 7/500\n",
      "23/23 [==============================] - 0s 3ms/step - loss: 0.6762 - acc: 0.5807 - val_loss: 0.6887 - val_acc: 0.5578 - lr: 0.0010\n",
      "Epoch 8/500\n",
      "23/23 [==============================] - 0s 3ms/step - loss: 0.6751 - acc: 0.5836 - val_loss: 0.6867 - val_acc: 0.5545 - lr: 0.0010\n",
      "Epoch 9/500\n",
      " 1/23 [>.............................] - ETA: 0s - loss: 0.6872 - acc: 0.6250\n",
      "Epoch 9: ReduceLROnPlateau reducing learning rate to 0.0005000000237487257.\n",
      "23/23 [==============================] - 0s 3ms/step - loss: 0.6737 - acc: 0.5765 - val_loss: 0.6880 - val_acc: 0.5512 - lr: 0.0010\n",
      "Epoch 10/500\n",
      "23/23 [==============================] - 0s 3ms/step - loss: 0.6722 - acc: 0.5949 - val_loss: 0.6880 - val_acc: 0.5512 - lr: 5.0000e-04\n",
      "Epoch 11/500\n",
      "23/23 [==============================] - 0s 3ms/step - loss: 0.6718 - acc: 0.5921 - val_loss: 0.6873 - val_acc: 0.5578 - lr: 5.0000e-04\n",
      "Epoch 11: early stopping\n"
     ]
    }
   ],
   "source": [
    "result = model.fit(x_train, y_train, epochs = 500, validation_data = (x_test, y_test), callbacks = [\n",
    "    EarlyStopping(monitor = 'val_loss', patience=5, verbose = 1),\n",
    "    ReduceLROnPlateau(monitor= \"val_loss\", patience=3, factor = 0.5, min_lr=0.0001, verbose=1)\n",
    "])"
   ]
  },
  {
   "cell_type": "markdown",
   "metadata": {},
   "source": [
    "#### #07. 학습결과 평가"
   ]
  },
  {
   "cell_type": "code",
   "execution_count": 13,
   "metadata": {},
   "outputs": [
    {
     "data": {
      "image/png": "[encoded data removed]",
      "text/plain": [
       "<Figure size 2250x750 with 2 Axes>"
      ]
     },
     "metadata": {},
     "output_type": "display_data"
    },
    {
     "name": "stdout",
     "output_type": "stream",
     "text": [
      "23/23 [==============================] - 0s 1ms/step - loss: 0.6702 - acc: 0.6006\n",
      "최종 훈련 손실률: 0.670229, 최종 훈련 정확도: 0.600567\n",
      "10/10 [==============================] - 0s 1000us/step - loss: 0.6873 - acc: 0.5578\n",
      "최종 검증 손실률: 0.687279, 최종 검증 정확도: 0.557756\n"
     ]
    }
   ],
   "source": [
    "helper.tf_result_plot(result)\n",
    "\n",
    "evaluate1 = model.evaluate(x_train, y_train)\n",
    "print(\"최종 훈련 손실률: %f, 최종 훈련 정확도: %f\" % (evaluate1[0], evaluate1[1]))\n",
    "\n",
    "evaluate2 = model.evaluate(x_test, y_test)\n",
    "print(\"최종 검증 손실률: %f, 최종 검증 정확도: %f\" % (evaluate2[0], evaluate2[1]))"
   ]
  },
  {
   "cell_type": "code",
   "execution_count": 14,
   "metadata": {},
   "outputs": [
    {
     "name": "stdout",
     "output_type": "stream",
     "text": [
      "23/23 [==============================] - 0s 864us/step\n",
      "Model: \"sequential\"\n",
      "_________________________________________________________________\n",
      " Layer (type)                Output Shape              Param #   \n",
      "=================================================================\n",
      " dense (Dense)               (None, 64)                512       \n",
      "                                                                 \n",
      " dense_1 (Dense)             (None, 1)                 65        \n",
      "                                                                 \n",
      "=================================================================\n",
      "Total params: 577 (2.25 KB)\n",
      "Trainable params: 577 (2.25 KB)\n",
      "Non-trainable params: 0 (0.00 Byte)\n",
      "_________________________________________________________________\n"
     ]
    }
   ],
   "source": [
    "logit_result = helper.tf_logit_result(model, result, x_train, y_train)"
   ]
  },
  {
   "cell_type": "code",
   "execution_count": 15,
   "metadata": {},
   "outputs": [
    {
     "data": {
      "text/html": [
       "<div>\n",
       "<style scoped>\n",
       "    .dataframe tbody tr th:only-of-type {\n",
       "        vertical-align: middle;\n",
       "    }\n",
       "\n",
       "    .dataframe tbody tr th {\n",
       "        vertical-align: top;\n",
       "    }\n",
       "\n",
       "    .dataframe thead th {\n",
       "        text-align: right;\n",
       "    }\n",
       "</style>\n",
       "<table border=\"1\" class=\"dataframe\">\n",
       "  <thead>\n",
       "    <tr style=\"text-align: right;\">\n",
       "      <th></th>\n",
       "      <th>Negative</th>\n",
       "      <th>Positive</th>\n",
       "    </tr>\n",
       "  </thead>\n",
       "  <tbody>\n",
       "    <tr>\n",
       "      <th>True</th>\n",
       "      <td>367</td>\n",
       "      <td>257</td>\n",
       "    </tr>\n",
       "    <tr>\n",
       "      <th>False</th>\n",
       "      <td>25</td>\n",
       "      <td>57</td>\n",
       "    </tr>\n",
       "  </tbody>\n",
       "</table>\n",
       "</div>"
      ],
      "text/plain": [
       "       Negative  Positive\n",
       "True        367       257\n",
       "False        25        57"
      ]
     },
     "execution_count": 15,
     "metadata": {},
     "output_type": "execute_result"
    }
   ],
   "source": [
    "logit_result.cmdf"
   ]
  },
  {
   "cell_type": "code",
   "execution_count": 16,
   "metadata": {},
   "outputs": [
    {
     "name": "stdout",
     "output_type": "stream",
     "text": [
      "+--------------------------+-----------+\n",
      "|                          |         0 |\n",
      "|--------------------------+-----------|\n",
      "| 정확도(Accuracy)         |  0.600567 |\n",
      "| 정밀도(Precision)        |  0.695122 |\n",
      "| 재현율(Recall, TPR)      |  0.181529 |\n",
      "| 위양성율(Fallout, FPR)   | 0.0637755 |\n",
      "| 특이성(Specificity, TNR) |  0.936224 |\n",
      "| RAS                      |  0.558877 |\n",
      "| f1_score                 |  0.287879 |\n",
      "+--------------------------+-----------+\n"
     ]
    }
   ],
   "source": [
    "helper.prettyPrint(logit_result.result_df.T)"
   ]
  },
  {
   "cell_type": "code",
   "execution_count": null,
   "metadata": {},
   "outputs": [],
   "source": []
  }
 ],
 "metadata": {
  "kernelspec": {
   "display_name": "Python 3",
   "language": "python",
   "name": "python3"
  },
  "language_info": {
   "codemirror_mode": {
    "name": "ipython",
    "version": 3
   },
   "file_extension": ".py",
   "mimetype": "text/x-python",
   "name": "python",
   "nbconvert_exporter": "python",
   "pygments_lexer": "ipython3",
   "version": "3.9.13"
  },
  "orig_nbformat": 4
 },
 "nbformat": 4,
 "nbformat_minor": 2
}
