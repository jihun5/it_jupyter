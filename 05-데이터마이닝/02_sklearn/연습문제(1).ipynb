{
 "cells": [
  {
   "cell_type": "code",
   "execution_count": 1,
   "metadata": {},
   "outputs": [],
   "source": [
    "import sys\n",
    "\n",
    "sys.path.append(\"../../\")\n",
    "import helper\n",
    "\n",
    "import numpy as np\n",
    "import seaborn as sb\n",
    "from pandas import read_excel, DataFrame\n",
    "from matplotlib import pyplot as plt\n",
    "\n",
    "from sklearn.linear_model import LinearRegression\n",
    "from sklearn.model_selection import train_test_split\n",
    "from sklearn.preprocessing import PolynomialFeatures\n",
    "\n",
    "# 성능 측정 지표 모듈\n",
    "from sklearn.metrics import mean_squared_error, r2_score, mean_absolute_error, mean_squared_log_error"
   ]
  },
  {
   "cell_type": "code",
   "execution_count": 3,
   "metadata": {},
   "outputs": [],
   "source": [
    "# 그래프 한글 설정\n",
    "plt.rcParams[\"font.family\"] = 'AppleGothic' if sys.platform == 'darwin' else 'Malgun Gothic'\n",
    "plt.rcParams[\"font.size\"] = 12\n",
    "plt.rcParams[\"figure.figsize\"] = (10, 5)\n",
    "plt.rcParams[\"axes.unicode_minus\"] = False"
   ]
  },
  {
   "cell_type": "code",
   "execution_count": 4,
   "metadata": {},
   "outputs": [
    {
     "data": {
      "text/html": [
       "<div>\n",
       "<style scoped>\n",
       "    .dataframe tbody tr th:only-of-type {\n",
       "        vertical-align: middle;\n",
       "    }\n",
       "\n",
       "    .dataframe tbody tr th {\n",
       "        vertical-align: top;\n",
       "    }\n",
       "\n",
       "    .dataframe thead th {\n",
       "        text-align: right;\n",
       "    }\n",
       "</style>\n",
       "<table border=\"1\" class=\"dataframe\">\n",
       "  <thead>\n",
       "    <tr style=\"text-align: right;\">\n",
       "      <th></th>\n",
       "      <th>수분함유량</th>\n",
       "      <th>강도</th>\n",
       "    </tr>\n",
       "  </thead>\n",
       "  <tbody>\n",
       "    <tr>\n",
       "      <th>0</th>\n",
       "      <td>36</td>\n",
       "      <td>29</td>\n",
       "    </tr>\n",
       "    <tr>\n",
       "      <th>1</th>\n",
       "      <td>40</td>\n",
       "      <td>32</td>\n",
       "    </tr>\n",
       "    <tr>\n",
       "      <th>2</th>\n",
       "      <td>34</td>\n",
       "      <td>29</td>\n",
       "    </tr>\n",
       "    <tr>\n",
       "      <th>3</th>\n",
       "      <td>44</td>\n",
       "      <td>40</td>\n",
       "    </tr>\n",
       "    <tr>\n",
       "      <th>4</th>\n",
       "      <td>33</td>\n",
       "      <td>31</td>\n",
       "    </tr>\n",
       "  </tbody>\n",
       "</table>\n",
       "</div>"
      ],
      "text/plain": [
       "   수분함유량  강도\n",
       "0     36  29\n",
       "1     40  32\n",
       "2     34  29\n",
       "3     44  40\n",
       "4     33  31"
      ]
     },
     "execution_count": 4,
     "metadata": {},
     "output_type": "execute_result"
    }
   ],
   "source": [
    "origin = read_excel(\"https://data.hossam.kr/E04/beans.xlsx\")\n",
    "origin.head()"
   ]
  },
  {
   "cell_type": "code",
   "execution_count": 5,
   "metadata": {},
   "outputs": [
    {
     "name": "stdout",
     "output_type": "stream",
     "text": [
      "<class 'pandas.core.frame.DataFrame'>\n",
      "RangeIndex: 10 entries, 0 to 9\n",
      "Data columns (total 2 columns):\n",
      " #   Column  Non-Null Count  Dtype\n",
      "---  ------  --------------  -----\n",
      " 0   수분함유량   10 non-null     int64\n",
      " 1   강도      10 non-null     int64\n",
      "dtypes: int64(2)\n",
      "memory usage: 292.0 bytes\n"
     ]
    }
   ],
   "source": [
    "origin.info()"
   ]
  },
  {
   "cell_type": "code",
   "execution_count": 9,
   "metadata": {},
   "outputs": [
    {
     "data": {
      "text/plain": [
       "array([[  36., 1296.],\n",
       "       [  40., 1600.],\n",
       "       [  34., 1156.],\n",
       "       [  44., 1936.],\n",
       "       [  33., 1089.],\n",
       "       [  36., 1296.],\n",
       "       [  40., 1600.],\n",
       "       [  33., 1089.],\n",
       "       [  26.,  676.],\n",
       "       [  36., 1296.]])"
      ]
     },
     "execution_count": 9,
     "metadata": {},
     "output_type": "execute_result"
    }
   ],
   "source": [
    "poly = PolynomialFeatures(include_bias=False)\n",
    "fit = poly.fit_transform(origin[['수분함유량']])\n",
    "fit"
   ]
  },
  {
   "cell_type": "code",
   "execution_count": 10,
   "metadata": {},
   "outputs": [
    {
     "data": {
      "text/plain": [
       "array(['수분함유량', '수분함유량^2'], dtype=object)"
      ]
     },
     "execution_count": 10,
     "metadata": {},
     "output_type": "execute_result"
    }
   ],
   "source": [
    "poly.get_feature_names_out()"
   ]
  },
  {
   "cell_type": "code",
   "execution_count": 11,
   "metadata": {},
   "outputs": [
    {
     "data": {
      "text/html": [
       "<div>\n",
       "<style scoped>\n",
       "    .dataframe tbody tr th:only-of-type {\n",
       "        vertical-align: middle;\n",
       "    }\n",
       "\n",
       "    .dataframe tbody tr th {\n",
       "        vertical-align: top;\n",
       "    }\n",
       "\n",
       "    .dataframe thead th {\n",
       "        text-align: right;\n",
       "    }\n",
       "</style>\n",
       "<table border=\"1\" class=\"dataframe\">\n",
       "  <thead>\n",
       "    <tr style=\"text-align: right;\">\n",
       "      <th></th>\n",
       "      <th>수분함유량</th>\n",
       "      <th>수분함유량^2</th>\n",
       "    </tr>\n",
       "  </thead>\n",
       "  <tbody>\n",
       "    <tr>\n",
       "      <th>0</th>\n",
       "      <td>36.0</td>\n",
       "      <td>1296.0</td>\n",
       "    </tr>\n",
       "    <tr>\n",
       "      <th>1</th>\n",
       "      <td>40.0</td>\n",
       "      <td>1600.0</td>\n",
       "    </tr>\n",
       "    <tr>\n",
       "      <th>2</th>\n",
       "      <td>34.0</td>\n",
       "      <td>1156.0</td>\n",
       "    </tr>\n",
       "    <tr>\n",
       "      <th>3</th>\n",
       "      <td>44.0</td>\n",
       "      <td>1936.0</td>\n",
       "    </tr>\n",
       "    <tr>\n",
       "      <th>4</th>\n",
       "      <td>33.0</td>\n",
       "      <td>1089.0</td>\n",
       "    </tr>\n",
       "  </tbody>\n",
       "</table>\n",
       "</div>"
      ],
      "text/plain": [
       "   수분함유량  수분함유량^2\n",
       "0   36.0   1296.0\n",
       "1   40.0   1600.0\n",
       "2   34.0   1156.0\n",
       "3   44.0   1936.0\n",
       "4   33.0   1089.0"
      ]
     },
     "execution_count": 11,
     "metadata": {},
     "output_type": "execute_result"
    }
   ],
   "source": [
    "x = DataFrame(fit, columns=poly.get_feature_names_out())\n",
    "x.head()"
   ]
  },
  {
   "cell_type": "code",
   "execution_count": 12,
   "metadata": {},
   "outputs": [
    {
     "data": {
      "text/html": [
       "<div>\n",
       "<style scoped>\n",
       "    .dataframe tbody tr th:only-of-type {\n",
       "        vertical-align: middle;\n",
       "    }\n",
       "\n",
       "    .dataframe tbody tr th {\n",
       "        vertical-align: top;\n",
       "    }\n",
       "\n",
       "    .dataframe thead th {\n",
       "        text-align: right;\n",
       "    }\n",
       "</style>\n",
       "<table border=\"1\" class=\"dataframe\">\n",
       "  <thead>\n",
       "    <tr style=\"text-align: right;\">\n",
       "      <th></th>\n",
       "      <th>강도</th>\n",
       "    </tr>\n",
       "  </thead>\n",
       "  <tbody>\n",
       "    <tr>\n",
       "      <th>0</th>\n",
       "      <td>29</td>\n",
       "    </tr>\n",
       "    <tr>\n",
       "      <th>1</th>\n",
       "      <td>32</td>\n",
       "    </tr>\n",
       "    <tr>\n",
       "      <th>2</th>\n",
       "      <td>29</td>\n",
       "    </tr>\n",
       "    <tr>\n",
       "      <th>3</th>\n",
       "      <td>40</td>\n",
       "    </tr>\n",
       "    <tr>\n",
       "      <th>4</th>\n",
       "      <td>31</td>\n",
       "    </tr>\n",
       "  </tbody>\n",
       "</table>\n",
       "</div>"
      ],
      "text/plain": [
       "   강도\n",
       "0  29\n",
       "1  32\n",
       "2  29\n",
       "3  40\n",
       "4  31"
      ]
     },
     "execution_count": 12,
     "metadata": {},
     "output_type": "execute_result"
    }
   ],
   "source": [
    "y = origin[['강도']]\n",
    "y.head()"
   ]
  },
  {
   "cell_type": "code",
   "execution_count": 13,
   "metadata": {},
   "outputs": [
    {
     "data": {
      "text/plain": [
       "((7, 2), (7, 1))"
      ]
     },
     "execution_count": 13,
     "metadata": {},
     "output_type": "execute_result"
    }
   ],
   "source": [
    "x_train, x_test, y_train, y_test = train_test_split(x, y, test_size=0.3, shuffle=True, random_state=42)\n",
    "x_train.shape, y_train.shape"
   ]
  },
  {
   "cell_type": "code",
   "execution_count": 14,
   "metadata": {},
   "outputs": [
    {
     "name": "stdout",
     "output_type": "stream",
     "text": [
      "계수:  [[-7.68421429  0.11174983]]\n",
      "절편:  [161.96884839]\n",
      "훈련 데이터 설명력:  0.9555214819362577\n",
      "검증 데이터 설명력:  -5.696101923912336\n"
     ]
    }
   ],
   "source": [
    "model = LinearRegression()\n",
    "fit = model.fit(x_train, y_train)\n",
    "\n",
    "print(\"계수: \", fit.coef_)\n",
    "print(\"절편: \", fit.intercept_)\n",
    "print(\"훈련 데이터 설명력: \", fit.score(x_train, y_train))\n",
    "print(\"검증 데이터 설명력: \", fit.score(x_test, y_test))"
   ]
  },
  {
   "cell_type": "code",
   "execution_count": 15,
   "metadata": {},
   "outputs": [
    {
     "data": {
      "text/plain": [
       "array([30.16491747, 30.08534491, 29.88836943, 30.16491747, 30.08534491,\n",
       "       40.21109627, 33.40000954])"
      ]
     },
     "execution_count": 15,
     "metadata": {},
     "output_type": "execute_result"
    }
   ],
   "source": [
    "y_train_pred = fit.predict(x_train)\n",
    "y_train_pred = y_train_pred.reshape(-1)\n",
    "y_train_pred"
   ]
  },
  {
   "cell_type": "code",
   "execution_count": 16,
   "metadata": {},
   "outputs": [
    {
     "data": {
      "text/plain": [
       "array([37.72216392, 33.40000954, 30.16491747])"
      ]
     },
     "execution_count": 16,
     "metadata": {},
     "output_type": "execute_result"
    }
   ],
   "source": [
    "y_test_pred = fit.predict(x_test)\n",
    "y_test_pred = y_test_pred.reshape(-1)\n",
    "y_test_pred"
   ]
  },
  {
   "cell_type": "code",
   "execution_count": 19,
   "metadata": {},
   "outputs": [
    {
     "data": {
      "text/plain": [
       "Index(['수분함유량', '수분함유량^2'], dtype='object')"
      ]
     },
     "execution_count": 19,
     "metadata": {},
     "output_type": "execute_result"
    }
   ],
   "source": [
    "x_train.columns"
   ]
  },
  {
   "cell_type": "code",
   "execution_count": 20,
   "metadata": {},
   "outputs": [
    {
     "data": {
      "text/plain": [
       "Index(['수분함유량', '수분함유량^2'], dtype='object')"
      ]
     },
     "execution_count": 20,
     "metadata": {},
     "output_type": "execute_result"
    }
   ],
   "source": [
    "x_test.columns"
   ]
  },
  {
   "cell_type": "code",
   "execution_count": 21,
   "metadata": {},
   "outputs": [
    {
     "data": {
      "image/png": "[encoded data removed]",
      "text/plain": [
       "<Figure size 1500x500 with 2 Axes>"
      ]
     },
     "metadata": {},
     "output_type": "display_data"
    }
   ],
   "source": [
    "fig, (ax1, ax2) = plt.subplots(1, 2, figsize=(15, 5))\n",
    "\n",
    "# 학습에 사용한 데이터와 예측값의 차이를 시각화\n",
    "sb.scatterplot(x=x_train['수분함유량'], y=y_train['강도'], label='train data', ax=ax1)\n",
    "sb.scatterplot(x=x_train['수분함유량'], y=y_train_pred, label='train predict', ax=ax1)\n",
    "\n",
    "# 그래프가 그려진 범위 안에서 1씩 증가하는 좌표를 생성\n",
    "xmin, xmax = ax1.get_xlim()\n",
    "xrange = np.arange(xmin.round(), xmax.round(), 1)\n",
    "# y값에 대한 추정치를 계산\n",
    "y_pred = xrange * fit.coef_[0][0] + xrange**2 * fit.coef_[0][1] + fit.intercept_[0]\n",
    "\n",
    "# 추세선\n",
    "sb.lineplot(x=xrange, y=y_pred, color='red', ax=ax1)\n",
    "\n",
    "ax1.set_title(\"훈련 데이터\")\n",
    "ax1.legend()\n",
    "ax1.grid()\n",
    "\n",
    "\n",
    "# 검증용 데이터와 예측값의 차이를 시각화\n",
    "sb.scatterplot(x=x_test['수분함유량'], y=y_test['강도'], label='test data', ax=ax2)\n",
    "sb.scatterplot(x=x_test['수분함유량'], y=y_test_pred, label='test predict', ax=ax2)\n",
    "\n",
    "# 그래프가 그려진 범위 안에서 1씩 증가하는 좌표를 생성\n",
    "xmin, xmax = ax2.get_xlim()\n",
    "xrange = np.arange(xmin.round(), xmax.round(), 1)\n",
    "\n",
    "# y값에 대한 추정치를 계산\n",
    "y_pred = xrange * fit.coef_[0][0] + xrange**2 * fit.coef_[0][1] + fit.intercept_[0]\n",
    "\n",
    "# 추세선\n",
    "sb.lineplot(x=xrange, y=y_pred, color='red', ax=ax2)\n",
    "\n",
    "ax2.set_title(\"검증 데이터\")\n",
    "ax2.legend()\n",
    "ax2.grid()\n",
    "\n",
    "plt.show()\n",
    "plt.close()"
   ]
  },
  {
   "cell_type": "code",
   "execution_count": 22,
   "metadata": {},
   "outputs": [
    {
     "name": "stdout",
     "output_type": "stream",
     "text": [
      "훈련 데이터 설명력:  0.9555214819362577\n",
      "검증 데이터 설명력:  -5.696101923912336\n"
     ]
    }
   ],
   "source": [
    "print(\"훈련 데이터 설명력: \", fit.score(x_train, y_train))\n",
    "print(\"검증 데이터 설명력: \", fit.score(x_test, y_test))"
   ]
  },
  {
   "cell_type": "code",
   "execution_count": 23,
   "metadata": {},
   "outputs": [
    {
     "name": "stdout",
     "output_type": "stream",
     "text": [
      "훈련데이터 설명력 : 0.9555214819362577\n",
      "검증데이터 설명력 : -5.696101923912336\n"
     ]
    }
   ],
   "source": [
    "print(\"훈련데이터 설명력 :\", r2_score(y_train, y_train_pred))\n",
    "print(\"검증데이터 설명력 :\",r2_score(y_test, y_test_pred))"
   ]
  },
  {
   "cell_type": "code",
   "execution_count": 24,
   "metadata": {},
   "outputs": [
    {
     "name": "stdout",
     "output_type": "stream",
     "text": [
      "훈련데이터 MAE : 0.6713508798233505\n",
      "검증데이터 MAE : 5.095696975479446\n"
     ]
    }
   ],
   "source": [
    "print(\"훈련데이터 MAE :\", mean_absolute_error(y_train, y_train_pred))\n",
    "print(\"검증데이터 MAE :\",mean_absolute_error(y_test, y_test_pred))"
   ]
  },
  {
   "cell_type": "code",
   "execution_count": 25,
   "metadata": {},
   "outputs": [
    {
     "name": "stdout",
     "output_type": "stream",
     "text": [
      "훈련데이터 MSE : 0.5845748088377553\n",
      "검증데이터 MSE : 55.056838041056984\n"
     ]
    }
   ],
   "source": [
    "print(\"훈련데이터 MSE :\", mean_squared_error(y_train, y_train_pred))\n",
    "print(\"검증데이터 MSE :\",mean_squared_error(y_test, y_test_pred))\n",
    "# 제곱근을 구해서 RMAE값을 구하는 것이 일반적"
   ]
  },
  {
   "cell_type": "code",
   "execution_count": 26,
   "metadata": {},
   "outputs": [
    {
     "name": "stdout",
     "output_type": "stream",
     "text": [
      "훈련데이터 RMSE : 0.764574920356243\n",
      "검증데이터 RMSE : 7.420029517532729\n"
     ]
    }
   ],
   "source": [
    "print(\"훈련데이터 RMSE :\", np.sqrt(mean_squared_error(y_train, y_train_pred)))\n",
    "print(\"검증데이터 RMSE :\", np.sqrt(mean_squared_error(y_test, y_test_pred)))"
   ]
  },
  {
   "cell_type": "code",
   "execution_count": 27,
   "metadata": {},
   "outputs": [
    {
     "name": "stdout",
     "output_type": "stream",
     "text": [
      "훈련 데이터 MAPE:  10.523789771998016\n",
      "검증 데이터 MAPE:  20.267291049558413\n"
     ]
    }
   ],
   "source": [
    "# API로 제공되는 기능이 아니고, 직접 계산해야 하기 때문에 관측치와 예측치의 데이터 타입이 일치해야 한다.\n",
    "# -> numpy 배열 혹은 Series 타입으로 통일해야 한다.\n",
    "print(\"훈련 데이터 MAPE: \", np.mean(np.abs((y_train.values - y_train_pred) / y_train.values)) * 100)\n",
    "print(\"검증 데이터 MAPE: \", np.mean(np.abs((y_test.values - y_test_pred) / y_test.values)) * 100)"
   ]
  },
  {
   "cell_type": "code",
   "execution_count": 28,
   "metadata": {},
   "outputs": [
    {
     "name": "stdout",
     "output_type": "stream",
     "text": [
      "훈련 데이터 MPE:  -1.1322259715899774\n",
      "검증 데이터 MPE:  -18.992928181299444\n"
     ]
    }
   ],
   "source": [
    "# API로 제공되는 기능이 아니고, 직접 계산해야 하기 때문에 관측치와 예측치의 데이터 타입이 일치해야 한다.\n",
    "# -> numpy 배열 혹은 Series 타입으로 통일해야 한다.\n",
    "print(\"훈련 데이터 MPE: \", np.mean((y_train.values - y_train_pred) / y_train.values) * 100)\n",
    "print(\"검증 데이터 MPE: \", np.mean((y_test.values - y_test_pred) / y_test.values) * 100)"
   ]
  },
  {
   "cell_type": "code",
   "execution_count": 31,
   "metadata": {},
   "outputs": [
    {
     "data": {
      "text/plain": [
       "Index(['수분함유량', '강도'], dtype='object')"
      ]
     },
     "execution_count": 31,
     "metadata": {},
     "output_type": "execute_result"
    }
   ],
   "source": [
    "origin.columns"
   ]
  },
  {
   "cell_type": "code",
   "execution_count": 32,
   "metadata": {},
   "outputs": [
    {
     "name": "stdout",
     "output_type": "stream",
     "text": [
      "계수: [[-7.68421429  0.11174983]]\n",
      "절편: [161.96884839]\n"
     ]
    }
   ],
   "source": [
    "olsResult = helper.ml_ols(origin, xnames='수분함유량', yname='강도', degree=2, test_size=0.3, random_state=42)\n",
    "print(\"계수:\", olsResult.coef)\n",
    "print(\"절편:\", olsResult.intercept)"
   ]
  },
  {
   "cell_type": "code",
   "execution_count": 33,
   "metadata": {},
   "outputs": [
    {
     "name": "stdout",
     "output_type": "stream",
     "text": [
      "R^2:  0.9555214819362577\n",
      "MAE:  0.6713508798233505\n",
      "MSE:  0.5845748088377553\n",
      "RMSE:  0.764574920356243\n",
      "MAPE:  2.1859308695700297\n",
      "MPE:  -0.06907580526530054\n"
     ]
    }
   ],
   "source": [
    "print(\"R^2: \", olsResult.trainRegMetric.r2)\n",
    "print(\"MAE: \", olsResult.trainRegMetric.mae)\n",
    "print(\"MSE: \", olsResult.trainRegMetric.mse)\n",
    "print(\"RMSE: \", olsResult.trainRegMetric.rmse)\n",
    "print(\"MAPE: \", olsResult.trainRegMetric.mape)\n",
    "print(\"MPE: \", olsResult.trainRegMetric.mpe)"
   ]
  },
  {
   "cell_type": "code",
   "execution_count": 34,
   "metadata": {},
   "outputs": [
    {
     "name": "stdout",
     "output_type": "stream",
     "text": [
      "R^2:  -5.696101923912336\n",
      "MAE:  5.095696975479446\n",
      "MSE:  55.056838041056984\n",
      "RMSE:  7.420029517532729\n",
      "MAPE:  19.760214090192786\n",
      "MPE:  -19.760214090192786\n"
     ]
    }
   ],
   "source": [
    "print(\"R^2: \", olsResult.testRegMetric.r2)\n",
    "print(\"MAE: \", olsResult.testRegMetric.mae)\n",
    "print(\"MSE: \", olsResult.testRegMetric.mse)\n",
    "print(\"RMSE: \", olsResult.testRegMetric.rmse)\n",
    "print(\"MAPE: \", olsResult.testRegMetric.mape)\n",
    "print(\"MPE: \", olsResult.testRegMetric.mpe)"
   ]
  },
  {
   "cell_type": "code",
   "execution_count": 35,
   "metadata": {},
   "outputs": [
    {
     "data": {
      "text/html": [
       "<div>\n",
       "<style scoped>\n",
       "    .dataframe tbody tr th:only-of-type {\n",
       "        vertical-align: middle;\n",
       "    }\n",
       "\n",
       "    .dataframe tbody tr th {\n",
       "        vertical-align: top;\n",
       "    }\n",
       "\n",
       "    .dataframe thead th {\n",
       "        text-align: right;\n",
       "    }\n",
       "</style>\n",
       "<table border=\"1\" class=\"dataframe\">\n",
       "  <thead>\n",
       "    <tr style=\"text-align: right;\">\n",
       "      <th></th>\n",
       "      <th>예약대수</th>\n",
       "      <th>판매대수</th>\n",
       "    </tr>\n",
       "  </thead>\n",
       "  <tbody>\n",
       "    <tr>\n",
       "      <th>0</th>\n",
       "      <td>19</td>\n",
       "      <td>33</td>\n",
       "    </tr>\n",
       "    <tr>\n",
       "      <th>1</th>\n",
       "      <td>23</td>\n",
       "      <td>51</td>\n",
       "    </tr>\n",
       "    <tr>\n",
       "      <th>2</th>\n",
       "      <td>26</td>\n",
       "      <td>40</td>\n",
       "    </tr>\n",
       "    <tr>\n",
       "      <th>3</th>\n",
       "      <td>29</td>\n",
       "      <td>49</td>\n",
       "    </tr>\n",
       "    <tr>\n",
       "      <th>4</th>\n",
       "      <td>30</td>\n",
       "      <td>50</td>\n",
       "    </tr>\n",
       "  </tbody>\n",
       "</table>\n",
       "</div>"
      ],
      "text/plain": [
       "   예약대수  판매대수\n",
       "0    19    33\n",
       "1    23    51\n",
       "2    26    40\n",
       "3    29    49\n",
       "4    30    50"
      ]
     },
     "execution_count": 35,
     "metadata": {},
     "output_type": "execute_result"
    }
   ],
   "source": [
    "origin = read_excel(\"https://data.hossam.kr/E04/aircon.xlsx\")\n",
    "origin.head()"
   ]
  },
  {
   "cell_type": "code",
   "execution_count": 37,
   "metadata": {},
   "outputs": [
    {
     "data": {
      "text/plain": [
       "array([[  19.,  361.],\n",
       "       [  23.,  529.],\n",
       "       [  26.,  676.],\n",
       "       [  29.,  841.],\n",
       "       [  30.,  900.],\n",
       "       [  38., 1444.],\n",
       "       [  39., 1521.],\n",
       "       [  46., 2116.],\n",
       "       [  49., 2401.],\n",
       "       [  58., 3364.]])"
      ]
     },
     "execution_count": 37,
     "metadata": {},
     "output_type": "execute_result"
    }
   ],
   "source": [
    "poly = PolynomialFeatures(include_bias=False)\n",
    "fit = poly.fit_transform(origin[['예약대수']])\n",
    "fit"
   ]
  },
  {
   "cell_type": "code",
   "execution_count": 38,
   "metadata": {},
   "outputs": [
    {
     "data": {
      "text/html": [
       "<div>\n",
       "<style scoped>\n",
       "    .dataframe tbody tr th:only-of-type {\n",
       "        vertical-align: middle;\n",
       "    }\n",
       "\n",
       "    .dataframe tbody tr th {\n",
       "        vertical-align: top;\n",
       "    }\n",
       "\n",
       "    .dataframe thead th {\n",
       "        text-align: right;\n",
       "    }\n",
       "</style>\n",
       "<table border=\"1\" class=\"dataframe\">\n",
       "  <thead>\n",
       "    <tr style=\"text-align: right;\">\n",
       "      <th></th>\n",
       "      <th>예약대수</th>\n",
       "      <th>예약대수^2</th>\n",
       "    </tr>\n",
       "  </thead>\n",
       "  <tbody>\n",
       "    <tr>\n",
       "      <th>0</th>\n",
       "      <td>19.0</td>\n",
       "      <td>361.0</td>\n",
       "    </tr>\n",
       "    <tr>\n",
       "      <th>1</th>\n",
       "      <td>23.0</td>\n",
       "      <td>529.0</td>\n",
       "    </tr>\n",
       "    <tr>\n",
       "      <th>2</th>\n",
       "      <td>26.0</td>\n",
       "      <td>676.0</td>\n",
       "    </tr>\n",
       "    <tr>\n",
       "      <th>3</th>\n",
       "      <td>29.0</td>\n",
       "      <td>841.0</td>\n",
       "    </tr>\n",
       "    <tr>\n",
       "      <th>4</th>\n",
       "      <td>30.0</td>\n",
       "      <td>900.0</td>\n",
       "    </tr>\n",
       "  </tbody>\n",
       "</table>\n",
       "</div>"
      ],
      "text/plain": [
       "   예약대수  예약대수^2\n",
       "0  19.0   361.0\n",
       "1  23.0   529.0\n",
       "2  26.0   676.0\n",
       "3  29.0   841.0\n",
       "4  30.0   900.0"
      ]
     },
     "execution_count": 38,
     "metadata": {},
     "output_type": "execute_result"
    }
   ],
   "source": [
    "x = DataFrame(fit, columns=poly.get_feature_names_out())\n",
    "x.head()"
   ]
  },
  {
   "cell_type": "code",
   "execution_count": 39,
   "metadata": {},
   "outputs": [
    {
     "data": {
      "text/html": [
       "<div>\n",
       "<style scoped>\n",
       "    .dataframe tbody tr th:only-of-type {\n",
       "        vertical-align: middle;\n",
       "    }\n",
       "\n",
       "    .dataframe tbody tr th {\n",
       "        vertical-align: top;\n",
       "    }\n",
       "\n",
       "    .dataframe thead th {\n",
       "        text-align: right;\n",
       "    }\n",
       "</style>\n",
       "<table border=\"1\" class=\"dataframe\">\n",
       "  <thead>\n",
       "    <tr style=\"text-align: right;\">\n",
       "      <th></th>\n",
       "      <th>판매대수</th>\n",
       "    </tr>\n",
       "  </thead>\n",
       "  <tbody>\n",
       "    <tr>\n",
       "      <th>0</th>\n",
       "      <td>33</td>\n",
       "    </tr>\n",
       "    <tr>\n",
       "      <th>1</th>\n",
       "      <td>51</td>\n",
       "    </tr>\n",
       "    <tr>\n",
       "      <th>2</th>\n",
       "      <td>40</td>\n",
       "    </tr>\n",
       "    <tr>\n",
       "      <th>3</th>\n",
       "      <td>49</td>\n",
       "    </tr>\n",
       "    <tr>\n",
       "      <th>4</th>\n",
       "      <td>50</td>\n",
       "    </tr>\n",
       "  </tbody>\n",
       "</table>\n",
       "</div>"
      ],
      "text/plain": [
       "   판매대수\n",
       "0    33\n",
       "1    51\n",
       "2    40\n",
       "3    49\n",
       "4    50"
      ]
     },
     "execution_count": 39,
     "metadata": {},
     "output_type": "execute_result"
    }
   ],
   "source": [
    "y = origin[['판매대수']]\n",
    "y.head()"
   ]
  },
  {
   "cell_type": "code",
   "execution_count": 40,
   "metadata": {},
   "outputs": [
    {
     "data": {
      "text/plain": [
       "((7, 2), (7, 1))"
      ]
     },
     "execution_count": 40,
     "metadata": {},
     "output_type": "execute_result"
    }
   ],
   "source": [
    "x_train, x_test, y_train, y_test = train_test_split(x, y, test_size=0.3, shuffle=True, random_state=42)\n",
    "x_train.shape, y_train.shape"
   ]
  },
  {
   "cell_type": "code",
   "execution_count": 41,
   "metadata": {},
   "outputs": [
    {
     "name": "stdout",
     "output_type": "stream",
     "text": [
      "계수:  [[0.98368153 0.00780905]]\n",
      "절편:  [12.0951396]\n",
      "훈련 데이터 설명력:  0.9384027793119889\n",
      "검증 데이터 설명력:  0.564467460903779\n"
     ]
    }
   ],
   "source": [
    "model = LinearRegression()\n",
    "fit = model.fit(x_train, y_train)\n",
    "\n",
    "print(\"계수: \", fit.coef_)\n",
    "print(\"절편: \", fit.intercept_)\n",
    "print(\"훈련 데이터 설명력: \", fit.score(x_train, y_train))\n",
    "print(\"검증 데이터 설명력: \", fit.score(x_test, y_test))"
   ]
  },
  {
   "cell_type": "code",
   "execution_count": 42,
   "metadata": {},
   "outputs": [
    {
     "data": {
      "text/plain": [
       "array([33.60415519, 73.8684365 , 42.94977617, 95.41830728, 48.63372914,\n",
       "       47.18931375, 62.33628198])"
      ]
     },
     "execution_count": 42,
     "metadata": {},
     "output_type": "execute_result"
    }
   ],
   "source": [
    "y_train_pred = fit.predict(x_train)\n",
    "y_train_pred = y_train_pred.reshape(-1)\n",
    "y_train_pred"
   ]
  },
  {
   "cell_type": "code",
   "execution_count": 43,
   "metadata": {},
   "outputs": [
    {
     "data": {
      "text/plain": [
       "array([79.04505989, 38.85080145, 60.75130372])"
      ]
     },
     "execution_count": 43,
     "metadata": {},
     "output_type": "execute_result"
    }
   ],
   "source": [
    "y_test_pred = fit.predict(x_test)\n",
    "y_test_pred = y_test_pred.reshape(-1)\n",
    "y_test_pred"
   ]
  },
  {
   "cell_type": "code",
   "execution_count": 44,
   "metadata": {},
   "outputs": [
    {
     "data": {
      "image/png": "[encoded data removed]",
      "text/plain": [
       "<Figure size 1500x500 with 2 Axes>"
      ]
     },
     "metadata": {},
     "output_type": "display_data"
    }
   ],
   "source": [
    "fig, (ax1, ax2) = plt.subplots(1, 2, figsize=(15, 5))\n",
    "\n",
    "# 학습에 사용한 데이터와 예측값의 차이를 시각화\n",
    "sb.scatterplot(x=x_train['예약대수'], y=y_train['판매대수'], label='train data', ax=ax1)\n",
    "sb.scatterplot(x=x_train['예약대수'], y=y_train_pred, label='train predict', ax=ax1)\n",
    "\n",
    "# 그래프가 그려진 범위 안에서 1씩 증가하는 좌표를 생성\n",
    "xmin, xmax = ax1.get_xlim()\n",
    "xrange = np.arange(xmin.round(), xmax.round(), 1)\n",
    "# y값에 대한 추정치를 계산\n",
    "y_pred = xrange * fit.coef_[0][0] + xrange**2 * fit.coef_[0][1] + fit.intercept_[0]\n",
    "\n",
    "# 추세선\n",
    "sb.lineplot(x=xrange, y=y_pred, color='red', ax=ax1)\n",
    "\n",
    "ax1.set_title(\"훈련 데이터\")\n",
    "ax1.legend()\n",
    "ax1.grid()\n",
    "\n",
    "\n",
    "# 검증용 데이터와 예측값의 차이를 시각화\n",
    "sb.scatterplot(x=x_test['예약대수'], y=y_test['판매대수'], label='test data', ax=ax2)\n",
    "sb.scatterplot(x=x_test['예약대수'], y=y_test_pred, label='test predict', ax=ax2)\n",
    "\n",
    "# 그래프가 그려진 범위 안에서 1씩 증가하는 좌표를 생성\n",
    "xmin, xmax = ax2.get_xlim()\n",
    "xrange = np.arange(xmin.round(), xmax.round(), 1)\n",
    "\n",
    "# y값에 대한 추정치를 계산\n",
    "y_pred = xrange * fit.coef_[0][0] + xrange**2 * fit.coef_[0][1] + fit.intercept_[0]\n",
    "\n",
    "# 추세선\n",
    "sb.lineplot(x=xrange, y=y_pred, color='red', ax=ax2)\n",
    "\n",
    "ax2.set_title(\"검증 데이터\")\n",
    "ax2.legend()\n",
    "ax2.grid()\n",
    "\n",
    "plt.show()\n",
    "plt.close()"
   ]
  },
  {
   "cell_type": "code",
   "execution_count": 45,
   "metadata": {},
   "outputs": [
    {
     "name": "stdout",
     "output_type": "stream",
     "text": [
      "계수: [[0.98368153 0.00780905]]\n",
      "절편: [12.0951396]\n"
     ]
    }
   ],
   "source": [
    "olsResult = helper.ml_ols(origin, xnames='예약대수', yname='판매대수', degree=2, test_size=0.3, random_state=42)\n",
    "print(\"계수:\", olsResult.coef)\n",
    "print(\"절편:\", olsResult.intercept)"
   ]
  },
  {
   "cell_type": "code",
   "execution_count": 46,
   "metadata": {},
   "outputs": [
    {
     "name": "stdout",
     "output_type": "stream",
     "text": [
      "R^2:  0.9384027793119889\n",
      "MAE:  3.8349622453885934\n",
      "MSE:  25.2850305493603\n",
      "RMSE:  5.028422272379309\n",
      "MAPE:  6.376430640300557\n",
      "MPE:  -0.6591824339459996\n"
     ]
    }
   ],
   "source": [
    "print(\"R^2: \", olsResult.trainRegMetric.r2)\n",
    "print(\"MAE: \", olsResult.trainRegMetric.mae)\n",
    "print(\"MSE: \", olsResult.trainRegMetric.mse)\n",
    "print(\"RMSE: \", olsResult.trainRegMetric.rmse)\n",
    "print(\"MAPE: \", olsResult.trainRegMetric.mape)\n",
    "print(\"MPE: \", olsResult.trainRegMetric.mpe)"
   ]
  },
  {
   "cell_type": "code",
   "execution_count": 47,
   "metadata": {},
   "outputs": [
    {
     "name": "stdout",
     "output_type": "stream",
     "text": [
      "R^2:  0.564467460903779\n",
      "MAE:  10.117611645831923\n",
      "MSE:  104.91494941784525\n",
      "RMSE:  10.242799881763055\n",
      "MAPE:  15.653972063430166\n",
      "MPE:  15.653972063430166\n"
     ]
    }
   ],
   "source": [
    "print(\"R^2: \", olsResult.testRegMetric.r2)\n",
    "print(\"MAE: \", olsResult.testRegMetric.mae)\n",
    "print(\"MSE: \", olsResult.testRegMetric.mse)\n",
    "print(\"RMSE: \", olsResult.testRegMetric.rmse)\n",
    "print(\"MAPE: \", olsResult.testRegMetric.mape)\n",
    "print(\"MPE: \", olsResult.testRegMetric.mpe)"
   ]
  },
  {
   "cell_type": "code",
   "execution_count": 48,
   "metadata": {},
   "outputs": [
    {
     "data": {
      "text/html": [
       "<div>\n",
       "<style scoped>\n",
       "    .dataframe tbody tr th:only-of-type {\n",
       "        vertical-align: middle;\n",
       "    }\n",
       "\n",
       "    .dataframe tbody tr th {\n",
       "        vertical-align: top;\n",
       "    }\n",
       "\n",
       "    .dataframe thead th {\n",
       "        text-align: right;\n",
       "    }\n",
       "</style>\n",
       "<table border=\"1\" class=\"dataframe\">\n",
       "  <thead>\n",
       "    <tr style=\"text-align: right;\">\n",
       "      <th></th>\n",
       "      <th>child</th>\n",
       "      <th>parent</th>\n",
       "    </tr>\n",
       "  </thead>\n",
       "  <tbody>\n",
       "    <tr>\n",
       "      <th>0</th>\n",
       "      <td>61.7</td>\n",
       "      <td>70.5</td>\n",
       "    </tr>\n",
       "    <tr>\n",
       "      <th>1</th>\n",
       "      <td>61.7</td>\n",
       "      <td>68.5</td>\n",
       "    </tr>\n",
       "    <tr>\n",
       "      <th>2</th>\n",
       "      <td>61.7</td>\n",
       "      <td>65.5</td>\n",
       "    </tr>\n",
       "    <tr>\n",
       "      <th>3</th>\n",
       "      <td>61.7</td>\n",
       "      <td>64.5</td>\n",
       "    </tr>\n",
       "    <tr>\n",
       "      <th>4</th>\n",
       "      <td>61.7</td>\n",
       "      <td>64.0</td>\n",
       "    </tr>\n",
       "  </tbody>\n",
       "</table>\n",
       "</div>"
      ],
      "text/plain": [
       "   child  parent\n",
       "0   61.7    70.5\n",
       "1   61.7    68.5\n",
       "2   61.7    65.5\n",
       "3   61.7    64.5\n",
       "4   61.7    64.0"
      ]
     },
     "execution_count": 48,
     "metadata": {},
     "output_type": "execute_result"
    }
   ],
   "source": [
    "origin = read_excel(\"https://data.hossam.kr/E04/galton.xlsx\")\n",
    "origin.head()"
   ]
  },
  {
   "cell_type": "code",
   "execution_count": 49,
   "metadata": {},
   "outputs": [
    {
     "data": {
      "text/plain": [
       "array([[  70.5 , 4970.25],\n",
       "       [  68.5 , 4692.25],\n",
       "       [  65.5 , 4290.25],\n",
       "       ...,\n",
       "       [  69.5 , 4830.25],\n",
       "       [  69.5 , 4830.25],\n",
       "       [  69.5 , 4830.25]])"
      ]
     },
     "execution_count": 49,
     "metadata": {},
     "output_type": "execute_result"
    }
   ],
   "source": [
    "poly = PolynomialFeatures(include_bias=False)\n",
    "fit = poly.fit_transform(origin[['parent']])\n",
    "fit"
   ]
  },
  {
   "cell_type": "code",
   "execution_count": 50,
   "metadata": {},
   "outputs": [
    {
     "data": {
      "text/html": [
       "<div>\n",
       "<style scoped>\n",
       "    .dataframe tbody tr th:only-of-type {\n",
       "        vertical-align: middle;\n",
       "    }\n",
       "\n",
       "    .dataframe tbody tr th {\n",
       "        vertical-align: top;\n",
       "    }\n",
       "\n",
       "    .dataframe thead th {\n",
       "        text-align: right;\n",
       "    }\n",
       "</style>\n",
       "<table border=\"1\" class=\"dataframe\">\n",
       "  <thead>\n",
       "    <tr style=\"text-align: right;\">\n",
       "      <th></th>\n",
       "      <th>parent</th>\n",
       "      <th>parent^2</th>\n",
       "    </tr>\n",
       "  </thead>\n",
       "  <tbody>\n",
       "    <tr>\n",
       "      <th>0</th>\n",
       "      <td>70.5</td>\n",
       "      <td>4970.25</td>\n",
       "    </tr>\n",
       "    <tr>\n",
       "      <th>1</th>\n",
       "      <td>68.5</td>\n",
       "      <td>4692.25</td>\n",
       "    </tr>\n",
       "    <tr>\n",
       "      <th>2</th>\n",
       "      <td>65.5</td>\n",
       "      <td>4290.25</td>\n",
       "    </tr>\n",
       "    <tr>\n",
       "      <th>3</th>\n",
       "      <td>64.5</td>\n",
       "      <td>4160.25</td>\n",
       "    </tr>\n",
       "    <tr>\n",
       "      <th>4</th>\n",
       "      <td>64.0</td>\n",
       "      <td>4096.00</td>\n",
       "    </tr>\n",
       "  </tbody>\n",
       "</table>\n",
       "</div>"
      ],
      "text/plain": [
       "   parent  parent^2\n",
       "0    70.5   4970.25\n",
       "1    68.5   4692.25\n",
       "2    65.5   4290.25\n",
       "3    64.5   4160.25\n",
       "4    64.0   4096.00"
      ]
     },
     "execution_count": 50,
     "metadata": {},
     "output_type": "execute_result"
    }
   ],
   "source": [
    "x = DataFrame(fit, columns=poly.get_feature_names_out())\n",
    "x.head()"
   ]
  },
  {
   "cell_type": "code",
   "execution_count": 51,
   "metadata": {},
   "outputs": [
    {
     "data": {
      "text/html": [
       "<div>\n",
       "<style scoped>\n",
       "    .dataframe tbody tr th:only-of-type {\n",
       "        vertical-align: middle;\n",
       "    }\n",
       "\n",
       "    .dataframe tbody tr th {\n",
       "        vertical-align: top;\n",
       "    }\n",
       "\n",
       "    .dataframe thead th {\n",
       "        text-align: right;\n",
       "    }\n",
       "</style>\n",
       "<table border=\"1\" class=\"dataframe\">\n",
       "  <thead>\n",
       "    <tr style=\"text-align: right;\">\n",
       "      <th></th>\n",
       "      <th>child</th>\n",
       "    </tr>\n",
       "  </thead>\n",
       "  <tbody>\n",
       "    <tr>\n",
       "      <th>0</th>\n",
       "      <td>61.7</td>\n",
       "    </tr>\n",
       "    <tr>\n",
       "      <th>1</th>\n",
       "      <td>61.7</td>\n",
       "    </tr>\n",
       "    <tr>\n",
       "      <th>2</th>\n",
       "      <td>61.7</td>\n",
       "    </tr>\n",
       "    <tr>\n",
       "      <th>3</th>\n",
       "      <td>61.7</td>\n",
       "    </tr>\n",
       "    <tr>\n",
       "      <th>4</th>\n",
       "      <td>61.7</td>\n",
       "    </tr>\n",
       "  </tbody>\n",
       "</table>\n",
       "</div>"
      ],
      "text/plain": [
       "   child\n",
       "0   61.7\n",
       "1   61.7\n",
       "2   61.7\n",
       "3   61.7\n",
       "4   61.7"
      ]
     },
     "execution_count": 51,
     "metadata": {},
     "output_type": "execute_result"
    }
   ],
   "source": [
    "y = origin[['child']]\n",
    "y.head()"
   ]
  },
  {
   "cell_type": "code",
   "execution_count": 52,
   "metadata": {},
   "outputs": [
    {
     "data": {
      "text/plain": [
       "((649, 2), (649, 1))"
      ]
     },
     "execution_count": 52,
     "metadata": {},
     "output_type": "execute_result"
    }
   ],
   "source": [
    "x_train, x_test, y_train, y_test = train_test_split(x, y, test_size=0.3, shuffle=True, random_state=42)\n",
    "x_train.shape, y_train.shape"
   ]
  },
  {
   "cell_type": "code",
   "execution_count": 53,
   "metadata": {},
   "outputs": [
    {
     "name": "stdout",
     "output_type": "stream",
     "text": [
      "계수:  [[-3.61897493  0.03089946]]\n",
      "절편:  [171.03320096]\n",
      "훈련 데이터 설명력:  0.19478714847831846\n",
      "검증 데이터 설명력:  0.25688609049825617\n"
     ]
    }
   ],
   "source": [
    "model = LinearRegression()\n",
    "fit = model.fit(x_train, y_train)\n",
    "\n",
    "print(\"계수: \", fit.coef_)\n",
    "print(\"절편: \", fit.intercept_)\n",
    "print(\"훈련 데이터 설명력: \", fit.score(x_train, y_train))\n",
    "print(\"검증 데이터 설명력: \", fit.score(x_test, y_test))"
   ]
  },
  {
   "cell_type": "code",
   "execution_count": 54,
   "metadata": {},
   "outputs": [
    {
     "data": {
      "text/plain": [
       "array([68.12140915, 68.12140915, 67.53805753, 67.53805753, 68.12140915,\n",
       "       68.7665597 , 68.7665597 , 71.07280484, 68.12140915, 68.12140915,\n",
       "       68.12140915, 67.53805753, 68.7665597 , 67.53805753, 68.12140915,\n",
       "       66.55675104, 70.24225754, 68.12140915, 67.53805753, 68.12140915,\n",
       "       68.12140915, 68.7665597 , 67.53805753, 68.7665597 , 67.53805753,\n",
       "       66.55675104, 67.53805753, 68.7665597 , 67.01650483, 68.7665597 ,\n",
       "       68.12140915, 69.47350916, 68.12140915, 68.7665597 , 69.47350916,\n",
       "       67.01650483, 68.12140915, 67.53805753, 68.12140915, 67.53805753,\n",
       "       67.53805753, 68.7665597 , 67.53805753, 67.53805753, 66.55675104,\n",
       "       67.01650483, 67.53805753, 71.07280484, 68.12140915, 67.53805753,\n",
       "       67.53805753, 67.53805753, 68.12140915, 66.15879618, 68.7665597 ,\n",
       "       68.7665597 , 66.55675104, 68.7665597 , 68.7665597 , 69.47350916,\n",
       "       66.55675104, 67.53805753, 67.01650483, 68.12140915, 68.12140915,\n",
       "       67.53805753, 68.7665597 , 68.7665597 , 67.53805753, 68.12140915,\n",
       "       66.15879618, 68.12140915, 68.12140915, 66.55675104, 70.24225754,\n",
       "       68.12140915, 67.53805753, 71.07280484, 68.12140915, 67.53805753,\n",
       "       68.12140915, 69.47350916, 68.7665597 , 67.53805753, 67.53805753,\n",
       "       68.7665597 , 67.53805753, 69.47350916, 68.12140915, 67.53805753,\n",
       "       67.01650483, 68.7665597 , 67.53805753, 70.24225754, 68.7665597 ,\n",
       "       68.7665597 , 68.7665597 , 68.12140915, 71.07280484, 68.12140915,\n",
       "       68.12140915, 67.53805753, 68.12140915, 68.7665597 , 67.01650483,\n",
       "       68.12140915, 70.24225754, 67.01650483, 67.53805753, 68.12140915,\n",
       "       71.07280484, 66.55675104, 66.55675104, 69.47350916, 68.12140915,\n",
       "       67.53805753, 66.55675104, 66.55675104, 67.01650483, 67.53805753,\n",
       "       71.07280484, 67.53805753, 71.07280484, 67.53805753, 68.7665597 ,\n",
       "       68.7665597 , 66.55675104, 66.15879618, 66.55675104, 68.12140915,\n",
       "       65.98299334, 65.98299334, 68.12140915, 68.7665597 , 68.7665597 ,\n",
       "       68.7665597 , 68.12140915, 65.98299334, 68.12140915, 69.47350916,\n",
       "       68.12140915, 68.12140915, 68.12140915, 68.12140915, 69.47350916,\n",
       "       68.12140915, 68.7665597 , 67.53805753, 67.01650483, 66.55675104,\n",
       "       69.47350916, 67.53805753, 68.7665597 , 68.12140915, 66.15879618,\n",
       "       68.12140915, 66.55675104, 70.24225754, 67.53805753, 68.12140915,\n",
       "       66.55675104, 67.53805753, 68.12140915, 68.7665597 , 68.12140915,\n",
       "       68.12140915, 69.47350916, 67.01650483, 67.01650483, 67.53805753,\n",
       "       67.53805753, 67.53805753, 68.7665597 , 70.24225754, 68.12140915,\n",
       "       68.7665597 , 67.53805753, 68.7665597 , 68.12140915, 69.47350916,\n",
       "       67.53805753, 68.12140915, 68.12140915, 67.01650483, 66.55675104,\n",
       "       67.01650483, 67.53805753, 68.12140915, 67.53805753, 68.7665597 ,\n",
       "       68.12140915, 68.12140915, 68.7665597 , 67.53805753, 70.24225754,\n",
       "       67.53805753, 68.12140915, 67.01650483, 68.7665597 , 68.7665597 ,\n",
       "       68.12140915, 68.12140915, 68.7665597 , 68.12140915, 70.24225754,\n",
       "       66.55675104, 68.7665597 , 67.01650483, 67.01650483, 67.01650483,\n",
       "       68.12140915, 67.53805753, 68.12140915, 68.7665597 , 67.01650483,\n",
       "       69.47350916, 70.24225754, 67.53805753, 68.7665597 , 66.55675104,\n",
       "       69.47350916, 67.53805753, 68.7665597 , 69.47350916, 68.12140915,\n",
       "       68.12140915, 67.53805753, 66.55675104, 69.47350916, 68.7665597 ,\n",
       "       69.47350916, 69.47350916, 68.12140915, 65.98299334, 67.53805753,\n",
       "       67.53805753, 70.24225754, 68.7665597 , 67.53805753, 68.12140915,\n",
       "       68.7665597 , 70.24225754, 67.01650483, 66.15879618, 68.12140915,\n",
       "       68.12140915, 68.12140915, 67.53805753, 67.53805753, 66.15879618,\n",
       "       68.12140915, 68.7665597 , 68.7665597 , 67.53805753, 71.07280484,\n",
       "       66.55675104, 68.12140915, 66.15879618, 68.7665597 , 68.12140915,\n",
       "       68.12140915, 68.12140915, 68.7665597 , 67.53805753, 70.24225754,\n",
       "       69.47350916, 68.7665597 , 66.15879618, 68.12140915, 67.01650483,\n",
       "       67.53805753, 68.12140915, 70.24225754, 70.24225754, 69.47350916,\n",
       "       68.7665597 , 68.7665597 , 68.12140915, 67.53805753, 68.12140915,\n",
       "       66.55675104, 67.53805753, 67.53805753, 68.12140915, 68.12140915,\n",
       "       67.53805753, 68.12140915, 68.7665597 , 68.12140915, 67.53805753,\n",
       "       67.01650483, 67.53805753, 70.24225754, 67.01650483, 68.12140915,\n",
       "       68.7665597 , 70.24225754, 68.7665597 , 66.55675104, 68.7665597 ,\n",
       "       68.12140915, 67.01650483, 68.7665597 , 71.51125309, 67.53805753,\n",
       "       67.01650483, 67.53805753, 67.53805753, 68.7665597 , 69.47350916,\n",
       "       67.53805753, 67.01650483, 68.7665597 , 68.7665597 , 68.7665597 ,\n",
       "       67.53805753, 67.53805753, 66.55675104, 67.53805753, 67.01650483,\n",
       "       68.12140915, 66.55675104, 66.55675104, 67.01650483, 68.12140915,\n",
       "       66.55675104, 69.47350916, 67.53805753, 71.51125309, 67.53805753,\n",
       "       68.7665597 , 71.51125309, 68.7665597 , 67.53805753, 70.24225754,\n",
       "       68.12140915, 69.47350916, 70.24225754, 68.12140915, 67.53805753,\n",
       "       67.53805753, 70.24225754, 69.47350916, 69.47350916, 68.12140915,\n",
       "       68.12140915, 68.7665597 , 70.24225754, 66.15879618, 69.47350916,\n",
       "       67.53805753, 67.53805753, 69.47350916, 67.01650483, 68.12140915,\n",
       "       66.55675104, 68.12140915, 66.55675104, 68.12140915, 66.55675104,\n",
       "       68.7665597 , 68.12140915, 67.53805753, 67.53805753, 66.15879618,\n",
       "       68.12140915, 68.7665597 , 69.47350916, 65.98299334, 68.12140915,\n",
       "       67.53805753, 68.12140915, 69.47350916, 68.7665597 , 67.53805753,\n",
       "       66.55675104, 66.55675104, 67.53805753, 68.7665597 , 69.47350916,\n",
       "       67.53805753, 68.12140915, 68.12140915, 68.12140915, 68.12140915,\n",
       "       66.55675104, 68.12140915, 66.55675104, 68.7665597 , 67.53805753,\n",
       "       68.12140915, 68.7665597 , 68.7665597 , 66.15879618, 68.12140915,\n",
       "       68.12140915, 67.53805753, 68.7665597 , 67.01650483, 69.47350916,\n",
       "       69.47350916, 68.7665597 , 67.53805753, 67.53805753, 66.15879618,\n",
       "       66.55675104, 69.47350916, 67.53805753, 67.53805753, 67.53805753,\n",
       "       67.53805753, 70.24225754, 67.53805753, 68.12140915, 71.07280484,\n",
       "       68.12140915, 67.01650483, 71.07280484, 67.01650483, 65.98299334,\n",
       "       68.12140915, 68.7665597 , 67.53805753, 68.12140915, 66.15879618,\n",
       "       67.53805753, 71.07280484, 68.12140915, 67.01650483, 67.01650483,\n",
       "       68.7665597 , 67.53805753, 67.01650483, 68.12140915, 67.01650483,\n",
       "       68.12140915, 67.53805753, 69.47350916, 68.12140915, 69.47350916,\n",
       "       67.53805753, 66.55675104, 68.12140915, 67.53805753, 68.7665597 ,\n",
       "       67.01650483, 67.01650483, 67.53805753, 68.7665597 , 68.12140915,\n",
       "       68.12140915, 67.53805753, 67.01650483, 67.53805753, 71.07280484,\n",
       "       71.07280484, 68.12140915, 68.12140915, 68.7665597 , 67.53805753,\n",
       "       67.01650483, 68.7665597 , 68.7665597 , 68.7665597 , 67.01650483,\n",
       "       67.01650483, 70.24225754, 68.7665597 , 66.55675104, 66.55675104,\n",
       "       69.47350916, 68.7665597 , 67.53805753, 68.7665597 , 71.07280484,\n",
       "       67.01650483, 69.47350916, 68.7665597 , 66.15879618, 68.7665597 ,\n",
       "       67.01650483, 68.7665597 , 68.7665597 , 66.15879618, 68.12140915,\n",
       "       68.7665597 , 68.7665597 , 67.53805753, 66.55675104, 66.55675104,\n",
       "       67.53805753, 67.01650483, 67.53805753, 65.98299334, 67.53805753,\n",
       "       67.53805753, 68.12140915, 68.12140915, 68.7665597 , 69.47350916,\n",
       "       68.7665597 , 66.55675104, 66.15879618, 68.7665597 , 68.7665597 ,\n",
       "       71.07280484, 67.53805753, 68.7665597 , 66.55675104, 67.53805753,\n",
       "       67.53805753, 67.53805753, 67.01650483, 68.7665597 , 67.53805753,\n",
       "       67.53805753, 67.53805753, 67.01650483, 68.7665597 , 69.47350916,\n",
       "       67.01650483, 66.55675104, 68.12140915, 67.53805753, 67.53805753,\n",
       "       68.12140915, 68.12140915, 67.53805753, 67.53805753, 69.47350916,\n",
       "       66.55675104, 68.12140915, 68.12140915, 68.7665597 , 66.15879618,\n",
       "       67.53805753, 67.01650483, 68.12140915, 68.12140915, 67.53805753,\n",
       "       66.55675104, 68.7665597 , 67.53805753, 68.12140915, 68.7665597 ,\n",
       "       68.7665597 , 68.7665597 , 70.24225754, 66.55675104, 68.7665597 ,\n",
       "       68.12140915, 68.12140915, 68.7665597 , 68.7665597 , 70.24225754,\n",
       "       67.53805753, 68.7665597 , 68.7665597 , 68.7665597 , 66.15879618,\n",
       "       70.24225754, 67.53805753, 68.7665597 , 67.53805753, 68.7665597 ,\n",
       "       68.7665597 , 66.55675104, 68.12140915, 70.24225754, 68.7665597 ,\n",
       "       67.53805753, 67.53805753, 66.55675104, 67.53805753, 67.01650483,\n",
       "       68.7665597 , 68.12140915, 67.53805753, 66.55675104, 67.53805753,\n",
       "       68.7665597 , 67.53805753, 67.53805753, 67.01650483, 68.7665597 ,\n",
       "       68.12140915, 68.12140915, 67.01650483, 69.47350916, 68.7665597 ,\n",
       "       68.12140915, 69.47350916, 67.53805753, 68.7665597 , 67.53805753,\n",
       "       68.7665597 , 67.01650483, 68.12140915, 67.01650483, 68.7665597 ,\n",
       "       69.47350916, 68.7665597 , 66.55675104, 68.12140915, 67.53805753,\n",
       "       70.24225754, 68.12140915, 67.01650483, 67.01650483, 68.7665597 ,\n",
       "       68.12140915, 68.7665597 , 71.51125309, 68.12140915, 66.55675104,\n",
       "       67.53805753, 68.12140915, 68.12140915, 68.7665597 , 68.7665597 ,\n",
       "       68.12140915, 67.01650483, 68.7665597 , 69.47350916, 67.53805753,\n",
       "       67.53805753, 67.53805753, 68.12140915, 67.53805753, 67.53805753,\n",
       "       67.53805753, 70.24225754, 65.98299334, 67.01650483, 67.01650483,\n",
       "       68.12140915, 68.12140915, 67.53805753, 68.12140915, 68.12140915,\n",
       "       68.12140915, 68.12140915, 70.24225754, 67.53805753, 68.7665597 ,\n",
       "       70.24225754, 71.07280484, 68.7665597 , 65.98299334])"
      ]
     },
     "execution_count": 54,
     "metadata": {},
     "output_type": "execute_result"
    }
   ],
   "source": [
    "y_train_pred = fit.predict(x_train)\n",
    "y_train_pred = y_train_pred.reshape(-1)\n",
    "y_train_pred"
   ]
  },
  {
   "cell_type": "code",
   "execution_count": 55,
   "metadata": {},
   "outputs": [
    {
     "data": {
      "text/plain": [
       "array([68.12140915, 67.53805753, 66.55675104, 66.55675104, 68.12140915,\n",
       "       67.53805753, 68.7665597 , 67.53805753, 67.53805753, 68.12140915,\n",
       "       67.01650483, 67.53805753, 66.55675104, 68.12140915, 68.7665597 ,\n",
       "       67.01650483, 66.15879618, 68.7665597 , 70.24225754, 68.12140915,\n",
       "       69.47350916, 68.12140915, 66.15879618, 68.7665597 , 68.7665597 ,\n",
       "       69.47350916, 68.12140915, 68.12140915, 68.7665597 , 68.12140915,\n",
       "       67.53805753, 67.53805753, 68.12140915, 68.7665597 , 67.53805753,\n",
       "       67.53805753, 67.53805753, 69.47350916, 67.01650483, 68.12140915,\n",
       "       66.55675104, 68.7665597 , 68.7665597 , 68.12140915, 68.7665597 ,\n",
       "       68.12140915, 67.53805753, 68.7665597 , 68.7665597 , 67.53805753,\n",
       "       67.53805753, 67.53805753, 68.12140915, 69.47350916, 68.12140915,\n",
       "       66.55675104, 67.53805753, 68.12140915, 68.7665597 , 67.53805753,\n",
       "       68.12140915, 67.53805753, 67.01650483, 68.7665597 , 68.7665597 ,\n",
       "       68.12140915, 68.7665597 , 67.53805753, 67.01650483, 67.53805753,\n",
       "       68.12140915, 68.7665597 , 66.55675104, 68.12140915, 67.53805753,\n",
       "       67.53805753, 68.7665597 , 68.7665597 , 68.7665597 , 68.12140915,\n",
       "       67.53805753, 68.7665597 , 68.12140915, 68.7665597 , 67.53805753,\n",
       "       68.12140915, 67.53805753, 68.12140915, 67.53805753, 68.7665597 ,\n",
       "       70.24225754, 68.7665597 , 65.98299334, 68.12140915, 68.7665597 ,\n",
       "       68.7665597 , 68.7665597 , 67.01650483, 67.53805753, 70.24225754,\n",
       "       68.12140915, 69.47350916, 68.12140915, 67.53805753, 67.53805753,\n",
       "       67.53805753, 68.12140915, 67.01650483, 67.53805753, 68.12140915,\n",
       "       67.53805753, 69.47350916, 69.47350916, 68.12140915, 67.53805753,\n",
       "       70.24225754, 69.47350916, 68.7665597 , 67.53805753, 66.55675104,\n",
       "       66.15879618, 67.53805753, 69.47350916, 67.53805753, 68.12140915,\n",
       "       68.7665597 , 68.7665597 , 67.53805753, 68.12140915, 68.12140915,\n",
       "       70.24225754, 68.7665597 , 67.01650483, 69.47350916, 67.53805753,\n",
       "       67.01650483, 68.7665597 , 67.53805753, 69.47350916, 68.7665597 ,\n",
       "       67.53805753, 67.01650483, 68.12140915, 66.55675104, 67.53805753,\n",
       "       68.12140915, 67.01650483, 70.24225754, 68.12140915, 68.12140915,\n",
       "       70.24225754, 66.55675104, 67.53805753, 68.7665597 , 69.47350916,\n",
       "       68.7665597 , 67.01650483, 69.47350916, 67.01650483, 68.7665597 ,\n",
       "       68.12140915, 69.47350916, 68.7665597 , 68.12140915, 66.55675104,\n",
       "       66.55675104, 68.12140915, 68.7665597 , 70.24225754, 68.7665597 ,\n",
       "       68.12140915, 67.53805753, 69.47350916, 68.12140915, 67.53805753,\n",
       "       68.12140915, 68.7665597 , 68.12140915, 66.55675104, 67.01650483,\n",
       "       68.12140915, 65.98299334, 67.53805753, 68.7665597 , 67.53805753,\n",
       "       67.53805753, 67.01650483, 67.53805753, 66.15879618, 66.55675104,\n",
       "       67.53805753, 68.12140915, 68.12140915, 69.47350916, 69.47350916,\n",
       "       67.53805753, 67.53805753, 67.01650483, 70.24225754, 68.12140915,\n",
       "       70.24225754, 68.7665597 , 68.12140915, 68.12140915, 69.47350916,\n",
       "       67.53805753, 66.55675104, 68.7665597 , 67.53805753, 68.12140915,\n",
       "       68.12140915, 67.53805753, 68.12140915, 68.7665597 , 67.53805753,\n",
       "       67.53805753, 68.12140915, 68.12140915, 68.7665597 , 68.7665597 ,\n",
       "       66.15879618, 67.53805753, 67.53805753, 68.12140915, 67.53805753,\n",
       "       65.98299334, 68.7665597 , 67.53805753, 67.01650483, 67.53805753,\n",
       "       71.07280484, 69.47350916, 68.7665597 , 68.7665597 , 68.7665597 ,\n",
       "       68.7665597 , 68.12140915, 68.12140915, 66.55675104, 65.98299334,\n",
       "       68.12140915, 68.12140915, 67.53805753, 68.12140915, 68.7665597 ,\n",
       "       68.12140915, 70.24225754, 65.98299334, 67.53805753, 68.7665597 ,\n",
       "       67.01650483, 68.12140915, 68.12140915, 68.12140915, 68.12140915,\n",
       "       68.12140915, 71.07280484, 69.47350916, 68.12140915, 69.47350916,\n",
       "       71.07280484, 67.53805753, 68.12140915, 69.47350916, 69.47350916,\n",
       "       69.47350916, 67.01650483, 69.47350916, 68.7665597 , 67.01650483,\n",
       "       67.53805753, 67.53805753, 66.55675104, 68.7665597 , 68.7665597 ,\n",
       "       68.12140915, 70.24225754, 70.24225754, 67.53805753])"
      ]
     },
     "execution_count": 55,
     "metadata": {},
     "output_type": "execute_result"
    }
   ],
   "source": [
    "y_test_pred = fit.predict(x_test)\n",
    "y_test_pred = y_test_pred.reshape(-1)\n",
    "y_test_pred"
   ]
  },
  {
   "cell_type": "code",
   "execution_count": 57,
   "metadata": {},
   "outputs": [
    {
     "data": {
      "image/png": "[encoded data removed]",
      "text/plain": [
       "<Figure size 1500x500 with 2 Axes>"
      ]
     },
     "metadata": {},
     "output_type": "display_data"
    }
   ],
   "source": [
    "fig, (ax1, ax2) = plt.subplots(1, 2, figsize=(15, 5))\n",
    "\n",
    "# 학습에 사용한 데이터와 예측값의 차이를 시각화\n",
    "sb.scatterplot(x=x_train['parent'], y=y_train['child'], label='train data', ax=ax1)\n",
    "sb.scatterplot(x=x_train['parent'], y=y_train_pred, label='train predict', ax=ax1)\n",
    "\n",
    "# 그래프가 그려진 범위 안에서 1씩 증가하는 좌표를 생성\n",
    "xmin, xmax = ax1.get_xlim()\n",
    "xrange = np.arange(xmin.round(), xmax.round(), 1)\n",
    "# y값에 대한 추정치를 계산\n",
    "y_pred = xrange * fit.coef_[0][0] + xrange**2 * fit.coef_[0][1] + fit.intercept_[0]\n",
    "\n",
    "# 추세선\n",
    "sb.lineplot(x=xrange, y=y_pred, color='red', ax=ax1)\n",
    "\n",
    "ax1.set_title(\"훈련 데이터\")\n",
    "ax1.legend()\n",
    "ax1.grid()\n",
    "\n",
    "\n",
    "# 검증용 데이터와 예측값의 차이를 시각화\n",
    "sb.scatterplot(x=x_test['parent'], y=y_test['child'], label='test data', ax=ax2)\n",
    "sb.scatterplot(x=x_test['parent'], y=y_test_pred, label='test predict', ax=ax2)\n",
    "\n",
    "# 그래프가 그려진 범위 안에서 1씩 증가하는 좌표를 생성\n",
    "xmin, xmax = ax2.get_xlim()\n",
    "xrange = np.arange(xmin.round(), xmax.round(), 1)\n",
    "\n",
    "# y값에 대한 추정치를 계산\n",
    "y_pred = xrange * fit.coef_[0][0] + xrange**2 * fit.coef_[0][1] + fit.intercept_[0]\n",
    "\n",
    "# 추세선\n",
    "sb.lineplot(x=xrange, y=y_pred, color='red', ax=ax2)\n",
    "\n",
    "ax2.set_title(\"검증 데이터\")\n",
    "ax2.legend()\n",
    "ax2.grid()\n",
    "\n",
    "plt.show()\n",
    "plt.close()"
   ]
  },
  {
   "cell_type": "code",
   "execution_count": 58,
   "metadata": {},
   "outputs": [
    {
     "name": "stdout",
     "output_type": "stream",
     "text": [
      "계수: [[-3.61897493  0.03089946]]\n",
      "절편: [171.03320096]\n"
     ]
    }
   ],
   "source": [
    "olsResult = helper.ml_ols(origin, xnames='parent', yname='child', degree=2, test_size=0.3, random_state=42)\n",
    "print(\"계수:\", olsResult.coef)\n",
    "print(\"절편:\", olsResult.intercept)"
   ]
  },
  {
   "cell_type": "code",
   "execution_count": 59,
   "metadata": {},
   "outputs": [
    {
     "name": "stdout",
     "output_type": "stream",
     "text": [
      "R^2:  0.19478714847831846\n",
      "MAE:  1.828820729254754\n",
      "MSE:  5.123306585268976\n",
      "RMSE:  2.2634722408876535\n",
      "MAPE:  2.701528568334578\n",
      "MPE:  -0.11179067132274788\n"
     ]
    }
   ],
   "source": [
    "print(\"R^2: \", olsResult.trainRegMetric.r2)\n",
    "print(\"MAE: \", olsResult.trainRegMetric.mae)\n",
    "print(\"MSE: \", olsResult.trainRegMetric.mse)\n",
    "print(\"RMSE: \", olsResult.trainRegMetric.rmse)\n",
    "print(\"MAPE: \", olsResult.trainRegMetric.mape)\n",
    "print(\"MPE: \", olsResult.trainRegMetric.mpe)"
   ]
  },
  {
   "cell_type": "code",
   "execution_count": 60,
   "metadata": {},
   "outputs": [
    {
     "name": "stdout",
     "output_type": "stream",
     "text": [
      "R^2:  0.25688609049825617\n",
      "MAE:  1.7166386224852623\n",
      "MSE:  4.655070551078052\n",
      "RMSE:  2.157561250828827\n",
      "MAPE:  2.534084027286575\n",
      "MPE:  -0.18039781324673226\n"
     ]
    }
   ],
   "source": [
    "print(\"R^2: \", olsResult.testRegMetric.r2)\n",
    "print(\"MAE: \", olsResult.testRegMetric.mae)\n",
    "print(\"MSE: \", olsResult.testRegMetric.mse)\n",
    "print(\"RMSE: \", olsResult.testRegMetric.rmse)\n",
    "print(\"MAPE: \", olsResult.testRegMetric.mape)\n",
    "print(\"MPE: \", olsResult.testRegMetric.mpe)"
   ]
  },
  {
   "cell_type": "code",
   "execution_count": null,
   "metadata": {},
   "outputs": [],
   "source": []
  }
 ],
 "metadata": {
  "kernelspec": {
   "display_name": "Python 3",
   "language": "python",
   "name": "python3"
  },
  "language_info": {
   "codemirror_mode": {
    "name": "ipython",
    "version": 3
   },
   "file_extension": ".py",
   "mimetype": "text/x-python",
   "name": "python",
   "nbconvert_exporter": "python",
   "pygments_lexer": "ipython3",
   "version": "3.11.3"
  },
  "orig_nbformat": 4
 },
 "nbformat": 4,
 "nbformat_minor": 2
}
