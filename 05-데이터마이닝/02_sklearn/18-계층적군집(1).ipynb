{
 "cells": [
  {
   "cell_type": "code",
   "execution_count": null,
   "metadata": {},
   "outputs": [],
   "source": []
  },
  {
   "cell_type": "markdown",
   "metadata": {},
   "source": [
    "## 계층적 군집(1)\n",
    "\n",
    "##### Hierarchical Clustering\n",
    "###### 계층적 군집분석은 데이터와 데이터 , 군집과 데이터 , 군집과 군집 간의 거리에 대한 유사도로 군집을 형성\n",
    "\n",
    "##### 동작하는 방식\n",
    "###### 두 점 사이클 가까운 것끼리 합침, 이 과정을 반복하여 전체가 하나의 클러스터에 속할 때까지 반복.\n",
    "> ###### 이 과정에 대한 시각화 결과물이 덴드로그램 형태로 나타남\n",
    "###### 어떻게 두 점 사이의 거리를 결정할 지에 대한 측정 방식이 필요 \n",
    "> ###### 유클리디안 거리 측정(직선거리), 맨해튼 거리 측정 방식(블록거리)\n",
    "\n",
    "##### 군집간의 거리를 구하는 방법\n",
    "##### 1. Min(Single Link)\n",
    "###### 군집과 군집의 거리를 구할 때 가장 최소 거리인 것을 유사도로 측정하는 방식\n",
    "![res/그림3.png](res/그림3.png)\n",
    "##### 2. Max(Complete Link)\n",
    "###### 군집과 군집의 거리를 구할 때 가장 최대인 것을 유사도로 측정하는 방식\n",
    "![res/그림4.png](res/그림4.png)\n",
    "##### 3. Average Link\n",
    "###### 군집과 군집의 거리를 구할 때 거리의 평균을 구해 유사도로 측정하는 방식\n",
    "![res/그림5.png](res/그림5.png)\n",
    "##### 4. Centroids\n",
    "###### 군집과 군집의 거리를 구할 때 데이터의 중심점 거리를 유사도로 측정하는 방식\n",
    "![res/그림1.png](res/그림1.png)\n",
    "##### 5. Ward's method\n",
    "###### 두개의 군집이 병합되었을 떄 증가하는 변동성의 양으로 유사도를 측정하는 방식\n",
    "##### 변동성\n",
    "###### 두 군집의 중앙값과 두 군집에 있는 모든 데이터와의 거리의 합에서 군집간에 형성되는 거리를 뺀 값\n",
    "![res/그림2.png](res/그림2.png)\n",
    "> ###### 세부 군집 알고리즘으로 Agglomerative Hierarchical Clustering, Divisive Hierarchical Clustering 이 있다.\n",
    "\n",
    "#### #01. 패키지 참조"
   ]
  },
  {
   "cell_type": "code",
   "execution_count": 1,
   "metadata": {},
   "outputs": [],
   "source": [
    "import seaborn as sb\n",
    "import numpy as np\n",
    "from matplotlib import pyplot as plt\n",
    "from scipy.cluster.hierarchy import dendrogram, linkage\n",
    "# sklearn은 AgglomerativeClustering() 함수를 제공한다.\n",
    "from sklearn.cluster import AgglomerativeClustering"
   ]
  },
  {
   "cell_type": "markdown",
   "metadata": {},
   "source": [
    "#### #02. 샘플 데이터를 통한 군집 실험\n",
    "\n",
    "1. 실습 데이터 준비"
   ]
  },
  {
   "cell_type": "code",
   "execution_count": 2,
   "metadata": {},
   "outputs": [
    {
     "data": {
      "text/plain": [
       "array([[ 5,  3],\n",
       "       [10, 15],\n",
       "       [15, 12],\n",
       "       [24, 10],\n",
       "       [30, 30],\n",
       "       [85, 70],\n",
       "       [71, 80],\n",
       "       [60, 78],\n",
       "       [70, 55],\n",
       "       [80, 91]])"
      ]
     },
     "execution_count": 2,
     "metadata": {},
     "output_type": "execute_result"
    }
   ],
   "source": [
    "x = np.array([[5,3],\n",
    "[10,15],\n",
    "[15,12],\n",
    "[24,10],\n",
    "[30,30],\n",
    "[85,70],\n",
    "[71,80],\n",
    "[60,78],\n",
    "[70,55],\n",
    "[80,91],])\n",
    "x"
   ]
  },
  {
   "cell_type": "code",
   "execution_count": 3,
   "metadata": {},
   "outputs": [
    {
     "data": {
      "image/png": "[encoded data removed]",
      "text/plain": [
       "<Figure size 700x400 with 1 Axes>"
      ]
     },
     "metadata": {},
     "output_type": "display_data"
    }
   ],
   "source": [
    "plt.figure(figsize=(7, 4))\n",
    "sb.scatterplot(x=x[:,0], y=x[:,1])\n",
    "plt.grid()\n",
    "plt.show()\n",
    "plt.close()"
   ]
  },
  {
   "cell_type": "markdown",
   "metadata": {},
   "source": [
    "2. 계층 군집 수행\n",
    "##### method 파라미터\n",
    "##### 군집간의 거리를 구하는 방법\n",
    "###### single , complete , average , weighted , centroid 중 선택\n",
    "> ###### https://docs.scipy.org/doc/scipy/reference/generated/scipy.cluster.hierarchy.linkage.html\n",
    "\n",
    "##### metric 파라미터\n",
    "> ###### scipy.sptial.distance.pdist 클래스의 인스턴스\n",
    "- euclidean : 점 사이의 직선거리 측정\n",
    "- cityblock : 점 사이의 맨하탄 거리 측정(블록)\n",
    "- seuclidean : 표준화 된 유클리디안\n",
    "- sqeuclidean : 제곱된 유클리디안\n",
    "- cosine : 코사인 거리 계산\n",
    "- 콜백함수 지정 가능함\n",
    "> ###### https://docs.scipy.org/doc/scipy/reference/generated/scipy.spatial.distance.pdist.html#scipy-spatial-distance-pdist"
   ]
  },
  {
   "cell_type": "code",
   "execution_count": 4,
   "metadata": {},
   "outputs": [
    {
     "data": {
      "text/plain": [
       "array([[ 1.        ,  2.        ,  5.83095189,  2.        ],\n",
       "       [ 3.        , 10.        ,  9.21954446,  3.        ],\n",
       "       [ 6.        ,  7.        , 11.18033989,  2.        ],\n",
       "       [ 0.        , 11.        , 13.        ,  4.        ],\n",
       "       [ 9.        , 12.        , 14.2126704 ,  3.        ],\n",
       "       [ 5.        , 14.        , 17.20465053,  4.        ],\n",
       "       [ 4.        , 13.        , 20.88061302,  5.        ],\n",
       "       [ 8.        , 15.        , 21.21320344,  5.        ],\n",
       "       [16.        , 17.        , 47.16990566, 10.        ]])"
      ]
     },
     "execution_count": 4,
     "metadata": {},
     "output_type": "execute_result"
    }
   ],
   "source": [
    "lnk = linkage(x, method='single', metric='euclidean')\n",
    "lnk"
   ]
  },
  {
   "cell_type": "markdown",
   "metadata": {},
   "source": [
    "군집 결과 시각화"
   ]
  },
  {
   "cell_type": "code",
   "execution_count": 5,
   "metadata": {},
   "outputs": [
    {
     "data": {
      "image/png": "[encoded data removed]",
      "text/plain": [
       "<Figure size 1000x600 with 1 Axes>"
      ]
     },
     "metadata": {},
     "output_type": "display_data"
    }
   ],
   "source": [
    "plt.figure(figsize=(10, 6))\n",
    "dendrogram(lnk,\n",
    "            orientation='top', # 방향: top(기본값), bottom, left, right\n",
    "            labels=range(1, 11), # 라벨 인덱스\n",
    "            # 각 노드 n에 대해 두 하위 링크가 표시되는 순서\n",
    "            # False: 아무것도 안함(기본값)\n",
    "            # 'ascending': 클러스터에 원본 개체수가 가장 적은 하위 객체가 먼저 출력\n",
    "            # `descending`: 클러스터에 원본 개체수가 가장 많은 하위 객체가 먼저 출력\n",
    "            count_sort='ascending',\n",
    "            # 각 노드 n에 대해 두 하위 링크가 표시되는 순서\n",
    "            # False: 아무것도 안함(기본값)\n",
    "            # 'ascending': 직계 자손의 사이의 거리가 최소인 하위 항목이 먼저 표시됨\n",
    "            # `descending`: 직계 자손의 사이의 거리가 최대인 하위 항목이 먼저 표시됨\n",
    "            distance_sort='ascending',\n",
    "            show_leaf_counts=True, # True: 맨 아래에 노드에 속한 개체 수 표시(k>1 경우만...)\n",
    ")\n",
    "plt.show()\n",
    "plt.close()\n"
   ]
  },
  {
   "cell_type": "markdown",
   "metadata": {},
   "source": [
    "#### #03. 병합군집 (sklearn)\n",
    "\n",
    "1. 학습 모델 구현"
   ]
  },
  {
   "cell_type": "code",
   "execution_count": 6,
   "metadata": {},
   "outputs": [
    {
     "data": {
      "text/html": [
       "<style>#sk-container-id-1 {color: black;}#sk-container-id-1 pre{padding: 0;}#sk-container-id-1 div.sk-toggleable {background-color: white;}#sk-container-id-1 label.sk-toggleable__label {cursor: pointer;display: block;width: 100%;margin-bottom: 0;padding: 0.3em;box-sizing: border-box;text-align: center;}#sk-container-id-1 label.sk-toggleable__label-arrow:before {content: \"▸\";float: left;margin-right: 0.25em;color: #696969;}#sk-container-id-1 label.sk-toggleable__label-arrow:hover:before {color: black;}#sk-container-id-1 div.sk-estimator:hover label.sk-toggleable__label-arrow:before {color: black;}#sk-container-id-1 div.sk-toggleable__content {max-height: 0;max-width: 0;overflow: hidden;text-align: left;background-color: #f0f8ff;}#sk-container-id-1 div.sk-toggleable__content pre {margin: 0.2em;color: black;border-radius: 0.25em;background-color: #f0f8ff;}#sk-container-id-1 input.sk-toggleable__control:checked~div.sk-toggleable__content {max-height: 200px;max-width: 100%;overflow: auto;}#sk-container-id-1 input.sk-toggleable__control:checked~label.sk-toggleable__label-arrow:before {content: \"▾\";}#sk-container-id-1 div.sk-estimator input.sk-toggleable__control:checked~label.sk-toggleable__label {background-color: #d4ebff;}#sk-container-id-1 div.sk-label input.sk-toggleable__control:checked~label.sk-toggleable__label {background-color: #d4ebff;}#sk-container-id-1 input.sk-hidden--visually {border: 0;clip: rect(1px 1px 1px 1px);clip: rect(1px, 1px, 1px, 1px);height: 1px;margin: -1px;overflow: hidden;padding: 0;position: absolute;width: 1px;}#sk-container-id-1 div.sk-estimator {font-family: monospace;background-color: #f0f8ff;border: 1px dotted black;border-radius: 0.25em;box-sizing: border-box;margin-bottom: 0.5em;}#sk-container-id-1 div.sk-estimator:hover {background-color: #d4ebff;}#sk-container-id-1 div.sk-parallel-item::after {content: \"\";width: 100%;border-bottom: 1px solid gray;flex-grow: 1;}#sk-container-id-1 div.sk-label:hover label.sk-toggleable__label {background-color: #d4ebff;}#sk-container-id-1 div.sk-serial::before {content: \"\";position: absolute;border-left: 1px solid gray;box-sizing: border-box;top: 0;bottom: 0;left: 50%;z-index: 0;}#sk-container-id-1 div.sk-serial {display: flex;flex-direction: column;align-items: center;background-color: white;padding-right: 0.2em;padding-left: 0.2em;position: relative;}#sk-container-id-1 div.sk-item {position: relative;z-index: 1;}#sk-container-id-1 div.sk-parallel {display: flex;align-items: stretch;justify-content: center;background-color: white;position: relative;}#sk-container-id-1 div.sk-item::before, #sk-container-id-1 div.sk-parallel-item::before {content: \"\";position: absolute;border-left: 1px solid gray;box-sizing: border-box;top: 0;bottom: 0;left: 50%;z-index: -1;}#sk-container-id-1 div.sk-parallel-item {display: flex;flex-direction: column;z-index: 1;position: relative;background-color: white;}#sk-container-id-1 div.sk-parallel-item:first-child::after {align-self: flex-end;width: 50%;}#sk-container-id-1 div.sk-parallel-item:last-child::after {align-self: flex-start;width: 50%;}#sk-container-id-1 div.sk-parallel-item:only-child::after {width: 0;}#sk-container-id-1 div.sk-dashed-wrapped {border: 1px dashed gray;margin: 0 0.4em 0.5em 0.4em;box-sizing: border-box;padding-bottom: 0.4em;background-color: white;}#sk-container-id-1 div.sk-label label {font-family: monospace;font-weight: bold;display: inline-block;line-height: 1.2em;}#sk-container-id-1 div.sk-label-container {text-align: center;}#sk-container-id-1 div.sk-container {/* jupyter's `normalize.less` sets `[hidden] { display: none; }` but bootstrap.min.css set `[hidden] { display: none !important; }` so we also need the `!important` here to be able to override the default hidden behavior on the sphinx rendered scikit-learn.org. See: https://github.com/scikit-learn/scikit-learn/issues/21755 */display: inline-block !important;position: relative;}#sk-container-id-1 div.sk-text-repr-fallback {display: none;}</style><div id=\"sk-container-id-1\" class=\"sk-top-container\"><div class=\"sk-text-repr-fallback\"><pre>AgglomerativeClustering(compute_distances=True, linkage=&#x27;single&#x27;,\n",
       "                        metric=&#x27;euclidean&#x27;)</pre><b>In a Jupyter environment, please rerun this cell to show the HTML representation or trust the notebook. <br />On GitHub, the HTML representation is unable to render, please try loading this page with nbviewer.org.</b></div><div class=\"sk-container\" hidden><div class=\"sk-item\"><div class=\"sk-estimator sk-toggleable\"><input class=\"sk-toggleable__control sk-hidden--visually\" id=\"sk-estimator-id-1\" type=\"checkbox\" checked><label for=\"sk-estimator-id-1\" class=\"sk-toggleable__label sk-toggleable__label-arrow\">AgglomerativeClustering</label><div class=\"sk-toggleable__content\"><pre>AgglomerativeClustering(compute_distances=True, linkage=&#x27;single&#x27;,\n",
       "                        metric=&#x27;euclidean&#x27;)</pre></div></div></div></div></div>"
      ],
      "text/plain": [
       "AgglomerativeClustering(compute_distances=True, linkage='single',\n",
       "                        metric='euclidean')"
      ]
     },
     "execution_count": 6,
     "metadata": {},
     "output_type": "execute_result"
    }
   ],
   "source": [
    "ac = AgglomerativeClustering(\n",
    "        # 찾아야 할 클러스터 수\n",
    "        n_clusters=2,\n",
    "        # 클러스터 간 거리를 측정하는 방법(euclidean, cityblock, manhattan, cosine)\n",
    "        # `affinit`파라미터는 sklearn 1.4.0 버전부터 사용 불가.\n",
    "        metric='euclidean',\n",
    "        # ‘ward’(기본값), ‘complete’, ‘average’, ‘single’\n",
    "        linkage='single',\n",
    "        # 노드간의 거리 계산값을 저장할지 여부 (시각화를 위해서는 필수 적용)\n",
    "        compute_distances=True)\n",
    "clustering = ac.fit(x)\n",
    "clustering"
   ]
  },
  {
   "cell_type": "markdown",
   "metadata": {},
   "source": [
    "2. 군집 결과 확인"
   ]
  },
  {
   "cell_type": "code",
   "execution_count": 7,
   "metadata": {},
   "outputs": [
    {
     "data": {
      "text/plain": [
       "array([1, 1, 1, 1, 1, 0, 0, 0, 0, 0], dtype=int64)"
      ]
     },
     "execution_count": 7,
     "metadata": {},
     "output_type": "execute_result"
    }
   ],
   "source": [
    "labels = clustering.labels_\n",
    "labels"
   ]
  },
  {
   "cell_type": "markdown",
   "metadata": {},
   "source": [
    "3. 노드간의 거리 확인\n",
    "###### 학습 모델 객체 생성 단계에서 반드시 compute_distances=True 가 설정되어야만 한다."
   ]
  },
  {
   "cell_type": "code",
   "execution_count": 8,
   "metadata": {},
   "outputs": [
    {
     "data": {
      "text/plain": [
       "array([ 5.83095189,  9.21954446, 11.18033989, 13.        , 14.2126704 ,\n",
       "       17.20465053, 20.88061302, 21.21320344, 47.16990566])"
      ]
     },
     "execution_count": 8,
     "metadata": {},
     "output_type": "execute_result"
    }
   ],
   "source": [
    "clustering.distances_"
   ]
  },
  {
   "cell_type": "markdown",
   "metadata": {},
   "source": [
    "4. 군집 결과 시각화"
   ]
  },
  {
   "cell_type": "code",
   "execution_count": 9,
   "metadata": {},
   "outputs": [
    {
     "data": {
      "text/plain": [
       "{'icoord': [[15.0, 15.0, 25.0, 25.0],\n",
       "  [20.0, 20.0, 35.0, 35.0],\n",
       "  [5.0, 5.0, 27.5, 27.5],\n",
       "  [16.25, 16.25, 45.0, 45.0],\n",
       "  [75.0, 75.0, 85.0, 85.0],\n",
       "  [80.0, 80.0, 95.0, 95.0],\n",
       "  [65.0, 65.0, 87.5, 87.5],\n",
       "  [55.0, 55.0, 76.25, 76.25],\n",
       "  [30.625, 30.625, 65.625, 65.625]],\n",
       " 'dcoord': [[0.0, 5.830951894845301, 5.830951894845301, 0.0],\n",
       "  [5.830951894845301, 9.219544457292887, 9.219544457292887, 0.0],\n",
       "  [0.0, 13.0, 13.0, 9.219544457292887],\n",
       "  [13.0, 20.8806130178211, 20.8806130178211, 0.0],\n",
       "  [0.0, 11.180339887498949, 11.180339887498949, 0.0],\n",
       "  [11.180339887498949, 14.212670403551895, 14.212670403551895, 0.0],\n",
       "  [0.0, 17.204650534085253, 17.204650534085253, 14.212670403551895],\n",
       "  [0.0, 21.213203435596427, 21.213203435596427, 17.204650534085253],\n",
       "  [20.8806130178211,\n",
       "   47.16990566028302,\n",
       "   47.16990566028302,\n",
       "   21.213203435596427]],\n",
       " 'ivl': ['0', '1', '2', '3', '4', '8', '5', '6', '7', '9'],\n",
       " 'leaves': [0, 1, 2, 3, 4, 8, 5, 6, 7, 9],\n",
       " 'color_list': ['C1', 'C1', 'C1', 'C1', 'C2', 'C2', 'C2', 'C2', 'C0'],\n",
       " 'leaves_color_list': ['C1',\n",
       "  'C1',\n",
       "  'C1',\n",
       "  'C1',\n",
       "  'C1',\n",
       "  'C2',\n",
       "  'C2',\n",
       "  'C2',\n",
       "  'C2',\n",
       "  'C2']}"
      ]
     },
     "execution_count": 9,
     "metadata": {},
     "output_type": "execute_result"
    },
    {
     "data": {
      "image/png": "[encoded data removed]",
      "text/plain": [
       "<Figure size 640x480 with 1 Axes>"
      ]
     },
     "metadata": {},
     "output_type": "display_data"
    }
   ],
   "source": [
    "counts = np.zeros(clustering.children_.shape[0])\n",
    "n_samples = len(clustering.labels_)\n",
    "for i, merge in enumerate(clustering.children_):\n",
    "    current_count = 0\n",
    "    for child_idx in merge:\n",
    "        if child_idx < n_samples:\n",
    "            current_count += 1 # leaf node\n",
    "        else:\n",
    "            current_count += counts[child_idx - n_samples]\n",
    "    counts[i] = current_count\n",
    "linkage_matrix = np.column_stack(\n",
    "[clustering.children_, clustering.distances_, counts]\n",
    ").astype(float)\n",
    "\n",
    "# Plot the corresponding dendrogram\n",
    "dendrogram(linkage_matrix)\n"
   ]
  },
  {
   "cell_type": "code",
   "execution_count": 10,
   "metadata": {},
   "outputs": [],
   "source": [
    "def get_dendrogram_data(clustering):\n",
    "    counts = np.zeros(clustering.children_.shape[0])\n",
    "    n_samples = len(clustering.labels_)\n",
    "\n",
    "    for i, merge in enumerate(clustering.children_):\n",
    "        current_count = 0\n",
    "        for child_idx in merge:\n",
    "            if child_idx < n_samples:\n",
    "                current_count += 1 # leaf node\n",
    "            else:\n",
    "                current_count += counts[child_idx - n_samples]\n",
    "        counts[i] = current_count\n",
    "\n",
    "    linkage_matrix = np.column_stack(\n",
    "    [clustering.children_, clustering.distances_, counts]\n",
    "    ).astype(float)\n",
    "    # 시각화에 필요한 배열 리턴\n",
    "    return linkage_matrix\n"
   ]
  },
  {
   "cell_type": "code",
   "execution_count": 11,
   "metadata": {},
   "outputs": [
    {
     "data": {
      "text/plain": [
       "{'icoord': [[15.0, 15.0, 25.0, 25.0],\n",
       "  [20.0, 20.0, 35.0, 35.0],\n",
       "  [5.0, 5.0, 27.5, 27.5],\n",
       "  [16.25, 16.25, 45.0, 45.0],\n",
       "  [75.0, 75.0, 85.0, 85.0],\n",
       "  [80.0, 80.0, 95.0, 95.0],\n",
       "  [65.0, 65.0, 87.5, 87.5],\n",
       "  [55.0, 55.0, 76.25, 76.25],\n",
       "  [30.625, 30.625, 65.625, 65.625]],\n",
       " 'dcoord': [[0.0, 5.830951894845301, 5.830951894845301, 0.0],\n",
       "  [5.830951894845301, 9.219544457292887, 9.219544457292887, 0.0],\n",
       "  [0.0, 13.0, 13.0, 9.219544457292887],\n",
       "  [13.0, 20.8806130178211, 20.8806130178211, 0.0],\n",
       "  [0.0, 11.180339887498949, 11.180339887498949, 0.0],\n",
       "  [11.180339887498949, 14.212670403551895, 14.212670403551895, 0.0],\n",
       "  [0.0, 17.204650534085253, 17.204650534085253, 14.212670403551895],\n",
       "  [0.0, 21.213203435596427, 21.213203435596427, 17.204650534085253],\n",
       "  [20.8806130178211,\n",
       "   47.16990566028302,\n",
       "   47.16990566028302,\n",
       "   21.213203435596427]],\n",
       " 'ivl': ['0', '1', '2', '3', '4', '8', '5', '6', '7', '9'],\n",
       " 'leaves': [0, 1, 2, 3, 4, 8, 5, 6, 7, 9],\n",
       " 'color_list': ['C1', 'C1', 'C1', 'C1', 'C2', 'C2', 'C2', 'C2', 'C0'],\n",
       " 'leaves_color_list': ['C1',\n",
       "  'C1',\n",
       "  'C1',\n",
       "  'C1',\n",
       "  'C1',\n",
       "  'C2',\n",
       "  'C2',\n",
       "  'C2',\n",
       "  'C2',\n",
       "  'C2']}"
      ]
     },
     "execution_count": 11,
     "metadata": {},
     "output_type": "execute_result"
    },
    {
     "data": {
      "image/png": "[encoded data removed]",
      "text/plain": [
       "<Figure size 640x480 with 1 Axes>"
      ]
     },
     "metadata": {},
     "output_type": "display_data"
    }
   ],
   "source": [
    "data = get_dendrogram_data(clustering)\n",
    "dendrogram(data)"
   ]
  },
  {
   "cell_type": "code",
   "execution_count": null,
   "metadata": {},
   "outputs": [],
   "source": []
  }
 ],
 "metadata": {
  "kernelspec": {
   "display_name": "Python 3",
   "language": "python",
   "name": "python3"
  },
  "language_info": {
   "codemirror_mode": {
    "name": "ipython",
    "version": 3
   },
   "file_extension": ".py",
   "mimetype": "text/x-python",
   "name": "python",
   "nbconvert_exporter": "python",
   "pygments_lexer": "ipython3",
   "version": "3.9.13"
  }
 },
 "nbformat": 4,
 "nbformat_minor": 2
}
