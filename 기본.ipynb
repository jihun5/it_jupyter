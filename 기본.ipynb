{
 "cells": [
  {
   "cell_type": "markdown",
   "metadata": {},
   "source": [
    "###### 판다스는 1차원 배열 형태의 시리즈 자료 구조와 2차원 배열 형태의 데이터 프레임 자료 구조를 지원한다. 데이터 프레임은 엑셀의 테이블과 비슷하게 행과 열로 만들어진다."
   ]
  },
  {
   "cell_type": "code",
   "execution_count": 1,
   "metadata": {},
   "outputs": [
    {
     "name": "stdout",
     "output_type": "stream",
     "text": [
      "2.0.2\n"
     ]
    }
   ],
   "source": [
    "import pandas as pd\n",
    "print(pd.__version__)"
   ]
  },
  {
   "cell_type": "code",
   "execution_count": 3,
   "metadata": {},
   "outputs": [
    {
     "name": "stdout",
     "output_type": "stream",
     "text": [
      "['a', 'b', 'c', 'd', 'e']\n",
      "자료형: <class 'list'>\n"
     ]
    }
   ],
   "source": [
    "data1 = ['a','b','c','d','e']\n",
    "print(data1)\n",
    "print(\"자료형:\", type(data1))"
   ]
  },
  {
   "cell_type": "code",
   "execution_count": 4,
   "metadata": {},
   "outputs": [
    {
     "name": "stdout",
     "output_type": "stream",
     "text": [
      "자료형: <class 'pandas.core.series.Series'>\n"
     ]
    }
   ],
   "source": [
    "sr1 = pd.Series(data1)\n",
    "print(\"자료형:\", type(sr1))"
   ]
  },
  {
   "cell_type": "code",
   "execution_count": 5,
   "metadata": {},
   "outputs": [
    {
     "name": "stdout",
     "output_type": "stream",
     "text": [
      "0    a\n",
      "1    b\n",
      "2    c\n",
      "3    d\n",
      "4    e\n",
      "dtype: object\n"
     ]
    }
   ],
   "source": [
    "print(sr1)\n",
    "# 문자열 데이터가 숫자형 인덱스와 짝을 이루는 형태\n",
    "# dtype는 자료형을 나타내고, object는 문자열을 말한다."
   ]
  },
  {
   "cell_type": "code",
   "execution_count": 6,
   "metadata": {},
   "outputs": [
    {
     "data": {
      "text/plain": [
       "'a'"
      ]
     },
     "execution_count": 6,
     "metadata": {},
     "output_type": "execute_result"
    }
   ],
   "source": [
    "# 시리즈의 객체 원소를 추출할 때는 loc인덱서를 사용한다.\n",
    "sr1.loc[0]\n",
    "# 첫번째 인덱스 0을 입력하면 'a' 값이 출력된다."
   ]
  },
  {
   "cell_type": "code",
   "execution_count": 8,
   "metadata": {},
   "outputs": [
    {
     "data": {
      "text/plain": [
       "1    b\n",
       "2    c\n",
       "3    d\n",
       "dtype: object"
      ]
     },
     "execution_count": 8,
     "metadata": {},
     "output_type": "execute_result"
    }
   ],
   "source": [
    "sr1.loc[1:3]\n",
    "# 주의할점은 범위의 마지막 인덱스에 해당하는 원소도 포함되어 추출된다."
   ]
  },
  {
   "cell_type": "code",
   "execution_count": 9,
   "metadata": {},
   "outputs": [
    {
     "name": "stdout",
     "output_type": "stream",
     "text": [
      "0      1.00\n",
      "1      2.00\n",
      "2      3.14\n",
      "3    100.00\n",
      "4    -10.00\n",
      "dtype: float64\n"
     ]
    }
   ],
   "source": [
    "data2 = (1,2,3.14,100,-10)\n",
    "sr2 = pd.Series(data2)\n",
    "print(sr2)"
   ]
  },
  {
   "cell_type": "code",
   "execution_count": 10,
   "metadata": {},
   "outputs": [
    {
     "data": {
      "text/html": [
       "<div>\n",
       "<style scoped>\n",
       "    .dataframe tbody tr th:only-of-type {\n",
       "        vertical-align: middle;\n",
       "    }\n",
       "\n",
       "    .dataframe tbody tr th {\n",
       "        vertical-align: top;\n",
       "    }\n",
       "\n",
       "    .dataframe thead th {\n",
       "        text-align: right;\n",
       "    }\n",
       "</style>\n",
       "<table border=\"1\" class=\"dataframe\">\n",
       "  <thead>\n",
       "    <tr style=\"text-align: right;\">\n",
       "      <th></th>\n",
       "      <th>c0</th>\n",
       "      <th>c1</th>\n",
       "    </tr>\n",
       "  </thead>\n",
       "  <tbody>\n",
       "    <tr>\n",
       "      <th>0</th>\n",
       "      <td>a</td>\n",
       "      <td>1.00</td>\n",
       "    </tr>\n",
       "    <tr>\n",
       "      <th>1</th>\n",
       "      <td>b</td>\n",
       "      <td>2.00</td>\n",
       "    </tr>\n",
       "    <tr>\n",
       "      <th>2</th>\n",
       "      <td>c</td>\n",
       "      <td>3.14</td>\n",
       "    </tr>\n",
       "    <tr>\n",
       "      <th>3</th>\n",
       "      <td>d</td>\n",
       "      <td>100.00</td>\n",
       "    </tr>\n",
       "    <tr>\n",
       "      <th>4</th>\n",
       "      <td>e</td>\n",
       "      <td>-10.00</td>\n",
       "    </tr>\n",
       "  </tbody>\n",
       "</table>\n",
       "</div>"
      ],
      "text/plain": [
       "  c0      c1\n",
       "0  a    1.00\n",
       "1  b    2.00\n",
       "2  c    3.14\n",
       "3  d  100.00\n",
       "4  e  -10.00"
      ]
     },
     "execution_count": 10,
     "metadata": {},
     "output_type": "execute_result"
    }
   ],
   "source": [
    "# 1차원 구조의 시리즈를 여러 개 결합하면 데이터프레임을 만들 수 있다.\n",
    "# 시리즈 2개를 원소로 갖는 딕셔너리를 정의하고,\n",
    "# DataFrame 함수에 입력한다. 딕셔너리의 key에 해당하는 값이\n",
    "# 각 열의 이름이 되고, 딕셔너리의 value에 해당하는 시리즈가 열의 데이터로 변환된다.\n",
    "dict_data = {'c0':sr1, 'c1': sr2}\n",
    "df1 = pd.DataFrame(dict_data)\n",
    "df1"
   ]
  },
  {
   "cell_type": "code",
   "execution_count": 11,
   "metadata": {},
   "outputs": [
    {
     "data": {
      "text/plain": [
       "pandas.core.frame.DataFrame"
      ]
     },
     "execution_count": 11,
     "metadata": {},
     "output_type": "execute_result"
    }
   ],
   "source": [
    "# 데이터 프레임의 2차원 구조(행,렬) 딕셔너리 key는 c0, c1이며\n",
    "# 각각 sr1, sr2의 value를 갖는다.\n",
    "type(df1)\n",
    "# 데이터프레임의 열 이름은 columns 속성으로 추출한다.\n",
    "# 딕셔너리 키인 c0과 c1이 데이터 프레임의\n",
    "# 열 이름으로 변환됨을 알 수 있다. "
   ]
  },
  {
   "cell_type": "code",
   "execution_count": 12,
   "metadata": {},
   "outputs": [
    {
     "data": {
      "text/plain": [
       "Index(['c0', 'c1'], dtype='object')"
      ]
     },
     "execution_count": 12,
     "metadata": {},
     "output_type": "execute_result"
    }
   ],
   "source": [
    "df1.columns"
   ]
  },
  {
   "cell_type": "code",
   "execution_count": 14,
   "metadata": {},
   "outputs": [
    {
     "data": {
      "text/html": [
       "<div>\n",
       "<style scoped>\n",
       "    .dataframe tbody tr th:only-of-type {\n",
       "        vertical-align: middle;\n",
       "    }\n",
       "\n",
       "    .dataframe tbody tr th {\n",
       "        vertical-align: top;\n",
       "    }\n",
       "\n",
       "    .dataframe thead th {\n",
       "        text-align: right;\n",
       "    }\n",
       "</style>\n",
       "<table border=\"1\" class=\"dataframe\">\n",
       "  <thead>\n",
       "    <tr style=\"text-align: right;\">\n",
       "      <th></th>\n",
       "      <th>string</th>\n",
       "      <th>number</th>\n",
       "    </tr>\n",
       "  </thead>\n",
       "  <tbody>\n",
       "    <tr>\n",
       "      <th>0</th>\n",
       "      <td>a</td>\n",
       "      <td>1.00</td>\n",
       "    </tr>\n",
       "    <tr>\n",
       "      <th>1</th>\n",
       "      <td>b</td>\n",
       "      <td>2.00</td>\n",
       "    </tr>\n",
       "    <tr>\n",
       "      <th>2</th>\n",
       "      <td>c</td>\n",
       "      <td>3.14</td>\n",
       "    </tr>\n",
       "    <tr>\n",
       "      <th>3</th>\n",
       "      <td>d</td>\n",
       "      <td>100.00</td>\n",
       "    </tr>\n",
       "    <tr>\n",
       "      <th>4</th>\n",
       "      <td>e</td>\n",
       "      <td>-10.00</td>\n",
       "    </tr>\n",
       "  </tbody>\n",
       "</table>\n",
       "</div>"
      ],
      "text/plain": [
       "  string  number\n",
       "0      a    1.00\n",
       "1      b    2.00\n",
       "2      c    3.14\n",
       "3      d  100.00\n",
       "4      e  -10.00"
      ]
     },
     "execution_count": 14,
     "metadata": {},
     "output_type": "execute_result"
    }
   ],
   "source": [
    "df1.columns = ['string', 'number']\n",
    "df1\n",
    "# columns속성에 새로운 열의 이름의 배열을 지정하는 방식으로 열의 이름을 재구성할수 있다."
   ]
  },
  {
   "cell_type": "code",
   "execution_count": 17,
   "metadata": {},
   "outputs": [
    {
     "data": {
      "text/plain": [
       "RangeIndex(start=0, stop=5, step=1)"
      ]
     },
     "execution_count": 17,
     "metadata": {},
     "output_type": "execute_result"
    }
   ],
   "source": [
    "df1.index"
   ]
  },
  {
   "cell_type": "code",
   "execution_count": 19,
   "metadata": {},
   "outputs": [
    {
     "data": {
      "text/html": [
       "<div>\n",
       "<style scoped>\n",
       "    .dataframe tbody tr th:only-of-type {\n",
       "        vertical-align: middle;\n",
       "    }\n",
       "\n",
       "    .dataframe tbody tr th {\n",
       "        vertical-align: top;\n",
       "    }\n",
       "\n",
       "    .dataframe thead th {\n",
       "        text-align: right;\n",
       "    }\n",
       "</style>\n",
       "<table border=\"1\" class=\"dataframe\">\n",
       "  <thead>\n",
       "    <tr style=\"text-align: right;\">\n",
       "      <th></th>\n",
       "      <th>string</th>\n",
       "      <th>number</th>\n",
       "    </tr>\n",
       "  </thead>\n",
       "  <tbody>\n",
       "    <tr>\n",
       "      <th>r0</th>\n",
       "      <td>a</td>\n",
       "      <td>1.00</td>\n",
       "    </tr>\n",
       "    <tr>\n",
       "      <th>r1</th>\n",
       "      <td>b</td>\n",
       "      <td>2.00</td>\n",
       "    </tr>\n",
       "    <tr>\n",
       "      <th>r2</th>\n",
       "      <td>c</td>\n",
       "      <td>3.14</td>\n",
       "    </tr>\n",
       "    <tr>\n",
       "      <th>r3</th>\n",
       "      <td>d</td>\n",
       "      <td>100.00</td>\n",
       "    </tr>\n",
       "    <tr>\n",
       "      <th>r4</th>\n",
       "      <td>e</td>\n",
       "      <td>-10.00</td>\n",
       "    </tr>\n",
       "  </tbody>\n",
       "</table>\n",
       "</div>"
      ],
      "text/plain": [
       "   string  number\n",
       "r0      a    1.00\n",
       "r1      b    2.00\n",
       "r2      c    3.14\n",
       "r3      d  100.00\n",
       "r4      e  -10.00"
      ]
     },
     "execution_count": 19,
     "metadata": {},
     "output_type": "execute_result"
    }
   ],
   "source": [
    "df1.index = ['r0','r1','r2','r3','r4']\n",
    "df1\n",
    "# 속성에 새로운 행 인덱스 배열을 지졍하여 다음과 같이 행 인덱스를 입력할 수 있다."
   ]
  },
  {
   "cell_type": "code",
   "execution_count": 21,
   "metadata": {},
   "outputs": [
    {
     "data": {
      "text/plain": [
       "3.14"
      ]
     },
     "execution_count": 21,
     "metadata": {},
     "output_type": "execute_result"
    }
   ],
   "source": [
    "df1.loc['r2','number']\n",
    "# 데이터 프레임의 일부분을 추출할때 loc 인덱서를 사용한다.\n",
    "# loc[행인덱스, 열이름] 형태로 입력하면 해당 위치의 원소를 추출한다."
   ]
  },
  {
   "cell_type": "code",
   "execution_count": 23,
   "metadata": {},
   "outputs": [
    {
     "data": {
      "text/html": [
       "<div>\n",
       "<style scoped>\n",
       "    .dataframe tbody tr th:only-of-type {\n",
       "        vertical-align: middle;\n",
       "    }\n",
       "\n",
       "    .dataframe tbody tr th {\n",
       "        vertical-align: top;\n",
       "    }\n",
       "\n",
       "    .dataframe thead th {\n",
       "        text-align: right;\n",
       "    }\n",
       "</style>\n",
       "<table border=\"1\" class=\"dataframe\">\n",
       "  <thead>\n",
       "    <tr style=\"text-align: right;\">\n",
       "      <th></th>\n",
       "      <th>string</th>\n",
       "      <th>number</th>\n",
       "    </tr>\n",
       "  </thead>\n",
       "  <tbody>\n",
       "    <tr>\n",
       "      <th>r2</th>\n",
       "      <td>c</td>\n",
       "      <td>3.14</td>\n",
       "    </tr>\n",
       "    <tr>\n",
       "      <th>r3</th>\n",
       "      <td>d</td>\n",
       "      <td>100.00</td>\n",
       "    </tr>\n",
       "  </tbody>\n",
       "</table>\n",
       "</div>"
      ],
      "text/plain": [
       "   string  number\n",
       "r2      c    3.14\n",
       "r3      d  100.00"
      ]
     },
     "execution_count": 23,
     "metadata": {},
     "output_type": "execute_result"
    }
   ],
   "source": [
    "df1.loc['r2':'r3','string':'number']\n",
    "# loc 인덱서에 범위를 지정하는 방법\n",
    "# 행 인덱스 옵션에 'r2':'r3' 범위를 지정하고\n",
    "# 열 이름옵션에 'string':'number' 범위를 설정한다."
   ]
  },
  {
   "cell_type": "code",
   "execution_count": 24,
   "metadata": {},
   "outputs": [
    {
     "data": {
      "text/plain": [
       "r2      3.14\n",
       "r3    100.00\n",
       "Name: number, dtype: float64"
      ]
     },
     "execution_count": 24,
     "metadata": {},
     "output_type": "execute_result"
    }
   ],
   "source": [
    "df1.loc['r2':'r3','number']\n",
    "# 위와 다르다는 것을 인지할 것\n",
    "# loc 인덱서의 행 인덱스 옵션에 'r2':'r3' 범위를 지정하고\n",
    "# 열 이름 옵션에 'number' 열을 추가하면\n",
    "# r2부터 r3행이 선택되고 그중에 number열을 선택하여 출력한다."
   ]
  },
  {
   "cell_type": "code",
   "execution_count": 25,
   "metadata": {},
   "outputs": [
    {
     "data": {
      "text/plain": [
       "string       c\n",
       "number    3.14\n",
       "Name: r2, dtype: object"
      ]
     },
     "execution_count": 25,
     "metadata": {},
     "output_type": "execute_result"
    }
   ],
   "source": [
    "df1.loc['r2','string':'number']\n",
    "# loc인덱서의 행 인덱스 옵션에 'r2'를 지정하고\n",
    "# 열 이름 옵션에 'string':'number'범위를 지정한다.\n",
    "# 이 경우 string 열부터 number열까지 선택되고 r2행이 선택된다.\n",
    "# **시리즈 객체가 추출된다."
   ]
  },
  {
   "cell_type": "code",
   "execution_count": 26,
   "metadata": {},
   "outputs": [
    {
     "data": {
      "text/plain": [
       "r0    a\n",
       "r1    b\n",
       "r2    c\n",
       "r3    d\n",
       "r4    e\n",
       "Name: string, dtype: object"
      ]
     },
     "execution_count": 26,
     "metadata": {},
     "output_type": "execute_result"
    }
   ],
   "source": [
    "df1.loc[:,'string']\n",
    "# loc 인덱서의 행 인덱스 옵션에 모든(:) 행을 지정하고,\n",
    "# 열 이름 옵션에 'string'열을 지정한다.\n",
    "# 'string'열의 데이터가 모두 선택된다. 시리즈 객체가 추출된다."
   ]
  },
  {
   "cell_type": "code",
   "execution_count": 28,
   "metadata": {},
   "outputs": [
    {
     "data": {
      "text/html": [
       "<div>\n",
       "<style scoped>\n",
       "    .dataframe tbody tr th:only-of-type {\n",
       "        vertical-align: middle;\n",
       "    }\n",
       "\n",
       "    .dataframe tbody tr th {\n",
       "        vertical-align: top;\n",
       "    }\n",
       "\n",
       "    .dataframe thead th {\n",
       "        text-align: right;\n",
       "    }\n",
       "</style>\n",
       "<table border=\"1\" class=\"dataframe\">\n",
       "  <thead>\n",
       "    <tr style=\"text-align: right;\">\n",
       "      <th></th>\n",
       "      <th>string</th>\n",
       "      <th>number</th>\n",
       "    </tr>\n",
       "  </thead>\n",
       "  <tbody>\n",
       "    <tr>\n",
       "      <th>r2</th>\n",
       "      <td>c</td>\n",
       "      <td>3.14</td>\n",
       "    </tr>\n",
       "    <tr>\n",
       "      <th>r3</th>\n",
       "      <td>d</td>\n",
       "      <td>100.00</td>\n",
       "    </tr>\n",
       "  </tbody>\n",
       "</table>\n",
       "</div>"
      ],
      "text/plain": [
       "   string  number\n",
       "r2      c    3.14\n",
       "r3      d  100.00"
      ]
     },
     "execution_count": 28,
     "metadata": {},
     "output_type": "execute_result"
    }
   ],
   "source": [
    "df1.loc['r2':'r3', :]\n",
    "# loc인덱서의 행 인덱스 옵션에 'r2':'r3' 범위를 지정하고\n",
    "# 열 이름 옵션에 모든(:) 열을 지정한다.\n",
    "# 행 2개, 열 2개인 데이터프레임이 추출된다."
   ]
  },
  {
   "cell_type": "code",
   "execution_count": 1,
   "metadata": {},
   "outputs": [
    {
     "name": "stdout",
     "output_type": "stream",
     "text": [
      "[0, 1, 2, 3, 4, 5, 6, 7, 8, 9]\n"
     ]
    }
   ],
   "source": [
    "v = list(range(10))\n",
    "print(v)"
   ]
  },
  {
   "cell_type": "code",
   "execution_count": 3,
   "metadata": {},
   "outputs": [
    {
     "data": {
      "text/plain": [
       "[0, 1, 2, 3, 4, 5, 6, 7, 8, 9]"
      ]
     },
     "execution_count": 3,
     "metadata": {},
     "output_type": "execute_result"
    }
   ],
   "source": [
    "[i for i in v]"
   ]
  },
  {
   "cell_type": "code",
   "execution_count": 4,
   "metadata": {},
   "outputs": [
    {
     "name": "stdout",
     "output_type": "stream",
     "text": [
      "0123456789\n"
     ]
    }
   ],
   "source": [
    "print(\"\".join(str(i) for i in v))"
   ]
  },
  {
   "cell_type": "code",
   "execution_count": 5,
   "metadata": {},
   "outputs": [
    {
     "name": "stdout",
     "output_type": "stream",
     "text": [
      "[[0, 1, 2, 3, 4, 5, 6, 7, 8, 9], [10, 11, 12]]\n"
     ]
    }
   ],
   "source": [
    "v = [list(range(10)), [10,11,12]]\n",
    "print(v)"
   ]
  },
  {
   "cell_type": "code",
   "execution_count": 6,
   "metadata": {},
   "outputs": [
    {
     "data": {
      "text/plain": [
       "[0, 1, 2, 3, 4, 5, 6, 7, 8, 9, 10, 11, 12]"
      ]
     },
     "execution_count": 6,
     "metadata": {},
     "output_type": "execute_result"
    }
   ],
   "source": [
    "[j for i in v for j in i]"
   ]
  },
  {
   "cell_type": "code",
   "execution_count": 8,
   "metadata": {},
   "outputs": [
    {
     "name": "stdout",
     "output_type": "stream",
     "text": [
      "0\n",
      "0\n"
     ]
    }
   ],
   "source": [
    "v = 3\n",
    "if v< 5 : print(0)\n",
    "print(0 if v < 5 else 1)"
   ]
  },
  {
   "cell_type": "code",
   "execution_count": 9,
   "metadata": {},
   "outputs": [
    {
     "name": "stdout",
     "output_type": "stream",
     "text": [
      "1\n",
      "1\n"
     ]
    }
   ],
   "source": [
    "v = 6\n",
    "if v > 5 : print(1)\n",
    "print(1 if v > 5 else 0)"
   ]
  },
  {
   "cell_type": "code",
   "execution_count": 13,
   "metadata": {},
   "outputs": [
    {
     "name": "stdout",
     "output_type": "stream",
     "text": [
      "2\n"
     ]
    }
   ],
   "source": [
    "v = 11\n",
    "print(0 if v < 5 else 1 if v < 10 else 2)"
   ]
  },
  {
   "cell_type": "code",
   "execution_count": 14,
   "metadata": {},
   "outputs": [
    {
     "name": "stdout",
     "output_type": "stream",
     "text": [
      "[0, 1, 2, 3, 4, 5, 6, 7, 8, 9]\n"
     ]
    }
   ],
   "source": [
    "v = list(range(10))\n",
    "print(v)"
   ]
  },
  {
   "cell_type": "code",
   "execution_count": 16,
   "metadata": {},
   "outputs": [
    {
     "data": {
      "text/plain": [
       "[6]"
      ]
     },
     "execution_count": 16,
     "metadata": {},
     "output_type": "execute_result"
    }
   ],
   "source": [
    "[i for i in v if i == 6]"
   ]
  },
  {
   "cell_type": "code",
   "execution_count": 18,
   "metadata": {},
   "outputs": [
    {
     "name": "stdout",
     "output_type": "stream",
     "text": [
      "0\n",
      "0\n",
      "0\n",
      "0\n",
      "0\n",
      "0\n",
      "6\n",
      "0\n",
      "0\n",
      "0\n"
     ]
    },
    {
     "data": {
      "text/plain": [
       "['0', '0', '0', '0', '0', '0', 6, '0', '0', '0']"
      ]
     },
     "execution_count": 18,
     "metadata": {},
     "output_type": "execute_result"
    }
   ],
   "source": [
    "for i in v:\n",
    "    if i == 6:\n",
    "        print(i)\n",
    "    else:\n",
    "        print(\"0\")\n",
    "# [i for i in v if i ==6 else 0]\n",
    "[i if i == 6 else \"0\" for i in v]"
   ]
  },
  {
   "cell_type": "code",
   "execution_count": 12,
   "metadata": {},
   "outputs": [],
   "source": [
    "from bs4 import BeautifulSoup\n",
    "import requests\n",
    "import time\n",
    "from pandas import DataFrame"
   ]
  },
  {
   "cell_type": "code",
   "execution_count": 13,
   "metadata": {},
   "outputs": [
    {
     "name": "stdout",
     "output_type": "stream",
     "text": [
      "생성url:  https://search.naver.com/search.naver?where=nexearch&sm=top_hty&fbm=0&ie=utf8&query=우울증%start=0\n"
     ]
    }
   ],
   "source": [
    "page_num = [0, 1, 11, 21]\n",
    "search = input(\"검색할 내용을 입력하세요:\")\n",
    "#url 생성\n",
    "urlEL = \"https://search.naver.com/search.naver?where=nexearch&sm=top_hty&fbm=0&ie=utf8&query=\" + search + \"%start=\" + str(page_num[0])\n",
    "print(\"생성url: \",urlEL)"
   ]
  },
  {
   "cell_type": "code",
   "execution_count": 14,
   "metadata": {},
   "outputs": [],
   "source": [
    "userAgent = \"Mozilla/5.0 (Windows NT 10.0; Win64; x64) AppleWebKit/537.36 (KHTML, like Gecko) Chrome/114.0.0.0 Safari/537.36\""
   ]
  },
  {
   "cell_type": "code",
   "execution_count": 15,
   "metadata": {},
   "outputs": [
    {
     "data": {
      "text/html": [
       "<div>\n",
       "<style scoped>\n",
       "    .dataframe tbody tr th:only-of-type {\n",
       "        vertical-align: middle;\n",
       "    }\n",
       "\n",
       "    .dataframe tbody tr th {\n",
       "        vertical-align: top;\n",
       "    }\n",
       "\n",
       "    .dataframe thead th {\n",
       "        text-align: right;\n",
       "    }\n",
       "</style>\n",
       "<table border=\"1\" class=\"dataframe\">\n",
       "  <thead>\n",
       "    <tr style=\"text-align: right;\">\n",
       "      <th></th>\n",
       "      <th>0</th>\n",
       "    </tr>\n",
       "  </thead>\n",
       "  <tbody>\n",
       "    <tr>\n",
       "      <th>아산, 2022년 하반기 공·유(공감과 치유) 아카데미 'Start'</th>\n",
       "      <td>http://www.ccdn.co.kr/news/articleView.html?id...</td>\n",
       "    </tr>\n",
       "    <tr>\n",
       "      <th>\"매달 천만원 병원비가 아깝다고...\" 아버지 떠나보낸 송민호가 원망하며 쓴 편지</th>\n",
       "      <td>https://www.insight.co.kr/news/422878</td>\n",
       "    </tr>\n",
       "    <tr>\n",
       "      <th>[K-스타트업의 도약 17] 이모티브 “모바일 게임으로 ADHD 치료”</th>\n",
       "      <td>https://www.ekn.kr/web/view.php?key=2022111101...</td>\n",
       "    </tr>\n",
       "    <tr>\n",
       "      <th>[K-스타트업의 도약 ⑧]“VR·AI로 ADHD 치료” 히포티앤씨...\"디지털치료제 ‘어텐케어’로 비용 줄이고 효과 극대화\"</th>\n",
       "      <td>https://www.ekn.kr/web/view.php?key=2022091201...</td>\n",
       "    </tr>\n",
       "    <tr>\n",
       "      <th>[K-스타트업의 도약 ⑥] 슬립테크 루플 \"빛을 이용한 불면증 치유\"</th>\n",
       "      <td>https://www.ekn.kr/web/view.php?key=2022090201...</td>\n",
       "    </tr>\n",
       "    <tr>\n",
       "      <th>우크라이나 사태와 한반도 비핵화</th>\n",
       "      <td>http://www.mediatoday.co.kr/news/articleView.h...</td>\n",
       "    </tr>\n",
       "    <tr>\n",
       "      <th>사회적 스트레스가 쌓이는 지금 마음 챙김이 필요!</th>\n",
       "      <td>http://www.breaknews.com/858647</td>\n",
       "    </tr>\n",
       "    <tr>\n",
       "      <th>인공지능 기업, AI중심도시 광주행 가속화</th>\n",
       "      <td>http://www.breaknews.com/841815</td>\n",
       "    </tr>\n",
       "    <tr>\n",
       "      <th>[21세기 중심 의학 : 생활의학] 생활의학과 약물요법</th>\n",
       "      <td>http://www.withinnews.co.kr/news/view.html?sec...</td>\n",
       "    </tr>\n",
       "    <tr>\n",
       "      <th>블랙핑크 보고 있나? 캐나다 학생들의 '뚜두뚜두'</th>\n",
       "      <td>http://www.ohmynews.com/NWS_Web/View/at_pg.asp...</td>\n",
       "    </tr>\n",
       "  </tbody>\n",
       "</table>\n",
       "</div>"
      ],
      "text/plain": [
       "                                                                                                    0\n",
       "아산, 2022년 하반기 공·유(공감과 치유) 아카데미 'Start'              http://www.ccdn.co.kr/news/articleView.html?id...\n",
       "\"매달 천만원 병원비가 아깝다고...\" 아버지 떠나보낸 송민호가 원망하며 쓴 편지                   https://www.insight.co.kr/news/422878\n",
       "[K-스타트업의 도약 17] 이모티브 “모바일 게임으로 ADHD 치료”             https://www.ekn.kr/web/view.php?key=2022111101...\n",
       "[K-스타트업의 도약 ⑧]“VR·AI로 ADHD 치료” 히포티앤씨...\"디지털치료제 ...  https://www.ekn.kr/web/view.php?key=2022091201...\n",
       "[K-스타트업의 도약 ⑥] 슬립테크 루플 \"빛을 이용한 불면증 치유\"              https://www.ekn.kr/web/view.php?key=2022090201...\n",
       "우크라이나 사태와 한반도 비핵화                                   http://www.mediatoday.co.kr/news/articleView.h...\n",
       "사회적 스트레스가 쌓이는 지금 마음 챙김이 필요!                                           http://www.breaknews.com/858647\n",
       "인공지능 기업, AI중심도시 광주행 가속화                                               http://www.breaknews.com/841815\n",
       "[21세기 중심 의학 : 생활의학] 생활의학과 약물요법                      http://www.withinnews.co.kr/news/view.html?sec...\n",
       "블랙핑크 보고 있나? 캐나다 학생들의 '뚜두뚜두'                         http://www.ohmynews.com/NWS_Web/View/at_pg.asp..."
      ]
     },
     "execution_count": 15,
     "metadata": {},
     "output_type": "execute_result"
    }
   ],
   "source": [
    "# 접속객체 생성\n",
    "session = requests.Session()\n",
    "# 접속객체에 부가정보(header) 삽입하기\n",
    "session.headers.update({\n",
    "    \"Referer\": \"\",\n",
    "    \"User-Agent\": userAgent\n",
    "})\n",
    "news = []\n",
    "for i in range(len(page_num)):\n",
    "    url = \"https://search.naver.com/search.naver?sm=tab_hty.top&where=news&query=\" + search + \"%start=\" + str(page_num[i])\n",
    "\n",
    "    r = session.get(url)\n",
    "    if r.status_code != 200:\n",
    "        msg = \"[%d Error] %s 에러가 발생함\" % (r.status_code, r.reason)\n",
    "        raise Exception(msg)\n",
    "    r.encoding = \"utf-8\"\n",
    "    soup = BeautifulSoup(r.text)\n",
    "\n",
    "    articles = soup.select(\"div.group_news > ul.list_news > li div.news_area > a\")\n",
    "\n",
    "    news_title = []\n",
    "    content = []\n",
    "    agency = []\n",
    "    for i in articles:\n",
    "        news_title.append(i.attrs['title'])\n",
    "\n",
    "        content.append(i.attrs['href'])\n",
    "# print(news_title)\n",
    "# print(content)\n",
    "df = DataFrame(content, news_title)\n",
    "df.to_excel(\"네이버기사.xlsx\")\n",
    "df"
   ]
  },
  {
   "cell_type": "code",
   "execution_count": 1,
   "metadata": {},
   "outputs": [],
   "source": [
    "# 주성분 분석용 패키지\n",
    "from sklearn.decomposition import PCA\n",
    "# 주성분 분석 결과를 DataFrame으로 확인할 수 있는 기능을 제공하는 패키지\n",
    "from pca import pca \n",
    "# 표준화 처리 패키지\n",
    "from sklearn.preprocessing import StandardScaler\n",
    "from pandas import read_excel, DataFrame\n",
    "from matplotlib import pyplot as plt\n",
    "import seaborn as sb\n",
    "import sys\n",
    "import os\n",
    "from sklearn.decomposition import PCA\n",
    "# 주성분 분석 결과를 DataFrame으로 확인할 수 있는 기능을 제공하는 패키지\n",
    "from pca import pca \n",
    "# 표준화 처리 패키지"
   ]
  },
  {
   "cell_type": "code",
   "execution_count": 2,
   "metadata": {},
   "outputs": [],
   "source": [
    "from pandas import read_csv\n",
    "import pandas as pd"
   ]
  },
  {
   "cell_type": "code",
   "execution_count": 5,
   "metadata": {},
   "outputs": [
    {
     "data": {
      "text/html": [
       "<div>\n",
       "<style scoped>\n",
       "    .dataframe tbody tr th:only-of-type {\n",
       "        vertical-align: middle;\n",
       "    }\n",
       "\n",
       "    .dataframe tbody tr th {\n",
       "        vertical-align: top;\n",
       "    }\n",
       "\n",
       "    .dataframe thead th {\n",
       "        text-align: right;\n",
       "    }\n",
       "</style>\n",
       "<table border=\"1\" class=\"dataframe\">\n",
       "  <thead>\n",
       "    <tr style=\"text-align: right;\">\n",
       "      <th></th>\n",
       "      <th>구분</th>\n",
       "      <th>총계</th>\n",
       "      <th>2013년 이전\\n설치된 CCTV</th>\n",
       "      <th>2013년</th>\n",
       "      <th>2014년</th>\n",
       "      <th>2015년</th>\n",
       "      <th>2016년</th>\n",
       "      <th>2017년</th>\n",
       "      <th>2018년</th>\n",
       "      <th>2019년</th>\n",
       "      <th>...</th>\n",
       "      <th>Unnamed: 16374</th>\n",
       "      <th>Unnamed: 16375</th>\n",
       "      <th>Unnamed: 16376</th>\n",
       "      <th>Unnamed: 16377</th>\n",
       "      <th>Unnamed: 16378</th>\n",
       "      <th>Unnamed: 16379</th>\n",
       "      <th>Unnamed: 16380</th>\n",
       "      <th>Unnamed: 16381</th>\n",
       "      <th>Unnamed: 16382</th>\n",
       "      <th>Unnamed: 16383</th>\n",
       "    </tr>\n",
       "  </thead>\n",
       "  <tbody>\n",
       "    <tr>\n",
       "      <th>0</th>\n",
       "      <td>계</td>\n",
       "      <td>91,341</td>\n",
       "      <td>2,804</td>\n",
       "      <td>3,097</td>\n",
       "      <td>3,981</td>\n",
       "      <td>6,576</td>\n",
       "      <td>8,850</td>\n",
       "      <td>11,566</td>\n",
       "      <td>11,024</td>\n",
       "      <td>13,151</td>\n",
       "      <td>...</td>\n",
       "      <td>NaN</td>\n",
       "      <td>NaN</td>\n",
       "      <td>NaN</td>\n",
       "      <td>NaN</td>\n",
       "      <td>NaN</td>\n",
       "      <td>NaN</td>\n",
       "      <td>NaN</td>\n",
       "      <td>NaN</td>\n",
       "      <td>NaN</td>\n",
       "      <td>NaN</td>\n",
       "    </tr>\n",
       "    <tr>\n",
       "      <th>1</th>\n",
       "      <td>종로구</td>\n",
       "      <td>1,980</td>\n",
       "      <td>36</td>\n",
       "      <td>540</td>\n",
       "      <td>107</td>\n",
       "      <td>161</td>\n",
       "      <td>131</td>\n",
       "      <td>158</td>\n",
       "      <td>152</td>\n",
       "      <td>69</td>\n",
       "      <td>...</td>\n",
       "      <td>NaN</td>\n",
       "      <td>NaN</td>\n",
       "      <td>NaN</td>\n",
       "      <td>NaN</td>\n",
       "      <td>NaN</td>\n",
       "      <td>NaN</td>\n",
       "      <td>NaN</td>\n",
       "      <td>NaN</td>\n",
       "      <td>NaN</td>\n",
       "      <td>NaN</td>\n",
       "    </tr>\n",
       "    <tr>\n",
       "      <th>2</th>\n",
       "      <td>중 구</td>\n",
       "      <td>2,584</td>\n",
       "      <td>130</td>\n",
       "      <td>87</td>\n",
       "      <td>77</td>\n",
       "      <td>236</td>\n",
       "      <td>240</td>\n",
       "      <td>372</td>\n",
       "      <td>386</td>\n",
       "      <td>155</td>\n",
       "      <td>...</td>\n",
       "      <td>NaN</td>\n",
       "      <td>NaN</td>\n",
       "      <td>NaN</td>\n",
       "      <td>NaN</td>\n",
       "      <td>NaN</td>\n",
       "      <td>NaN</td>\n",
       "      <td>NaN</td>\n",
       "      <td>NaN</td>\n",
       "      <td>NaN</td>\n",
       "      <td>NaN</td>\n",
       "    </tr>\n",
       "    <tr>\n",
       "      <th>3</th>\n",
       "      <td>용산구</td>\n",
       "      <td>2,847</td>\n",
       "      <td>44</td>\n",
       "      <td>50</td>\n",
       "      <td>68</td>\n",
       "      <td>83</td>\n",
       "      <td>295</td>\n",
       "      <td>491</td>\n",
       "      <td>115</td>\n",
       "      <td>322</td>\n",
       "      <td>...</td>\n",
       "      <td>NaN</td>\n",
       "      <td>NaN</td>\n",
       "      <td>NaN</td>\n",
       "      <td>NaN</td>\n",
       "      <td>NaN</td>\n",
       "      <td>NaN</td>\n",
       "      <td>NaN</td>\n",
       "      <td>NaN</td>\n",
       "      <td>NaN</td>\n",
       "      <td>NaN</td>\n",
       "    </tr>\n",
       "    <tr>\n",
       "      <th>4</th>\n",
       "      <td>성동구</td>\n",
       "      <td>4,047</td>\n",
       "      <td>58</td>\n",
       "      <td>99</td>\n",
       "      <td>110</td>\n",
       "      <td>366</td>\n",
       "      <td>279</td>\n",
       "      <td>945</td>\n",
       "      <td>459</td>\n",
       "      <td>647</td>\n",
       "      <td>...</td>\n",
       "      <td>NaN</td>\n",
       "      <td>NaN</td>\n",
       "      <td>NaN</td>\n",
       "      <td>NaN</td>\n",
       "      <td>NaN</td>\n",
       "      <td>NaN</td>\n",
       "      <td>NaN</td>\n",
       "      <td>NaN</td>\n",
       "      <td>NaN</td>\n",
       "      <td>NaN</td>\n",
       "    </tr>\n",
       "    <tr>\n",
       "      <th>5</th>\n",
       "      <td>광진구</td>\n",
       "      <td>3,480</td>\n",
       "      <td>507</td>\n",
       "      <td>82</td>\n",
       "      <td>84</td>\n",
       "      <td>64</td>\n",
       "      <td>21</td>\n",
       "      <td>465</td>\n",
       "      <td>443</td>\n",
       "      <td>709</td>\n",
       "      <td>...</td>\n",
       "      <td>NaN</td>\n",
       "      <td>NaN</td>\n",
       "      <td>NaN</td>\n",
       "      <td>NaN</td>\n",
       "      <td>NaN</td>\n",
       "      <td>NaN</td>\n",
       "      <td>NaN</td>\n",
       "      <td>NaN</td>\n",
       "      <td>NaN</td>\n",
       "      <td>NaN</td>\n",
       "    </tr>\n",
       "    <tr>\n",
       "      <th>6</th>\n",
       "      <td>동대문구</td>\n",
       "      <td>2,759</td>\n",
       "      <td>1</td>\n",
       "      <td>4</td>\n",
       "      <td>12</td>\n",
       "      <td>107</td>\n",
       "      <td>802</td>\n",
       "      <td>711</td>\n",
       "      <td>201</td>\n",
       "      <td>218</td>\n",
       "      <td>...</td>\n",
       "      <td>NaN</td>\n",
       "      <td>NaN</td>\n",
       "      <td>NaN</td>\n",
       "      <td>NaN</td>\n",
       "      <td>NaN</td>\n",
       "      <td>NaN</td>\n",
       "      <td>NaN</td>\n",
       "      <td>NaN</td>\n",
       "      <td>NaN</td>\n",
       "      <td>NaN</td>\n",
       "    </tr>\n",
       "    <tr>\n",
       "      <th>7</th>\n",
       "      <td>중랑구</td>\n",
       "      <td>4,193</td>\n",
       "      <td>224</td>\n",
       "      <td>331</td>\n",
       "      <td>104</td>\n",
       "      <td>145</td>\n",
       "      <td>153</td>\n",
       "      <td>170</td>\n",
       "      <td>215</td>\n",
       "      <td>1,074</td>\n",
       "      <td>...</td>\n",
       "      <td>NaN</td>\n",
       "      <td>NaN</td>\n",
       "      <td>NaN</td>\n",
       "      <td>NaN</td>\n",
       "      <td>NaN</td>\n",
       "      <td>NaN</td>\n",
       "      <td>NaN</td>\n",
       "      <td>NaN</td>\n",
       "      <td>NaN</td>\n",
       "      <td>NaN</td>\n",
       "    </tr>\n",
       "    <tr>\n",
       "      <th>8</th>\n",
       "      <td>성북구</td>\n",
       "      <td>4,842</td>\n",
       "      <td>137</td>\n",
       "      <td>170</td>\n",
       "      <td>229</td>\n",
       "      <td>322</td>\n",
       "      <td>594</td>\n",
       "      <td>811</td>\n",
       "      <td>867</td>\n",
       "      <td>714</td>\n",
       "      <td>...</td>\n",
       "      <td>NaN</td>\n",
       "      <td>NaN</td>\n",
       "      <td>NaN</td>\n",
       "      <td>NaN</td>\n",
       "      <td>NaN</td>\n",
       "      <td>NaN</td>\n",
       "      <td>NaN</td>\n",
       "      <td>NaN</td>\n",
       "      <td>NaN</td>\n",
       "      <td>NaN</td>\n",
       "    </tr>\n",
       "    <tr>\n",
       "      <th>9</th>\n",
       "      <td>강북구</td>\n",
       "      <td>3,321</td>\n",
       "      <td>0</td>\n",
       "      <td>21</td>\n",
       "      <td>16</td>\n",
       "      <td>68</td>\n",
       "      <td>210</td>\n",
       "      <td>4</td>\n",
       "      <td>375</td>\n",
       "      <td>963</td>\n",
       "      <td>...</td>\n",
       "      <td>NaN</td>\n",
       "      <td>NaN</td>\n",
       "      <td>NaN</td>\n",
       "      <td>NaN</td>\n",
       "      <td>NaN</td>\n",
       "      <td>NaN</td>\n",
       "      <td>NaN</td>\n",
       "      <td>NaN</td>\n",
       "      <td>NaN</td>\n",
       "      <td>NaN</td>\n",
       "    </tr>\n",
       "    <tr>\n",
       "      <th>10</th>\n",
       "      <td>도봉구</td>\n",
       "      <td>2,247</td>\n",
       "      <td>103</td>\n",
       "      <td>2</td>\n",
       "      <td>79</td>\n",
       "      <td>72</td>\n",
       "      <td>103</td>\n",
       "      <td>117</td>\n",
       "      <td>200</td>\n",
       "      <td>202</td>\n",
       "      <td>...</td>\n",
       "      <td>NaN</td>\n",
       "      <td>NaN</td>\n",
       "      <td>NaN</td>\n",
       "      <td>NaN</td>\n",
       "      <td>NaN</td>\n",
       "      <td>NaN</td>\n",
       "      <td>NaN</td>\n",
       "      <td>NaN</td>\n",
       "      <td>NaN</td>\n",
       "      <td>NaN</td>\n",
       "    </tr>\n",
       "    <tr>\n",
       "      <th>11</th>\n",
       "      <td>노원구</td>\n",
       "      <td>2,617</td>\n",
       "      <td>77</td>\n",
       "      <td>153</td>\n",
       "      <td>75</td>\n",
       "      <td>510</td>\n",
       "      <td>329</td>\n",
       "      <td>172</td>\n",
       "      <td>216</td>\n",
       "      <td>326</td>\n",
       "      <td>...</td>\n",
       "      <td>NaN</td>\n",
       "      <td>NaN</td>\n",
       "      <td>NaN</td>\n",
       "      <td>NaN</td>\n",
       "      <td>NaN</td>\n",
       "      <td>NaN</td>\n",
       "      <td>NaN</td>\n",
       "      <td>NaN</td>\n",
       "      <td>NaN</td>\n",
       "      <td>NaN</td>\n",
       "    </tr>\n",
       "    <tr>\n",
       "      <th>12</th>\n",
       "      <td>은평구</td>\n",
       "      <td>4,653</td>\n",
       "      <td>17</td>\n",
       "      <td>44</td>\n",
       "      <td>332</td>\n",
       "      <td>329</td>\n",
       "      <td>555</td>\n",
       "      <td>403</td>\n",
       "      <td>635</td>\n",
       "      <td>1,057</td>\n",
       "      <td>...</td>\n",
       "      <td>NaN</td>\n",
       "      <td>NaN</td>\n",
       "      <td>NaN</td>\n",
       "      <td>NaN</td>\n",
       "      <td>NaN</td>\n",
       "      <td>NaN</td>\n",
       "      <td>NaN</td>\n",
       "      <td>NaN</td>\n",
       "      <td>NaN</td>\n",
       "      <td>NaN</td>\n",
       "    </tr>\n",
       "    <tr>\n",
       "      <th>13</th>\n",
       "      <td>서대문구</td>\n",
       "      <td>3,445</td>\n",
       "      <td>312</td>\n",
       "      <td>144</td>\n",
       "      <td>127</td>\n",
       "      <td>77</td>\n",
       "      <td>254</td>\n",
       "      <td>524</td>\n",
       "      <td>389</td>\n",
       "      <td>344</td>\n",
       "      <td>...</td>\n",
       "      <td>NaN</td>\n",
       "      <td>NaN</td>\n",
       "      <td>NaN</td>\n",
       "      <td>NaN</td>\n",
       "      <td>NaN</td>\n",
       "      <td>NaN</td>\n",
       "      <td>NaN</td>\n",
       "      <td>NaN</td>\n",
       "      <td>NaN</td>\n",
       "      <td>NaN</td>\n",
       "    </tr>\n",
       "    <tr>\n",
       "      <th>14</th>\n",
       "      <td>마포구</td>\n",
       "      <td>2,628</td>\n",
       "      <td>21</td>\n",
       "      <td>40</td>\n",
       "      <td>109</td>\n",
       "      <td>170</td>\n",
       "      <td>458</td>\n",
       "      <td>376</td>\n",
       "      <td>368</td>\n",
       "      <td>494</td>\n",
       "      <td>...</td>\n",
       "      <td>NaN</td>\n",
       "      <td>NaN</td>\n",
       "      <td>NaN</td>\n",
       "      <td>NaN</td>\n",
       "      <td>NaN</td>\n",
       "      <td>NaN</td>\n",
       "      <td>NaN</td>\n",
       "      <td>NaN</td>\n",
       "      <td>NaN</td>\n",
       "      <td>NaN</td>\n",
       "    </tr>\n",
       "    <tr>\n",
       "      <th>15</th>\n",
       "      <td>양천구</td>\n",
       "      <td>3,851</td>\n",
       "      <td>197</td>\n",
       "      <td>139</td>\n",
       "      <td>128</td>\n",
       "      <td>239</td>\n",
       "      <td>422</td>\n",
       "      <td>563</td>\n",
       "      <td>830</td>\n",
       "      <td>311</td>\n",
       "      <td>...</td>\n",
       "      <td>NaN</td>\n",
       "      <td>NaN</td>\n",
       "      <td>NaN</td>\n",
       "      <td>NaN</td>\n",
       "      <td>NaN</td>\n",
       "      <td>NaN</td>\n",
       "      <td>NaN</td>\n",
       "      <td>NaN</td>\n",
       "      <td>NaN</td>\n",
       "      <td>NaN</td>\n",
       "    </tr>\n",
       "    <tr>\n",
       "      <th>16</th>\n",
       "      <td>강서구</td>\n",
       "      <td>3,265</td>\n",
       "      <td>67</td>\n",
       "      <td>59</td>\n",
       "      <td>202</td>\n",
       "      <td>193</td>\n",
       "      <td>168</td>\n",
       "      <td>506</td>\n",
       "      <td>259</td>\n",
       "      <td>458</td>\n",
       "      <td>...</td>\n",
       "      <td>NaN</td>\n",
       "      <td>NaN</td>\n",
       "      <td>NaN</td>\n",
       "      <td>NaN</td>\n",
       "      <td>NaN</td>\n",
       "      <td>NaN</td>\n",
       "      <td>NaN</td>\n",
       "      <td>NaN</td>\n",
       "      <td>NaN</td>\n",
       "      <td>NaN</td>\n",
       "    </tr>\n",
       "    <tr>\n",
       "      <th>17</th>\n",
       "      <td>구로구</td>\n",
       "      <td>4,693</td>\n",
       "      <td>37</td>\n",
       "      <td>361</td>\n",
       "      <td>193</td>\n",
       "      <td>269</td>\n",
       "      <td>353</td>\n",
       "      <td>563</td>\n",
       "      <td>545</td>\n",
       "      <td>794</td>\n",
       "      <td>...</td>\n",
       "      <td>NaN</td>\n",
       "      <td>NaN</td>\n",
       "      <td>NaN</td>\n",
       "      <td>NaN</td>\n",
       "      <td>NaN</td>\n",
       "      <td>NaN</td>\n",
       "      <td>NaN</td>\n",
       "      <td>NaN</td>\n",
       "      <td>NaN</td>\n",
       "      <td>NaN</td>\n",
       "    </tr>\n",
       "    <tr>\n",
       "      <th>18</th>\n",
       "      <td>금천구</td>\n",
       "      <td>2,636</td>\n",
       "      <td>0</td>\n",
       "      <td>0</td>\n",
       "      <td>43</td>\n",
       "      <td>361</td>\n",
       "      <td>133</td>\n",
       "      <td>196</td>\n",
       "      <td>539</td>\n",
       "      <td>367</td>\n",
       "      <td>...</td>\n",
       "      <td>NaN</td>\n",
       "      <td>NaN</td>\n",
       "      <td>NaN</td>\n",
       "      <td>NaN</td>\n",
       "      <td>NaN</td>\n",
       "      <td>NaN</td>\n",
       "      <td>NaN</td>\n",
       "      <td>NaN</td>\n",
       "      <td>NaN</td>\n",
       "      <td>NaN</td>\n",
       "    </tr>\n",
       "    <tr>\n",
       "      <th>19</th>\n",
       "      <td>영등포구</td>\n",
       "      <td>4,553</td>\n",
       "      <td>109</td>\n",
       "      <td>81</td>\n",
       "      <td>295</td>\n",
       "      <td>360</td>\n",
       "      <td>285</td>\n",
       "      <td>422</td>\n",
       "      <td>803</td>\n",
       "      <td>153</td>\n",
       "      <td>...</td>\n",
       "      <td>NaN</td>\n",
       "      <td>NaN</td>\n",
       "      <td>NaN</td>\n",
       "      <td>NaN</td>\n",
       "      <td>NaN</td>\n",
       "      <td>NaN</td>\n",
       "      <td>NaN</td>\n",
       "      <td>NaN</td>\n",
       "      <td>NaN</td>\n",
       "      <td>NaN</td>\n",
       "    </tr>\n",
       "    <tr>\n",
       "      <th>20</th>\n",
       "      <td>동작구</td>\n",
       "      <td>2,671</td>\n",
       "      <td>66</td>\n",
       "      <td>25</td>\n",
       "      <td>502</td>\n",
       "      <td>127</td>\n",
       "      <td>256</td>\n",
       "      <td>271</td>\n",
       "      <td>300</td>\n",
       "      <td>307</td>\n",
       "      <td>...</td>\n",
       "      <td>NaN</td>\n",
       "      <td>NaN</td>\n",
       "      <td>NaN</td>\n",
       "      <td>NaN</td>\n",
       "      <td>NaN</td>\n",
       "      <td>NaN</td>\n",
       "      <td>NaN</td>\n",
       "      <td>NaN</td>\n",
       "      <td>NaN</td>\n",
       "      <td>NaN</td>\n",
       "    </tr>\n",
       "    <tr>\n",
       "      <th>21</th>\n",
       "      <td>관악구</td>\n",
       "      <td>5,398</td>\n",
       "      <td>362</td>\n",
       "      <td>244</td>\n",
       "      <td>302</td>\n",
       "      <td>537</td>\n",
       "      <td>607</td>\n",
       "      <td>676</td>\n",
       "      <td>662</td>\n",
       "      <td>890</td>\n",
       "      <td>...</td>\n",
       "      <td>NaN</td>\n",
       "      <td>NaN</td>\n",
       "      <td>NaN</td>\n",
       "      <td>NaN</td>\n",
       "      <td>NaN</td>\n",
       "      <td>NaN</td>\n",
       "      <td>NaN</td>\n",
       "      <td>NaN</td>\n",
       "      <td>NaN</td>\n",
       "      <td>NaN</td>\n",
       "    </tr>\n",
       "    <tr>\n",
       "      <th>22</th>\n",
       "      <td>서초구</td>\n",
       "      <td>4,995</td>\n",
       "      <td>74</td>\n",
       "      <td>86</td>\n",
       "      <td>70</td>\n",
       "      <td>559</td>\n",
       "      <td>518</td>\n",
       "      <td>1,054</td>\n",
       "      <td>426</td>\n",
       "      <td>344</td>\n",
       "      <td>...</td>\n",
       "      <td>NaN</td>\n",
       "      <td>NaN</td>\n",
       "      <td>NaN</td>\n",
       "      <td>NaN</td>\n",
       "      <td>NaN</td>\n",
       "      <td>NaN</td>\n",
       "      <td>NaN</td>\n",
       "      <td>NaN</td>\n",
       "      <td>NaN</td>\n",
       "      <td>NaN</td>\n",
       "    </tr>\n",
       "    <tr>\n",
       "      <th>23</th>\n",
       "      <td>강남구</td>\n",
       "      <td>7,243</td>\n",
       "      <td>59</td>\n",
       "      <td>62</td>\n",
       "      <td>573</td>\n",
       "      <td>826</td>\n",
       "      <td>1,295</td>\n",
       "      <td>989</td>\n",
       "      <td>744</td>\n",
       "      <td>790</td>\n",
       "      <td>...</td>\n",
       "      <td>NaN</td>\n",
       "      <td>NaN</td>\n",
       "      <td>NaN</td>\n",
       "      <td>NaN</td>\n",
       "      <td>NaN</td>\n",
       "      <td>NaN</td>\n",
       "      <td>NaN</td>\n",
       "      <td>NaN</td>\n",
       "      <td>NaN</td>\n",
       "      <td>NaN</td>\n",
       "    </tr>\n",
       "    <tr>\n",
       "      <th>24</th>\n",
       "      <td>송파구</td>\n",
       "      <td>3,203</td>\n",
       "      <td>84</td>\n",
       "      <td>78</td>\n",
       "      <td>88</td>\n",
       "      <td>221</td>\n",
       "      <td>163</td>\n",
       "      <td>256</td>\n",
       "      <td>516</td>\n",
       "      <td>1,081</td>\n",
       "      <td>...</td>\n",
       "      <td>NaN</td>\n",
       "      <td>NaN</td>\n",
       "      <td>NaN</td>\n",
       "      <td>NaN</td>\n",
       "      <td>NaN</td>\n",
       "      <td>NaN</td>\n",
       "      <td>NaN</td>\n",
       "      <td>NaN</td>\n",
       "      <td>NaN</td>\n",
       "      <td>NaN</td>\n",
       "    </tr>\n",
       "    <tr>\n",
       "      <th>25</th>\n",
       "      <td>강동구</td>\n",
       "      <td>3,190</td>\n",
       "      <td>82</td>\n",
       "      <td>195</td>\n",
       "      <td>56</td>\n",
       "      <td>174</td>\n",
       "      <td>226</td>\n",
       "      <td>351</td>\n",
       "      <td>379</td>\n",
       "      <td>362</td>\n",
       "      <td>...</td>\n",
       "      <td>NaN</td>\n",
       "      <td>NaN</td>\n",
       "      <td>NaN</td>\n",
       "      <td>NaN</td>\n",
       "      <td>NaN</td>\n",
       "      <td>NaN</td>\n",
       "      <td>NaN</td>\n",
       "      <td>NaN</td>\n",
       "      <td>NaN</td>\n",
       "      <td>NaN</td>\n",
       "    </tr>\n",
       "  </tbody>\n",
       "</table>\n",
       "<p>26 rows × 16384 columns</p>\n",
       "</div>"
      ],
      "text/plain": [
       "      구분      총계 2013년 이전\\n설치된 CCTV  2013년  2014년  2015년  2016년   2017년  \\\n",
       "0      계  91,341              2,804  3,097  3,981  6,576  8,850  11,566   \n",
       "1    종로구   1,980                 36    540    107    161    131     158   \n",
       "2    중 구   2,584                130     87     77    236    240     372   \n",
       "3    용산구   2,847                 44     50     68     83    295     491   \n",
       "4    성동구   4,047                 58     99    110    366    279     945   \n",
       "5    광진구   3,480                507     82     84     64     21     465   \n",
       "6   동대문구   2,759                  1      4     12    107    802     711   \n",
       "7    중랑구   4,193                224    331    104    145    153     170   \n",
       "8    성북구   4,842                137    170    229    322    594     811   \n",
       "9    강북구   3,321                  0     21     16     68    210       4   \n",
       "10   도봉구   2,247                103      2     79     72    103     117   \n",
       "11   노원구   2,617                 77    153     75    510    329     172   \n",
       "12   은평구   4,653                 17     44    332    329    555     403   \n",
       "13  서대문구   3,445                312    144    127     77    254     524   \n",
       "14   마포구   2,628                 21     40    109    170    458     376   \n",
       "15   양천구   3,851                197    139    128    239    422     563   \n",
       "16   강서구   3,265                 67     59    202    193    168     506   \n",
       "17   구로구   4,693                 37    361    193    269    353     563   \n",
       "18   금천구   2,636                  0      0     43    361    133     196   \n",
       "19  영등포구   4,553                109     81    295    360    285     422   \n",
       "20   동작구   2,671                 66     25    502    127    256     271   \n",
       "21   관악구   5,398                362    244    302    537    607     676   \n",
       "22   서초구   4,995                 74     86     70    559    518   1,054   \n",
       "23   강남구   7,243                 59     62    573    826  1,295     989   \n",
       "24   송파구   3,203                 84     78     88    221    163     256   \n",
       "25   강동구   3,190                 82    195     56    174    226     351   \n",
       "\n",
       "     2018년   2019년  ... Unnamed: 16374 Unnamed: 16375 Unnamed: 16376  \\\n",
       "0   11,024  13,151  ...            NaN            NaN            NaN   \n",
       "1      152      69  ...            NaN            NaN            NaN   \n",
       "2      386     155  ...            NaN            NaN            NaN   \n",
       "3      115     322  ...            NaN            NaN            NaN   \n",
       "4      459     647  ...            NaN            NaN            NaN   \n",
       "5      443     709  ...            NaN            NaN            NaN   \n",
       "6      201     218  ...            NaN            NaN            NaN   \n",
       "7      215   1,074  ...            NaN            NaN            NaN   \n",
       "8      867     714  ...            NaN            NaN            NaN   \n",
       "9      375     963  ...            NaN            NaN            NaN   \n",
       "10     200     202  ...            NaN            NaN            NaN   \n",
       "11     216     326  ...            NaN            NaN            NaN   \n",
       "12     635   1,057  ...            NaN            NaN            NaN   \n",
       "13     389     344  ...            NaN            NaN            NaN   \n",
       "14     368     494  ...            NaN            NaN            NaN   \n",
       "15     830     311  ...            NaN            NaN            NaN   \n",
       "16     259     458  ...            NaN            NaN            NaN   \n",
       "17     545     794  ...            NaN            NaN            NaN   \n",
       "18     539     367  ...            NaN            NaN            NaN   \n",
       "19     803     153  ...            NaN            NaN            NaN   \n",
       "20     300     307  ...            NaN            NaN            NaN   \n",
       "21     662     890  ...            NaN            NaN            NaN   \n",
       "22     426     344  ...            NaN            NaN            NaN   \n",
       "23     744     790  ...            NaN            NaN            NaN   \n",
       "24     516   1,081  ...            NaN            NaN            NaN   \n",
       "25     379     362  ...            NaN            NaN            NaN   \n",
       "\n",
       "    Unnamed: 16377  Unnamed: 16378  Unnamed: 16379  Unnamed: 16380  \\\n",
       "0              NaN             NaN             NaN             NaN   \n",
       "1              NaN             NaN             NaN             NaN   \n",
       "2              NaN             NaN             NaN             NaN   \n",
       "3              NaN             NaN             NaN             NaN   \n",
       "4              NaN             NaN             NaN             NaN   \n",
       "5              NaN             NaN             NaN             NaN   \n",
       "6              NaN             NaN             NaN             NaN   \n",
       "7              NaN             NaN             NaN             NaN   \n",
       "8              NaN             NaN             NaN             NaN   \n",
       "9              NaN             NaN             NaN             NaN   \n",
       "10             NaN             NaN             NaN             NaN   \n",
       "11             NaN             NaN             NaN             NaN   \n",
       "12             NaN             NaN             NaN             NaN   \n",
       "13             NaN             NaN             NaN             NaN   \n",
       "14             NaN             NaN             NaN             NaN   \n",
       "15             NaN             NaN             NaN             NaN   \n",
       "16             NaN             NaN             NaN             NaN   \n",
       "17             NaN             NaN             NaN             NaN   \n",
       "18             NaN             NaN             NaN             NaN   \n",
       "19             NaN             NaN             NaN             NaN   \n",
       "20             NaN             NaN             NaN             NaN   \n",
       "21             NaN             NaN             NaN             NaN   \n",
       "22             NaN             NaN             NaN             NaN   \n",
       "23             NaN             NaN             NaN             NaN   \n",
       "24             NaN             NaN             NaN             NaN   \n",
       "25             NaN             NaN             NaN             NaN   \n",
       "\n",
       "    Unnamed: 16381  Unnamed: 16382  Unnamed: 16383  \n",
       "0              NaN             NaN             NaN  \n",
       "1              NaN             NaN             NaN  \n",
       "2              NaN             NaN             NaN  \n",
       "3              NaN             NaN             NaN  \n",
       "4              NaN             NaN             NaN  \n",
       "5              NaN             NaN             NaN  \n",
       "6              NaN             NaN             NaN  \n",
       "7              NaN             NaN             NaN  \n",
       "8              NaN             NaN             NaN  \n",
       "9              NaN             NaN             NaN  \n",
       "10             NaN             NaN             NaN  \n",
       "11             NaN             NaN             NaN  \n",
       "12             NaN             NaN             NaN  \n",
       "13             NaN             NaN             NaN  \n",
       "14             NaN             NaN             NaN  \n",
       "15             NaN             NaN             NaN  \n",
       "16             NaN             NaN             NaN  \n",
       "17             NaN             NaN             NaN  \n",
       "18             NaN             NaN             NaN  \n",
       "19             NaN             NaN             NaN  \n",
       "20             NaN             NaN             NaN  \n",
       "21             NaN             NaN             NaN  \n",
       "22             NaN             NaN             NaN  \n",
       "23             NaN             NaN             NaN  \n",
       "24             NaN             NaN             NaN  \n",
       "25             NaN             NaN             NaN  \n",
       "\n",
       "[26 rows x 16384 columns]"
      ]
     },
     "execution_count": 5,
     "metadata": {},
     "output_type": "execute_result"
    }
   ],
   "source": [
    "df = pd.read_csv('서울시CCTV.CSV', encoding=\"cp949\")\n",
    "df"
   ]
  },
  {
   "cell_type": "code",
   "execution_count": null,
   "metadata": {},
   "outputs": [],
   "source": []
  }
 ],
 "metadata": {
  "kernelspec": {
   "display_name": "Python 3",
   "language": "python",
   "name": "python3"
  },
  "language_info": {
   "codemirror_mode": {
    "name": "ipython",
    "version": 3
   },
   "file_extension": ".py",
   "mimetype": "text/x-python",
   "name": "python",
   "nbconvert_exporter": "python",
   "pygments_lexer": "ipython3",
   "version": "3.11.3"
  },
  "orig_nbformat": 4
 },
 "nbformat": 4,
 "nbformat_minor": 2
}
