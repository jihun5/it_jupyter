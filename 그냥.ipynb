{
 "cells": [
  {
   "cell_type": "code",
   "execution_count": 1,
   "metadata": {},
   "outputs": [
    {
     "name": "stdout",
     "output_type": "stream",
     "text": [
      "8900000\n",
      "15020000\n"
     ]
    }
   ],
   "source": [
    "D = 89000\n",
    "N = 751000\n",
    "DJ = 89000*100\n",
    "NJ = 751000*20\n",
    "print(DJ)\n",
    "print(NJ)"
   ]
  },
  {
   "cell_type": "code",
   "execution_count": 2,
   "metadata": {},
   "outputs": [
    {
     "name": "stdout",
     "output_type": "stream",
     "text": [
      "8455000.0\n",
      "13518000.0\n"
     ]
    }
   ],
   "source": [
    "total_dj = DJ * 0.95\n",
    "total_nj = NJ * 0.9\n",
    "print(total_dj)\n",
    "print(total_nj)"
   ]
  },
  {
   "cell_type": "code",
   "execution_count": 3,
   "metadata": {},
   "outputs": [],
   "source": [
    "myWeight = int(input(\"몸무게를 입력하세요(kg) :\"))\n",
    "myHeight = int(input(\"키를 입력하세요(m):\"))\n",
    "BMI = myWeight/(myHeight**2)"
   ]
  },
  {
   "cell_type": "code",
   "execution_count": 3,
   "metadata": {},
   "outputs": [
    {
     "name": "stdout",
     "output_type": "stream",
     "text": [
      "KaKao Daum\n"
     ]
    }
   ],
   "source": [
    "s = \"Daum KaKao\"\n",
    "A = s[:4]\n",
    "B = s[5:]\n",
    "print(B + \" \" + A)"
   ]
  },
  {
   "cell_type": "code",
   "execution_count": 11,
   "metadata": {},
   "outputs": [
    {
     "data": {
      "text/plain": [
       "'jpg'"
      ]
     },
     "execution_count": 11,
     "metadata": {},
     "output_type": "execute_result"
    }
   ],
   "source": [
    "url = \"C:\\\\myphoto\\\\helloworld.jpg\"\n",
    "folder = url[:10]\n",
    "file = url[11:21]\n",
    "ext = url[22:]"
   ]
  },
  {
   "cell_type": "code",
   "execution_count": 22,
   "metadata": {},
   "outputs": [
    {
     "name": "stdout",
     "output_type": "stream",
     "text": [
      "90.33333333333333\n",
      "[32, 65, 71, 74, 74, 82, 88, 90, 93]\n"
     ]
    }
   ],
   "source": [
    "lista = [82,74,93,65,32,71,90,88,74]\n",
    "lista.sort()\n",
    "A = lista[-3:]\n",
    "score = sum(A)/len(A)\n",
    "print(score)\n",
    "\n",
    "for i in range(len(lista)-1):\n",
    "    for e in range(i+1, len(lista)):\n",
    "        if lista[i] > lista[e]:\n",
    "            lista[i], lista[e] == lista[e], lista[i]\n",
    "print(lista)"
   ]
  },
  {
   "cell_type": "code",
   "execution_count": 24,
   "metadata": {},
   "outputs": [
    {
     "name": "stdout",
     "output_type": "stream",
     "text": [
      "나의 나이는 20대입니다.\n"
     ]
    }
   ],
   "source": [
    "my_age = int(input(\"나이를 입력하시오 : \"))//10\n",
    "print(f\"나의 나이는 {my_age}0대입니다.\")"
   ]
  },
  {
   "cell_type": "code",
   "execution_count": 27,
   "metadata": {},
   "outputs": [
    {
     "name": "stdout",
     "output_type": "stream",
     "text": [
      "중도비만\n"
     ]
    }
   ],
   "source": [
    "myWeight = int(input(\"몸무게를 입력하세요(kg) :\"))\n",
    "myHeight = int(input(\"키를 입력하세요(m):\"))\n",
    "if myHeight < 151:\n",
    "    stand = myHeight - 110\n",
    "else:\n",
    "    stand = (myHeight - 110) * 0.9\n",
    "obesity = ((myWeight-stand)/stand)*100\n",
    "if obesity < 21:\n",
    "    print(\"정상\")\n",
    "elif obesity < 31:\n",
    "    print(\"경도비만\")\n",
    "elif obesity < 41:\n",
    "    print(\"중도비만\")\n",
    "else:\n",
    "    print(\"고도비만\")    "
   ]
  },
  {
   "cell_type": "code",
   "execution_count": 33,
   "metadata": {},
   "outputs": [
    {
     "name": "stdout",
     "output_type": "stream",
     "text": [
      "2550\n",
      "5100\n"
     ]
    }
   ],
   "source": [
    "sum = 0\n",
    "for i in range(0, 101, 2):\n",
    "    sum += i\n",
    "print(sum)\n",
    "\n",
    "a = 0\n",
    "while a < 101:\n",
    "    sum += a\n",
    "    a += 2\n",
    "print(sum)"
   ]
  },
  {
   "cell_type": "code",
   "execution_count": 36,
   "metadata": {},
   "outputs": [
    {
     "name": "stdout",
     "output_type": "stream",
     "text": [
      "{'A': 0, 'O': 0, 'B': 0, 'AB': 0}\n"
     ]
    }
   ],
   "source": [
    "st = ['A','A','A','O','O','O','B','B','AB']\n",
    "dicta = {}\n",
    "for a in st:\n",
    "    if a not in dicta.keys():\n",
    "        dicta[a] = lista.count(a)\n",
    "print(dicta)"
   ]
  },
  {
   "cell_type": "code",
   "execution_count": null,
   "metadata": {},
   "outputs": [],
   "source": []
  }
 ],
 "metadata": {
  "kernelspec": {
   "display_name": "Python 3",
   "language": "python",
   "name": "python3"
  },
  "language_info": {
   "codemirror_mode": {
    "name": "ipython",
    "version": 3
   },
   "file_extension": ".py",
   "mimetype": "text/x-python",
   "name": "python",
   "nbconvert_exporter": "python",
   "pygments_lexer": "ipython3",
   "version": "3.11.3"
  },
  "orig_nbformat": 4
 },
 "nbformat": 4,
 "nbformat_minor": 2
}
