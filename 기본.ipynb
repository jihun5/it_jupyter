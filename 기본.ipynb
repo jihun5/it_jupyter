{
 "cells": [
  {
   "cell_type": "markdown",
   "metadata": {},
   "source": [
    "###### 판다스는 1차원 배열 형태의 시리즈 자료 구조와 2차원 배열 형태의 데이터 프레임 자료 구조를 지원한다. 데이터 프레임은 엑셀의 테이블과 비슷하게 행과 열로 만들어진다."
   ]
  },
  {
   "cell_type": "code",
   "execution_count": 1,
   "metadata": {},
   "outputs": [
    {
     "name": "stdout",
     "output_type": "stream",
     "text": [
      "2.0.2\n"
     ]
    }
   ],
   "source": [
    "import pandas as pd\n",
    "print(pd.__version__)"
   ]
  },
  {
   "cell_type": "code",
   "execution_count": 3,
   "metadata": {},
   "outputs": [
    {
     "name": "stdout",
     "output_type": "stream",
     "text": [
      "['a', 'b', 'c', 'd', 'e']\n",
      "자료형: <class 'list'>\n"
     ]
    }
   ],
   "source": [
    "data1 = ['a','b','c','d','e']\n",
    "print(data1)\n",
    "print(\"자료형:\", type(data1))"
   ]
  },
  {
   "cell_type": "code",
   "execution_count": 4,
   "metadata": {},
   "outputs": [
    {
     "name": "stdout",
     "output_type": "stream",
     "text": [
      "자료형: <class 'pandas.core.series.Series'>\n"
     ]
    }
   ],
   "source": [
    "sr1 = pd.Series(data1)\n",
    "print(\"자료형:\", type(sr1))"
   ]
  },
  {
   "cell_type": "code",
   "execution_count": 5,
   "metadata": {},
   "outputs": [
    {
     "name": "stdout",
     "output_type": "stream",
     "text": [
      "0    a\n",
      "1    b\n",
      "2    c\n",
      "3    d\n",
      "4    e\n",
      "dtype: object\n"
     ]
    }
   ],
   "source": [
    "print(sr1)\n",
    "# 문자열 데이터가 숫자형 인덱스와 짝을 이루는 형태\n",
    "# dtype는 자료형을 나타내고, object는 문자열을 말한다."
   ]
  },
  {
   "cell_type": "code",
   "execution_count": 6,
   "metadata": {},
   "outputs": [
    {
     "data": {
      "text/plain": [
       "'a'"
      ]
     },
     "execution_count": 6,
     "metadata": {},
     "output_type": "execute_result"
    }
   ],
   "source": [
    "# 시리즈의 객체 원소를 추출할 때는 loc인덱서를 사용한다.\n",
    "sr1.loc[0]\n",
    "# 첫번째 인덱스 0을 입력하면 'a' 값이 출력된다."
   ]
  },
  {
   "cell_type": "code",
   "execution_count": 8,
   "metadata": {},
   "outputs": [
    {
     "data": {
      "text/plain": [
       "1    b\n",
       "2    c\n",
       "3    d\n",
       "dtype: object"
      ]
     },
     "execution_count": 8,
     "metadata": {},
     "output_type": "execute_result"
    }
   ],
   "source": [
    "sr1.loc[1:3]\n",
    "# 주의할점은 범위의 마지막 인덱스에 해당하는 원소도 포함되어 추출된다."
   ]
  },
  {
   "cell_type": "code",
   "execution_count": 9,
   "metadata": {},
   "outputs": [
    {
     "name": "stdout",
     "output_type": "stream",
     "text": [
      "0      1.00\n",
      "1      2.00\n",
      "2      3.14\n",
      "3    100.00\n",
      "4    -10.00\n",
      "dtype: float64\n"
     ]
    }
   ],
   "source": [
    "data2 = (1,2,3.14,100,-10)\n",
    "sr2 = pd.Series(data2)\n",
    "print(sr2)"
   ]
  },
  {
   "cell_type": "code",
   "execution_count": 10,
   "metadata": {},
   "outputs": [
    {
     "data": {
      "text/html": [
       "<div>\n",
       "<style scoped>\n",
       "    .dataframe tbody tr th:only-of-type {\n",
       "        vertical-align: middle;\n",
       "    }\n",
       "\n",
       "    .dataframe tbody tr th {\n",
       "        vertical-align: top;\n",
       "    }\n",
       "\n",
       "    .dataframe thead th {\n",
       "        text-align: right;\n",
       "    }\n",
       "</style>\n",
       "<table border=\"1\" class=\"dataframe\">\n",
       "  <thead>\n",
       "    <tr style=\"text-align: right;\">\n",
       "      <th></th>\n",
       "      <th>c0</th>\n",
       "      <th>c1</th>\n",
       "    </tr>\n",
       "  </thead>\n",
       "  <tbody>\n",
       "    <tr>\n",
       "      <th>0</th>\n",
       "      <td>a</td>\n",
       "      <td>1.00</td>\n",
       "    </tr>\n",
       "    <tr>\n",
       "      <th>1</th>\n",
       "      <td>b</td>\n",
       "      <td>2.00</td>\n",
       "    </tr>\n",
       "    <tr>\n",
       "      <th>2</th>\n",
       "      <td>c</td>\n",
       "      <td>3.14</td>\n",
       "    </tr>\n",
       "    <tr>\n",
       "      <th>3</th>\n",
       "      <td>d</td>\n",
       "      <td>100.00</td>\n",
       "    </tr>\n",
       "    <tr>\n",
       "      <th>4</th>\n",
       "      <td>e</td>\n",
       "      <td>-10.00</td>\n",
       "    </tr>\n",
       "  </tbody>\n",
       "</table>\n",
       "</div>"
      ],
      "text/plain": [
       "  c0      c1\n",
       "0  a    1.00\n",
       "1  b    2.00\n",
       "2  c    3.14\n",
       "3  d  100.00\n",
       "4  e  -10.00"
      ]
     },
     "execution_count": 10,
     "metadata": {},
     "output_type": "execute_result"
    }
   ],
   "source": [
    "# 1차원 구조의 시리즈를 여러 개 결합하면 데이터프레임을 만들 수 있다.\n",
    "# 시리즈 2개를 원소로 갖는 딕셔너리를 정의하고,\n",
    "# DataFrame 함수에 입력한다. 딕셔너리의 key에 해당하는 값이\n",
    "# 각 열의 이름이 되고, 딕셔너리의 value에 해당하는 시리즈가 열의 데이터로 변환된다.\n",
    "dict_data = {'c0':sr1, 'c1': sr2}\n",
    "df1 = pd.DataFrame(dict_data)\n",
    "df1"
   ]
  },
  {
   "cell_type": "code",
   "execution_count": 11,
   "metadata": {},
   "outputs": [
    {
     "data": {
      "text/plain": [
       "pandas.core.frame.DataFrame"
      ]
     },
     "execution_count": 11,
     "metadata": {},
     "output_type": "execute_result"
    }
   ],
   "source": [
    "# 데이터 프레임의 2차원 구조(행,렬) 딕셔너리 key는 c0, c1이며\n",
    "# 각각 sr1, sr2의 value를 갖는다.\n",
    "type(df1)\n",
    "# 데이터프레임의 열 이름은 columns 속성으로 추출한다.\n",
    "# 딕셔너리 키인 c0과 c1이 데이터 프레임의\n",
    "# 열 이름으로 변환됨을 알 수 있다. "
   ]
  },
  {
   "cell_type": "code",
   "execution_count": 12,
   "metadata": {},
   "outputs": [
    {
     "data": {
      "text/plain": [
       "Index(['c0', 'c1'], dtype='object')"
      ]
     },
     "execution_count": 12,
     "metadata": {},
     "output_type": "execute_result"
    }
   ],
   "source": [
    "df1.columns"
   ]
  },
  {
   "cell_type": "code",
   "execution_count": 14,
   "metadata": {},
   "outputs": [
    {
     "data": {
      "text/html": [
       "<div>\n",
       "<style scoped>\n",
       "    .dataframe tbody tr th:only-of-type {\n",
       "        vertical-align: middle;\n",
       "    }\n",
       "\n",
       "    .dataframe tbody tr th {\n",
       "        vertical-align: top;\n",
       "    }\n",
       "\n",
       "    .dataframe thead th {\n",
       "        text-align: right;\n",
       "    }\n",
       "</style>\n",
       "<table border=\"1\" class=\"dataframe\">\n",
       "  <thead>\n",
       "    <tr style=\"text-align: right;\">\n",
       "      <th></th>\n",
       "      <th>string</th>\n",
       "      <th>number</th>\n",
       "    </tr>\n",
       "  </thead>\n",
       "  <tbody>\n",
       "    <tr>\n",
       "      <th>0</th>\n",
       "      <td>a</td>\n",
       "      <td>1.00</td>\n",
       "    </tr>\n",
       "    <tr>\n",
       "      <th>1</th>\n",
       "      <td>b</td>\n",
       "      <td>2.00</td>\n",
       "    </tr>\n",
       "    <tr>\n",
       "      <th>2</th>\n",
       "      <td>c</td>\n",
       "      <td>3.14</td>\n",
       "    </tr>\n",
       "    <tr>\n",
       "      <th>3</th>\n",
       "      <td>d</td>\n",
       "      <td>100.00</td>\n",
       "    </tr>\n",
       "    <tr>\n",
       "      <th>4</th>\n",
       "      <td>e</td>\n",
       "      <td>-10.00</td>\n",
       "    </tr>\n",
       "  </tbody>\n",
       "</table>\n",
       "</div>"
      ],
      "text/plain": [
       "  string  number\n",
       "0      a    1.00\n",
       "1      b    2.00\n",
       "2      c    3.14\n",
       "3      d  100.00\n",
       "4      e  -10.00"
      ]
     },
     "execution_count": 14,
     "metadata": {},
     "output_type": "execute_result"
    }
   ],
   "source": [
    "df1.columns = ['string', 'number']\n",
    "df1\n",
    "# columns속성에 새로운 열의 이름의 배열을 지정하는 방식으로 열의 이름을 재구성할수 있다."
   ]
  },
  {
   "cell_type": "code",
   "execution_count": 17,
   "metadata": {},
   "outputs": [
    {
     "data": {
      "text/plain": [
       "RangeIndex(start=0, stop=5, step=1)"
      ]
     },
     "execution_count": 17,
     "metadata": {},
     "output_type": "execute_result"
    }
   ],
   "source": [
    "df1.index"
   ]
  },
  {
   "cell_type": "code",
   "execution_count": 19,
   "metadata": {},
   "outputs": [
    {
     "data": {
      "text/html": [
       "<div>\n",
       "<style scoped>\n",
       "    .dataframe tbody tr th:only-of-type {\n",
       "        vertical-align: middle;\n",
       "    }\n",
       "\n",
       "    .dataframe tbody tr th {\n",
       "        vertical-align: top;\n",
       "    }\n",
       "\n",
       "    .dataframe thead th {\n",
       "        text-align: right;\n",
       "    }\n",
       "</style>\n",
       "<table border=\"1\" class=\"dataframe\">\n",
       "  <thead>\n",
       "    <tr style=\"text-align: right;\">\n",
       "      <th></th>\n",
       "      <th>string</th>\n",
       "      <th>number</th>\n",
       "    </tr>\n",
       "  </thead>\n",
       "  <tbody>\n",
       "    <tr>\n",
       "      <th>r0</th>\n",
       "      <td>a</td>\n",
       "      <td>1.00</td>\n",
       "    </tr>\n",
       "    <tr>\n",
       "      <th>r1</th>\n",
       "      <td>b</td>\n",
       "      <td>2.00</td>\n",
       "    </tr>\n",
       "    <tr>\n",
       "      <th>r2</th>\n",
       "      <td>c</td>\n",
       "      <td>3.14</td>\n",
       "    </tr>\n",
       "    <tr>\n",
       "      <th>r3</th>\n",
       "      <td>d</td>\n",
       "      <td>100.00</td>\n",
       "    </tr>\n",
       "    <tr>\n",
       "      <th>r4</th>\n",
       "      <td>e</td>\n",
       "      <td>-10.00</td>\n",
       "    </tr>\n",
       "  </tbody>\n",
       "</table>\n",
       "</div>"
      ],
      "text/plain": [
       "   string  number\n",
       "r0      a    1.00\n",
       "r1      b    2.00\n",
       "r2      c    3.14\n",
       "r3      d  100.00\n",
       "r4      e  -10.00"
      ]
     },
     "execution_count": 19,
     "metadata": {},
     "output_type": "execute_result"
    }
   ],
   "source": [
    "df1.index = ['r0','r1','r2','r3','r4']\n",
    "df1\n",
    "# 속성에 새로운 행 인덱스 배열을 지졍하여 다음과 같이 행 인덱스를 입력할 수 있다."
   ]
  },
  {
   "cell_type": "code",
   "execution_count": 21,
   "metadata": {},
   "outputs": [
    {
     "data": {
      "text/plain": [
       "3.14"
      ]
     },
     "execution_count": 21,
     "metadata": {},
     "output_type": "execute_result"
    }
   ],
   "source": [
    "df1.loc['r2','number']\n",
    "# 데이터 프레임의 일부분을 추출할때 loc 인덱서를 사용한다.\n",
    "# loc[행인덱스, 열이름] 형태로 입력하면 해당 위치의 원소를 추출한다."
   ]
  },
  {
   "cell_type": "code",
   "execution_count": 23,
   "metadata": {},
   "outputs": [
    {
     "data": {
      "text/html": [
       "<div>\n",
       "<style scoped>\n",
       "    .dataframe tbody tr th:only-of-type {\n",
       "        vertical-align: middle;\n",
       "    }\n",
       "\n",
       "    .dataframe tbody tr th {\n",
       "        vertical-align: top;\n",
       "    }\n",
       "\n",
       "    .dataframe thead th {\n",
       "        text-align: right;\n",
       "    }\n",
       "</style>\n",
       "<table border=\"1\" class=\"dataframe\">\n",
       "  <thead>\n",
       "    <tr style=\"text-align: right;\">\n",
       "      <th></th>\n",
       "      <th>string</th>\n",
       "      <th>number</th>\n",
       "    </tr>\n",
       "  </thead>\n",
       "  <tbody>\n",
       "    <tr>\n",
       "      <th>r2</th>\n",
       "      <td>c</td>\n",
       "      <td>3.14</td>\n",
       "    </tr>\n",
       "    <tr>\n",
       "      <th>r3</th>\n",
       "      <td>d</td>\n",
       "      <td>100.00</td>\n",
       "    </tr>\n",
       "  </tbody>\n",
       "</table>\n",
       "</div>"
      ],
      "text/plain": [
       "   string  number\n",
       "r2      c    3.14\n",
       "r3      d  100.00"
      ]
     },
     "execution_count": 23,
     "metadata": {},
     "output_type": "execute_result"
    }
   ],
   "source": [
    "df1.loc['r2':'r3','string':'number']\n",
    "# loc 인덱서에 범위를 지정하는 방법\n",
    "# 행 인덱스 옵션에 'r2':'r3' 범위를 지정하고\n",
    "# 열 이름옵션에 'string':'number' 범위를 설정한다."
   ]
  },
  {
   "cell_type": "code",
   "execution_count": 24,
   "metadata": {},
   "outputs": [
    {
     "data": {
      "text/plain": [
       "r2      3.14\n",
       "r3    100.00\n",
       "Name: number, dtype: float64"
      ]
     },
     "execution_count": 24,
     "metadata": {},
     "output_type": "execute_result"
    }
   ],
   "source": [
    "df1.loc['r2':'r3','number']\n",
    "# 위와 다르다는 것을 인지할 것\n",
    "# loc 인덱서의 행 인덱스 옵션에 'r2':'r3' 범위를 지정하고\n",
    "# 열 이름 옵션에 'number' 열을 추가하면\n",
    "# r2부터 r3행이 선택되고 그중에 number열을 선택하여 출력한다."
   ]
  },
  {
   "cell_type": "code",
   "execution_count": 25,
   "metadata": {},
   "outputs": [
    {
     "data": {
      "text/plain": [
       "string       c\n",
       "number    3.14\n",
       "Name: r2, dtype: object"
      ]
     },
     "execution_count": 25,
     "metadata": {},
     "output_type": "execute_result"
    }
   ],
   "source": [
    "df1.loc['r2','string':'number']\n",
    "# loc인덱서의 행 인덱스 옵션에 'r2'를 지정하고\n",
    "# 열 이름 옵션에 'string':'number'범위를 지정한다.\n",
    "# 이 경우 string 열부터 number열까지 선택되고 r2행이 선택된다.\n",
    "# **시리즈 객체가 추출된다."
   ]
  },
  {
   "cell_type": "code",
   "execution_count": 26,
   "metadata": {},
   "outputs": [
    {
     "data": {
      "text/plain": [
       "r0    a\n",
       "r1    b\n",
       "r2    c\n",
       "r3    d\n",
       "r4    e\n",
       "Name: string, dtype: object"
      ]
     },
     "execution_count": 26,
     "metadata": {},
     "output_type": "execute_result"
    }
   ],
   "source": [
    "df1.loc[:,'string']\n",
    "# loc 인덱서의 행 인덱스 옵션에 모든(:) 행을 지정하고,\n",
    "# 열 이름 옵션에 'string'열을 지정한다.\n",
    "# 'string'열의 데이터가 모두 선택된다. 시리즈 객체가 추출된다."
   ]
  },
  {
   "cell_type": "code",
   "execution_count": 28,
   "metadata": {},
   "outputs": [
    {
     "data": {
      "text/html": [
       "<div>\n",
       "<style scoped>\n",
       "    .dataframe tbody tr th:only-of-type {\n",
       "        vertical-align: middle;\n",
       "    }\n",
       "\n",
       "    .dataframe tbody tr th {\n",
       "        vertical-align: top;\n",
       "    }\n",
       "\n",
       "    .dataframe thead th {\n",
       "        text-align: right;\n",
       "    }\n",
       "</style>\n",
       "<table border=\"1\" class=\"dataframe\">\n",
       "  <thead>\n",
       "    <tr style=\"text-align: right;\">\n",
       "      <th></th>\n",
       "      <th>string</th>\n",
       "      <th>number</th>\n",
       "    </tr>\n",
       "  </thead>\n",
       "  <tbody>\n",
       "    <tr>\n",
       "      <th>r2</th>\n",
       "      <td>c</td>\n",
       "      <td>3.14</td>\n",
       "    </tr>\n",
       "    <tr>\n",
       "      <th>r3</th>\n",
       "      <td>d</td>\n",
       "      <td>100.00</td>\n",
       "    </tr>\n",
       "  </tbody>\n",
       "</table>\n",
       "</div>"
      ],
      "text/plain": [
       "   string  number\n",
       "r2      c    3.14\n",
       "r3      d  100.00"
      ]
     },
     "execution_count": 28,
     "metadata": {},
     "output_type": "execute_result"
    }
   ],
   "source": [
    "df1.loc['r2':'r3', :]\n",
    "# loc인덱서의 행 인덱스 옵션에 'r2':'r3' 범위를 지정하고\n",
    "# 열 이름 옵션에 모든(:) 열을 지정한다.\n",
    "# 행 2개, 열 2개인 데이터프레임이 추출된다."
   ]
  },
  {
   "cell_type": "code",
   "execution_count": 1,
   "metadata": {},
   "outputs": [
    {
     "name": "stdout",
     "output_type": "stream",
     "text": [
      "[0, 1, 2, 3, 4, 5, 6, 7, 8, 9]\n"
     ]
    }
   ],
   "source": [
    "v = list(range(10))\n",
    "print(v)"
   ]
  },
  {
   "cell_type": "code",
   "execution_count": 3,
   "metadata": {},
   "outputs": [
    {
     "data": {
      "text/plain": [
       "[0, 1, 2, 3, 4, 5, 6, 7, 8, 9]"
      ]
     },
     "execution_count": 3,
     "metadata": {},
     "output_type": "execute_result"
    }
   ],
   "source": [
    "[i for i in v]"
   ]
  },
  {
   "cell_type": "code",
   "execution_count": 4,
   "metadata": {},
   "outputs": [
    {
     "name": "stdout",
     "output_type": "stream",
     "text": [
      "0123456789\n"
     ]
    }
   ],
   "source": [
    "print(\"\".join(str(i) for i in v))"
   ]
  },
  {
   "cell_type": "code",
   "execution_count": 5,
   "metadata": {},
   "outputs": [
    {
     "name": "stdout",
     "output_type": "stream",
     "text": [
      "[[0, 1, 2, 3, 4, 5, 6, 7, 8, 9], [10, 11, 12]]\n"
     ]
    }
   ],
   "source": [
    "v = [list(range(10)), [10,11,12]]\n",
    "print(v)"
   ]
  },
  {
   "cell_type": "code",
   "execution_count": 6,
   "metadata": {},
   "outputs": [
    {
     "data": {
      "text/plain": [
       "[0, 1, 2, 3, 4, 5, 6, 7, 8, 9, 10, 11, 12]"
      ]
     },
     "execution_count": 6,
     "metadata": {},
     "output_type": "execute_result"
    }
   ],
   "source": [
    "[j for i in v for j in i]"
   ]
  },
  {
   "cell_type": "code",
   "execution_count": 8,
   "metadata": {},
   "outputs": [
    {
     "name": "stdout",
     "output_type": "stream",
     "text": [
      "0\n",
      "0\n"
     ]
    }
   ],
   "source": [
    "v = 3\n",
    "if v< 5 : print(0)\n",
    "print(0 if v < 5 else 1)"
   ]
  },
  {
   "cell_type": "code",
   "execution_count": 9,
   "metadata": {},
   "outputs": [
    {
     "name": "stdout",
     "output_type": "stream",
     "text": [
      "1\n",
      "1\n"
     ]
    }
   ],
   "source": [
    "v = 6\n",
    "if v > 5 : print(1)\n",
    "print(1 if v > 5 else 0)"
   ]
  },
  {
   "cell_type": "code",
   "execution_count": 13,
   "metadata": {},
   "outputs": [
    {
     "name": "stdout",
     "output_type": "stream",
     "text": [
      "2\n"
     ]
    }
   ],
   "source": [
    "v = 11\n",
    "print(0 if v < 5 else 1 if v < 10 else 2)"
   ]
  },
  {
   "cell_type": "code",
   "execution_count": 14,
   "metadata": {},
   "outputs": [
    {
     "name": "stdout",
     "output_type": "stream",
     "text": [
      "[0, 1, 2, 3, 4, 5, 6, 7, 8, 9]\n"
     ]
    }
   ],
   "source": [
    "v = list(range(10))\n",
    "print(v)"
   ]
  },
  {
   "cell_type": "code",
   "execution_count": 16,
   "metadata": {},
   "outputs": [
    {
     "data": {
      "text/plain": [
       "[6]"
      ]
     },
     "execution_count": 16,
     "metadata": {},
     "output_type": "execute_result"
    }
   ],
   "source": [
    "[i for i in v if i == 6]"
   ]
  },
  {
   "cell_type": "code",
   "execution_count": 18,
   "metadata": {},
   "outputs": [
    {
     "name": "stdout",
     "output_type": "stream",
     "text": [
      "0\n",
      "0\n",
      "0\n",
      "0\n",
      "0\n",
      "0\n",
      "6\n",
      "0\n",
      "0\n",
      "0\n"
     ]
    },
    {
     "data": {
      "text/plain": [
       "['0', '0', '0', '0', '0', '0', 6, '0', '0', '0']"
      ]
     },
     "execution_count": 18,
     "metadata": {},
     "output_type": "execute_result"
    }
   ],
   "source": [
    "for i in v:\n",
    "    if i == 6:\n",
    "        print(i)\n",
    "    else:\n",
    "        print(\"0\")\n",
    "# [i for i in v if i ==6 else 0]\n",
    "[i if i == 6 else \"0\" for i in v]"
   ]
  },
  {
   "cell_type": "code",
   "execution_count": 12,
   "metadata": {},
   "outputs": [],
   "source": [
    "from bs4 import BeautifulSoup\n",
    "import requests\n",
    "import time\n",
    "from pandas import DataFrame"
   ]
  },
  {
   "cell_type": "code",
   "execution_count": 13,
   "metadata": {},
   "outputs": [
    {
     "name": "stdout",
     "output_type": "stream",
     "text": [
      "생성url:  https://search.naver.com/search.naver?where=nexearch&sm=top_hty&fbm=0&ie=utf8&query=우울증%start=0\n"
     ]
    }
   ],
   "source": [
    "page_num = [0, 1, 11, 21]\n",
    "search = input(\"검색할 내용을 입력하세요:\")\n",
    "#url 생성\n",
    "urlEL = \"https://search.naver.com/search.naver?where=nexearch&sm=top_hty&fbm=0&ie=utf8&query=\" + search + \"%start=\" + str(page_num[0])\n",
    "print(\"생성url: \",urlEL)"
   ]
  },
  {
   "cell_type": "code",
   "execution_count": 14,
   "metadata": {},
   "outputs": [],
   "source": [
    "userAgent = \"Mozilla/5.0 (Windows NT 10.0; Win64; x64) AppleWebKit/537.36 (KHTML, like Gecko) Chrome/114.0.0.0 Safari/537.36\""
   ]
  },
  {
   "cell_type": "code",
   "execution_count": 15,
   "metadata": {},
   "outputs": [
    {
     "data": {
      "text/html": [
       "<div>\n",
       "<style scoped>\n",
       "    .dataframe tbody tr th:only-of-type {\n",
       "        vertical-align: middle;\n",
       "    }\n",
       "\n",
       "    .dataframe tbody tr th {\n",
       "        vertical-align: top;\n",
       "    }\n",
       "\n",
       "    .dataframe thead th {\n",
       "        text-align: right;\n",
       "    }\n",
       "</style>\n",
       "<table border=\"1\" class=\"dataframe\">\n",
       "  <thead>\n",
       "    <tr style=\"text-align: right;\">\n",
       "      <th></th>\n",
       "      <th>0</th>\n",
       "    </tr>\n",
       "  </thead>\n",
       "  <tbody>\n",
       "    <tr>\n",
       "      <th>아산, 2022년 하반기 공·유(공감과 치유) 아카데미 'Start'</th>\n",
       "      <td>http://www.ccdn.co.kr/news/articleView.html?id...</td>\n",
       "    </tr>\n",
       "    <tr>\n",
       "      <th>\"매달 천만원 병원비가 아깝다고...\" 아버지 떠나보낸 송민호가 원망하며 쓴 편지</th>\n",
       "      <td>https://www.insight.co.kr/news/422878</td>\n",
       "    </tr>\n",
       "    <tr>\n",
       "      <th>[K-스타트업의 도약 17] 이모티브 “모바일 게임으로 ADHD 치료”</th>\n",
       "      <td>https://www.ekn.kr/web/view.php?key=2022111101...</td>\n",
       "    </tr>\n",
       "    <tr>\n",
       "      <th>[K-스타트업의 도약 ⑧]“VR·AI로 ADHD 치료” 히포티앤씨...\"디지털치료제 ‘어텐케어’로 비용 줄이고 효과 극대화\"</th>\n",
       "      <td>https://www.ekn.kr/web/view.php?key=2022091201...</td>\n",
       "    </tr>\n",
       "    <tr>\n",
       "      <th>[K-스타트업의 도약 ⑥] 슬립테크 루플 \"빛을 이용한 불면증 치유\"</th>\n",
       "      <td>https://www.ekn.kr/web/view.php?key=2022090201...</td>\n",
       "    </tr>\n",
       "    <tr>\n",
       "      <th>우크라이나 사태와 한반도 비핵화</th>\n",
       "      <td>http://www.mediatoday.co.kr/news/articleView.h...</td>\n",
       "    </tr>\n",
       "    <tr>\n",
       "      <th>사회적 스트레스가 쌓이는 지금 마음 챙김이 필요!</th>\n",
       "      <td>http://www.breaknews.com/858647</td>\n",
       "    </tr>\n",
       "    <tr>\n",
       "      <th>인공지능 기업, AI중심도시 광주행 가속화</th>\n",
       "      <td>http://www.breaknews.com/841815</td>\n",
       "    </tr>\n",
       "    <tr>\n",
       "      <th>[21세기 중심 의학 : 생활의학] 생활의학과 약물요법</th>\n",
       "      <td>http://www.withinnews.co.kr/news/view.html?sec...</td>\n",
       "    </tr>\n",
       "    <tr>\n",
       "      <th>블랙핑크 보고 있나? 캐나다 학생들의 '뚜두뚜두'</th>\n",
       "      <td>http://www.ohmynews.com/NWS_Web/View/at_pg.asp...</td>\n",
       "    </tr>\n",
       "  </tbody>\n",
       "</table>\n",
       "</div>"
      ],
      "text/plain": [
       "                                                                                                    0\n",
       "아산, 2022년 하반기 공·유(공감과 치유) 아카데미 'Start'              http://www.ccdn.co.kr/news/articleView.html?id...\n",
       "\"매달 천만원 병원비가 아깝다고...\" 아버지 떠나보낸 송민호가 원망하며 쓴 편지                   https://www.insight.co.kr/news/422878\n",
       "[K-스타트업의 도약 17] 이모티브 “모바일 게임으로 ADHD 치료”             https://www.ekn.kr/web/view.php?key=2022111101...\n",
       "[K-스타트업의 도약 ⑧]“VR·AI로 ADHD 치료” 히포티앤씨...\"디지털치료제 ...  https://www.ekn.kr/web/view.php?key=2022091201...\n",
       "[K-스타트업의 도약 ⑥] 슬립테크 루플 \"빛을 이용한 불면증 치유\"              https://www.ekn.kr/web/view.php?key=2022090201...\n",
       "우크라이나 사태와 한반도 비핵화                                   http://www.mediatoday.co.kr/news/articleView.h...\n",
       "사회적 스트레스가 쌓이는 지금 마음 챙김이 필요!                                           http://www.breaknews.com/858647\n",
       "인공지능 기업, AI중심도시 광주행 가속화                                               http://www.breaknews.com/841815\n",
       "[21세기 중심 의학 : 생활의학] 생활의학과 약물요법                      http://www.withinnews.co.kr/news/view.html?sec...\n",
       "블랙핑크 보고 있나? 캐나다 학생들의 '뚜두뚜두'                         http://www.ohmynews.com/NWS_Web/View/at_pg.asp..."
      ]
     },
     "execution_count": 15,
     "metadata": {},
     "output_type": "execute_result"
    }
   ],
   "source": [
    "# 접속객체 생성\n",
    "session = requests.Session()\n",
    "# 접속객체에 부가정보(header) 삽입하기\n",
    "session.headers.update({\n",
    "    \"Referer\": \"\",\n",
    "    \"User-Agent\": userAgent\n",
    "})\n",
    "news = []\n",
    "for i in range(len(page_num)):\n",
    "    url = \"https://search.naver.com/search.naver?sm=tab_hty.top&where=news&query=\" + search + \"%start=\" + str(page_num[i])\n",
    "\n",
    "    r = session.get(url)\n",
    "    if r.status_code != 200:\n",
    "        msg = \"[%d Error] %s 에러가 발생함\" % (r.status_code, r.reason)\n",
    "        raise Exception(msg)\n",
    "    r.encoding = \"utf-8\"\n",
    "    soup = BeautifulSoup(r.text)\n",
    "\n",
    "    articles = soup.select(\"div.group_news > ul.list_news > li div.news_area > a\")\n",
    "\n",
    "    news_title = []\n",
    "    content = []\n",
    "    agency = []\n",
    "    for i in articles:\n",
    "        news_title.append(i.attrs['title'])\n",
    "\n",
    "        content.append(i.attrs['href'])\n",
    "# print(news_title)\n",
    "# print(content)\n",
    "df = DataFrame(content, news_title)\n",
    "df.to_excel(\"네이버기사.xlsx\")\n",
    "df"
   ]
  },
  {
   "cell_type": "code",
   "execution_count": 9,
   "metadata": {},
   "outputs": [
    {
     "ename": "SyntaxError",
     "evalue": "invalid syntax (3440482844.py, line 2)",
     "output_type": "error",
     "traceback": [
      "\u001b[1;36m  Cell \u001b[1;32mIn[9], line 2\u001b[1;36m\u001b[0m\n\u001b[1;33m    test1 = soup.select(class='total-news-cnt')\u001b[0m\n\u001b[1;37m                        ^\u001b[0m\n\u001b[1;31mSyntaxError\u001b[0m\u001b[1;31m:\u001b[0m invalid syntax\n"
     ]
    }
   ],
   "source": []
  },
  {
   "cell_type": "code",
   "execution_count": null,
   "metadata": {},
   "outputs": [],
   "source": []
  }
 ],
 "metadata": {
  "kernelspec": {
   "display_name": "Python 3",
   "language": "python",
   "name": "python3"
  },
  "language_info": {
   "codemirror_mode": {
    "name": "ipython",
    "version": 3
   },
   "file_extension": ".py",
   "mimetype": "text/x-python",
   "name": "python",
   "nbconvert_exporter": "python",
   "pygments_lexer": "ipython3",
   "version": "3.11.3"
  },
  "orig_nbformat": 4
 },
 "nbformat": 4,
 "nbformat_minor": 2
}
