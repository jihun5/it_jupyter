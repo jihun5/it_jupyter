{
 "cells": [
  {
   "cell_type": "code",
   "execution_count": 5,
   "metadata": {},
   "outputs": [],
   "source": [
    "from bs4 import BeautifulSoup\n",
    "import requests"
   ]
  },
  {
   "cell_type": "code",
   "execution_count": 1,
   "metadata": {},
   "outputs": [
    {
     "name": "stdout",
     "output_type": "stream",
     "text": [
      "크롤링할 페이지:  10 페이지\n"
     ]
    }
   ],
   "source": [
    "#검색어 입력\n",
    "search = '파전'\n",
    "#검색할 페이지 입력\n",
    "page = int(input(\"크롤링할 페이지를 입력해주세요:\")) # ex)1 =1페이지,2=2페이지...\n",
    "print(\"크롤링할 페이지: \",page,\"페이지\")"
   ]
  },
  {
   "cell_type": "code",
   "execution_count": 2,
   "metadata": {},
   "outputs": [
    {
     "name": "stdout",
     "output_type": "stream",
     "text": [
      "생성url:  https://search.naver.com/search.naver?where=news&sm=tab_pge&query=삼겹살&start=91\n"
     ]
    }
   ],
   "source": [
    "#start수를 1, 11, 21, 31 ...만들어 주는 함수\n",
    "page_num = 0\n",
    "\n",
    "if page == 1:\n",
    "    page_num =1\n",
    "elif page == 0:\n",
    "    page_num =1\n",
    "else:\n",
    "    page_num = page+9*(page-1)\n",
    "    \n",
    "#url 생성\n",
    "url = \"https://search.naver.com/search.naver?where=news&sm=tab_pge&query=\" + search + \"&start=\" + str(page_num)\n",
    "print(\"생성url: \",url)"
   ]
  },
  {
   "cell_type": "code",
   "execution_count": 3,
   "metadata": {},
   "outputs": [],
   "source": [
    "userAgent = \"Mozilla/5.0 (Windows NT 10.0; Win64; x64) AppleWebKit/537.36 (KHTML, like Gecko) Chrome/114.0.0.0 Safari/537.36\""
   ]
  },
  {
   "cell_type": "code",
   "execution_count": 6,
   "metadata": {},
   "outputs": [],
   "source": [
    "# 접속객체 생성\n",
    "session = requests.Session()\n",
    "# 접속객체에 부가정보(header) 삽입하기\n",
    "session.headers.update({\n",
    "    \"Referer\": \"\",\n",
    "    \"User-Agent\": userAgent\n",
    "})"
   ]
  },
  {
   "cell_type": "code",
   "execution_count": 7,
   "metadata": {},
   "outputs": [],
   "source": [
    "original_html = requests.get(url)\n",
    "html = BeautifulSoup(original_html.text, \"html.parser\")"
   ]
  },
  {
   "cell_type": "code",
   "execution_count": 8,
   "metadata": {},
   "outputs": [
    {
     "name": "stdout",
     "output_type": "stream",
     "text": [
      "[<a class=\"news_tit\" href=\"http://sports.chosun.com/news/ntype.htm?id=202306130100099970012186&amp;servicedate=20230613\" onclick=\"return goOtherCR(this, 'a=nws*e.tit&amp;r=1&amp;i=880000D3_000000000000000004018903&amp;g=076.0004018903&amp;u='+urlencode(this.href));\" target=\"_blank\" title=\"한혜연, 체지방만 6kg 뺐는데 '푸짐한 삼겹살'…&quot;나의 식단 공개&quot;\">한혜연, 체지방만 6kg 뺐는데 '푸짐한 <mark>삼겹살</mark>'…\"나의 식단 공개\"</a>, <a class=\"news_tit\" href=\"http://www.topstarnews.net/news/articleView.html?idxno=15348906\" onclick=\"return goOtherCR(this, 'a=nws*f.tit&amp;r=2&amp;i=88155e6f_000000000000000000889439&amp;g=5353.0000889439&amp;u='+urlencode(this.href));\" target=\"_blank\" title=\"'생생정보' 남양주 치즈누룽지통닭 맛집 위치는? 닭장작구이-짚불삼겹살-닭볶음탕 外\">'생생정보' 남양주 치즈누룽지통닭 맛집 위치는? 닭장작구이-짚불<mark>삼겹살</mark>-닭볶...</a>, <a class=\"news_tit\" href=\"https://it.chosun.com/site/data/html_dir/2023/06/07/2023060701254.html\" onclick=\"return goOtherCR(this, 'a=nws*f.tit&amp;r=3&amp;i=88135207_000000000000000000178393&amp;g=5242.0000178393&amp;u='+urlencode(this.href));\" target=\"_blank\" title=\"[유통가 투데이] 당근마켓, 자사 캐릭터 채널 오픈 外\">[유통가 투데이] 당근마켓, 자사 캐릭터 채널 오픈 外</a>, <a class=\"news_tit\" href=\"http://www.topstarnews.net/news/articleView.html?idxno=15352411\" onclick=\"return goOtherCR(this, 'a=nws*f.tit&amp;r=4&amp;i=88155e6f_000000000000000000890751&amp;g=5353.0000890751&amp;u='+urlencode(this.href));\" target=\"_blank\" title=\"'고기서 만나' 서울 화양동 건대입구역 이베리코꽃목살·꼬들살 맛집 위치는? 숙성삼겹살-등겹살-닭목살 外\">'고기서 만나' 서울 화양동 건대입구역 이베리코꽃목살·꼬들살 맛집 위치는?...</a>, <a class=\"news_tit\" href=\"https://www.chosun.com/national/weekend/2023/06/03/O2MB5QWWHVDGPCGHQBXA7KP6MY/?utm_source=naver&amp;utm_medium=referral&amp;utm_campaign=naver-news\" onclick=\"return goOtherCR(this, 'a=nws*j.tit&amp;r=5&amp;i=880000ED_000000000000000003767520&amp;g=023.0003767520&amp;u='+urlencode(this.href));\" target=\"_blank\" title=\"한낮의 일터, 달밤의 힙지로… 당신의 을지로는 ‘몇 시’인가요\">한낮의 일터, 달밤의 힙지로… 당신의 을지로는 ‘몇 시’인가요</a>, <a class=\"news_tit\" href=\"https://www.dailian.co.kr/news/view/1240713/?sc=Naver\" onclick=\"return goOtherCR(this, 'a=nws*a.tit&amp;r=6&amp;i=8812A0A8_000000000000000002718923&amp;g=119.0002718923&amp;u='+urlencode(this.href));\" target=\"_blank\" title=\"오뚜기, 라면·소스류 등 친환경 패키지 적용\">오뚜기, 라면·소스류 등 친환경 패키지 적용</a>, <a class=\"news_tit\" href=\"http://biz.heraldcorp.com/view.php?ud=202305311340368862081_1\" onclick=\"return goOtherCR(this, 'a=nws*a.tit&amp;r=11&amp;i=88000110_000000000000000003634248&amp;g=112.0003634248&amp;u='+urlencode(this.href));\" target=\"_blank\" title=\"이국주, 新누룽지 기계 공개..누룽지탕+삼겹살김치전에 막걸리 '만취'(이국주)\">이국주, 新누룽지 기계 공개..누룽지탕+<mark>삼겹살</mark>김치전에 막걸리 '만취'(이국주...</a>, <a class=\"news_tit\" href=\"https://www.khan.co.kr/opinion/column/article/202306020300045\" onclick=\"return goOtherCR(this, 'a=nws*j.tit&amp;r=16&amp;i=8800006B_000000000000000003227462&amp;g=032.0003227462&amp;u='+urlencode(this.href));\" target=\"_blank\" title=\"[박찬일 셰프의 맛있는 미학] 돼지 등심의 괄목\">[박찬일 셰프의 맛있는 미학] 돼지 등심의 괄목</a>, <a class=\"news_tit\" href=\"http://news.mt.co.kr/mtview.php?no=2023061306045234243\" onclick=\"return goOtherCR(this, 'a=nws*e.tit&amp;r=17&amp;i=880000C2_000000000000000004898385&amp;g=008.0004898385&amp;u='+urlencode(this.href));\" target=\"_blank\" title=\"베컴, '삼겹살+소주♥' 이어 日 음식도…&quot;맛있는 음식 즐겨&quot;\">베컴, '<mark>삼겹살</mark>+소주♥' 이어 日 음식도…\"맛있는 음식 즐겨\"</a>, <a class=\"news_tit\" href=\"http://www.ksmnews.co.kr/default/index_view_page.php?idx=430092&amp;part_idx=170\" onclick=\"return goOtherCR(this, 'a=nws*f.tit&amp;r=18&amp;i=88155e8c_000000000000000000313488&amp;g=5321.0000313488&amp;u='+urlencode(this.href));\" target=\"_blank\" title=\"구미시 초원삼겹살, 진미동·인동동 어르신 300여 명에 식사 제공\">구미시 초원<mark>삼겹살</mark>, 진미동·인동동 어르신 300여 명에 식사 제공</a>]\n",
      "10 개의 기사가 검색됌.\n"
     ]
    }
   ],
   "source": [
    "# 검색결과\n",
    "articles = html.select(\"div.group_news > ul.list_news > li div.news_area > a\")\n",
    "print(articles)\n",
    "# 검색된 기사의 갯수\n",
    "print(len(articles),\"개의 기사가 검색됌.\")"
   ]
  },
  {
   "cell_type": "code",
   "execution_count": 9,
   "metadata": {},
   "outputs": [
    {
     "data": {
      "text/plain": [
       "['한혜연, 체지방만 6kg 뺐는데 \\'푸짐한 삼겹살\\'…\"나의 식단 공개\"',\n",
       " \"'생생정보' 남양주 치즈누룽지통닭 맛집 위치는? 닭장작구이-짚불삼겹살-닭볶음탕 外\",\n",
       " '[유통가 투데이] 당근마켓, 자사 캐릭터 채널 오픈 外',\n",
       " \"'고기서 만나' 서울 화양동 건대입구역 이베리코꽃목살·꼬들살 맛집 위치는? 숙성삼겹살-등겹살-닭목살 外\",\n",
       " '한낮의 일터, 달밤의 힙지로… 당신의 을지로는 ‘몇 시’인가요',\n",
       " '오뚜기, 라면·소스류 등 친환경 패키지 적용',\n",
       " \"이국주, 新누룽지 기계 공개..누룽지탕+삼겹살김치전에 막걸리 '만취'(이국주)\",\n",
       " '[박찬일 셰프의 맛있는 미학] 돼지 등심의 괄목',\n",
       " '베컴, \\'삼겹살+소주♥\\' 이어 日 음식도…\"맛있는 음식 즐겨\"',\n",
       " '구미시 초원삼겹살, 진미동·인동동 어르신 300여 명에 식사 제공']"
      ]
     },
     "execution_count": 9,
     "metadata": {},
     "output_type": "execute_result"
    }
   ],
   "source": [
    "#뉴스기사 제목 가져오기\n",
    "news_title = []\n",
    "for i in articles:\n",
    "    news_title.append(i.attrs['title'])\n",
    "news_title"
   ]
  },
  {
   "cell_type": "code",
   "execution_count": null,
   "metadata": {},
   "outputs": [],
   "source": []
  }
 ],
 "metadata": {
  "kernelspec": {
   "display_name": "Python 3",
   "language": "python",
   "name": "python3"
  },
  "language_info": {
   "codemirror_mode": {
    "name": "ipython",
    "version": 3
   },
   "file_extension": ".py",
   "mimetype": "text/x-python",
   "name": "python",
   "nbconvert_exporter": "python",
   "pygments_lexer": "ipython3",
   "version": "3.11.3"
  },
  "orig_nbformat": 4
 },
 "nbformat": 4,
 "nbformat_minor": 2
}
