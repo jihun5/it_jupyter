{
 "cells": [
  {
   "cell_type": "code",
   "execution_count": 7,
   "metadata": {},
   "outputs": [
    {
     "name": "stdout",
     "output_type": "stream",
     "text": [
      "    Unnamed: 0        0\n",
      "0            0   부침개[전]\n",
      "1            1      막걸리\n",
      "2            2      얼큰한\n",
      "3            3      삼겹살\n",
      "4            4       소주\n",
      "5            5       우동\n",
      "6            6       치킨\n",
      "7            7       맥주\n",
      "8            8  김치나베돈까스\n",
      "9            9       국밥\n",
      "10          10       아구\n"
     ]
    }
   ],
   "source": [
    "# python 3.9\n",
    "import pandas as pd\n",
    "\n",
    "# 읽어올 엑셀 파일 지정\n",
    "filename1 = 'result1.xlsx'\n",
    "filename2 = 'result2.xlsx'\n",
    "filename3 = 'result3.xlsx'\n",
    "filename4 = 'result4.xlsx'\n",
    "filename5 = 'result5.xlsx'\n",
    "\n",
    "# 엑셀 파일 읽어 오기\n",
    "df1 = pd.read_excel(filename1, engine='openpyxl')\n",
    "df2 = pd.read_excel(filename2, engine='openpyxl')\n",
    "df3 = pd.read_excel(filename3, engine='openpyxl')\n",
    "df4 = pd.read_excel(filename4, engine='openpyxl')\n",
    "df5 = pd.read_excel(filename5, engine='openpyxl')"
   ]
  },
  {
   "cell_type": "code",
   "execution_count": 20,
   "metadata": {},
   "outputs": [
    {
     "name": "stdout",
     "output_type": "stream",
     "text": [
      "Counter({'삼겹살': 3, '파전': 2, '수제비': 2, '잔치국수': 2, '김치찌개': 2, '칼국수': 2, '우동': 2, '감자전': 2, '짬뽕': 2, '막걸리': 2, '라면': 1, '곱창&막창': 1, '불고기': 1, '떡볶이': 1, '비빔밥': 1, '해물파전': 1, '김치부침개': 1, '돼지국밥': 1, '아구찜': 1, '부침개[전]': 1, '얼큰한': 1, '소주': 1, '치킨': 1, '맥주': 1, '김치나베돈까스': 1, '국밥': 1, '아구': 1, '홍합탕': 1, '주꾸미/낙지': 1, '해물탕/매운탕': 1})\n"
     ]
    }
   ],
   "source": [
    "from collections import Counter\n",
    "lista = []\n",
    "for i in df1[0]:\n",
    "    lista.append(i)\n",
    "for i in df2[0]:\n",
    "    lista.append(i)\n",
    "for i in df3[0]:\n",
    "    lista.append(i)\n",
    "for i in df4[0]:\n",
    "    lista.append(i)\n",
    "for i in df5[0]:\n",
    "    lista.append(i)\n",
    "# print(lista)\n",
    "counter = Counter(lista)\n",
    "print(counter)\n"
   ]
  },
  {
   "cell_type": "code",
   "execution_count": null,
   "metadata": {},
   "outputs": [],
   "source": []
  }
 ],
 "metadata": {
  "kernelspec": {
   "display_name": "Python 3",
   "language": "python",
   "name": "python3"
  },
  "language_info": {
   "codemirror_mode": {
    "name": "ipython",
    "version": 3
   },
   "file_extension": ".py",
   "mimetype": "text/x-python",
   "name": "python",
   "nbconvert_exporter": "python",
   "pygments_lexer": "ipython3",
   "version": "3.11.3"
  },
  "orig_nbformat": 4
 },
 "nbformat": 4,
 "nbformat_minor": 2
}
