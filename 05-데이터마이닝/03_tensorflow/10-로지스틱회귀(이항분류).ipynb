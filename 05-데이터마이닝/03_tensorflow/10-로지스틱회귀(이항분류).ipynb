{
 "cells": [
  {
   "cell_type": "markdown",
   "metadata": {},
   "source": [
    "## 로지스틱 회귀 - 이항분류\n",
    "\n",
    "#### #01. 패키지 준비하기"
   ]
  },
  {
   "cell_type": "code",
   "execution_count": 1,
   "metadata": {},
   "outputs": [],
   "source": [
    "import sys\n",
    "sys.path.append('../../')\n",
    "import helper\n",
    "\n",
    "from pandas import read_excel, DataFrame\n",
    "from matplotlib import pyplot as plt\n",
    "import seaborn as sb\n",
    "import numpy as np\n",
    "\n",
    "from sklearn.model_selection import train_test_split\n",
    "from sklearn.preprocessing import StandardScaler\n",
    "from sklearn.metrics import classification_report, confusion_matrix, roc_curve, roc_auc_score, accuracy_score, recall_score, precision_score, f1_score\n",
    "\n",
    "from tensorflow.keras.models import Sequential\n",
    "from tensorflow.keras.layers import Dense\n",
    "from tensorflow.keras.callbacks import EarlyStopping\n",
    "from tensorflow.keras.callbacks import ReduceLROnPlateau\n",
    "from tensorflow.keras.callbacks import ModelCheckpoint"
   ]
  },
  {
   "cell_type": "markdown",
   "metadata": {},
   "source": [
    "#### #02. 데이터셋 준비하기\n",
    "\n",
    "###### 방사선학 석사과정 대학원생 모집을 하였다. 이 때 지원한 방사선사의 대학원 합격 여부에 따른 주요 요인이 무엇인지 분석하라\n",
    "###### 단, 독립변수는 정규분포를 따른다고 가정한다.\n",
    "|변수|구분|설명|\n",
    "|--|--|--|\n",
    "|합격여부|범주형|1=합격, 0=불합격|\n",
    "|필기점수|연속형|800점 만점|\n",
    "|학부성적|연속형|4.0만점|\n",
    "|병원경력|범주형|1: 10년 이상, 2: 2~5년, 3: 1~5년, 4: 1년 미만|"
   ]
  },
  {
   "cell_type": "code",
   "execution_count": 2,
   "metadata": {},
   "outputs": [
    {
     "data": {
      "text/html": [
       "<div>\n",
       "<style scoped>\n",
       "    .dataframe tbody tr th:only-of-type {\n",
       "        vertical-align: middle;\n",
       "    }\n",
       "\n",
       "    .dataframe tbody tr th {\n",
       "        vertical-align: top;\n",
       "    }\n",
       "\n",
       "    .dataframe thead th {\n",
       "        text-align: right;\n",
       "    }\n",
       "</style>\n",
       "<table border=\"1\" class=\"dataframe\">\n",
       "  <thead>\n",
       "    <tr style=\"text-align: right;\">\n",
       "      <th></th>\n",
       "      <th>합격여부</th>\n",
       "      <th>필기점수</th>\n",
       "      <th>학부성적</th>\n",
       "      <th>병원경력</th>\n",
       "    </tr>\n",
       "  </thead>\n",
       "  <tbody>\n",
       "    <tr>\n",
       "      <th>0</th>\n",
       "      <td>0</td>\n",
       "      <td>380</td>\n",
       "      <td>3.61</td>\n",
       "      <td>3</td>\n",
       "    </tr>\n",
       "    <tr>\n",
       "      <th>1</th>\n",
       "      <td>1</td>\n",
       "      <td>660</td>\n",
       "      <td>3.67</td>\n",
       "      <td>3</td>\n",
       "    </tr>\n",
       "    <tr>\n",
       "      <th>2</th>\n",
       "      <td>1</td>\n",
       "      <td>800</td>\n",
       "      <td>4.00</td>\n",
       "      <td>1</td>\n",
       "    </tr>\n",
       "    <tr>\n",
       "      <th>3</th>\n",
       "      <td>1</td>\n",
       "      <td>640</td>\n",
       "      <td>3.19</td>\n",
       "      <td>4</td>\n",
       "    </tr>\n",
       "    <tr>\n",
       "      <th>4</th>\n",
       "      <td>0</td>\n",
       "      <td>520</td>\n",
       "      <td>2.93</td>\n",
       "      <td>4</td>\n",
       "    </tr>\n",
       "  </tbody>\n",
       "</table>\n",
       "</div>"
      ],
      "text/plain": [
       "   합격여부  필기점수  학부성적  병원경력\n",
       "0     0   380  3.61     3\n",
       "1     1   660  3.67     3\n",
       "2     1   800  4.00     1\n",
       "3     1   640  3.19     4\n",
       "4     0   520  2.93     4"
      ]
     },
     "execution_count": 2,
     "metadata": {},
     "output_type": "execute_result"
    }
   ],
   "source": [
    "origin = read_excel(\"https://data.hossam.kr/E05/gradeuate.xlsx\")\n",
    "origin.head()"
   ]
  },
  {
   "cell_type": "markdown",
   "metadata": {},
   "source": [
    "#### #03. 데이터 전처리 \n",
    "\n",
    "결측치 확인"
   ]
  },
  {
   "cell_type": "code",
   "execution_count": 3,
   "metadata": {},
   "outputs": [
    {
     "data": {
      "text/plain": [
       "합격여부    0\n",
       "필기점수    0\n",
       "학부성적    0\n",
       "병원경력    0\n",
       "dtype: int64"
      ]
     },
     "execution_count": 3,
     "metadata": {},
     "output_type": "execute_result"
    }
   ],
   "source": [
    "origin.isna().sum()"
   ]
  },
  {
   "cell_type": "markdown",
   "metadata": {},
   "source": [
    "명목형에 대한 데이터 타입 설정"
   ]
  },
  {
   "cell_type": "code",
   "execution_count": 4,
   "metadata": {},
   "outputs": [
    {
     "name": "stdout",
     "output_type": "stream",
     "text": [
      "<class 'pandas.core.frame.DataFrame'>\n",
      "RangeIndex: 400 entries, 0 to 399\n",
      "Data columns (total 4 columns):\n",
      " #   Column  Non-Null Count  Dtype   \n",
      "---  ------  --------------  -----   \n",
      " 0   합격여부    400 non-null    category\n",
      " 1   필기점수    400 non-null    int64   \n",
      " 2   학부성적    400 non-null    float64 \n",
      " 3   병원경력    400 non-null    int64   \n",
      "dtypes: category(1), float64(1), int64(2)\n",
      "memory usage: 10.0 KB\n"
     ]
    }
   ],
   "source": [
    "origin['합격여부'] = origin['합격여부'].astype('category')\n",
    "origin.info()"
   ]
  },
  {
   "cell_type": "markdown",
   "metadata": {},
   "source": [
    "#### #04. 탐색적 데이터 분석\n",
    "\n",
    "기본 통계확인"
   ]
  },
  {
   "cell_type": "code",
   "execution_count": 5,
   "metadata": {},
   "outputs": [
    {
     "data": {
      "text/html": [
       "<div>\n",
       "<style scoped>\n",
       "    .dataframe tbody tr th:only-of-type {\n",
       "        vertical-align: middle;\n",
       "    }\n",
       "\n",
       "    .dataframe tbody tr th {\n",
       "        vertical-align: top;\n",
       "    }\n",
       "\n",
       "    .dataframe thead th {\n",
       "        text-align: right;\n",
       "    }\n",
       "</style>\n",
       "<table border=\"1\" class=\"dataframe\">\n",
       "  <thead>\n",
       "    <tr style=\"text-align: right;\">\n",
       "      <th></th>\n",
       "      <th>필기점수</th>\n",
       "      <th>학부성적</th>\n",
       "      <th>병원경력</th>\n",
       "    </tr>\n",
       "  </thead>\n",
       "  <tbody>\n",
       "    <tr>\n",
       "      <th>count</th>\n",
       "      <td>400.000000</td>\n",
       "      <td>400.000000</td>\n",
       "      <td>400.00000</td>\n",
       "    </tr>\n",
       "    <tr>\n",
       "      <th>mean</th>\n",
       "      <td>587.700000</td>\n",
       "      <td>3.389900</td>\n",
       "      <td>2.48500</td>\n",
       "    </tr>\n",
       "    <tr>\n",
       "      <th>std</th>\n",
       "      <td>115.516536</td>\n",
       "      <td>0.380567</td>\n",
       "      <td>0.94446</td>\n",
       "    </tr>\n",
       "    <tr>\n",
       "      <th>min</th>\n",
       "      <td>220.000000</td>\n",
       "      <td>2.260000</td>\n",
       "      <td>1.00000</td>\n",
       "    </tr>\n",
       "    <tr>\n",
       "      <th>25%</th>\n",
       "      <td>520.000000</td>\n",
       "      <td>3.130000</td>\n",
       "      <td>2.00000</td>\n",
       "    </tr>\n",
       "    <tr>\n",
       "      <th>50%</th>\n",
       "      <td>580.000000</td>\n",
       "      <td>3.395000</td>\n",
       "      <td>2.00000</td>\n",
       "    </tr>\n",
       "    <tr>\n",
       "      <th>75%</th>\n",
       "      <td>660.000000</td>\n",
       "      <td>3.670000</td>\n",
       "      <td>3.00000</td>\n",
       "    </tr>\n",
       "    <tr>\n",
       "      <th>max</th>\n",
       "      <td>800.000000</td>\n",
       "      <td>4.000000</td>\n",
       "      <td>4.00000</td>\n",
       "    </tr>\n",
       "  </tbody>\n",
       "</table>\n",
       "</div>"
      ],
      "text/plain": [
       "             필기점수        학부성적       병원경력\n",
       "count  400.000000  400.000000  400.00000\n",
       "mean   587.700000    3.389900    2.48500\n",
       "std    115.516536    0.380567    0.94446\n",
       "min    220.000000    2.260000    1.00000\n",
       "25%    520.000000    3.130000    2.00000\n",
       "50%    580.000000    3.395000    2.00000\n",
       "75%    660.000000    3.670000    3.00000\n",
       "max    800.000000    4.000000    4.00000"
      ]
     },
     "execution_count": 5,
     "metadata": {},
     "output_type": "execute_result"
    }
   ],
   "source": [
    "origin.describe()"
   ]
  },
  {
   "cell_type": "markdown",
   "metadata": {},
   "source": [
    "상자그림 확인"
   ]
  },
  {
   "cell_type": "code",
   "execution_count": 6,
   "metadata": {},
   "outputs": [
    {
     "data": {
      "image/png": "[encoded data removed]",
      "text/plain": [
       "<Figure size 1000x500 with 1 Axes>"
      ]
     },
     "metadata": {},
     "output_type": "display_data"
    }
   ],
   "source": [
    "plt.figure(figsize=(10, 5))\n",
    "sb.boxplot(data=origin)\n",
    "plt.show()\n",
    "plt.close()"
   ]
  },
  {
   "cell_type": "markdown",
   "metadata": {},
   "source": [
    "> ###### 데이터 단위가 크게 다르므로 표준화가 필요해보임"
   ]
  },
  {
   "cell_type": "markdown",
   "metadata": {},
   "source": [
    "#### #05. 데이터셋 분할하기\n",
    "\n",
    "랜덤시드 고정"
   ]
  },
  {
   "cell_type": "code",
   "execution_count": 7,
   "metadata": {},
   "outputs": [],
   "source": [
    "np.random.seed(777)"
   ]
  },
  {
   "cell_type": "markdown",
   "metadata": {},
   "source": [
    "훈련 데이터(독립변수)와 레이블(종속변수) 구분하기"
   ]
  },
  {
   "cell_type": "code",
   "execution_count": 8,
   "metadata": {},
   "outputs": [
    {
     "data": {
      "text/plain": [
       "((400, 3), (400, 1))"
      ]
     },
     "execution_count": 8,
     "metadata": {},
     "output_type": "execute_result"
    }
   ],
   "source": [
    "x = origin[['필기점수','학부성적','병원경력']]\n",
    "y = origin[['합격여부']]\n",
    "x.shape, y.shape"
   ]
  },
  {
   "cell_type": "markdown",
   "metadata": {},
   "source": [
    "데이터 표준화"
   ]
  },
  {
   "cell_type": "code",
   "execution_count": 9,
   "metadata": {},
   "outputs": [
    {
     "name": "stdout",
     "output_type": "stream",
     "text": [
      "(400, 3)\n"
     ]
    },
    {
     "data": {
      "text/plain": [
       "array([[-1.80026271,  0.57907192,  0.54596793],\n",
       "       [ 0.62666824,  0.73692942,  0.54596793],\n",
       "       [ 1.84013372,  1.60514289, -1.57429586],\n",
       "       ...,\n",
       "       [-1.10685387, -1.99925902, -0.51416397],\n",
       "       [ 0.97337266,  0.68431046, -0.51416397],\n",
       "       [ 0.10661161,  1.31573861,  0.54596793]])"
      ]
     },
     "execution_count": 9,
     "metadata": {},
     "output_type": "execute_result"
    }
   ],
   "source": [
    "x_scaller = StandardScaler()\n",
    "x_scale = x_scaller.fit_transform(x)\n",
    "print(x_scale.shape)\n",
    "x_scale"
   ]
  },
  {
   "cell_type": "markdown",
   "metadata": {},
   "source": [
    "표준화 전 후 상자그림 비교"
   ]
  },
  {
   "cell_type": "code",
   "execution_count": 10,
   "metadata": {},
   "outputs": [
    {
     "data": {
      "image/png": "[encoded data removed]",
      "text/plain": [
       "<Figure size 2250x750 with 2 Axes>"
      ]
     },
     "metadata": {},
     "output_type": "display_data"
    }
   ],
   "source": [
    "# 임시로 독립변수와 종속변수를 하나의 DataFrame으로 병합\n",
    "x_scale_df = DataFrame(x_scale, columns=['필기점수','학부성적','병원경력'])\n",
    "\n",
    "fig, ax = plt.subplots(1, 2, figsize=(15, 5), dpi=150)\n",
    "sb.boxplot(data=origin, ax=ax[0])\n",
    "sb.boxplot(data=x_scale_df, ax=ax[1])\n",
    "ax[0].set_title('before')\n",
    "ax[1].set_title('after')\n",
    "plt.show()\n",
    "plt.close()"
   ]
  },
  {
   "cell_type": "markdown",
   "metadata": {},
   "source": [
    "훈련 데이터와 검증 데이터로 분할"
   ]
  },
  {
   "cell_type": "code",
   "execution_count": 11,
   "metadata": {},
   "outputs": [
    {
     "data": {
      "text/plain": [
       "((280, 3), (120, 3), (280, 1), (120, 1))"
      ]
     },
     "execution_count": 11,
     "metadata": {},
     "output_type": "execute_result"
    }
   ],
   "source": [
    "x_train, x_test, y_train, y_test = train_test_split(x_scale, y, test_size=0.3, random_state=777)\n",
    "x_train.shape, x_test.shape, y_train.shape, y_test.shape"
   ]
  },
  {
   "cell_type": "markdown",
   "metadata": {},
   "source": [
    "#### #06. 모델 개발\n",
    "\n",
    "모델 정의\n",
    "\n",
    ">  ###### [relu,] sigmoid rmsporp binary_crossentropy acc"
   ]
  },
  {
   "cell_type": "code",
   "execution_count": 12,
   "metadata": {},
   "outputs": [
    {
     "name": "stdout",
     "output_type": "stream",
     "text": [
      "Model: \"sequential\"\n",
      "_________________________________________________________________\n",
      " Layer (type)                Output Shape              Param #   \n",
      "=================================================================\n",
      " dense (Dense)               (None, 32)                128       \n",
      "                                                                 \n",
      " dense_1 (Dense)             (None, 1)                 33        \n",
      "                                                                 \n",
      "=================================================================\n",
      "Total params: 161 (644.00 Byte)\n",
      "Trainable params: 161 (644.00 Byte)\n",
      "Non-trainable params: 0 (0.00 Byte)\n",
      "_________________________________________________________________\n"
     ]
    }
   ],
   "source": [
    "model = Sequential()\n",
    "model.add(Dense(32, activation='relu', input_shape=(3, )))\n",
    "model.add(Dense(1, activation='sigmoid'))\n",
    "model.compile(optimizer='rmsprop', loss = 'binary_crossentropy', metrics = ['acc'])\n",
    "model.summary()"
   ]
  },
  {
   "cell_type": "markdown",
   "metadata": {},
   "source": [
    "학습하기"
   ]
  },
  {
   "cell_type": "code",
   "execution_count": 13,
   "metadata": {},
   "outputs": [
    {
     "name": "stdout",
     "output_type": "stream",
     "text": [
      "Epoch 1/500\n",
      "9/9 [==============================] - 1s 21ms/step - loss: 0.6646 - acc: 0.6750 - val_loss: 0.6415 - val_acc: 0.7000 - lr: 0.0010\n",
      "Epoch 2/500\n",
      "9/9 [==============================] - 0s 4ms/step - loss: 0.6475 - acc: 0.6750 - val_loss: 0.6265 - val_acc: 0.7000 - lr: 0.0010\n",
      "Epoch 3/500\n",
      "9/9 [==============================] - 0s 5ms/step - loss: 0.6370 - acc: 0.6750 - val_loss: 0.6141 - val_acc: 0.7000 - lr: 0.0010\n",
      "Epoch 4/500\n",
      "9/9 [==============================] - 0s 5ms/step - loss: 0.6290 - acc: 0.6750 - val_loss: 0.6032 - val_acc: 0.7000 - lr: 0.0010\n",
      "Epoch 5/500\n",
      "9/9 [==============================] - 0s 5ms/step - loss: 0.6221 - acc: 0.6750 - val_loss: 0.5949 - val_acc: 0.7000 - lr: 0.0010\n",
      "Epoch 6/500\n",
      "9/9 [==============================] - 0s 6ms/step - loss: 0.6177 - acc: 0.6750 - val_loss: 0.5880 - val_acc: 0.7000 - lr: 0.0010\n",
      "Epoch 7/500\n",
      "9/9 [==============================] - 0s 7ms/step - loss: 0.6129 - acc: 0.6750 - val_loss: 0.5813 - val_acc: 0.7000 - lr: 0.0010\n",
      "Epoch 8/500\n",
      "9/9 [==============================] - 0s 6ms/step - loss: 0.6096 - acc: 0.6750 - val_loss: 0.5762 - val_acc: 0.7000 - lr: 0.0010\n",
      "Epoch 9/500\n",
      "9/9 [==============================] - 0s 5ms/step - loss: 0.6066 - acc: 0.6750 - val_loss: 0.5713 - val_acc: 0.7000 - lr: 0.0010\n",
      "Epoch 10/500\n",
      "9/9 [==============================] - 0s 5ms/step - loss: 0.6041 - acc: 0.6750 - val_loss: 0.5676 - val_acc: 0.7000 - lr: 0.0010\n",
      "Epoch 11/500\n",
      "9/9 [==============================] - 0s 5ms/step - loss: 0.6022 - acc: 0.6750 - val_loss: 0.5638 - val_acc: 0.7000 - lr: 0.0010\n",
      "Epoch 12/500\n",
      "9/9 [==============================] - 0s 4ms/step - loss: 0.6005 - acc: 0.6750 - val_loss: 0.5610 - val_acc: 0.7000 - lr: 0.0010\n",
      "Epoch 13/500\n",
      "9/9 [==============================] - 0s 4ms/step - loss: 0.5990 - acc: 0.6750 - val_loss: 0.5580 - val_acc: 0.7000 - lr: 0.0010\n",
      "Epoch 14/500\n",
      "9/9 [==============================] - 0s 5ms/step - loss: 0.5984 - acc: 0.6750 - val_loss: 0.5558 - val_acc: 0.7000 - lr: 0.0010\n",
      "Epoch 15/500\n",
      "9/9 [==============================] - 0s 4ms/step - loss: 0.5970 - acc: 0.6750 - val_loss: 0.5540 - val_acc: 0.7000 - lr: 0.0010\n",
      "Epoch 16/500\n",
      "9/9 [==============================] - 0s 5ms/step - loss: 0.5960 - acc: 0.6750 - val_loss: 0.5521 - val_acc: 0.6917 - lr: 0.0010\n",
      "Epoch 17/500\n",
      "9/9 [==============================] - 0s 5ms/step - loss: 0.5957 - acc: 0.6786 - val_loss: 0.5507 - val_acc: 0.6917 - lr: 0.0010\n",
      "Epoch 18/500\n",
      "9/9 [==============================] - 0s 4ms/step - loss: 0.5950 - acc: 0.6750 - val_loss: 0.5493 - val_acc: 0.7083 - lr: 0.0010\n",
      "Epoch 19/500\n",
      "9/9 [==============================] - 0s 5ms/step - loss: 0.5945 - acc: 0.6750 - val_loss: 0.5482 - val_acc: 0.7083 - lr: 0.0010\n",
      "Epoch 20/500\n",
      "9/9 [==============================] - 0s 5ms/step - loss: 0.5937 - acc: 0.6786 - val_loss: 0.5470 - val_acc: 0.7083 - lr: 0.0010\n",
      "Epoch 21/500\n",
      "9/9 [==============================] - 0s 6ms/step - loss: 0.5935 - acc: 0.6750 - val_loss: 0.5464 - val_acc: 0.7250 - lr: 0.0010\n",
      "Epoch 22/500\n",
      "9/9 [==============================] - 0s 5ms/step - loss: 0.5932 - acc: 0.6786 - val_loss: 0.5457 - val_acc: 0.7250 - lr: 0.0010\n",
      "Epoch 23/500\n",
      "9/9 [==============================] - 0s 5ms/step - loss: 0.5925 - acc: 0.6714 - val_loss: 0.5449 - val_acc: 0.7333 - lr: 0.0010\n",
      "Epoch 24/500\n",
      "9/9 [==============================] - 0s 4ms/step - loss: 0.5921 - acc: 0.6821 - val_loss: 0.5447 - val_acc: 0.7333 - lr: 0.0010\n",
      "Epoch 25/500\n",
      "9/9 [==============================] - 0s 4ms/step - loss: 0.5916 - acc: 0.6821 - val_loss: 0.5443 - val_acc: 0.7250 - lr: 0.0010\n",
      "Epoch 26/500\n",
      "9/9 [==============================] - 0s 5ms/step - loss: 0.5916 - acc: 0.6857 - val_loss: 0.5438 - val_acc: 0.7250 - lr: 0.0010\n",
      "Epoch 27/500\n",
      "9/9 [==============================] - 0s 5ms/step - loss: 0.5913 - acc: 0.6821 - val_loss: 0.5436 - val_acc: 0.7333 - lr: 0.0010\n",
      "Epoch 28/500\n",
      "9/9 [==============================] - 0s 5ms/step - loss: 0.5907 - acc: 0.6893 - val_loss: 0.5435 - val_acc: 0.7333 - lr: 0.0010\n",
      "Epoch 29/500\n",
      "9/9 [==============================] - 0s 5ms/step - loss: 0.5905 - acc: 0.6857 - val_loss: 0.5435 - val_acc: 0.7417 - lr: 0.0010\n",
      "Epoch 30/500\n",
      "9/9 [==============================] - 0s 4ms/step - loss: 0.5906 - acc: 0.6857 - val_loss: 0.5438 - val_acc: 0.7417 - lr: 0.0010\n",
      "Epoch 31/500\n",
      "1/9 [==>...........................] - ETA: 0s - loss: 0.5669 - acc: 0.6875\n",
      "Epoch 31: ReduceLROnPlateau reducing learning rate to 0.0005000000237487257.\n",
      "9/9 [==============================] - 0s 6ms/step - loss: 0.5898 - acc: 0.6893 - val_loss: 0.5436 - val_acc: 0.7417 - lr: 0.0010\n",
      "Epoch 32/500\n",
      "9/9 [==============================] - 0s 5ms/step - loss: 0.5892 - acc: 0.6857 - val_loss: 0.5434 - val_acc: 0.7333 - lr: 5.0000e-04\n",
      "Epoch 33/500\n",
      "9/9 [==============================] - 0s 5ms/step - loss: 0.5892 - acc: 0.6929 - val_loss: 0.5433 - val_acc: 0.7333 - lr: 5.0000e-04\n",
      "Epoch 34/500\n",
      "9/9 [==============================] - 0s 5ms/step - loss: 0.5890 - acc: 0.6893 - val_loss: 0.5432 - val_acc: 0.7333 - lr: 5.0000e-04\n",
      "Epoch 35/500\n",
      "9/9 [==============================] - 0s 5ms/step - loss: 0.5888 - acc: 0.6929 - val_loss: 0.5432 - val_acc: 0.7333 - lr: 5.0000e-04\n",
      "Epoch 36/500\n",
      "9/9 [==============================] - 0s 5ms/step - loss: 0.5888 - acc: 0.6964 - val_loss: 0.5431 - val_acc: 0.7333 - lr: 5.0000e-04\n",
      "Epoch 37/500\n",
      "9/9 [==============================] - 0s 4ms/step - loss: 0.5887 - acc: 0.6929 - val_loss: 0.5428 - val_acc: 0.7333 - lr: 5.0000e-04\n",
      "Epoch 38/500\n",
      "9/9 [==============================] - 0s 5ms/step - loss: 0.5887 - acc: 0.6964 - val_loss: 0.5429 - val_acc: 0.7333 - lr: 5.0000e-04\n",
      "Epoch 39/500\n",
      "9/9 [==============================] - 0s 6ms/step - loss: 0.5884 - acc: 0.6964 - val_loss: 0.5427 - val_acc: 0.7333 - lr: 5.0000e-04\n",
      "Epoch 40/500\n",
      "9/9 [==============================] - 0s 5ms/step - loss: 0.5883 - acc: 0.6964 - val_loss: 0.5425 - val_acc: 0.7333 - lr: 5.0000e-04\n",
      "Epoch 41/500\n",
      "9/9 [==============================] - 0s 10ms/step - loss: 0.5882 - acc: 0.6929 - val_loss: 0.5425 - val_acc: 0.7333 - lr: 5.0000e-04\n",
      "Epoch 42/500\n",
      "9/9 [==============================] - 0s 7ms/step - loss: 0.5879 - acc: 0.7000 - val_loss: 0.5425 - val_acc: 0.7333 - lr: 5.0000e-04\n",
      "Epoch 43/500\n",
      "1/9 [==>...........................] - ETA: 0s - loss: 0.5348 - acc: 0.7188\n",
      "Epoch 43: ReduceLROnPlateau reducing learning rate to 0.0002500000118743628.\n",
      "9/9 [==============================] - 0s 5ms/step - loss: 0.5881 - acc: 0.6964 - val_loss: 0.5425 - val_acc: 0.7333 - lr: 5.0000e-04\n",
      "Epoch 44/500\n",
      "9/9 [==============================] - 0s 5ms/step - loss: 0.5876 - acc: 0.7000 - val_loss: 0.5425 - val_acc: 0.7333 - lr: 2.5000e-04\n",
      "Epoch 45/500\n",
      "9/9 [==============================] - 0s 4ms/step - loss: 0.5876 - acc: 0.7000 - val_loss: 0.5426 - val_acc: 0.7333 - lr: 2.5000e-04\n",
      "Epoch 46/500\n",
      "1/9 [==>...........................] - ETA: 0s - loss: 0.4900 - acc: 0.7500\n",
      "Epoch 46: ReduceLROnPlateau reducing learning rate to 0.0001250000059371814.\n",
      "9/9 [==============================] - 0s 5ms/step - loss: 0.5874 - acc: 0.6929 - val_loss: 0.5425 - val_acc: 0.7333 - lr: 2.5000e-04\n",
      "Epoch 47/500\n",
      "9/9 [==============================] - 0s 4ms/step - loss: 0.5873 - acc: 0.7000 - val_loss: 0.5425 - val_acc: 0.7333 - lr: 1.2500e-04\n",
      "Epoch 48/500\n",
      "9/9 [==============================] - 0s 4ms/step - loss: 0.5873 - acc: 0.7000 - val_loss: 0.5425 - val_acc: 0.7333 - lr: 1.2500e-04\n",
      "Epoch 49/500\n",
      "1/9 [==>...........................] - ETA: 0s - loss: 0.5432 - acc: 0.7812\n",
      "Epoch 49: ReduceLROnPlateau reducing learning rate to 0.0001.\n",
      "9/9 [==============================] - 0s 5ms/step - loss: 0.5872 - acc: 0.7000 - val_loss: 0.5424 - val_acc: 0.7333 - lr: 1.2500e-04\n",
      "Epoch 50/500\n",
      "9/9 [==============================] - 0s 5ms/step - loss: 0.5872 - acc: 0.7000 - val_loss: 0.5425 - val_acc: 0.7333 - lr: 1.0000e-04\n",
      "Epoch 51/500\n",
      "9/9 [==============================] - 0s 5ms/step - loss: 0.5872 - acc: 0.7000 - val_loss: 0.5424 - val_acc: 0.7333 - lr: 1.0000e-04\n",
      "Epoch 52/500\n",
      "9/9 [==============================] - 0s 4ms/step - loss: 0.5871 - acc: 0.7000 - val_loss: 0.5424 - val_acc: 0.7333 - lr: 1.0000e-04\n",
      "Epoch 53/500\n",
      "9/9 [==============================] - 0s 4ms/step - loss: 0.5871 - acc: 0.7000 - val_loss: 0.5424 - val_acc: 0.7333 - lr: 1.0000e-04\n",
      "Epoch 54/500\n",
      "9/9 [==============================] - 0s 4ms/step - loss: 0.5871 - acc: 0.7000 - val_loss: 0.5424 - val_acc: 0.7333 - lr: 1.0000e-04\n",
      "Epoch 55/500\n",
      "9/9 [==============================] - 0s 5ms/step - loss: 0.5871 - acc: 0.7000 - val_loss: 0.5424 - val_acc: 0.7333 - lr: 1.0000e-04\n",
      "Epoch 56/500\n",
      "9/9 [==============================] - 0s 5ms/step - loss: 0.5871 - acc: 0.7000 - val_loss: 0.5424 - val_acc: 0.7333 - lr: 1.0000e-04\n",
      "Epoch 57/500\n",
      "9/9 [==============================] - 0s 4ms/step - loss: 0.5870 - acc: 0.7000 - val_loss: 0.5424 - val_acc: 0.7333 - lr: 1.0000e-04\n",
      "Epoch 58/500\n",
      "9/9 [==============================] - 0s 4ms/step - loss: 0.5870 - acc: 0.7000 - val_loss: 0.5424 - val_acc: 0.7333 - lr: 1.0000e-04\n",
      "Epoch 59/500\n",
      "9/9 [==============================] - 0s 4ms/step - loss: 0.5870 - acc: 0.7000 - val_loss: 0.5424 - val_acc: 0.7333 - lr: 1.0000e-04\n",
      "Epoch 60/500\n",
      "9/9 [==============================] - 0s 5ms/step - loss: 0.5870 - acc: 0.7000 - val_loss: 0.5424 - val_acc: 0.7333 - lr: 1.0000e-04\n",
      "Epoch 61/500\n",
      "9/9 [==============================] - 0s 5ms/step - loss: 0.5869 - acc: 0.7000 - val_loss: 0.5424 - val_acc: 0.7333 - lr: 1.0000e-04\n",
      "Epoch 62/500\n",
      "9/9 [==============================] - 0s 5ms/step - loss: 0.5869 - acc: 0.7000 - val_loss: 0.5424 - val_acc: 0.7333 - lr: 1.0000e-04\n",
      "Epoch 63/500\n",
      "9/9 [==============================] - 0s 5ms/step - loss: 0.5869 - acc: 0.7000 - val_loss: 0.5424 - val_acc: 0.7333 - lr: 1.0000e-04\n",
      "Epoch 64/500\n",
      "9/9 [==============================] - 0s 4ms/step - loss: 0.5869 - acc: 0.7000 - val_loss: 0.5424 - val_acc: 0.7333 - lr: 1.0000e-04\n",
      "Epoch 65/500\n",
      "9/9 [==============================] - 0s 4ms/step - loss: 0.5869 - acc: 0.7000 - val_loss: 0.5424 - val_acc: 0.7333 - lr: 1.0000e-04\n",
      "Epoch 66/500\n",
      "9/9 [==============================] - 0s 4ms/step - loss: 0.5868 - acc: 0.7000 - val_loss: 0.5424 - val_acc: 0.7333 - lr: 1.0000e-04\n",
      "Epoch 67/500\n",
      "9/9 [==============================] - 0s 4ms/step - loss: 0.5868 - acc: 0.7000 - val_loss: 0.5424 - val_acc: 0.7333 - lr: 1.0000e-04\n",
      "Epoch 68/500\n",
      "9/9 [==============================] - 0s 4ms/step - loss: 0.5868 - acc: 0.7000 - val_loss: 0.5424 - val_acc: 0.7333 - lr: 1.0000e-04\n",
      "Epoch 69/500\n",
      "9/9 [==============================] - 0s 4ms/step - loss: 0.5868 - acc: 0.7000 - val_loss: 0.5424 - val_acc: 0.7333 - lr: 1.0000e-04\n",
      "Epoch 69: early stopping\n"
     ]
    }
   ],
   "source": [
    "result = model.fit(x_train, y_train, epochs = 500, validation_data = (x_test, y_test), callbacks = [\n",
    "    EarlyStopping(monitor = 'val_loss', patience=5, verbose = 1),\n",
    "    ReduceLROnPlateau(monitor= \"val_loss\", patience=3, factor = 0.5, min_lr=0.0001, verbose=1)\n",
    "])"
   ]
  },
  {
   "cell_type": "markdown",
   "metadata": {},
   "source": [
    "#### #07. 학습 결과 평가"
   ]
  },
  {
   "cell_type": "code",
   "execution_count": 14,
   "metadata": {},
   "outputs": [
    {
     "data": {
      "image/png": "[encoded data removed]",
      "text/plain": [
       "<Figure size 2250x750 with 2 Axes>"
      ]
     },
     "metadata": {},
     "output_type": "display_data"
    },
    {
     "name": "stdout",
     "output_type": "stream",
     "text": [
      "9/9 [==============================] - 0s 1ms/step - loss: 0.5867 - acc: 0.7000\n",
      "최종 훈련 손실률: 0.586661, 최종 훈련 정확도: 0.700000\n",
      "4/4 [==============================] - 0s 2ms/step - loss: 0.5424 - acc: 0.7333\n",
      "최종 훈련 손실률: 0.542392, 최종 훈련 정확도: 0.733333\n"
     ]
    }
   ],
   "source": [
    "helper.tf_result_plot(result)\n",
    "\n",
    "evaluate1 = model.evaluate(x_train, y_train)\n",
    "print(\"최종 훈련 손실률: %f, 최종 훈련 정확도: %f\" % (evaluate1[0], evaluate1[1]))\n",
    "\n",
    "evaluate2 = model.evaluate(x_test, y_test)\n",
    "print(\"최종 훈련 손실률: %f, 최종 훈련 정확도: %f\" % (evaluate2[0], evaluate2[1]))"
   ]
  },
  {
   "cell_type": "markdown",
   "metadata": {},
   "source": [
    "#### #08. 학습 결과 적용\n",
    "\n",
    "훈련 데이터에 대한 예측 결과 산정"
   ]
  },
  {
   "cell_type": "code",
   "execution_count": 15,
   "metadata": {},
   "outputs": [
    {
     "name": "stdout",
     "output_type": "stream",
     "text": [
      "9/9 [==============================] - 0s 878us/step\n",
      "280개의 훈련 데이터가 1개의 경우의 수를 갖는다.\n",
      "[[0.40151775]\n",
      " [0.5069803 ]\n",
      " [0.14789504]\n",
      " [0.20912926]\n",
      " [0.16847003]\n",
      " [0.15285416]\n",
      " [0.482328  ]\n",
      " [0.50431824]\n",
      " [0.34628898]\n",
      " [0.3825884 ]\n",
      " [0.3247142 ]\n",
      " [0.40865007]\n",
      " [0.44964424]\n",
      " [0.3307031 ]\n",
      " [0.1905955 ]\n",
      " [0.450466  ]\n",
      " [0.2085507 ]\n",
      " [0.45328262]\n",
      " [0.5403625 ]\n",
      " [0.52702904]\n",
      " [0.35239387]\n",
      " [0.49442908]\n",
      " [0.32214102]\n",
      " [0.12131157]\n",
      " [0.343916  ]\n",
      " [0.3439624 ]\n",
      " [0.456554  ]\n",
      " [0.3410051 ]\n",
      " [0.45004356]\n",
      " [0.48129883]\n",
      " [0.33910045]\n",
      " [0.4809042 ]\n",
      " [0.3359562 ]\n",
      " [0.23262532]\n",
      " [0.39316782]\n",
      " [0.29321676]\n",
      " [0.17743735]\n",
      " [0.10472582]\n",
      " [0.3470539 ]\n",
      " [0.42821193]\n",
      " [0.42202017]\n",
      " [0.15766087]\n",
      " [0.44026032]\n",
      " [0.3040516 ]\n",
      " [0.32138488]\n",
      " [0.45456645]\n",
      " [0.10255744]\n",
      " [0.28987917]\n",
      " [0.4446344 ]\n",
      " [0.12697695]\n",
      " [0.44793087]\n",
      " [0.36383137]\n",
      " [0.43954143]\n",
      " [0.1336492 ]\n",
      " [0.46160087]\n",
      " [0.52105635]\n",
      " [0.36986655]\n",
      " [0.44793087]\n",
      " [0.15167485]\n",
      " [0.30774495]\n",
      " [0.36148104]\n",
      " [0.43464217]\n",
      " [0.2762755 ]\n",
      " [0.3381561 ]\n",
      " [0.21903712]\n",
      " [0.21921857]\n",
      " [0.48169342]\n",
      " [0.25547495]\n",
      " [0.19554578]\n",
      " [0.33958444]\n",
      " [0.32875913]\n",
      " [0.23694023]\n",
      " [0.3451152 ]\n",
      " [0.34445378]\n",
      " [0.42080808]\n",
      " [0.47213748]\n",
      " [0.4446344 ]\n",
      " [0.4459484 ]\n",
      " [0.49049133]\n",
      " [0.3404446 ]\n",
      " [0.4408357 ]\n",
      " [0.30495787]\n",
      " [0.15328234]\n",
      " [0.17474324]\n",
      " [0.33127037]\n",
      " [0.22308616]\n",
      " [0.32955685]\n",
      " [0.48960418]\n",
      " [0.17024128]\n",
      " [0.53688127]\n",
      " [0.45165834]\n",
      " [0.10460154]\n",
      " [0.13264889]\n",
      " [0.33735844]\n",
      " [0.45972732]\n",
      " [0.29721415]\n",
      " [0.45113617]\n",
      " [0.54979026]\n",
      " [0.2294644 ]\n",
      " [0.4862359 ]\n",
      " [0.33592224]\n",
      " [0.15852423]\n",
      " [0.4801701 ]\n",
      " [0.46404696]\n",
      " [0.51647824]\n",
      " [0.25014406]\n",
      " [0.268862  ]\n",
      " [0.28933364]\n",
      " [0.20569633]\n",
      " [0.10835539]\n",
      " [0.49229014]\n",
      " [0.34337994]\n",
      " [0.40433574]\n",
      " [0.4680279 ]\n",
      " [0.41344085]\n",
      " [0.17143631]\n",
      " [0.13348341]\n",
      " [0.29235533]\n",
      " [0.34168193]\n",
      " [0.10388446]\n",
      " [0.13767211]\n",
      " [0.24693976]\n",
      " [0.4422925 ]\n",
      " [0.341935  ]\n",
      " [0.1891553 ]\n",
      " [0.3987704 ]\n",
      " [0.34319323]\n",
      " [0.22273012]\n",
      " [0.3420184 ]\n",
      " [0.11113136]\n",
      " [0.25748038]\n",
      " [0.34378734]\n",
      " [0.44423032]\n",
      " [0.2077143 ]\n",
      " [0.19211827]\n",
      " [0.2268903 ]\n",
      " [0.11936019]\n",
      " [0.31424922]\n",
      " [0.2679244 ]\n",
      " [0.21427123]\n",
      " [0.06598756]\n",
      " [0.34853864]\n",
      " [0.23096654]\n",
      " [0.35025766]\n",
      " [0.17920838]\n",
      " [0.5098699 ]\n",
      " [0.30676156]\n",
      " [0.3744202 ]\n",
      " [0.18331566]\n",
      " [0.53294295]\n",
      " [0.43868074]\n",
      " [0.47313032]\n",
      " [0.07051174]\n",
      " [0.47356248]\n",
      " [0.44512254]\n",
      " [0.22834973]\n",
      " [0.40535378]\n",
      " [0.35066622]\n",
      " [0.40640104]\n",
      " [0.44747248]\n",
      " [0.37544206]\n",
      " [0.29423726]\n",
      " [0.51622355]\n",
      " [0.47323963]\n",
      " [0.04475684]\n",
      " [0.39229944]\n",
      " [0.47613072]\n",
      " [0.12177245]\n",
      " [0.34962627]\n",
      " [0.42012405]\n",
      " [0.5118265 ]\n",
      " [0.20903207]\n",
      " [0.32490328]\n",
      " [0.39337954]\n",
      " [0.18432325]\n",
      " [0.22439948]\n",
      " [0.40971053]\n",
      " [0.20442544]\n",
      " [0.49524418]\n",
      " [0.22461025]\n",
      " [0.3649106 ]\n",
      " [0.45278952]\n",
      " [0.21372208]\n",
      " [0.19370191]\n",
      " [0.21258181]\n",
      " [0.44167262]\n",
      " [0.21741232]\n",
      " [0.21345142]\n",
      " [0.24188526]\n",
      " [0.17958494]\n",
      " [0.34554988]\n",
      " [0.37698087]\n",
      " [0.50225586]\n",
      " [0.40328068]\n",
      " [0.2042951 ]\n",
      " [0.18287301]\n",
      " [0.17607738]\n",
      " [0.16099702]\n",
      " [0.37485915]\n",
      " [0.4862359 ]\n",
      " [0.2142588 ]\n",
      " [0.467813  ]\n",
      " [0.4370111 ]\n",
      " [0.367953  ]\n",
      " [0.25549045]\n",
      " [0.45468432]\n",
      " [0.12432211]\n",
      " [0.19272684]\n",
      " [0.39593965]\n",
      " [0.0755665 ]\n",
      " [0.31724942]\n",
      " [0.3497051 ]\n",
      " [0.4709656 ]\n",
      " [0.470041  ]\n",
      " [0.5230088 ]\n",
      " [0.14889428]\n",
      " [0.26297355]\n",
      " [0.3388138 ]\n",
      " [0.45285127]\n",
      " [0.18629612]\n",
      " [0.10634217]\n",
      " [0.33592224]\n",
      " [0.36896753]\n",
      " [0.44018146]\n",
      " [0.3546426 ]\n",
      " [0.35032332]\n",
      " [0.34158602]\n",
      " [0.44700283]\n",
      " [0.44113648]\n",
      " [0.34770873]\n",
      " [0.4396676 ]\n",
      " [0.33025855]\n",
      " [0.4410605 ]\n",
      " [0.2804488 ]\n",
      " [0.17686059]\n",
      " [0.45657203]\n",
      " [0.35269395]\n",
      " [0.5246762 ]\n",
      " [0.47712627]\n",
      " [0.21465334]\n",
      " [0.41078627]\n",
      " [0.34859073]\n",
      " [0.47584882]\n",
      " [0.5842488 ]\n",
      " [0.32098123]\n",
      " [0.27136984]\n",
      " [0.41359463]\n",
      " [0.53294295]\n",
      " [0.10762478]\n",
      " [0.4401681 ]\n",
      " [0.3420928 ]\n",
      " [0.15086727]\n",
      " [0.1433917 ]\n",
      " [0.19844297]\n",
      " [0.34550205]\n",
      " [0.16194394]\n",
      " [0.22925131]\n",
      " [0.36157244]\n",
      " [0.28236312]\n",
      " [0.34848866]\n",
      " [0.4833447 ]\n",
      " [0.35239387]\n",
      " [0.5227636 ]\n",
      " [0.12725563]\n",
      " [0.36148366]\n",
      " [0.4064047 ]\n",
      " [0.50992846]\n",
      " [0.32030618]\n",
      " [0.2280464 ]\n",
      " [0.24087436]\n",
      " [0.47311327]\n",
      " [0.23898788]\n",
      " [0.35301325]\n",
      " [0.22180858]\n",
      " [0.4675215 ]\n",
      " [0.05395681]\n",
      " [0.4670256 ]\n",
      " [0.1336492 ]\n",
      " [0.4705886 ]\n",
      " [0.39628357]]\n"
     ]
    }
   ],
   "source": [
    "train_pred = model.predict(x_train)\n",
    "data_count, case_count = train_pred.shape\n",
    "print(\"%d개의 훈련 데이터가 %d개의 경우의 수를 갖는다.\" % (data_count, case_count))\n",
    "print(train_pred)"
   ]
  },
  {
   "cell_type": "markdown",
   "metadata": {},
   "source": [
    "검증 데이터에 대한 예측 결과 산정"
   ]
  },
  {
   "cell_type": "code",
   "execution_count": 16,
   "metadata": {},
   "outputs": [
    {
     "name": "stdout",
     "output_type": "stream",
     "text": [
      "4/4 [==============================] - 0s 1ms/step\n",
      "120개의 검증 데이터가 1개의 경우의 수를 갖는다.\n"
     ]
    }
   ],
   "source": [
    "test_pred = model.predict(x_test)\n",
    "data_count, case_count = test_pred.shape\n",
    "print(\"%d개의 검증 데이터가 %d개의 경우의 수를 갖는다.\" % (data_count, case_count))"
   ]
  },
  {
   "cell_type": "markdown",
   "metadata": {},
   "source": [
    "결과 데이터 셋 구성"
   ]
  },
  {
   "cell_type": "code",
   "execution_count": 17,
   "metadata": {},
   "outputs": [
    {
     "data": {
      "text/html": [
       "<div>\n",
       "<style scoped>\n",
       "    .dataframe tbody tr th:only-of-type {\n",
       "        vertical-align: middle;\n",
       "    }\n",
       "\n",
       "    .dataframe tbody tr th {\n",
       "        vertical-align: top;\n",
       "    }\n",
       "\n",
       "    .dataframe thead th {\n",
       "        text-align: right;\n",
       "    }\n",
       "</style>\n",
       "<table border=\"1\" class=\"dataframe\">\n",
       "  <thead>\n",
       "    <tr style=\"text-align: right;\">\n",
       "      <th></th>\n",
       "      <th>결과값</th>\n",
       "      <th>예측치</th>\n",
       "      <th>합격확률(%)</th>\n",
       "    </tr>\n",
       "  </thead>\n",
       "  <tbody>\n",
       "    <tr>\n",
       "      <th>0</th>\n",
       "      <td>1</td>\n",
       "      <td>0.0</td>\n",
       "      <td>40.200001</td>\n",
       "    </tr>\n",
       "    <tr>\n",
       "      <th>1</th>\n",
       "      <td>1</td>\n",
       "      <td>1.0</td>\n",
       "      <td>50.700001</td>\n",
       "    </tr>\n",
       "    <tr>\n",
       "      <th>2</th>\n",
       "      <td>1</td>\n",
       "      <td>0.0</td>\n",
       "      <td>14.800000</td>\n",
       "    </tr>\n",
       "    <tr>\n",
       "      <th>3</th>\n",
       "      <td>0</td>\n",
       "      <td>0.0</td>\n",
       "      <td>20.900000</td>\n",
       "    </tr>\n",
       "    <tr>\n",
       "      <th>4</th>\n",
       "      <td>0</td>\n",
       "      <td>0.0</td>\n",
       "      <td>16.799999</td>\n",
       "    </tr>\n",
       "    <tr>\n",
       "      <th>...</th>\n",
       "      <td>...</td>\n",
       "      <td>...</td>\n",
       "      <td>...</td>\n",
       "    </tr>\n",
       "    <tr>\n",
       "      <th>275</th>\n",
       "      <td>0</td>\n",
       "      <td>0.0</td>\n",
       "      <td>5.400000</td>\n",
       "    </tr>\n",
       "    <tr>\n",
       "      <th>276</th>\n",
       "      <td>0</td>\n",
       "      <td>0.0</td>\n",
       "      <td>46.700001</td>\n",
       "    </tr>\n",
       "    <tr>\n",
       "      <th>277</th>\n",
       "      <td>0</td>\n",
       "      <td>0.0</td>\n",
       "      <td>13.400000</td>\n",
       "    </tr>\n",
       "    <tr>\n",
       "      <th>278</th>\n",
       "      <td>1</td>\n",
       "      <td>0.0</td>\n",
       "      <td>47.099998</td>\n",
       "    </tr>\n",
       "    <tr>\n",
       "      <th>279</th>\n",
       "      <td>0</td>\n",
       "      <td>0.0</td>\n",
       "      <td>39.599998</td>\n",
       "    </tr>\n",
       "  </tbody>\n",
       "</table>\n",
       "<p>280 rows × 3 columns</p>\n",
       "</div>"
      ],
      "text/plain": [
       "    결과값  예측치    합격확률(%)\n",
       "0     1  0.0  40.200001\n",
       "1     1  1.0  50.700001\n",
       "2     1  0.0  14.800000\n",
       "3     0  0.0  20.900000\n",
       "4     0  0.0  16.799999\n",
       "..   ..  ...        ...\n",
       "275   0  0.0   5.400000\n",
       "276   0  0.0  46.700001\n",
       "277   0  0.0  13.400000\n",
       "278   1  0.0  47.099998\n",
       "279   0  0.0  39.599998\n",
       "\n",
       "[280 rows x 3 columns]"
      ]
     },
     "execution_count": 17,
     "metadata": {},
     "output_type": "execute_result"
    }
   ],
   "source": [
    "kdf = DataFrame({\n",
    "    '결과값': y_train['합격여부'].values,\n",
    "    '예측치' : np.round(train_pred.flatten()),\n",
    "    '합격확률(%)': np.round(train_pred.flatten() * 100, 1)\n",
    "})\n",
    "\n",
    "kdf"
   ]
  },
  {
   "cell_type": "markdown",
   "metadata": {},
   "source": [
    "혼동행렬"
   ]
  },
  {
   "cell_type": "code",
   "execution_count": 18,
   "metadata": {},
   "outputs": [
    {
     "name": "stdout",
     "output_type": "stream",
     "text": [
      "183 6 78 13\n"
     ]
    },
    {
     "data": {
      "text/html": [
       "<div>\n",
       "<style scoped>\n",
       "    .dataframe tbody tr th:only-of-type {\n",
       "        vertical-align: middle;\n",
       "    }\n",
       "\n",
       "    .dataframe tbody tr th {\n",
       "        vertical-align: top;\n",
       "    }\n",
       "\n",
       "    .dataframe thead th {\n",
       "        text-align: right;\n",
       "    }\n",
       "</style>\n",
       "<table border=\"1\" class=\"dataframe\">\n",
       "  <thead>\n",
       "    <tr style=\"text-align: right;\">\n",
       "      <th></th>\n",
       "      <th>Negative</th>\n",
       "      <th>Positive</th>\n",
       "    </tr>\n",
       "  </thead>\n",
       "  <tbody>\n",
       "    <tr>\n",
       "      <th>True</th>\n",
       "      <td>183</td>\n",
       "      <td>78</td>\n",
       "    </tr>\n",
       "    <tr>\n",
       "      <th>False</th>\n",
       "      <td>6</td>\n",
       "      <td>13</td>\n",
       "    </tr>\n",
       "  </tbody>\n",
       "</table>\n",
       "</div>"
      ],
      "text/plain": [
       "       Negative  Positive\n",
       "True        183        78\n",
       "False         6        13"
      ]
     },
     "execution_count": 18,
     "metadata": {},
     "output_type": "execute_result"
    }
   ],
   "source": [
    "cm = confusion_matrix(kdf['결과값'], kdf['예측치'])\n",
    "tn, fp, fn, tp = cm.ravel()\n",
    "print(tn, fp, fn, tp)\n",
    "cmdf1 = DataFrame([[tn, fn], [fp, tp]], index=['True', 'False'], columns=['Negative', 'Positive'])\n",
    "cmdf1"
   ]
  },
  {
   "cell_type": "markdown",
   "metadata": {},
   "source": [
    "| | Negative|Positive|\n",
    "|--|--|--|\n",
    "| True | TN | FP |\n",
    "| False | FN | TP |\n",
    "\n",
    "#### 각 항목의 의미\n",
    "\n",
    "| 구분 | 설명 |\n",
    "|--|--|\n",
    "| TN(True Negative, Negative Negative) | 실제는 Negative인데, Negative로 예측함. |\n",
    "| FP(False Positive, Negative Positive) | 실제는 Negative인데, Positive로 예측함. (Type1 Error) |\n",
    "| FN(False Negative, Positive Negative) | 실제는 Positive인데, Negative로 예측함. (Type2 Error) |\n",
    "| TP(True Positive, Positive Positive) | 실제는 Positive인데, Positive로 예측함. |}"
   ]
  },
  {
   "cell_type": "code",
   "execution_count": 19,
   "metadata": {},
   "outputs": [
    {
     "data": {
      "image/png": "[encoded data removed]",
      "text/plain": [
       "<Figure size 500x300 with 2 Axes>"
      ]
     },
     "metadata": {},
     "output_type": "display_data"
    }
   ],
   "source": [
    "plt.figure(figsize=(5,3))\n",
    "# 오차 행렬을 히트맵 그래프로 표현\n",
    "# -> annot : 그래프의 각 칸에 수치값 출력\n",
    "# -> fmt : 수치값 출력 format (여기서는 10진수)\n",
    "# -> cmap : 색상맵 (<https://matplotlib.org/3.2.1/tutorials/colors/colormaps.html>)\n",
    "sb.heatmap(cm, annot = True, fmt = 'd',cmap = 'Blues')\n",
    "plt.xticks([0.5, 1.5], ['Negative', 'Positive'])\n",
    "plt.yticks([0.5, 1.5], ['True', 'False'])\n",
    "plt.xlabel('예측값')\n",
    "plt.ylabel('결과값')\n",
    "plt.show()"
   ]
  },
  {
   "cell_type": "markdown",
   "metadata": {},
   "source": [
    "평가지표"
   ]
  },
  {
   "cell_type": "code",
   "execution_count": 20,
   "metadata": {},
   "outputs": [
    {
     "data": {
      "image/png": "[encoded data removed]",
      "text/plain": [
       "<Figure size 640x480 with 1 Axes>"
      ]
     },
     "metadata": {},
     "output_type": "display_data"
    }
   ],
   "source": [
    "ras = roc_auc_score(kdf['결과값'], kdf['예측치'])\n",
    "\n",
    "# 위양성율, 재현율, 임계값(사용안함)\n",
    "fpr, tpr, thresholds = roc_curve(kdf['결과값'], kdf['예측치'])\n",
    "\n",
    "plt.figure()\n",
    "sb.lineplot(x=fpr, y=tpr)\n",
    "sb.lineplot(x=[0,1], y=[0,1], color='red', linestyle=':', alpha=0.5)\n",
    "plt.title('AUC={:.4f}'.format(ras))\n",
    "plt.grid()\n",
    "plt.show()\n",
    "plt.close()"
   ]
  },
  {
   "cell_type": "code",
   "execution_count": 21,
   "metadata": {},
   "outputs": [
    {
     "name": "stdout",
     "output_type": "stream",
     "text": [
      "+--------------------------+----------+\n",
      "|                          |        0 |\n",
      "|--------------------------+----------|\n",
      "| 정확도(Accuracy)         |      0.7 |\n",
      "| 정밀도(Precision)        | 0.684211 |\n",
      "| 재현율(Recall, TPR)      | 0.142857 |\n",
      "| 위양성율(Fallout, FPR)   | 0.031746 |\n",
      "| 특이성(Specificity, TNR) | 0.968254 |\n",
      "| RAS                      | 0.555556 |\n",
      "| f1_score                 | 0.236364 |\n",
      "+--------------------------+----------+\n"
     ]
    }
   ],
   "source": [
    "# 정확도\n",
    "acc = accuracy_score(kdf['결과값'], kdf['예측치'])\n",
    "\n",
    "# 정밀도\n",
    "pre = precision_score(kdf['결과값'], kdf['예측치'])\n",
    "\n",
    "# 재현율\n",
    "recall = recall_score(kdf['결과값'], kdf['예측치'])\n",
    "\n",
    "# F1 score\n",
    "f1 = f1_score(kdf['결과값'], kdf['예측치'])\n",
    "\n",
    "# 위양성율\n",
    "fallout = fp / (fp + tn)\n",
    "\n",
    "# 특이성\n",
    "spe = 1 - fallout\n",
    "\n",
    "result_df = DataFrame({'정확도(Accuracy)':[acc], '정밀도(Precision)':[pre], '재현율(Recall, TPR)':[recall], '위양성율(Fallout, FPR)': [fallout], '특이성(Specificity, TNR)':[spe], 'RAS': [ras], 'f1_score':[f1]})\n",
    "\n",
    "helper.prettyPrint(result_df.T)"
   ]
  },
  {
   "cell_type": "markdown",
   "metadata": {},
   "source": [
    "#### 분류 보고서\n",
    "- precision : 정밀도 (분류기가 참으로 분류한 항목 중에서 실제 데이터가 참인 비율)\n",
    "- recall : 재현율 (실제 참 중에서 분류기가 참으로 분류한 비율)\n",
    "- f1-score : 2(Recall Precision) / (Recall + Precision)\n",
    "- Precision과 Recall의 조화평균\n",
    "- 주로 분류 클래스 간 데이터가 심각한 불균형을 이루는 경우에 사용\n",
    "- 정확도의 경우, 클래스가 데이터 분류가 균일하지 못하면 머신의 성능을 제대로 나타내줄 수 없기 때문에 F1을 사용한다.\n",
    "- support : 전체 데이터 수"
   ]
  },
  {
   "cell_type": "code",
   "execution_count": 22,
   "metadata": {},
   "outputs": [
    {
     "name": "stdout",
     "output_type": "stream",
     "text": [
      "              precision    recall  f1-score   support\n",
      "\n",
      "           0       0.70      0.97      0.81       189\n",
      "           1       0.68      0.14      0.24        91\n",
      "\n",
      "    accuracy                           0.70       280\n",
      "   macro avg       0.69      0.56      0.52       280\n",
      "weighted avg       0.70      0.70      0.63       280\n",
      "\n"
     ]
    }
   ],
   "source": [
    "report = classification_report(kdf['결과값'], kdf['예측치'])\n",
    "print(report)"
   ]
  },
  {
   "cell_type": "code",
   "execution_count": null,
   "metadata": {},
   "outputs": [],
   "source": []
  }
 ],
 "metadata": {
  "kernelspec": {
   "display_name": "Python 3",
   "language": "python",
   "name": "python3"
  },
  "language_info": {
   "codemirror_mode": {
    "name": "ipython",
    "version": 3
   },
   "file_extension": ".py",
   "mimetype": "text/x-python",
   "name": "python",
   "nbconvert_exporter": "python",
   "pygments_lexer": "ipython3",
   "version": "3.9.13"
  },
  "orig_nbformat": 4
 },
 "nbformat": 4,
 "nbformat_minor": 2
}
