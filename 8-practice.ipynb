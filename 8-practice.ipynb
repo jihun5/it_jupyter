{
 "cells": [
  {
   "cell_type": "code",
   "execution_count": 1,
   "metadata": {},
   "outputs": [],
   "source": [
    "import requests\n",
    "from bs4 import BeautifulSoup \n",
    "# 원하는 HTML 태그 찾아서 불러오기"
   ]
  },
  {
   "cell_type": "code",
   "execution_count": 4,
   "metadata": {},
   "outputs": [
    {
     "name": "stdout",
     "output_type": "stream",
     "text": [
      "<!DOCTYPE html>\n",
      "\n",
      "<html lang=\"en\">\n",
      "<head>\n",
      "<meta charset=\"utf-8\"/>\n",
      "<meta content=\"width=device-width, initial-scale=1.0\" name=\"viewport\"/>\n",
      "<title>Document</title>\n",
      "<style>\n",
      "        /* HTML 태그 방식 */\n",
      "        h1 { color: #f0f; }\n",
      "        h2 { color: #06f; }\n",
      "\n",
      "        /** Class 방식 */\n",
      "        .myclass { color: #f00; }\n",
      "\n",
      "        /** id 방식 */\n",
      "        #myid { color: #f60; }\n",
      "\n",
      "        /** 자식 선택자  */\n",
      "        .syllabus > li > ol > li {\n",
      "            text-decoration: underline;\n",
      "        }\n",
      "\n",
      "        /** 자손 선택자 */\n",
      "        .syllabus ol {\n",
      "            font-weight: bold;\n",
      "        }\n",
      "\n",
      "        .part1 {\n",
      "            background-color: #eeeeee;\n",
      "        }\n",
      "\n",
      "        .part2 {\n",
      "            background-color: #d5d5d5;\n",
      "        }\n",
      "\n",
      "        /** 특정 대상을 구체적으로 명시  */\n",
      "        div.sub.part1 {\n",
      "            border: 1px dotted #000;\n",
      "        }\n",
      "\n",
      "        div.sub.part2#hello {\n",
      "            border: 1px solid #555;\n",
      "        }\n",
      "\n",
      "        /** 특정 속성을 갖고 있는 요소  */\n",
      "        a[href] {\n",
      "            font-size: 20px;\n",
      "        }\n",
      "\n",
      "        /** 특정 속성 값에 대한 적용  */\n",
      "        a[href='#'] {\n",
      "            color: green;\n",
      "        }\n",
      "    </style>\n",
      "</head>\n",
      "<body>\n",
      "<h1>Hello World</h1>\n",
      "<a>link0</a>\n",
      "<a href=\"#\">link1</a>\n",
      "<a href=\"https://www.naver.com\">link2</a>\n",
      "<h2 id=\"myid\">Python</h2>\n",
      "<div class=\"sub part1\">\n",
      "<ul class=\"syllabus\">\n",
      "<li>변수와 데이터 타입</li>\n",
      "<li class=\"myclass\">연산자</li>\n",
      "<li>\n",
      "                연속성 자료형\n",
      "                <ol>\n",
      "<li>리스트(list)</li>\n",
      "<li>딕셔너리(dict)</li>\n",
      "<li>집합(set)</li>\n",
      "</ol>\n",
      "</li>\n",
      "<li>프로그램 흐름제어</li>\n",
      "<li>함수</li>\n",
      "</ul>\n",
      "</div>\n",
      "<h2>Data Analysis</h2>\n",
      "<div class=\"sub part2\" id=\"hello\">\n",
      "<ul>\n",
      "<li>데이터 수집</li>\n",
      "<li class=\"myclass\">데이터 전처리</li>\n",
      "<li>\n",
      "                탐색적 데이터 분석\n",
      "                <ol class=\"myclass\">\n",
      "<li>기초통계</li>\n",
      "<li>데이터 시각화</li>\n",
      "</ol>\n",
      "</li>\n",
      "<li>확증적 데이터 분석</li>\n",
      "<li>데이터 마이닝</li>\n",
      "</ul>\n",
      "</div>\n",
      "</body>\n",
      "</html>\n"
     ]
    }
   ],
   "source": [
    "url = \"https://data.hossam.kr/sample.html\"\n",
    "\n",
    "response = requests.get(url)\n",
    "if response.status_code == 200:\n",
    "    html = response.text\n",
    "    soup = BeautifulSoup(html, 'html.parser')\n",
    "    title = soup.select_one('body > h1')\n",
    "    print(soup)\n",
    "    print(title)\n",
    "    print(title.get_text())\n",
    "# body > h1 링크를 가진 값 출력하기\n",
    "# 텍스트만 뽑아오고 싶으면 get_text() 함수 이용하기\n",
    "else:\n",
    "    print(\"오류입니다\")\n",
    "# 상태 코드가 200일 때, html을 받아와 soup객체로 변환"
   ]
  },
  {
   "cell_type": "code",
   "execution_count": 6,
   "metadata": {},
   "outputs": [
    {
     "name": "stdout",
     "output_type": "stream",
     "text": [
      "<h1>Hello World</h1>\n",
      "Hello World\n"
     ]
    }
   ],
   "source": []
  }
 ],
 "metadata": {
  "kernelspec": {
   "display_name": "Python 3",
   "language": "python",
   "name": "python3"
  },
  "language_info": {
   "codemirror_mode": {
    "name": "ipython",
    "version": 3
   },
   "file_extension": ".py",
   "mimetype": "text/x-python",
   "name": "python",
   "nbconvert_exporter": "python",
   "pygments_lexer": "ipython3",
   "version": "3.11.3"
  },
  "orig_nbformat": 4
 },
 "nbformat": 4,
 "nbformat_minor": 2
}
