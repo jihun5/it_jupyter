{
 "cells": [
  {
   "attachments": {},
   "cell_type": "markdown",
   "metadata": {},
   "source": [
    "파이썬 보충 Take 2"
   ]
  },
  {
   "attachments": {},
   "cell_type": "markdown",
   "metadata": {},
   "source": [
    "파일 및 폴더 관련 모듈"
   ]
  },
  {
   "cell_type": "code",
   "execution_count": 39,
   "metadata": {},
   "outputs": [],
   "source": [
    "import sys # 현재시스템의 정보를 제공하는 모듈\n",
    "import os # 운영체제의 기능에 접근할 수 있는 모듈"
   ]
  },
  {
   "cell_type": "code",
   "execution_count": 40,
   "metadata": {},
   "outputs": [
    {
     "name": "stdout",
     "output_type": "stream",
     "text": [
      "win32\n"
     ]
    }
   ],
   "source": [
    "print(sys.platform)\n",
    "# 현재 운영체제 이름 조회"
   ]
  },
  {
   "cell_type": "code",
   "execution_count": 41,
   "metadata": {},
   "outputs": [
    {
     "name": "stdout",
     "output_type": "stream",
     "text": [
      "['copy', 'hello.txt', 'world.txt', '쿠팡 정답맞추기전.ipynb', '쿠팡_노트북.xlsx', '파이썬 보충.ipynb', '파이썬 보충2.ipynb', '파이썬문제풀이.py']\n"
     ]
    }
   ],
   "source": [
    "# 경로 문자열 관련 기능\n",
    "# 현재 폴더 내의 하위 항목들의 이름을 리스트로 리턴받음\n",
    "# -> \"./\" 혹은 \".\"은 현재폴더라는 의미\n",
    "# ->\"../\"는 상위폴더라는 의미\n",
    "ls = os.listdir(\"./\")\n",
    "print(ls)"
   ]
  },
  {
   "cell_type": "code",
   "execution_count": 42,
   "metadata": {},
   "outputs": [
    {
     "name": "stdout",
     "output_type": "stream",
     "text": [
      "True\n"
     ]
    }
   ],
   "source": [
    "# 특정 폴더나 파일이 존재하는지 확인 -> 상대경로일 경우 현재 소스파일 기준\n",
    "k = os.path.exists(\"./파이썬 보충2.ipynb\")\n",
    "print(k)"
   ]
  },
  {
   "cell_type": "code",
   "execution_count": 43,
   "metadata": {},
   "outputs": [
    {
     "name": "stdout",
     "output_type": "stream",
     "text": [
      "d:\\오지훈\\jupyter\\여러가지\\hello\n"
     ]
    }
   ],
   "source": [
    "# 절대경로 확인 -> 존재하지 않더라도 경로값은 확인가능,\n",
    "# c:, d:경로부터 시작\n",
    "print(os.path.abspath('./hello'))"
   ]
  },
  {
   "attachments": {},
   "cell_type": "markdown",
   "metadata": {},
   "source": [
    "폴더의 생성과 삭제"
   ]
  },
  {
   "cell_type": "code",
   "execution_count": 44,
   "metadata": {},
   "outputs": [],
   "source": [
    "# if os.path.exists('/hello') == False: # 폴더가 없다면\n",
    "#     os.mkdir(\"./hello\")\n",
    "#     print('hello 폴더를 생성했다.')\n",
    "# else: #있다면 삭제 -> 빈폴더만 삭제가능\n",
    "#     os.rmdir(\"./hello\")\n",
    "#     print(\"hello 폴더를 삭제했습니다.\")"
   ]
  },
  {
   "attachments": {},
   "cell_type": "markdown",
   "metadata": {},
   "source": [
    "파일이나 폴더 검색"
   ]
  },
  {
   "cell_type": "code",
   "execution_count": 45,
   "metadata": {},
   "outputs": [],
   "source": [
    "# 모듈 참조하기\n",
    "import glob as gl"
   ]
  },
  {
   "cell_type": "code",
   "execution_count": 46,
   "metadata": {},
   "outputs": [
    {
     "name": "stdout",
     "output_type": "stream",
     "text": [
      "['copy', 'hello.txt', 'world.txt', '쿠팡 정답맞추기전.ipynb', '쿠팡_노트북.xlsx', '파이썬 보충.ipynb', '파이썬 보충2.ipynb', '파이썬문제풀이.py']\n"
     ]
    }
   ],
   "source": [
    "# 현재 폴더의 모든 하위 요소들 조회\n",
    "ls = gl.glob(\"*\") \n",
    "print(ls)"
   ]
  },
  {
   "cell_type": "code",
   "execution_count": 47,
   "metadata": {},
   "outputs": [
    {
     "name": "stdout",
     "output_type": "stream",
     "text": [
      "['쿠팡 정답맞추기전.ipynb', '파이썬 보충.ipynb', '파이썬 보충2.ipynb']\n"
     ]
    }
   ],
   "source": [
    "# 현재 폴더의\".ipynb로 끝나는 요소들 조회\n",
    "ls = gl.glob(\"*.ipynb\") # *(연산자로 사용되지 않는다면 all의 의미)\n",
    "print(ls)"
   ]
  },
  {
   "cell_type": "code",
   "execution_count": 48,
   "metadata": {},
   "outputs": [
    {
     "name": "stdout",
     "output_type": "stream",
     "text": [
      "['파이썬 보충2.ipynb']\n"
     ]
    }
   ],
   "source": [
    "# 현재 폴더의\"2로 끝나는 요소들 조회\n",
    "ls = gl.glob(\"*2*\") # *(연산자로 사용되지 않는다면 all의 의미)\n",
    "print(ls)"
   ]
  },
  {
   "attachments": {},
   "cell_type": "markdown",
   "metadata": {},
   "source": [
    "폴더 트리 생성 및 삭제"
   ]
  },
  {
   "cell_type": "code",
   "execution_count": 53,
   "metadata": {},
   "outputs": [
    {
     "name": "stdout",
     "output_type": "stream",
     "text": [
      "python 폴더와 하위 폴더들을 생성했습니다.\n"
     ]
    }
   ],
   "source": [
    "import shutil # 파일, 폴더 관련 작업에 확장된 기능을 제공\n",
    "# 현재작업 위치에서 \"python\"이라는 이름의 폴더가 없다면?\n",
    "if os.path.exists('python') == False:\n",
    "    # 순환적으로 폴더를 생성함 -> exist_ok=True 옵션은 이미 존재하더라도 에러 발생 안함\n",
    "    os.makedirs('python/test/hello/world', exist_ok=True)\n",
    "    print(\"python 폴더와 하위 폴더들을 생성했습니다.\")\n",
    "else:\n",
    "    #비어있지 않은 폴더도 강제 삭제 -> 존재하지 않는 폴더인 경우 에러\n",
    "    shutil.rmtree('python')\n",
    "    print('python 폴더가 삭제되었습니다.')"
   ]
  },
  {
   "attachments": {},
   "cell_type": "markdown",
   "metadata": {},
   "source": [
    "폴더의 이동과 폴더 트리 복사"
   ]
  },
  {
   "cell_type": "code",
   "execution_count": 50,
   "metadata": {},
   "outputs": [
    {
     "name": "stdout",
     "output_type": "stream",
     "text": [
      "python 폴더가 ../created 폴더로 이동되었습니다\n"
     ]
    }
   ],
   "source": [
    "# 폴더의 이동\n",
    "if os.path.exists('python'):\n",
    "    shutil.move('python', '../created')\n",
    "    print('python 폴더가 ../created 폴더로 이동되었습니다')"
   ]
  },
  {
   "cell_type": "code",
   "execution_count": 51,
   "metadata": {},
   "outputs": [
    {
     "ename": "FileExistsError",
     "evalue": "[WinError 183] 파일이 이미 있으므로 만들 수 없습니다: './copy'",
     "output_type": "error",
     "traceback": [
      "\u001b[1;31m---------------------------------------------------------------------------\u001b[0m",
      "\u001b[1;31mFileExistsError\u001b[0m                           Traceback (most recent call last)",
      "Cell \u001b[1;32mIn[51], line 3\u001b[0m\n\u001b[0;32m      1\u001b[0m \u001b[39m#폴더의 복사\u001b[39;00m\n\u001b[0;32m      2\u001b[0m \u001b[39mif\u001b[39;00m os\u001b[39m.\u001b[39mpath\u001b[39m.\u001b[39mexists(\u001b[39m\"\u001b[39m\u001b[39m../created\u001b[39m\u001b[39m\"\u001b[39m):\n\u001b[1;32m----> 3\u001b[0m     shutil\u001b[39m.\u001b[39;49mcopytree(\u001b[39m\"\u001b[39;49m\u001b[39m../created\u001b[39;49m\u001b[39m\"\u001b[39;49m, \u001b[39m'\u001b[39;49m\u001b[39m./copy\u001b[39;49m\u001b[39m'\u001b[39;49m)\n\u001b[0;32m      4\u001b[0m     \u001b[39mprint\u001b[39m(\u001b[39m'\u001b[39m\u001b[39mpython 폴더가 copy로 복사되었습니다.\u001b[39m\u001b[39m'\u001b[39m)\n",
      "File \u001b[1;32mc:\\Users\\user\\AppData\\Local\\Programs\\Python\\Python311\\Lib\\shutil.py:561\u001b[0m, in \u001b[0;36mcopytree\u001b[1;34m(src, dst, symlinks, ignore, copy_function, ignore_dangling_symlinks, dirs_exist_ok)\u001b[0m\n\u001b[0;32m    559\u001b[0m \u001b[39mwith\u001b[39;00m os\u001b[39m.\u001b[39mscandir(src) \u001b[39mas\u001b[39;00m itr:\n\u001b[0;32m    560\u001b[0m     entries \u001b[39m=\u001b[39m \u001b[39mlist\u001b[39m(itr)\n\u001b[1;32m--> 561\u001b[0m \u001b[39mreturn\u001b[39;00m _copytree(entries\u001b[39m=\u001b[39;49mentries, src\u001b[39m=\u001b[39;49msrc, dst\u001b[39m=\u001b[39;49mdst, symlinks\u001b[39m=\u001b[39;49msymlinks,\n\u001b[0;32m    562\u001b[0m                  ignore\u001b[39m=\u001b[39;49mignore, copy_function\u001b[39m=\u001b[39;49mcopy_function,\n\u001b[0;32m    563\u001b[0m                  ignore_dangling_symlinks\u001b[39m=\u001b[39;49mignore_dangling_symlinks,\n\u001b[0;32m    564\u001b[0m                  dirs_exist_ok\u001b[39m=\u001b[39;49mdirs_exist_ok)\n",
      "File \u001b[1;32mc:\\Users\\user\\AppData\\Local\\Programs\\Python\\Python311\\Lib\\shutil.py:459\u001b[0m, in \u001b[0;36m_copytree\u001b[1;34m(entries, src, dst, symlinks, ignore, copy_function, ignore_dangling_symlinks, dirs_exist_ok)\u001b[0m\n\u001b[0;32m    456\u001b[0m \u001b[39melse\u001b[39;00m:\n\u001b[0;32m    457\u001b[0m     ignored_names \u001b[39m=\u001b[39m \u001b[39mset\u001b[39m()\n\u001b[1;32m--> 459\u001b[0m os\u001b[39m.\u001b[39;49mmakedirs(dst, exist_ok\u001b[39m=\u001b[39;49mdirs_exist_ok)\n\u001b[0;32m    460\u001b[0m errors \u001b[39m=\u001b[39m []\n\u001b[0;32m    461\u001b[0m use_srcentry \u001b[39m=\u001b[39m copy_function \u001b[39mis\u001b[39;00m copy2 \u001b[39mor\u001b[39;00m copy_function \u001b[39mis\u001b[39;00m copy\n",
      "File \u001b[1;32m<frozen os>:225\u001b[0m, in \u001b[0;36mmakedirs\u001b[1;34m(name, mode, exist_ok)\u001b[0m\n",
      "\u001b[1;31mFileExistsError\u001b[0m: [WinError 183] 파일이 이미 있으므로 만들 수 없습니다: './copy'"
     ]
    }
   ],
   "source": [
    "#폴더의 복사\n",
    "if os.path.exists(\"../created\"):\n",
    "    shutil.copytree(\"../created\", './copy')\n",
    "    print('python 폴더가 copy로 복사되었습니다.')"
   ]
  },
  {
   "attachments": {},
   "cell_type": "markdown",
   "metadata": {},
   "source": [
    "파일의 복사 및 삭제 작업\n"
   ]
  },
  {
   "cell_type": "code",
   "execution_count": 52,
   "metadata": {},
   "outputs": [
    {
     "name": "stdout",
     "output_type": "stream",
     "text": [
      "hello.txt가 삭제되었습니다.\n",
      "world.txt가 삭제되었습니다.\n"
     ]
    }
   ],
   "source": [
    "# os모듈 내의 path 객체가 갖는 exsits() 함수를 사용.\n",
    "# -> \"hello.txt\"라는 파일이 존재하지 않는다면?\n",
    "if os.path.exists('hello.txt') == False:\n",
    "    # 테스트용 파일 생성\n",
    "    with open(\"hello.txt\", \"w\", encoding=\"utf-8\") as f:\n",
    "        f.write(\"Life is too short, you need python\")\n",
    "        print('hello.txt 파일을 생성했습니다.')\n",
    "    \n",
    "    # 생성한 파일을 복사함 -> 이미 존재할 경우 덮어씀\n",
    "    shutil.copy('hello.txt', 'world.txt')\n",
    "    print(\"hello.txt 파일을 생성했습니다.\")\n",
    "# 그렇지 않다면?\n",
    "# -> \"hello.txt\"라는 파일이 존재 한다면?\n",
    "else:\n",
    "    os.remove('hello.txt')\n",
    "    print('hello.txt가 삭제되었습니다.')\n",
    "    os.remove('world.txt')\n",
    "    print('world.txt가 삭제되었습니다.')\n"
   ]
  },
  {
   "cell_type": "code",
   "execution_count": null,
   "metadata": {},
   "outputs": [],
   "source": []
  }
 ],
 "metadata": {
  "kernelspec": {
   "display_name": "Python 3",
   "language": "python",
   "name": "python3"
  },
  "language_info": {
   "codemirror_mode": {
    "name": "ipython",
    "version": 3
   },
   "file_extension": ".py",
   "mimetype": "text/x-python",
   "name": "python",
   "nbconvert_exporter": "python",
   "pygments_lexer": "ipython3",
   "version": "3.11.3"
  },
  "orig_nbformat": 4
 },
 "nbformat": 4,
 "nbformat_minor": 2
}
