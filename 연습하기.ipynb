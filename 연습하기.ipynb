{
 "cells": [
  {
   "cell_type": "code",
   "execution_count": 1,
   "metadata": {},
   "outputs": [],
   "source": [
    "import pandas as pd\n",
    "import numpy as np\n",
    "import matplotlib.pyplot as plt\n",
    "import seaborn as sns\n",
    "from tqdm import tqdm\n",
    "%matplotlib inline"
   ]
  },
  {
   "cell_type": "code",
   "execution_count": 2,
   "metadata": {},
   "outputs": [],
   "source": [
    "import requests, bs4\n",
    "from lxml import html\n",
    "from urllib.request import Request, urlopen\n",
    "from urllib.parse import urlencode, quote_plus, unquote\n",
    "import json"
   ]
  },
  {
   "cell_type": "code",
   "execution_count": 3,
   "metadata": {},
   "outputs": [],
   "source": [
    "KEY = '2ct202pt2_e_r2otjt_8j288j2to3b82'"
   ]
  },
  {
   "cell_type": "code",
   "execution_count": 4,
   "metadata": {},
   "outputs": [
    {
     "name": "stderr",
     "output_type": "stream",
     "text": [
      "100%|██████████| 7/7 [01:23<00:00, 11.97s/it]\n"
     ]
    }
   ],
   "source": [
    "# # URL 파라미터 분리하기\n",
    "# xmlUrl = 'https://open.jejudatahub.net/api/proxy/5D5a577taba7tbb71at1b1bt9tatata9/'\n",
    "\n",
    "# My_API_Key = unquote(KEY)\n",
    "\n",
    "# DF = pd.DataFrame()  # Dataframe to store all data\n",
    "\n",
    "# marketType_list = ['교통', '소매', '쇼핑', '숙박', '유흥', '문화/레져', '식음료']\n",
    "\n",
    "# sigungu_list = ['제주시', '서귀포시']\n",
    "\n",
    "# cityGubun_list = ['도심', '읍면']\n",
    "\n",
    "# endDate_list = ['201609','201610','201611','201612','201701','201702','201703','201704','201705','201706','201707',\n",
    "#                 '201708','201709','201710','201711','201712','201801','201802','201803','201804','201805','201806',\n",
    "#                 '201807','201808','201809','201810','201811','201812']\n",
    "\n",
    "# for marketType in tqdm(marketType_list):\n",
    "#   for sigungu in sigungu_list:\n",
    "#     for cityGubun in cityGubun_list:\n",
    "#       for endDate in endDate_list:\n",
    "#         queryParams = '?' + urlencode(    # get 방식으로 쿼리를 분리하기 위해 '?'를 넣은 것이다. 메타코드 아님.\n",
    "#             {\n",
    "#                 quote_plus('startDate') : '201609',\n",
    "#                 quote_plus('endDate') : endDate,\n",
    "#                 quote_plus('sigungu') : sigungu,\n",
    "#                 quote_plus('cityGubun'): cityGubun,\n",
    "#                 quote_plus('userType') : '내국인관광객',\n",
    "#                 quote_plus('marketType') : marketType\n",
    "#             }\n",
    "#         )\n",
    "\n",
    "#         response = requests.get(xmlUrl + My_API_Key + queryParams).text.encode('utf-8')\n",
    "#         xmlobj = bs4.BeautifulSoup(response, 'html.parser')\n",
    "#         xmlobj_str = str(xmlobj)\n",
    "#         raw_json = json.loads(xmlobj_str)\n",
    "#         raw_data = raw_json['data']\n",
    "\n",
    "#         for item in raw_data:\n",
    "#           # DF = DF.append(pd.DataFrame([item])).reset_index(drop=True)\n",
    "#           DF = pd.concat([DF, pd.DataFrame([item])], ignore_index=True) # df append 오류나면 concat"
   ]
  },
  {
   "cell_type": "code",
   "execution_count": 5,
   "metadata": {},
   "outputs": [],
   "source": [
    "# DF.to_csv('jeju_card_data.csv', encoding='utf-8', index=False)"
   ]
  },
  {
   "cell_type": "code",
   "execution_count": 6,
   "metadata": {},
   "outputs": [],
   "source": [
    "DATA = pd.read_csv('jeju_card_data.csv')"
   ]
  },
  {
   "cell_type": "code",
   "execution_count": 8,
   "metadata": {},
   "outputs": [
    {
     "name": "stdout",
     "output_type": "stream",
     "text": [
      "<class 'pandas.core.frame.DataFrame'>\n",
      "RangeIndex: 7840 entries, 0 to 7839\n",
      "Data columns (total 11 columns):\n",
      " #   Column       Non-Null Count  Dtype \n",
      "---  ------       --------------  ----- \n",
      " 0   sido         7840 non-null   object\n",
      " 1   sigungu      7840 non-null   object\n",
      " 2   cityGubun    7840 non-null   object\n",
      " 3   marketType   7840 non-null   object\n",
      " 4   userType     7840 non-null   object\n",
      " 5   ageGroup     7840 non-null   object\n",
      " 6   gender       7840 non-null   object\n",
      " 7   dtYearMonth  7840 non-null   int64 \n",
      " 8   userCount    7840 non-null   int64 \n",
      " 9   useCount     7840 non-null   int64 \n",
      " 10  useCost      7840 non-null   int64 \n",
      "dtypes: int64(4), object(7)\n",
      "memory usage: 673.9+ KB\n"
     ]
    }
   ],
   "source": [
    "DATA.info()"
   ]
  },
  {
   "cell_type": "code",
   "execution_count": 10,
   "metadata": {},
   "outputs": [],
   "source": [
    "DATA['dtYearMonth'] = pd.to_datetime(DATA['dtYearMonth'], format='%Y%m', errors='coerce').dropna()\n",
    "DATA['avgCost'] = round(DATA['useCost']/DATA['userCount'])\n",
    "DATA['avgCost'] = DATA['avgCost'].astype(int)\n",
    "DATA = DATA[DATA['ageGroup']!='20대미만']"
   ]
  },
  {
   "cell_type": "code",
   "execution_count": 11,
   "metadata": {},
   "outputs": [],
   "source": [
    "agg_DATA = DATA.groupby(['marketType', 'ageGroup', 'dtYearMonth']).sum()\n",
    "agg_DATA['avgCost'] = round(agg_DATA)['useCost']/agg_DATA['userCount'] \n",
    "agg_DATA['avgCost'] = agg_DATA['avgCost'].astype(int)\n",
    "agg_DATA = agg_DATA.reset_index()\n"
   ]
  },
  {
   "cell_type": "code",
   "execution_count": 13,
   "metadata": {},
   "outputs": [
    {
     "data": {
      "text/html": [
       "<div>\n",
       "<style scoped>\n",
       "    .dataframe tbody tr th:only-of-type {\n",
       "        vertical-align: middle;\n",
       "    }\n",
       "\n",
       "    .dataframe tbody tr th {\n",
       "        vertical-align: top;\n",
       "    }\n",
       "\n",
       "    .dataframe thead th {\n",
       "        text-align: right;\n",
       "    }\n",
       "</style>\n",
       "<table border=\"1\" class=\"dataframe\">\n",
       "  <thead>\n",
       "    <tr style=\"text-align: right;\">\n",
       "      <th></th>\n",
       "      <th>marketType</th>\n",
       "      <th>ageGroup</th>\n",
       "      <th>dtYearMonth</th>\n",
       "      <th>userCount</th>\n",
       "      <th>useCount</th>\n",
       "      <th>useCost</th>\n",
       "      <th>avgCost</th>\n",
       "    </tr>\n",
       "  </thead>\n",
       "  <tbody>\n",
       "    <tr>\n",
       "      <th>0</th>\n",
       "      <td>교통</td>\n",
       "      <td>20대</td>\n",
       "      <td>2016-09-01</td>\n",
       "      <td>17069</td>\n",
       "      <td>19573</td>\n",
       "      <td>914534695</td>\n",
       "      <td>53578</td>\n",
       "    </tr>\n",
       "    <tr>\n",
       "      <th>1</th>\n",
       "      <td>교통</td>\n",
       "      <td>20대</td>\n",
       "      <td>2016-10-01</td>\n",
       "      <td>14395</td>\n",
       "      <td>16826</td>\n",
       "      <td>867898227</td>\n",
       "      <td>60291</td>\n",
       "    </tr>\n",
       "    <tr>\n",
       "      <th>2</th>\n",
       "      <td>교통</td>\n",
       "      <td>20대</td>\n",
       "      <td>2016-11-01</td>\n",
       "      <td>13696</td>\n",
       "      <td>16141</td>\n",
       "      <td>967987781</td>\n",
       "      <td>70676</td>\n",
       "    </tr>\n",
       "    <tr>\n",
       "      <th>3</th>\n",
       "      <td>교통</td>\n",
       "      <td>20대</td>\n",
       "      <td>2016-12-01</td>\n",
       "      <td>16179</td>\n",
       "      <td>19196</td>\n",
       "      <td>1248136374</td>\n",
       "      <td>77145</td>\n",
       "    </tr>\n",
       "    <tr>\n",
       "      <th>4</th>\n",
       "      <td>교통</td>\n",
       "      <td>20대</td>\n",
       "      <td>2017-01-01</td>\n",
       "      <td>15902</td>\n",
       "      <td>18865</td>\n",
       "      <td>1325270800</td>\n",
       "      <td>83339</td>\n",
       "    </tr>\n",
       "    <tr>\n",
       "      <th>...</th>\n",
       "      <td>...</td>\n",
       "      <td>...</td>\n",
       "      <td>...</td>\n",
       "      <td>...</td>\n",
       "      <td>...</td>\n",
       "      <td>...</td>\n",
       "      <td>...</td>\n",
       "    </tr>\n",
       "    <tr>\n",
       "      <th>902</th>\n",
       "      <td>유흥</td>\n",
       "      <td>60대이상</td>\n",
       "      <td>2018-08-01</td>\n",
       "      <td>547</td>\n",
       "      <td>753</td>\n",
       "      <td>98334750</td>\n",
       "      <td>179771</td>\n",
       "    </tr>\n",
       "    <tr>\n",
       "      <th>903</th>\n",
       "      <td>유흥</td>\n",
       "      <td>60대이상</td>\n",
       "      <td>2018-09-01</td>\n",
       "      <td>576</td>\n",
       "      <td>789</td>\n",
       "      <td>130342650</td>\n",
       "      <td>226289</td>\n",
       "    </tr>\n",
       "    <tr>\n",
       "      <th>904</th>\n",
       "      <td>유흥</td>\n",
       "      <td>60대이상</td>\n",
       "      <td>2018-10-01</td>\n",
       "      <td>633</td>\n",
       "      <td>848</td>\n",
       "      <td>130031805</td>\n",
       "      <td>205421</td>\n",
       "    </tr>\n",
       "    <tr>\n",
       "      <th>905</th>\n",
       "      <td>유흥</td>\n",
       "      <td>60대이상</td>\n",
       "      <td>2018-11-01</td>\n",
       "      <td>694</td>\n",
       "      <td>900</td>\n",
       "      <td>135576600</td>\n",
       "      <td>195355</td>\n",
       "    </tr>\n",
       "    <tr>\n",
       "      <th>906</th>\n",
       "      <td>유흥</td>\n",
       "      <td>60대이상</td>\n",
       "      <td>2018-12-01</td>\n",
       "      <td>628</td>\n",
       "      <td>836</td>\n",
       "      <td>127625650</td>\n",
       "      <td>203225</td>\n",
       "    </tr>\n",
       "  </tbody>\n",
       "</table>\n",
       "<p>907 rows × 7 columns</p>\n",
       "</div>"
      ],
      "text/plain": [
       "    marketType ageGroup dtYearMonth  userCount  useCount     useCost  avgCost\n",
       "0           교통      20대  2016-09-01      17069     19573   914534695    53578\n",
       "1           교통      20대  2016-10-01      14395     16826   867898227    60291\n",
       "2           교통      20대  2016-11-01      13696     16141   967987781    70676\n",
       "3           교통      20대  2016-12-01      16179     19196  1248136374    77145\n",
       "4           교통      20대  2017-01-01      15902     18865  1325270800    83339\n",
       "..         ...      ...         ...        ...       ...         ...      ...\n",
       "902         유흥    60대이상  2018-08-01        547       753    98334750   179771\n",
       "903         유흥    60대이상  2018-09-01        576       789   130342650   226289\n",
       "904         유흥    60대이상  2018-10-01        633       848   130031805   205421\n",
       "905         유흥    60대이상  2018-11-01        694       900   135576600   195355\n",
       "906         유흥    60대이상  2018-12-01        628       836   127625650   203225\n",
       "\n",
       "[907 rows x 7 columns]"
      ]
     },
     "execution_count": 13,
     "metadata": {},
     "output_type": "execute_result"
    }
   ],
   "source": [
    "agg_DATA = agg_DATA.drop(['sido', 'sigungu', 'cityGubun', 'userType', 'gender'], axis=1)\n",
    "agg_DATA"
   ]
  },
  {
   "cell_type": "code",
   "execution_count": 14,
   "metadata": {},
   "outputs": [
    {
     "data": {
      "text/html": [
       "<div>\n",
       "<style scoped>\n",
       "    .dataframe tbody tr th:only-of-type {\n",
       "        vertical-align: middle;\n",
       "    }\n",
       "\n",
       "    .dataframe tbody tr th {\n",
       "        vertical-align: top;\n",
       "    }\n",
       "\n",
       "    .dataframe thead th {\n",
       "        text-align: right;\n",
       "    }\n",
       "</style>\n",
       "<table border=\"1\" class=\"dataframe\">\n",
       "  <thead>\n",
       "    <tr style=\"text-align: right;\">\n",
       "      <th></th>\n",
       "      <th>dtYearMonth</th>\n",
       "      <th>userCount</th>\n",
       "      <th>useCount</th>\n",
       "      <th>useCost</th>\n",
       "      <th>avgCost</th>\n",
       "    </tr>\n",
       "  </thead>\n",
       "  <tbody>\n",
       "    <tr>\n",
       "      <th>count</th>\n",
       "      <td>907</td>\n",
       "      <td>907.000000</td>\n",
       "      <td>907.000000</td>\n",
       "      <td>9.070000e+02</td>\n",
       "      <td>907.000000</td>\n",
       "    </tr>\n",
       "    <tr>\n",
       "      <th>mean</th>\n",
       "      <td>2017-09-27 16:32:16.934950144</td>\n",
       "      <td>25489.592062</td>\n",
       "      <td>40227.541345</td>\n",
       "      <td>1.519510e+09</td>\n",
       "      <td>91143.681367</td>\n",
       "    </tr>\n",
       "    <tr>\n",
       "      <th>min</th>\n",
       "      <td>2016-09-01 00:00:00</td>\n",
       "      <td>48.000000</td>\n",
       "      <td>55.000000</td>\n",
       "      <td>3.783800e+06</td>\n",
       "      <td>24023.000000</td>\n",
       "    </tr>\n",
       "    <tr>\n",
       "      <th>25%</th>\n",
       "      <td>2017-03-01 00:00:00</td>\n",
       "      <td>5633.500000</td>\n",
       "      <td>7398.500000</td>\n",
       "      <td>5.300313e+08</td>\n",
       "      <td>54650.500000</td>\n",
       "    </tr>\n",
       "    <tr>\n",
       "      <th>50%</th>\n",
       "      <td>2017-09-01 00:00:00</td>\n",
       "      <td>15357.000000</td>\n",
       "      <td>19430.000000</td>\n",
       "      <td>1.126238e+09</td>\n",
       "      <td>72977.000000</td>\n",
       "    </tr>\n",
       "    <tr>\n",
       "      <th>75%</th>\n",
       "      <td>2018-05-01 00:00:00</td>\n",
       "      <td>31361.500000</td>\n",
       "      <td>42612.500000</td>\n",
       "      <td>2.038619e+09</td>\n",
       "      <td>115973.500000</td>\n",
       "    </tr>\n",
       "    <tr>\n",
       "      <th>max</th>\n",
       "      <td>2018-12-01 00:00:00</td>\n",
       "      <td>147678.000000</td>\n",
       "      <td>234778.000000</td>\n",
       "      <td>6.313491e+09</td>\n",
       "      <td>263112.000000</td>\n",
       "    </tr>\n",
       "    <tr>\n",
       "      <th>std</th>\n",
       "      <td>NaN</td>\n",
       "      <td>28399.096848</td>\n",
       "      <td>50108.612264</td>\n",
       "      <td>1.300093e+09</td>\n",
       "      <td>53535.324944</td>\n",
       "    </tr>\n",
       "  </tbody>\n",
       "</table>\n",
       "</div>"
      ],
      "text/plain": [
       "                         dtYearMonth      userCount       useCount  \\\n",
       "count                            907     907.000000     907.000000   \n",
       "mean   2017-09-27 16:32:16.934950144   25489.592062   40227.541345   \n",
       "min              2016-09-01 00:00:00      48.000000      55.000000   \n",
       "25%              2017-03-01 00:00:00    5633.500000    7398.500000   \n",
       "50%              2017-09-01 00:00:00   15357.000000   19430.000000   \n",
       "75%              2018-05-01 00:00:00   31361.500000   42612.500000   \n",
       "max              2018-12-01 00:00:00  147678.000000  234778.000000   \n",
       "std                              NaN   28399.096848   50108.612264   \n",
       "\n",
       "            useCost        avgCost  \n",
       "count  9.070000e+02     907.000000  \n",
       "mean   1.519510e+09   91143.681367  \n",
       "min    3.783800e+06   24023.000000  \n",
       "25%    5.300313e+08   54650.500000  \n",
       "50%    1.126238e+09   72977.000000  \n",
       "75%    2.038619e+09  115973.500000  \n",
       "max    6.313491e+09  263112.000000  \n",
       "std    1.300093e+09   53535.324944  "
      ]
     },
     "execution_count": 14,
     "metadata": {},
     "output_type": "execute_result"
    }
   ],
   "source": [
    "agg_DATA.describe()"
   ]
  },
  {
   "cell_type": "code",
   "execution_count": 15,
   "metadata": {},
   "outputs": [],
   "source": [
    "import pandas as pd\n",
    "import numpy as np\n",
    "import matplotlib.pyplot as plt\n",
    "import seaborn as sns\n",
    "import matplotlib.dates as mdates\n",
    "%matplotlib inline\n",
    "\n",
    "from tslearn.utils import to_time_series_dataset\n",
    "from tslearn.clustering import TimeSeriesKMeans"
   ]
  },
  {
   "cell_type": "code",
   "execution_count": 16,
   "metadata": {},
   "outputs": [
    {
     "data": {
      "text/plain": [
       "['20대', '30대', '40대', '50대', '60대이상']"
      ]
     },
     "execution_count": 16,
     "metadata": {},
     "output_type": "execute_result"
    }
   ],
   "source": [
    "# 연령대\n",
    "ageGroup = list(agg_DATA['ageGroup'].unique())\n",
    "ageGroup"
   ]
  },
  {
   "cell_type": "code",
   "execution_count": 17,
   "metadata": {},
   "outputs": [
    {
     "data": {
      "text/plain": [
       "['교통', '문화/레져', '소매', '쇼핑', '숙박', '식음료', '유흥']"
      ]
     },
     "execution_count": 17,
     "metadata": {},
     "output_type": "execute_result"
    }
   ],
   "source": [
    "# 카드이용시장\n",
    "marketType = list(agg_DATA['marketType'].unique())\n",
    "marketType"
   ]
  },
  {
   "cell_type": "code",
   "execution_count": 18,
   "metadata": {},
   "outputs": [
    {
     "name": "stdout",
     "output_type": "stream",
     "text": [
      "교통에 대한 클러스터링 결과:\n",
      "20대: 군집1 / 30대: 군집 0/ 40대 군집 0/ 50대 군집 0/ 60대이상 0\n",
      "\n",
      "문화/레져에 대한 클러스터링 결과:\n",
      "20대: 군집1 / 30대: 군집 1/ 40대 군집 1/ 50대 군집 0/ 60대이상 0\n",
      "\n",
      "소매에 대한 클러스터링 결과:\n",
      "20대: 군집1 / 30대: 군집 1/ 40대 군집 1/ 50대 군집 0/ 60대이상 0\n",
      "\n",
      "쇼핑에 대한 클러스터링 결과:\n",
      "20대: 군집1 / 30대: 군집 1/ 40대 군집 1/ 50대 군집 0/ 60대이상 0\n",
      "\n",
      "숙박에 대한 클러스터링 결과:\n",
      "20대: 군집1 / 30대: 군집 1/ 40대 군집 0/ 50대 군집 0/ 60대이상 0\n",
      "\n",
      "식음료에 대한 클러스터링 결과:\n",
      "20대: 군집1 / 30대: 군집 1/ 40대 군집 0/ 50대 군집 0/ 60대이상 0\n",
      "\n",
      "유흥에 대한 클러스터링 결과:\n",
      "20대: 군집1 / 30대: 군집 1/ 40대 군집 0/ 50대 군집 0/ 60대이상 0\n",
      "\n"
     ]
    }
   ],
   "source": [
    "# 군집분석\n",
    "km_list = [] # 모형들 저장 \n",
    "pred_list = [] # 클러스터링 결과들 저장\n",
    "\n",
    "for market in marketType:\n",
    "    avgCost_list = []\n",
    "\n",
    "    for age in ageGroup:\n",
    "        avgCost_list.append(list(agg_DATA[(agg_DATA['marketType']==market) & (agg_DATA['ageGroup']==age)]['avgCost']))\n",
    "    \n",
    "    x = to_time_series_dataset(avgCost_list)\n",
    "\n",
    "    km = TimeSeriesKMeans(n_clusters=2, metric=\"dtw\", max_iter=10, random_state=0)\n",
    "    pred = km.fit_predict(x)\n",
    "\n",
    "    pred_list.append(pred)\n",
    "    km_list.append(km)\n",
    "\n",
    "    print(f'{market}에 대한 클러스터링 결과:\\n'\n",
    "        f'20대: 군집{pred[0]} / 30대: 군집 {pred[1]}/ 40대 군집 {pred[2]}/ 50대 군집 {pred[3]}/ 60대이상 {pred[4]}\\n')\n",
    "    "
   ]
  },
  {
   "cell_type": "code",
   "execution_count": 19,
   "metadata": {},
   "outputs": [],
   "source": [
    "def plot_market_agg(DATA, marketType, km, pred):\n",
    "    temp = agg_DATA[agg_DATA['marketType']==market].reset_index(drop=True)[['dtYearMonth', 'ageGroup','avgCost']]\n",
    "\n",
    "    dtYearMonth = list(temp[temp['ageGroup']==temp['ageGroup'].unique()[0]]['dtYearMonth'].value)\n",
    "    ageGroup = ['군집 0']*len(dtYearMonth)\n",
    "    avgCost = list(km.cluster_centers_[0].ravel())\n",
    "\n",
    "    # temp_df "
   ]
  },
  {
   "cell_type": "code",
   "execution_count": null,
   "metadata": {},
   "outputs": [],
   "source": []
  }
 ],
 "metadata": {
  "kernelspec": {
   "display_name": "Python 3",
   "language": "python",
   "name": "python3"
  },
  "language_info": {
   "codemirror_mode": {
    "name": "ipython",
    "version": 3
   },
   "file_extension": ".py",
   "mimetype": "text/x-python",
   "name": "python",
   "nbconvert_exporter": "python",
   "pygments_lexer": "ipython3",
   "version": "3.11.3"
  },
  "orig_nbformat": 4
 },
 "nbformat": 4,
 "nbformat_minor": 2
}
