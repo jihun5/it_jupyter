{
 "cells": [
  {
   "cell_type": "markdown",
   "metadata": {},
   "source": [
    "# 사이킷 런(Scikit-learn) 소개\n",
    "\n",
    "2007년도 구글 하계 코드 프로젝트 모임에 참여한 몇몇 개발자들이 중심이 되어 시작된 라이브러리\n",
    "\n",
    "지도학습, 비지도학습을 위한 다양한 모델을 제공\n",
    "\n",
    "이 모델을 위한 시각화 도구, 교차 검증 도구들까지 매우 광범위한 기능을 제공\n",
    "\n",
    "하지만 딥러닝은 제공 안함"
   ]
  },
  {
   "cell_type": "markdown",
   "metadata": {},
   "source": [
    "### #01.sklearn의 핵심 기능\n",
    "\n",
    "1) 주요 기능 분류\n",
    "![res/2.png](res/1.png)"
   ]
  },
  {
   "cell_type": "markdown",
   "metadata": {},
   "source": [
    "2) 주요 하위 모듈\n",
    "![res/2.png](res/2.png)\n",
    "![res/2.png](res/3.png)"
   ]
  },
  {
   "cell_type": "markdown",
   "metadata": {},
   "source": [
    "### #02. sklearn의 코드 패턴\n",
    "\n",
    "![res/2.png](res/4.png)\n",
    "\n",
    "|구분|설명|\n",
    "|--|--|\n",
    "|branch|사용하고자 하는 알고리즘이 구현된 클래스를담고 있는 패키지|\n",
    "|model_name|사용하고자 하는 알고리즘이 구현된 클래스|\n",
    "|model|알고리즘에 따라 계산을 수행할 수 있는 객체|\n",
    "##### model 객체가 갖는 fit() 메서드에 독립변수(x_train), 종속변수(y_train)을 전달하여 독립변수와 종속변수간의 관계를 찾아내는 과정"
   ]
  },
  {
   "cell_type": "markdown",
   "metadata": {},
   "source": [
    "### #03. sklearn을 위한 선행 지식\n",
    "> ##### Tensorflow등을 포함한 모든 머신러닝 패키지에 공통적으로 해당되는 사항\n",
    "\n",
    "- numpy\n",
    "- scipy\n",
    "- pandas\n",
    "- matplotlib\n",
    "- seaborn"
   ]
  },
  {
   "cell_type": "markdown",
   "metadata": {},
   "source": []
  }
 ],
 "metadata": {
  "language_info": {
   "name": "python"
  },
  "orig_nbformat": 4
 },
 "nbformat": 4,
 "nbformat_minor": 2
}
