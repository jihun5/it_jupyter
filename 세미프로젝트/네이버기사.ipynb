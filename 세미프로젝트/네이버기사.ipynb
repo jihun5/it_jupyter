{
 "cells": [
  {
   "cell_type": "code",
   "execution_count": 1,
   "metadata": {},
   "outputs": [],
   "source": [
    "from bs4 import BeautifulSoup\n",
    "import requests\n",
    "import time\n",
    "from pandas import DataFrame"
   ]
  },
  {
   "cell_type": "code",
   "execution_count": 2,
   "metadata": {},
   "outputs": [
    {
     "name": "stdout",
     "output_type": "stream",
     "text": [
      "생성url:  https://search.naver.com/search.naver?sm=tab_hty.top&where=news&query=날씨%start=0\n"
     ]
    }
   ],
   "source": [
    "page_num = [0, 1, 11, 21]\n",
    "search = input(\"검색할 내용을 입력하세요:\")\n",
    "#url 생성\n",
    "urlEL = \"https://search.naver.com/search.naver?sm=tab_hty.top&where=news&query=\" + search + \"%start=\" + str(page_num[0])\n",
    "print(\"생성url: \",urlEL)"
   ]
  },
  {
   "cell_type": "code",
   "execution_count": 3,
   "metadata": {},
   "outputs": [],
   "source": [
    "userAgent = \"Mozilla/5.0 (Windows NT 10.0; Win64; x64) AppleWebKit/537.36 (KHTML, like Gecko) Chrome/114.0.0.0 Safari/537.36\""
   ]
  },
  {
   "cell_type": "code",
   "execution_count": 4,
   "metadata": {},
   "outputs": [
    {
     "data": {
      "text/html": [
       "<div>\n",
       "<style scoped>\n",
       "    .dataframe tbody tr th:only-of-type {\n",
       "        vertical-align: middle;\n",
       "    }\n",
       "\n",
       "    .dataframe tbody tr th {\n",
       "        vertical-align: top;\n",
       "    }\n",
       "\n",
       "    .dataframe thead th {\n",
       "        text-align: right;\n",
       "    }\n",
       "</style>\n",
       "<table border=\"1\" class=\"dataframe\">\n",
       "  <thead>\n",
       "    <tr style=\"text-align: right;\">\n",
       "      <th></th>\n",
       "      <th>0</th>\n",
       "    </tr>\n",
       "  </thead>\n",
       "  <tbody>\n",
       "    <tr>\n",
       "      <th>주말 날씨, 제주 비·전국 곳곳 소나기..다음주 30도 안팎 무더위</th>\n",
       "      <td>http://www.breaknews.com/964764</td>\n",
       "    </tr>\n",
       "    <tr>\n",
       "      <th>남양주시 다산1동 지역봉사단, ‘바다의 시작’ 봉사활동 START!</th>\n",
       "      <td>http://www.breaknews.com/897861</td>\n",
       "    </tr>\n",
       "    <tr>\n",
       "      <th>[오늘날씨] 21대 국회의원 선거일, 대체로 맑고 포근</th>\n",
       "      <td>http://kor.theasian.asia/archives/259977</td>\n",
       "    </tr>\n",
       "    <tr>\n",
       "      <th>[오늘날씨] 전국 대부분 미세먼지 '나쁨'···오전부터 비오는 곳도</th>\n",
       "      <td>http://kor.theasian.asia/archives/244592</td>\n",
       "    </tr>\n",
       "    <tr>\n",
       "      <th>[오늘날씨] 추석연휴 마지막 날 수도권·호남 가끔 비···미세먼지 좋은 편</th>\n",
       "      <td>http://kor.theasian.asia/archives/238509</td>\n",
       "    </tr>\n",
       "    <tr>\n",
       "      <th>[오늘날씨] 아침 6도 '일교차' 크고 산간 '서리'··그윽한 가을 햇살</th>\n",
       "      <td>http://kor.theasian.asia/archives/240389</td>\n",
       "    </tr>\n",
       "    <tr>\n",
       "      <th>'20세기 소년소녀' 류현경 이제 짝사랑은 No! 드디어 쌍방 연애 START!</th>\n",
       "      <td>http://www.gukjenews.com/news/articleView.html...</td>\n",
       "    </tr>\n",
       "    <tr>\n",
       "      <th>[유통가 레이더] \"삼성·애플페이 기다려\"... 11번가 SK페이, 전국 CU매장에서 결제 시작 등</th>\n",
       "      <td>http://www.greened.kr/news/articleView.html?id...</td>\n",
       "    </tr>\n",
       "    <tr>\n",
       "      <th>대전엑스포다리위에서 버스킹 공연 펼친다...</th>\n",
       "      <td>http://www.breaknews.com/961333</td>\n",
       "    </tr>\n",
       "    <tr>\n",
       "      <th>합천 황매산 철쭉제 4년만에 개최...4월 29일~5월 14일</th>\n",
       "      <td>http://www.breaknews.com/958788</td>\n",
       "    </tr>\n",
       "  </tbody>\n",
       "</table>\n",
       "</div>"
      ],
      "text/plain": [
       "                                                                                                    0\n",
       "주말 날씨, 제주 비·전국 곳곳 소나기..다음주 30도 안팎 무더위                                 http://www.breaknews.com/964764\n",
       "남양주시 다산1동 지역봉사단, ‘바다의 시작’ 봉사활동 START!                                 http://www.breaknews.com/897861\n",
       "[오늘날씨] 21대 국회의원 선거일, 대체로 맑고 포근                               http://kor.theasian.asia/archives/259977\n",
       "[오늘날씨] 전국 대부분 미세먼지 '나쁨'···오전부터 비오는 곳도                        http://kor.theasian.asia/archives/244592\n",
       "[오늘날씨] 추석연휴 마지막 날 수도권·호남 가끔 비···미세먼지 좋은 편                    http://kor.theasian.asia/archives/238509\n",
       "[오늘날씨] 아침 6도 '일교차' 크고 산간 '서리'··그윽한 가을 햇살                     http://kor.theasian.asia/archives/240389\n",
       "'20세기 소년소녀' 류현경 이제 짝사랑은 No! 드디어 쌍방 연애 START!        http://www.gukjenews.com/news/articleView.html...\n",
       "[유통가 레이더] \"삼성·애플페이 기다려\"... 11번가 SK페이, 전국 CU매장에서...  http://www.greened.kr/news/articleView.html?id...\n",
       "대전엑스포다리위에서 버스킹 공연 펼친다...                                              http://www.breaknews.com/961333\n",
       "합천 황매산 철쭉제 4년만에 개최...4월 29일~5월 14일                                    http://www.breaknews.com/958788"
      ]
     },
     "execution_count": 4,
     "metadata": {},
     "output_type": "execute_result"
    }
   ],
   "source": [
    "# 접속객체 생성\n",
    "session = requests.Session()\n",
    "# 접속객체에 부가정보(header) 삽입하기\n",
    "session.headers.update({\n",
    "    \"Referer\": \"\",\n",
    "    \"User-Agent\": userAgent\n",
    "})\n",
    "news = []\n",
    "for i in range(len(page_num)):\n",
    "    url = \"https://search.naver.com/search.naver?sm=tab_hty.top&where=news&query=\" + search + \"%start=\" + str(page_num[i])\n",
    "\n",
    "    r = session.get(url)\n",
    "    if r.status_code != 200:\n",
    "        msg = \"[%d Error] %s 에러가 발생함\" % (r.status_code, r.reason)\n",
    "        raise Exception(msg)\n",
    "    r.encoding = \"utf-8\"\n",
    "    soup = BeautifulSoup(r.text)\n",
    "\n",
    "    articles = soup.select(\"div.group_news > ul.list_news > li div.news_area > a\")\n",
    "\n",
    "    news_title = []\n",
    "    content = []\n",
    "    agency = []\n",
    "    for i in articles:\n",
    "        news_title.append(i.attrs['title'])\n",
    "\n",
    "        content.append(i.attrs['href'])\n",
    "# print(news_title)\n",
    "# print(content)\n",
    "df = DataFrame(content, news_title)\n",
    "df.to_excel(\"네이버기사.xlsx\")\n",
    "df"
   ]
  },
  {
   "cell_type": "code",
   "execution_count": null,
   "metadata": {},
   "outputs": [],
   "source": []
  }
 ],
 "metadata": {
  "kernelspec": {
   "display_name": "Python 3",
   "language": "python",
   "name": "python3"
  },
  "language_info": {
   "codemirror_mode": {
    "name": "ipython",
    "version": 3
   },
   "file_extension": ".py",
   "mimetype": "text/x-python",
   "name": "python",
   "nbconvert_exporter": "python",
   "pygments_lexer": "ipython3",
   "version": "3.11.3"
  },
  "orig_nbformat": 4
 },
 "nbformat": 4,
 "nbformat_minor": 2
}
