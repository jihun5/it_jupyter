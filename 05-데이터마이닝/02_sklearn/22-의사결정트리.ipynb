{
 "cells": [
  {
   "cell_type": "markdown",
   "metadata": {},
   "source": [
    "## 의사결정트리(Decision Tree)\n",
    "> ##### 스무고개\n",
    "- 머신러닝 기법중 지도학습에 해당\n",
    "- 의사결정 규칙을 나무 구조로 도표화하여 분류와 예측을 수행한다.\n",
    "- 분류와 회귀에 모두 적용이 가능함.\n",
    "- 장점 : 결과가 이해하기 쉽고 직관적이다. 결과에 대한 원인 설명이 필요한 경우에 많이 사용\n",
    "- 단점 : 과적합 가능성이 매우 크기 때문에 정확도가 떨어진다.\n",
    "\n",
    "![res/의사결정트리.png](res/의사결정트리.png)\n",
    "![res/의사결정트리2.png](res/의사결정트리2.png)\n",
    "\n",
    "#### 사용예시\n",
    "\n",
    "- 은행에서 대출 가능여부 판단.\n",
    "- 환자가 어떠한 조건에 부합하여 병에 걸렸는가에 대한 내용\n",
    "\n"
   ]
  },
  {
   "cell_type": "markdown",
   "metadata": {},
   "source": []
  },
  {
   "cell_type": "code",
   "execution_count": null,
   "metadata": {
    "vscode": {
     "languageId": "plaintext"
    }
   },
   "outputs": [],
   "source": []
  }
 ],
 "metadata": {
  "language_info": {
   "name": "python"
  }
 },
 "nbformat": 4,
 "nbformat_minor": 2
}
