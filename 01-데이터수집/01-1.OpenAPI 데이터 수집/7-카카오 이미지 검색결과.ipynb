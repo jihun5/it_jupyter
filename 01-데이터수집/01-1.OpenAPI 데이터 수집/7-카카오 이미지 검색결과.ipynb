{
 "cells": [
  {
   "cell_type": "code",
   "execution_count": 8,
   "metadata": {},
   "outputs": [],
   "source": [
    "import requests\n",
    "import json\n",
    "from pandas import DataFrame\n",
    "import os"
   ]
  },
  {
   "cell_type": "code",
   "execution_count": 9,
   "metadata": {},
   "outputs": [],
   "source": [
    "urlFmt = \"https://dapi.kakao.com/v2/search/image?query={query}&page={page}&size={size}\""
   ]
  },
  {
   "cell_type": "code",
   "execution_count": 10,
   "metadata": {},
   "outputs": [],
   "source": [
    "query = \"봄 패션\"\n",
    "page = 1\n",
    "size = 80\n",
    "key = \"899a1eedbcb6713b4e78b75f1e3ed026\"\n",
    "userAgent = \"Mozilla/5.0 (Windows NT 10.0; Win64; x64) AppleWebKit/537.36 (KHTML, like Gecko) Chrome/114.0.0.0 Safari/537.36\""
   ]
  },
  {
   "cell_type": "code",
   "execution_count": 11,
   "metadata": {},
   "outputs": [],
   "source": [
    "session = requests.Session()\n",
    "session.headers.update({\n",
    "    \"Authorization\" : \"KakaoAK %s\" % key\n",
    "})"
   ]
  },
  {
   "cell_type": "code",
   "execution_count": 15,
   "metadata": {},
   "outputs": [
    {
     "name": "stdout",
     "output_type": "stream",
     "text": [
      "종료\n"
     ]
    }
   ],
   "source": [
    "# 다음페이지가 존재하는 지 여부 --> 이 값이 false인 동안은 반복\n",
    "isEnd = False\n",
    "# 1페이지부터 시작\n",
    "page = 1\n",
    "# 저장된 이미지 카운트\n",
    "count = 0\n",
    "\n",
    "while not isEnd:\n",
    "    #-----------------------------------------------------------------\n",
    "    # 이전 예제 코드 시작\n",
    "    url = urlFmt.format(query=query, page=page, size=size)\n",
    "    # url\n",
    "    #출력된 데이터의 변수값 확인\n",
    "    r = session.get(url)\n",
    "    if r.status_code != 200:\n",
    "        msg = \"[%d Error] %s 에러가 발생함\" % (r.status_code, r.reason)\n",
    "        raise Exception(msg)\n",
    "    r.encoding = \"utf-8\"\n",
    "    data = json.loads(r.text)\n",
    "    # data\n",
    "    # -------------------------------------------------------------------\n",
    "    # 이전 예제 코드 끝 \n",
    "    # 추출한 리슽으를 미리 준비한 빈 리스트에  추가\n",
    "    searchList = data['documents']\n",
    "\n",
    "    # 증감식에 해당하는 isend변수 추출\n",
    "    isEnd = bool(data['meta']['is_end'])\n",
    "    page += 1\n",
    "    # print(\"isEnd=\", isEnd, \", 다음페이지=\", page)\n",
    "\n",
    "    # 이미지가 저장될 폴더 생성\n",
    "    if os.path.exists(query) == False:\n",
    "        os.mkdir(query) # 경로에 디렉토리 형성하기\n",
    "    \n",
    "    # 이미지저장\n",
    "    for i, v in enumerate(searchList):\n",
    "        count += 1\n",
    "        docUrl = v['doc_url']\n",
    "        imageUrl = v['image_url']\n",
    "        # print(imageUrl)\n",
    "        session.headers.update({\n",
    "            \"Authorization\": \"KakaoAK %s\" % key,\n",
    "            \"Referer\": docUrl,\n",
    "            \"User-Agent\": userAgent\n",
    "        })\n",
    "    # 다운로드에 실패한 경우 다음 이미지로 이동\n",
    "    if r.status_code != 200:\n",
    "        continue\n",
    "    \n",
    "    fileName = \"%s/%d05d.png\" % (query, count)\n",
    "\n",
    "    with open(fileName, 'wb') as f: \n",
    "        # with open('변수','wb') 바이너리(2진법으로) 쓰기모드\n",
    "        # 'wb'모드로 파일을 open할 경우 raw date를 쓸수 있고 \n",
    "        # 'rb'모드로 open할 경우 raw date로 읽을 수 있다. \n",
    "        f.write(r.raw.read())\n",
    "        # r(읽기),w(쓰기),a(추가)\n",
    "        # print(fileName, \"(이)가 저장되었습니다.\")\n",
    "        # 읽어 들인 데이터를 저장한다.\n",
    "print(\"종료\")\n"
   ]
  },
  {
   "cell_type": "code",
   "execution_count": null,
   "metadata": {},
   "outputs": [],
   "source": []
  }
 ],
 "metadata": {
  "kernelspec": {
   "display_name": "Python 3",
   "language": "python",
   "name": "python3"
  },
  "language_info": {
   "codemirror_mode": {
    "name": "ipython",
    "version": 3
   },
   "file_extension": ".py",
   "mimetype": "text/x-python",
   "name": "python",
   "nbconvert_exporter": "python",
   "pygments_lexer": "ipython3",
   "version": "3.11.3"
  },
  "orig_nbformat": 4
 },
 "nbformat": 4,
 "nbformat_minor": 2
}
