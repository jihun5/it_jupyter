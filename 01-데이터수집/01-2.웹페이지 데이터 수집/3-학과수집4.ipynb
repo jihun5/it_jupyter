{
 "cells": [
  {
   "attachments": {},
   "cell_type": "markdown",
   "metadata": {},
   "source": [
    "숙명여대 학과수집"
   ]
  },
  {
   "cell_type": "code",
   "execution_count": 5,
   "metadata": {},
   "outputs": [],
   "source": [
    "import requests\n",
    "from bs4 import BeautifulSoup\n",
    "from pandas import DataFrame"
   ]
  },
  {
   "cell_type": "code",
   "execution_count": 6,
   "metadata": {},
   "outputs": [],
   "source": [
    "# 접속객체 생성\n",
    "session = requests.Session()\n",
    "# 접속객체에 부가정보(header) 삽입하기\n",
    "session.headers.update({\n",
    "    \"Referer\": \"\",\n",
    "    \"User-Agent\": \"Mozilla/5.0 (Windows NT 10.0; Win64; x64) AppleWebKit/537.36 (KHTML, like Gecko) Chrome/114.0.0.0 Safari/537.36\"\n",
    "})"
   ]
  },
  {
   "cell_type": "code",
   "execution_count": 7,
   "metadata": {},
   "outputs": [],
   "source": [
    "clist = [1011,1023,1030,1041,1046,1052,1054,1057,1062,1064,1070,1073,1076]"
   ]
  },
  {
   "attachments": {},
   "cell_type": "markdown",
   "metadata": {},
   "source": [
    "응답결과로부터 데이터 추출하기"
   ]
  },
  {
   "cell_type": "code",
   "execution_count": 8,
   "metadata": {},
   "outputs": [
    {
     "ename": "MissingSchema",
     "evalue": "Invalid URL '/sookmyungkr/1071/subview.do': No scheme supplied. Perhaps you meant https:///sookmyungkr/1071/subview.do?",
     "output_type": "error",
     "traceback": [
      "\u001b[1;31m---------------------------------------------------------------------------\u001b[0m",
      "\u001b[1;31mMissingSchema\u001b[0m                             Traceback (most recent call last)",
      "Cell \u001b[1;32mIn[8], line 89\u001b[0m\n\u001b[0;32m     87\u001b[0m 학과목록_리스트\u001b[39m.\u001b[39mappend(college_dict)\n\u001b[0;32m     88\u001b[0m \u001b[39m# pdf파일 다운로드 -> URL을 저장하고 있는 변수는 pdf\u001b[39;00m\n\u001b[1;32m---> 89\u001b[0m r \u001b[39m=\u001b[39m session\u001b[39m.\u001b[39;49mget(pdf, stream\u001b[39m=\u001b[39;49m\u001b[39mTrue\u001b[39;49;00m)\n\u001b[0;32m     90\u001b[0m \u001b[39mif\u001b[39;00m r\u001b[39m.\u001b[39mstatus_code \u001b[39m==\u001b[39m \u001b[39m200\u001b[39m:\n\u001b[0;32m     91\u001b[0m     r\u001b[39m.\u001b[39mencoding \u001b[39m=\u001b[39m \u001b[39m\"\u001b[39m\u001b[39mutf-8\u001b[39m\u001b[39m\"\u001b[39m\n",
      "File \u001b[1;32mc:\\Users\\user\\AppData\\Local\\Programs\\Python\\Python311\\Lib\\site-packages\\requests\\sessions.py:602\u001b[0m, in \u001b[0;36mSession.get\u001b[1;34m(self, url, **kwargs)\u001b[0m\n\u001b[0;32m    594\u001b[0m \u001b[39m\u001b[39m\u001b[39mr\u001b[39m\u001b[39m\"\"\"Sends a GET request. Returns :class:`Response` object.\u001b[39;00m\n\u001b[0;32m    595\u001b[0m \n\u001b[0;32m    596\u001b[0m \u001b[39m:param url: URL for the new :class:`Request` object.\u001b[39;00m\n\u001b[0;32m    597\u001b[0m \u001b[39m:param \\*\\*kwargs: Optional arguments that ``request`` takes.\u001b[39;00m\n\u001b[0;32m    598\u001b[0m \u001b[39m:rtype: requests.Response\u001b[39;00m\n\u001b[0;32m    599\u001b[0m \u001b[39m\"\"\"\u001b[39;00m\n\u001b[0;32m    601\u001b[0m kwargs\u001b[39m.\u001b[39msetdefault(\u001b[39m\"\u001b[39m\u001b[39mallow_redirects\u001b[39m\u001b[39m\"\u001b[39m, \u001b[39mTrue\u001b[39;00m)\n\u001b[1;32m--> 602\u001b[0m \u001b[39mreturn\u001b[39;00m \u001b[39mself\u001b[39;49m\u001b[39m.\u001b[39;49mrequest(\u001b[39m\"\u001b[39;49m\u001b[39mGET\u001b[39;49m\u001b[39m\"\u001b[39;49m, url, \u001b[39m*\u001b[39;49m\u001b[39m*\u001b[39;49mkwargs)\n",
      "File \u001b[1;32mc:\\Users\\user\\AppData\\Local\\Programs\\Python\\Python311\\Lib\\site-packages\\requests\\sessions.py:575\u001b[0m, in \u001b[0;36mSession.request\u001b[1;34m(self, method, url, params, data, headers, cookies, files, auth, timeout, allow_redirects, proxies, hooks, stream, verify, cert, json)\u001b[0m\n\u001b[0;32m    562\u001b[0m \u001b[39m# Create the Request.\u001b[39;00m\n\u001b[0;32m    563\u001b[0m req \u001b[39m=\u001b[39m Request(\n\u001b[0;32m    564\u001b[0m     method\u001b[39m=\u001b[39mmethod\u001b[39m.\u001b[39mupper(),\n\u001b[0;32m    565\u001b[0m     url\u001b[39m=\u001b[39murl,\n\u001b[1;32m   (...)\u001b[0m\n\u001b[0;32m    573\u001b[0m     hooks\u001b[39m=\u001b[39mhooks,\n\u001b[0;32m    574\u001b[0m )\n\u001b[1;32m--> 575\u001b[0m prep \u001b[39m=\u001b[39m \u001b[39mself\u001b[39;49m\u001b[39m.\u001b[39;49mprepare_request(req)\n\u001b[0;32m    577\u001b[0m proxies \u001b[39m=\u001b[39m proxies \u001b[39mor\u001b[39;00m {}\n\u001b[0;32m    579\u001b[0m settings \u001b[39m=\u001b[39m \u001b[39mself\u001b[39m\u001b[39m.\u001b[39mmerge_environment_settings(\n\u001b[0;32m    580\u001b[0m     prep\u001b[39m.\u001b[39murl, proxies, stream, verify, cert\n\u001b[0;32m    581\u001b[0m )\n",
      "File \u001b[1;32mc:\\Users\\user\\AppData\\Local\\Programs\\Python\\Python311\\Lib\\site-packages\\requests\\sessions.py:486\u001b[0m, in \u001b[0;36mSession.prepare_request\u001b[1;34m(self, request)\u001b[0m\n\u001b[0;32m    483\u001b[0m     auth \u001b[39m=\u001b[39m get_netrc_auth(request\u001b[39m.\u001b[39murl)\n\u001b[0;32m    485\u001b[0m p \u001b[39m=\u001b[39m PreparedRequest()\n\u001b[1;32m--> 486\u001b[0m p\u001b[39m.\u001b[39;49mprepare(\n\u001b[0;32m    487\u001b[0m     method\u001b[39m=\u001b[39;49mrequest\u001b[39m.\u001b[39;49mmethod\u001b[39m.\u001b[39;49mupper(),\n\u001b[0;32m    488\u001b[0m     url\u001b[39m=\u001b[39;49mrequest\u001b[39m.\u001b[39;49murl,\n\u001b[0;32m    489\u001b[0m     files\u001b[39m=\u001b[39;49mrequest\u001b[39m.\u001b[39;49mfiles,\n\u001b[0;32m    490\u001b[0m     data\u001b[39m=\u001b[39;49mrequest\u001b[39m.\u001b[39;49mdata,\n\u001b[0;32m    491\u001b[0m     json\u001b[39m=\u001b[39;49mrequest\u001b[39m.\u001b[39;49mjson,\n\u001b[0;32m    492\u001b[0m     headers\u001b[39m=\u001b[39;49mmerge_setting(\n\u001b[0;32m    493\u001b[0m         request\u001b[39m.\u001b[39;49mheaders, \u001b[39mself\u001b[39;49m\u001b[39m.\u001b[39;49mheaders, dict_class\u001b[39m=\u001b[39;49mCaseInsensitiveDict\n\u001b[0;32m    494\u001b[0m     ),\n\u001b[0;32m    495\u001b[0m     params\u001b[39m=\u001b[39;49mmerge_setting(request\u001b[39m.\u001b[39;49mparams, \u001b[39mself\u001b[39;49m\u001b[39m.\u001b[39;49mparams),\n\u001b[0;32m    496\u001b[0m     auth\u001b[39m=\u001b[39;49mmerge_setting(auth, \u001b[39mself\u001b[39;49m\u001b[39m.\u001b[39;49mauth),\n\u001b[0;32m    497\u001b[0m     cookies\u001b[39m=\u001b[39;49mmerged_cookies,\n\u001b[0;32m    498\u001b[0m     hooks\u001b[39m=\u001b[39;49mmerge_hooks(request\u001b[39m.\u001b[39;49mhooks, \u001b[39mself\u001b[39;49m\u001b[39m.\u001b[39;49mhooks),\n\u001b[0;32m    499\u001b[0m )\n\u001b[0;32m    500\u001b[0m \u001b[39mreturn\u001b[39;00m p\n",
      "File \u001b[1;32mc:\\Users\\user\\AppData\\Local\\Programs\\Python\\Python311\\Lib\\site-packages\\requests\\models.py:368\u001b[0m, in \u001b[0;36mPreparedRequest.prepare\u001b[1;34m(self, method, url, headers, files, data, params, auth, cookies, hooks, json)\u001b[0m\n\u001b[0;32m    365\u001b[0m \u001b[39m\u001b[39m\u001b[39m\"\"\"Prepares the entire request with the given parameters.\"\"\"\u001b[39;00m\n\u001b[0;32m    367\u001b[0m \u001b[39mself\u001b[39m\u001b[39m.\u001b[39mprepare_method(method)\n\u001b[1;32m--> 368\u001b[0m \u001b[39mself\u001b[39;49m\u001b[39m.\u001b[39;49mprepare_url(url, params)\n\u001b[0;32m    369\u001b[0m \u001b[39mself\u001b[39m\u001b[39m.\u001b[39mprepare_headers(headers)\n\u001b[0;32m    370\u001b[0m \u001b[39mself\u001b[39m\u001b[39m.\u001b[39mprepare_cookies(cookies)\n",
      "File \u001b[1;32mc:\\Users\\user\\AppData\\Local\\Programs\\Python\\Python311\\Lib\\site-packages\\requests\\models.py:439\u001b[0m, in \u001b[0;36mPreparedRequest.prepare_url\u001b[1;34m(self, url, params)\u001b[0m\n\u001b[0;32m    436\u001b[0m     \u001b[39mraise\u001b[39;00m InvalidURL(\u001b[39m*\u001b[39me\u001b[39m.\u001b[39margs)\n\u001b[0;32m    438\u001b[0m \u001b[39mif\u001b[39;00m \u001b[39mnot\u001b[39;00m scheme:\n\u001b[1;32m--> 439\u001b[0m     \u001b[39mraise\u001b[39;00m MissingSchema(\n\u001b[0;32m    440\u001b[0m         \u001b[39mf\u001b[39m\u001b[39m\"\u001b[39m\u001b[39mInvalid URL \u001b[39m\u001b[39m{\u001b[39;00murl\u001b[39m!r}\u001b[39;00m\u001b[39m: No scheme supplied. \u001b[39m\u001b[39m\"\u001b[39m\n\u001b[0;32m    441\u001b[0m         \u001b[39mf\u001b[39m\u001b[39m\"\u001b[39m\u001b[39mPerhaps you meant https://\u001b[39m\u001b[39m{\u001b[39;00murl\u001b[39m}\u001b[39;00m\u001b[39m?\u001b[39m\u001b[39m\"\u001b[39m\n\u001b[0;32m    442\u001b[0m     )\n\u001b[0;32m    444\u001b[0m \u001b[39mif\u001b[39;00m \u001b[39mnot\u001b[39;00m host:\n\u001b[0;32m    445\u001b[0m     \u001b[39mraise\u001b[39;00m InvalidURL(\u001b[39mf\u001b[39m\u001b[39m\"\u001b[39m\u001b[39mInvalid URL \u001b[39m\u001b[39m{\u001b[39;00murl\u001b[39m!r}\u001b[39;00m\u001b[39m: No host supplied\u001b[39m\u001b[39m\"\u001b[39m)\n",
      "\u001b[1;31mMissingSchema\u001b[0m: Invalid URL '/sookmyungkr/1071/subview.do': No scheme supplied. Perhaps you meant https:///sookmyungkr/1071/subview.do?"
     ]
    }
   ],
   "source": [
    "# 수집한 정보를 저장할 빈 리스트\n",
    "학과목록_리스트 = []\n",
    "# 홈페이지에서 정보를 추출하는 경우 원하는 답을 얻을때까지 for문을\n",
    "# 수정해가면서 하면 좋다.\n",
    "# 그래서 중간중간 print로 값을 확인하며 오류가뜨면\n",
    "# None값에 대한 처리? 범위를 벗어났는지? 등에 대해야 계속해서 수정을 해가야한다.\n",
    "\n",
    "# 대학 수 만큼 반복하기 \n",
    "for c in clist:\n",
    "    # 수집할 컨텐츠가 있는 웹 페이지의 주소\n",
    "    url = \"https://www.sookmyung.ac.kr/sookmyungkr/%d/subview.do\" % c\n",
    "\n",
    "    # 생성한 접속객체를 활용하여 API에 접속\n",
    "    r = session.get(url)\n",
    "    # 접속에 실패한 경우\n",
    "    if r.status_code != 200:\n",
    "    # 에러코드와 에러메시지 출력\n",
    "        msg = \"[%d Error] %s 에러가 발생함\" % (r.status_code, r.reason)\n",
    "    # 에러를 강제로 생성시킴\n",
    "        raise Exception(msg)\n",
    "    r.encoding = \"utf-8\"\n",
    "    #print(r.text)\n",
    "    soup = BeautifulSoup(r.text)\n",
    "    # soup\n",
    "\n",
    "\n",
    "    college_list = soup.select(\".college_list\")\n",
    "    for item in college_list:\n",
    "        h5El = item.select(\"h5\")\n",
    "        name = h5El[0].text.strip()\n",
    "\n",
    "        # 상세보기 URL\n",
    "        # 가져온 페이지 주소의 예) /sookmyungkr/1012/subview.do\n",
    "        # 같은 사이트 안에서 이동할 때는 앞부분 \"https: / w.sookmyung.ac.kr\"을 생략 가능하지만\n",
    "        # 외부에서 직접 접근할 때는 반드시 전체 주소가 필요함.\n",
    "        # 가져온 값이 전체주소가 아니므로 검사하여 누락된 부분을 덧붙여야 한다.\n",
    "        viewEl = item.select(\".view\")\n",
    "        view = viewEl[0].attrs[\"href\"]\n",
    "        if view.find(\"http://www.sookmyung.ac.kr\") == -1:\n",
    "            view = \"http://www.sookmyung.ac.kr\" + view\n",
    "\n",
    "\n",
    "        # 학과소개 pdf\n",
    "        pdfEl = item.select(\".info\") # soup.select하면 전체를 검토해서 info를가져오기 때문에\n",
    "        pdf = pdfEl[0].attrs[\"href\"] # item으로 한 학과 마다 검토를 해야 정확한 값이 나옴\n",
    "        \n",
    "        # 학과홈페이지\n",
    "        homepageEl = item.select(\".homepage\")\n",
    "        homepage = homepageEl[0].attrs['href']\n",
    "        \n",
    "        # 수집한 값들을 딕셔너리로 묶은 후 리스트에 추가\n",
    "        college_dict = {\"학과이름\": name, \"상세페이지\": view, \"홈페이지\": homepage}\n",
    "\n",
    "        #------------------------------------------------------# 상세보기 URL을 새롭게 수집\n",
    "        #-------------------------------------------------------\n",
    "        r = session.get(view)\n",
    "        if r.status_code != 200:\n",
    "        # 에러코드와 에러메시지 출력\n",
    "            msg = \"[%d Error] %s 에러가 발생함\" % (r.status_code, r.reason)\n",
    "            print(msg)\n",
    "            continue\n",
    "\n",
    "        r.encoding = \"utf-8\"\n",
    "        detailSoup = BeautifulSoup(r.text)\n",
    "        #print(detailSoup)\n",
    "        # 같은 구조를 갖는 전화번호, 팩스번호, 위치, 이메일주소를 가져온다.\n",
    "        infoEl = detailSoup.select(\".college_info_data dl\")\n",
    "        #print(infoEl)\n",
    "        #print(\"-\" * 50)\n",
    "        # 딕셔너리 안에 for문을 돌리는 이유는 \n",
    "        # 딕셔너리 값 안에 없는 것들을 찾아내서 딕셔너리에 추가하려고\n",
    "        for info in infoEl:\n",
    "        #print(info)\n",
    "            dt = info.select(\"dt\")[0].text.replace(\":\", \"\").strip() \n",
    "            dd = info.select(\"dd\")[0].text.replace(\":\", \"\").strip()\n",
    "            # info정보안에 dt항 아래에 0번째 택스트를 추출하는데\n",
    "            # :항목에 앞 뒤 공간이 얼마나 있는 지 \n",
    "            # 다른 항목들도 같은 공간을 차지하는 지 모르기때문에\n",
    "            # 그냥 :삭제후 strip으로 같은 조건으로 만든다 \n",
    "        #print(dt, dd)\n",
    "        #print(\"-\" * 50)\n",
    "            college_dict[dt] = dd\n",
    "        # 딕셔너리에 None값이면 값 추가 하니까 없는 항목에 대해서는 값추가\n",
    "        #------------------------------------------------------# \n",
    "        # 상세보기 URL을 새롭게 수집 (끝)\n",
    "        #-------------------------------------------------------\n",
    "        학과목록_리스트.append(college_dict)\n",
    "        # pdf파일 다운로드 -> URL을 저장하고 있는 변수는 pdf\n",
    "        r = session.get(pdf, stream=True)\n",
    "        if r.status_code == 200:\n",
    "            r.encoding = \"utf-8\"\n",
    "            with open(\"%s.pdf\" % name , 'wb') as f:\n",
    "                f.write(r.raw.read())\n",
    "                \n",
    "df = DataFrame(학과목록_리스트)\n",
    "df.to_excel(\"result.xlsx\")\n",
    "df\n"
   ]
  },
  {
   "cell_type": "code",
   "execution_count": null,
   "metadata": {},
   "outputs": [],
   "source": []
  }
 ],
 "metadata": {
  "kernelspec": {
   "display_name": "Python 3",
   "language": "python",
   "name": "python3"
  },
  "language_info": {
   "codemirror_mode": {
    "name": "ipython",
    "version": 3
   },
   "file_extension": ".py",
   "mimetype": "text/x-python",
   "name": "python",
   "nbconvert_exporter": "python",
   "pygments_lexer": "ipython3",
   "version": "3.11.3"
  },
  "orig_nbformat": 4
 },
 "nbformat": 4,
 "nbformat_minor": 2
}
