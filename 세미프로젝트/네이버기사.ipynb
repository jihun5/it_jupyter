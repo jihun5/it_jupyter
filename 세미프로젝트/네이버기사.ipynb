{
 "cells": [
  {
   "cell_type": "code",
   "execution_count": 138,
   "metadata": {},
   "outputs": [],
   "source": [
    "from bs4 import BeautifulSoup\n",
    "import requests\n",
    "import time\n",
    "from pandas import DataFrame"
   ]
  },
  {
   "cell_type": "code",
   "execution_count": 139,
   "metadata": {},
   "outputs": [
    {
     "name": "stdout",
     "output_type": "stream",
     "text": [
      "생성url:  https://search.naver.com/search.naver?sm=tab_hty.top&where=news&query=호우%start=0\n"
     ]
    }
   ],
   "source": [
    "page_num = [0, 1, 11, 21]\n",
    "search = input(\"검색할 내용을 입력하세요:\")\n",
    "#url 생성\n",
    "# url = \"https://search.naver.com/search.naver?where=news&sm=tab_pge&query=\" + search + \"&start=\" + str(page_num)\n",
    "urlEL = \"https://search.naver.com/search.naver?sm=tab_hty.top&where=news&query=\" + search + \"%start=\" + str(page_num[0])\n",
    "print(\"생성url: \",urlEL)"
   ]
  },
  {
   "cell_type": "code",
   "execution_count": 140,
   "metadata": {},
   "outputs": [],
   "source": [
    "userAgent = \"Mozilla/5.0 (Windows NT 10.0; Win64; x64) AppleWebKit/537.36 (KHTML, like Gecko) Chrome/114.0.0.0 Safari/537.36\""
   ]
  },
  {
   "cell_type": "code",
   "execution_count": 142,
   "metadata": {},
   "outputs": [
    {
     "name": "stdout",
     "output_type": "stream",
     "text": [
      "['중랑구, 침수피해 예방에 총력', 'LS그룹 국가 재난상황 피해복구 지원, 미래세대 꿈의 발판 제공', '사회공헌 앞장서 온 LS그룹, \"따뜻한 나눔 활동, 기업의 사회적 책임이 창립 정신\"', \"LS그룹, 국가 재난상황 피해복구 지원…'미래세대 꿈' 발판 제공\", 'LS그룹 계열사 국가 재난상황 지원 \"미래세대 꿈의 발판 제공\"', 'LS는 사회공헌의 마술사...미래세대의 발판 세우다', '\"미래세대 꿈의 발판 제공\"…LS그룹, 사회적 책임 실천 앞장', '보은군, 행안부 2023 중초지구 풍수해생활권 종합정비사업 선정', \"[유통가 레이더] 배민, 쇼핑라이브에서 '소상공인의 진심 담은 상품' 판매로 판로 확대 지원 등\", '[지구촌 한줄뉴스](종합)펠로시 대만 방문·미국 우크라 추가지원·도네츠크공화국 수장 방북 희망·푸틴 핵전쟁 반대·알카에다 지도자 사살·리비아 유조차 폭발·켄터키주 홍수·일본 원전 누수·프랑스 폭염·미국 이란 석유 관']\n",
      "['http://www.breaknews.com/972117', 'https://sports.donga.com/article/all/20230502/119102589/2', 'http://www.sporbiz.co.kr/news/articleView.html?idxno=650019', 'http://www.sentv.co.kr/news/view/654527', 'http://www.fntimes.com/html/view.php?ud=20230330012255284899ebb03838_18', 'https://www.nbntv.kr/news/articleView.html?idxno=69222', 'http://www.inews24.com/view/1579538', 'http://www.breaknews.com/925896', 'http://www.greened.kr/news/articleView.html?idxno=297302', 'http://www.newscj.com/article/20220802580109']\n"
     ]
    },
    {
     "data": {
      "text/html": [
       "<div>\n",
       "<style scoped>\n",
       "    .dataframe tbody tr th:only-of-type {\n",
       "        vertical-align: middle;\n",
       "    }\n",
       "\n",
       "    .dataframe tbody tr th {\n",
       "        vertical-align: top;\n",
       "    }\n",
       "\n",
       "    .dataframe thead th {\n",
       "        text-align: right;\n",
       "    }\n",
       "</style>\n",
       "<table border=\"1\" class=\"dataframe\">\n",
       "  <thead>\n",
       "    <tr style=\"text-align: right;\">\n",
       "      <th></th>\n",
       "      <th>0</th>\n",
       "    </tr>\n",
       "  </thead>\n",
       "  <tbody>\n",
       "    <tr>\n",
       "      <th>중랑구, 침수피해 예방에 총력</th>\n",
       "      <td>http://www.breaknews.com/972117</td>\n",
       "    </tr>\n",
       "    <tr>\n",
       "      <th>LS그룹 국가 재난상황 피해복구 지원, 미래세대 꿈의 발판 제공</th>\n",
       "      <td>https://sports.donga.com/article/all/20230502/...</td>\n",
       "    </tr>\n",
       "    <tr>\n",
       "      <th>사회공헌 앞장서 온 LS그룹, \"따뜻한 나눔 활동, 기업의 사회적 책임이 창립 정신\"</th>\n",
       "      <td>http://www.sporbiz.co.kr/news/articleView.html...</td>\n",
       "    </tr>\n",
       "    <tr>\n",
       "      <th>LS그룹, 국가 재난상황 피해복구 지원…'미래세대 꿈' 발판 제공</th>\n",
       "      <td>http://www.sentv.co.kr/news/view/654527</td>\n",
       "    </tr>\n",
       "    <tr>\n",
       "      <th>LS그룹 계열사 국가 재난상황 지원 \"미래세대 꿈의 발판 제공\"</th>\n",
       "      <td>http://www.fntimes.com/html/view.php?ud=202303...</td>\n",
       "    </tr>\n",
       "    <tr>\n",
       "      <th>LS는 사회공헌의 마술사...미래세대의 발판 세우다</th>\n",
       "      <td>https://www.nbntv.kr/news/articleView.html?idx...</td>\n",
       "    </tr>\n",
       "    <tr>\n",
       "      <th>\"미래세대 꿈의 발판 제공\"…LS그룹, 사회적 책임 실천 앞장</th>\n",
       "      <td>http://www.inews24.com/view/1579538</td>\n",
       "    </tr>\n",
       "    <tr>\n",
       "      <th>보은군, 행안부 2023 중초지구 풍수해생활권 종합정비사업 선정</th>\n",
       "      <td>http://www.breaknews.com/925896</td>\n",
       "    </tr>\n",
       "    <tr>\n",
       "      <th>[유통가 레이더] 배민, 쇼핑라이브에서 '소상공인의 진심 담은 상품' 판매로 판로 확대 지원 등</th>\n",
       "      <td>http://www.greened.kr/news/articleView.html?id...</td>\n",
       "    </tr>\n",
       "    <tr>\n",
       "      <th>[지구촌 한줄뉴스](종합)펠로시 대만 방문·미국 우크라 추가지원·도네츠크공화국 수장 방북 희망·푸틴 핵전쟁 반대·알카에다 지도자 사살·리비아 유조차 폭발·켄터키주 홍수·일본 원전 누수·프랑스 폭염·미국 이란 석유 관</th>\n",
       "      <td>http://www.newscj.com/article/20220802580109</td>\n",
       "    </tr>\n",
       "  </tbody>\n",
       "</table>\n",
       "</div>"
      ],
      "text/plain": [
       "                                                                                                    0\n",
       "중랑구, 침수피해 예방에 총력                                                      http://www.breaknews.com/972117\n",
       "LS그룹 국가 재난상황 피해복구 지원, 미래세대 꿈의 발판 제공                 https://sports.donga.com/article/all/20230502/...\n",
       "사회공헌 앞장서 온 LS그룹, \"따뜻한 나눔 활동, 기업의 사회적 책임이 창립 정신\"     http://www.sporbiz.co.kr/news/articleView.html...\n",
       "LS그룹, 국가 재난상황 피해복구 지원…'미래세대 꿈' 발판 제공                          http://www.sentv.co.kr/news/view/654527\n",
       "LS그룹 계열사 국가 재난상황 지원 \"미래세대 꿈의 발판 제공\"                 http://www.fntimes.com/html/view.php?ud=202303...\n",
       "LS는 사회공헌의 마술사...미래세대의 발판 세우다                        https://www.nbntv.kr/news/articleView.html?idx...\n",
       "\"미래세대 꿈의 발판 제공\"…LS그룹, 사회적 책임 실천 앞장                                http://www.inews24.com/view/1579538\n",
       "보은군, 행안부 2023 중초지구 풍수해생활권 종합정비사업 선정                                   http://www.breaknews.com/925896\n",
       "[유통가 레이더] 배민, 쇼핑라이브에서 '소상공인의 진심 담은 상품' 판매로 판로 확...  http://www.greened.kr/news/articleView.html?id...\n",
       "[지구촌 한줄뉴스](종합)펠로시 대만 방문·미국 우크라 추가지원·도네츠크공화국 수장 ...       http://www.newscj.com/article/20220802580109"
      ]
     },
     "execution_count": 142,
     "metadata": {},
     "output_type": "execute_result"
    }
   ],
   "source": [
    "# 접속객체 생성\n",
    "session = requests.Session()\n",
    "# 접속객체에 부가정보(header) 삽입하기\n",
    "session.headers.update({\n",
    "    \"Referer\": \"\",\n",
    "    \"User-Agent\": userAgent\n",
    "})\n",
    "\n",
    "news = []\n",
    "for i in range(len(page_num)):\n",
    "    url = \"https://search.naver.com/search.naver?sm=tab_hty.top&where=news&query=\" + search + \"%start=\" + str(page_num[i])\n",
    "\n",
    "    r = session.get(url)\n",
    "    if r.status_code != 200:\n",
    "        msg = \"[%d Error] %s 에러가 발생함\" % (r.status_code, r.reason)\n",
    "        raise Exception(msg)\n",
    "    r.encoding = \"utf-8\"\n",
    "    soup = BeautifulSoup(r.text)\n",
    "    original_html = requests.get(url)\n",
    "    html = BeautifulSoup(original_html.text, \"html.parser\")\n",
    "\n",
    "    articles = html.select(\"div.group_news > ul.list_news > li div.news_area > a\")\n",
    "    # print(articles)\n",
    "    # print(len(articles),\"개의 기사가 검색됌.\")\n",
    "\n",
    "    #뉴스기사 제목 가져오기\n",
    "    news_title = []\n",
    "    content = []\n",
    "    for i in articles:\n",
    "        news_title.append(i.attrs['title'])\n",
    "        content.append(i.attrs['href'])\n",
    "print(news_title)\n",
    "print(content)\n",
    "\n",
    "\n",
    "df = DataFrame(content, news_title)\n",
    "df.to_excel(\"네이버기사.xlsx\")\n",
    "df"
   ]
  },
  {
   "cell_type": "code",
   "execution_count": 50,
   "metadata": {},
   "outputs": [
    {
     "data": {
      "text/plain": [
       "[\"부안군 '6월, 열린 공감의 날' 개최\",\n",
       " \"서울 호우경보…전국 곳곳 '장대비'\",\n",
       " '서울·의정부 밤 9시20분 호우경보…침수·산사태 주의',\n",
       " 'LS그룹 국가 재난상황 피해복구 지원, 미래세대 꿈의 발판 제공',\n",
       " '사회공헌 앞장서 온 LS그룹, \"따뜻한 나눔 활동, 기업의 사회적 책임이 창립 정신\"',\n",
       " \"LS그룹, 국가 재난상황 피해복구 지원…'미래세대 꿈' 발판 제공\",\n",
       " 'LS그룹 계열사 국가 재난상황 지원 \"미래세대 꿈의 발판 제공\"',\n",
       " '광주시, 146억 투입 요기지구 배수개선사업 본격 추진',\n",
       " '홍기원 의원 \"평택 내천 2지구 배수개선사업 조사대상지 선정돼\"',\n",
       " 'LS는 사회공헌의 마술사...미래세대의 발판 세우다']"
      ]
     },
     "execution_count": 50,
     "metadata": {},
     "output_type": "execute_result"
    }
   ],
   "source": [
    "#뉴스기사 제목 가져오기\n",
    "news_title = []\n",
    "for i in articles:\n",
    "    news_title.append(i.attrs['title'])\n",
    "news_title"
   ]
  },
  {
   "cell_type": "code",
   "execution_count": null,
   "metadata": {},
   "outputs": [],
   "source": []
  }
 ],
 "metadata": {
  "kernelspec": {
   "display_name": "Python 3",
   "language": "python",
   "name": "python3"
  },
  "language_info": {
   "codemirror_mode": {
    "name": "ipython",
    "version": 3
   },
   "file_extension": ".py",
   "mimetype": "text/x-python",
   "name": "python",
   "nbconvert_exporter": "python",
   "pygments_lexer": "ipython3",
   "version": "3.11.3"
  },
  "orig_nbformat": 4
 },
 "nbformat": 4,
 "nbformat_minor": 2
}
