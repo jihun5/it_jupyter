{
 "cells": [
  {
   "attachments": {},
   "cell_type": "markdown",
   "metadata": {},
   "source": [
    "파이썬 보충 Take 6"
   ]
  },
  {
   "attachments": {},
   "cell_type": "markdown",
   "metadata": {},
   "source": [
    "메일 발송에 필요한 모듈 참조"
   ]
  },
  {
   "cell_type": "code",
   "execution_count": 2,
   "metadata": {},
   "outputs": [],
   "source": [
    "import Sendmail\n",
    "import datetime as dt"
   ]
  },
  {
   "attachments": {},
   "cell_type": "markdown",
   "metadata": {},
   "source": [
    "날짜 성분값 초기화"
   ]
  },
  {
   "cell_type": "code",
   "execution_count": 3,
   "metadata": {},
   "outputs": [],
   "source": [
    "today = dt.datetime.now()\n",
    "year = today.year\n",
    "month = today.month\n",
    "day = today.day"
   ]
  },
  {
   "attachments": {},
   "cell_type": "markdown",
   "metadata": {},
   "source": [
    "보내는 사람, 메일 제목"
   ]
  },
  {
   "cell_type": "code",
   "execution_count": 14,
   "metadata": {},
   "outputs": [],
   "source": [
    "# 메일 발신자 정보\n",
    "fromAddr = \"wlgns6924@naver.com\"\n",
    "subjectTmpl = \"{name}님의 {yy}년 {mm}월 급여명세서 입니다.\""
   ]
  },
  {
   "attachments": {},
   "cell_type": "markdown",
   "metadata": {},
   "source": [
    "메일 본문가져오기"
   ]
  },
  {
   "cell_type": "code",
   "execution_count": 15,
   "metadata": {},
   "outputs": [],
   "source": [
    "with open('mail/content.txt', 'r', encoding='utf-8') as f:\n",
    "    contentTmpl = f.read()"
   ]
  },
  {
   "attachments": {},
   "cell_type": "markdown",
   "metadata": {},
   "source": [
    "수신자 목록에 대한 csv파일에 대한 반복"
   ]
  },
  {
   "cell_type": "code",
   "execution_count": 16,
   "metadata": {},
   "outputs": [
    {
     "name": "stdout",
     "output_type": "stream",
     "text": [
      "jihun7526@gmail.com님에게 메일이 발송되었습니다.\n",
      "jihun7526@gmail.com님에게 메일이 발송되었습니다.\n",
      "jihun7526@gmail.com님에게 메일이 발송되었습니다.\n",
      "jihun7526@gmail.com님에게 메일이 발송되었습니다.\n",
      "jihun7526@gmail.com님에게 메일이 발송되었습니다.\n"
     ]
    }
   ],
   "source": [
    "with open(\"mail/mail_list.csv\", 'r', encoding='euc-kr') as f:\n",
    "    csv = f.readlines()\n",
    "\n",
    "    # CSV 파일의 라인 수 만큼 반복\n",
    "    for line in csv:\n",
    "        name, email, file1, file2 = line.strip().split(\",\")\n",
    "\n",
    "        subject = subjectTmpl.format(name=name, yy=year, mm=month) \n",
    "\n",
    "        content = contentTmpl.format(name=name, yy=year, mm=month, dd=day)\n",
    "\n",
    "        Sendmail.sendMail(fromAddr, email, subject, content, [file1, file2])\n",
    "        print(\"%s님에게 메일이 발송되었습니다.\" % email)"
   ]
  },
  {
   "attachments": {},
   "cell_type": "markdown",
   "metadata": {},
   "source": []
  }
 ],
 "metadata": {
  "kernelspec": {
   "display_name": "Python 3",
   "language": "python",
   "name": "python3"
  },
  "language_info": {
   "codemirror_mode": {
    "name": "ipython",
    "version": 3
   },
   "file_extension": ".py",
   "mimetype": "text/x-python",
   "name": "python",
   "nbconvert_exporter": "python",
   "pygments_lexer": "ipython3",
   "version": "3.11.3"
  },
  "orig_nbformat": 4
 },
 "nbformat": 4,
 "nbformat_minor": 2
}
