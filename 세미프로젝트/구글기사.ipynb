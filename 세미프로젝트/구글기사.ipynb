{
 "cells": [
  {
   "cell_type": "code",
   "execution_count": 2,
   "metadata": {},
   "outputs": [],
   "source": [
    "import requests\n",
    "from bs4 import BeautifulSoup\n",
    "from pandas import DataFrame"
   ]
  },
  {
   "cell_type": "code",
   "execution_count": 3,
   "metadata": {},
   "outputs": [],
   "source": [
    "userAgent = \"Mozilla/5.0 (Windows NT 10.0; Win64; x64) AppleWebKit/537.36 (KHTML, like Gecko) Chrome/114.0.0.0 Safari/537.36\""
   ]
  },
  {
   "cell_type": "code",
   "execution_count": 26,
   "metadata": {},
   "outputs": [],
   "source": [
    "Clist = [0, 10, 20]"
   ]
  },
  {
   "cell_type": "code",
   "execution_count": 27,
   "metadata": {},
   "outputs": [],
   "source": [
    "# 접속객체 생성\n",
    "session = requests.Session()\n",
    "# 접속객체에 부가정보(header) 삽입하기\n",
    "session.headers.update({\n",
    "    \"Referer\": \"\",\n",
    "    \"User-Agent\": userAgent\n",
    "})"
   ]
  },
  {
   "cell_type": "code",
   "execution_count": 28,
   "metadata": {},
   "outputs": [
    {
     "name": "stdout",
     "output_type": "stream",
     "text": [
      "[<a data-clk=\"hl=ko&amp;sa=T&amp;ct=res&amp;cd=0&amp;d=5124573006012166822&amp;ei=x_abZMnVGMuKywTg9YW4CA\" data-clk-atid=\"pjLpcP8jHkcJ\" href=\"https://www.dbpia.co.kr/Journal/articleDetail?nodeId=NODE09803423\" id=\"pjLpcP8jHkcJ\">기후변화가 <b>기상</b>학적 가뭄과 홍수에 미치는 영향</a>, <a data-clk=\"hl=ko&amp;sa=T&amp;ct=res&amp;cd=1&amp;d=17429875264829021014&amp;ei=x_abZMnVGMuKywTg9YW4CA\" data-clk-atid=\"VluAtzRb4_EJ\" href=\"https://papersearch.net/thesis/article.asp?key=74488\" id=\"VluAtzRb4_EJ\">한국에서 9 월의 <b>기상</b>인자가 송이 발생에 미치는 영향과 그 극복방안</a>, <a data-clk=\"hl=ko&amp;sa=T&amp;ct=res&amp;cd=2&amp;d=9801793160284372197&amp;ei=x_abZMnVGMuKywTg9YW4CA\" data-clk-atid=\"5XyaePL2BogJ\" href=\"https://www.dbpia.co.kr/Journal/articleDetail?nodeId=NODE10419169\" id=\"5XyaePL2BogJ\"><b>기상</b>특성을 이용한 전국 산불발생확률모형 개발</a>, <a data-clk=\"hl=ko&amp;sa=T&amp;ct=res&amp;cd=3&amp;d=16638574743183459196&amp;ei=x_abZMnVGMuKywTg9YW4CA\" data-clk-atid=\"fIM88JIX6OYJ\" href=\"https://papersearch.net/thesis/article.asp?key=1578350\" id=\"fIM88JIX6OYJ\">연구<b>논문</b>/연안해역의 <b>기상 </b>파랑관측망 설계 및 해석기술의 구축-해양파랑관측자료의 해석방법</a>, <a data-clk=\"hl=ko&amp;sa=T&amp;ct=res&amp;cd=4&amp;d=938842093862665076&amp;ei=x_abZMnVGMuKywTg9YW4CA\" data-clk-atid=\"dDveAOlvBw0J\" href=\"https://papersearch.net/thesis/article.asp?key=2897016\" id=\"dDveAOlvBw0J\"><b>논문 </b>(論文): <b>기상 </b>전용 항공기 도입 및 운영방안 연구</a>, <a data-clk=\"hl=ko&amp;sa=T&amp;ct=res&amp;cd=5&amp;d=5942555670500352287&amp;ei=x_abZMnVGMuKywTg9YW4CA\" data-clk-atid=\"HyEotuUyeFIJ\" href=\"https://kmbase.medric.or.kr/KMID/1024520060150060527\" id=\"HyEotuUyeFIJ\">대구지역의 <b>기상</b>조건에 따른 도시열섬강도의 계절별 변화특성</a>, <a data-clk=\"hl=ko&amp;sa=T&amp;oi=ggp&amp;ct=res&amp;cd=6&amp;d=2181842365466891917&amp;ei=x_abZMnVGMuKywTg9YW4CA\" data-clk-atid=\"jVaNTRJ2Rx4J\" href=\"https://www.researchgate.net/profile/Hyunsu-Kim-10/publication/305703718_Weather-sensitive_Diseases_and_Their_Correlations_with_Meteorological_Factors_Results_from_Academic_Papers/links/579affba08ae024e100e75c7/Weather-sensitive-Diseases-and-Their-Correlations-with-Meteorological-Factors-Results-from-Academic-Papers.pdf\" id=\"jVaNTRJ2Rx4J\">학술<b>논문 </b>분석을 통한 <b>기상</b>민감질환 선정 및 <b>기상</b>인자와의 관련성 고찰</a>, <a data-clk=\"hl=ko&amp;sa=T&amp;ct=res&amp;cd=7&amp;d=4167989653353651974&amp;ei=x_abZMnVGMuKywTg9YW4CA\" data-clk-atid=\"Bt-lu4Gs1zkJ\" href=\"https://papersearch.net/thesis/article.asp?key=3704962\" id=\"Bt-lu4Gs1zkJ\">한국농림<b>기상</b>학회지 수록 <b>논문</b>에 기반한 산림<b>기상 </b>연구 추세와 전망</a>, <a data-clk=\"hl=ko&amp;sa=T&amp;ct=res&amp;cd=8&amp;d=476721494160478405&amp;ei=x_abZMnVGMuKywTg9YW4CA\" data-clk-atid=\"xZA6VKynnQYJ\" href=\"https://papersearch.net/google_link/fulltext.asp?file_name=23107648.pdf\" id=\"xZA6VKynnQYJ\">학술<b>논문 </b>분석과 설문조사를 통한 <b>기상</b>민감질환 선정 및 <b>기상</b>인자와의 상관성 평가</a>, <a data-clk=\"hl=ko&amp;sa=T&amp;ct=res&amp;cd=9&amp;d=12476919916987030401&amp;ei=x_abZMnVGMuKywTg9YW4CA\" data-clk-atid=\"gRsCF4_sJq0J\" href=\"https://papersearch.net/thesis/article.asp?key=69837\" id=\"gRsCF4_sJq0J\"><b>논문</b>; 섬바디의 생태학적 연구; 제 3 보 계절생산성과 <b>기상</b>요인과의 관계</a>]\n",
      "[<a data-clk=\"hl=ko&amp;sa=T&amp;ct=res&amp;cd=10&amp;d=2461036397206762506&amp;ei=x_abZKuTM7qI6rQPj-mt2AE\" data-clk-atid=\"CvTQapBbJyIJ\" href=\"https://papersearch.net/thesis/article.asp?key=3996325\" id=\"CvTQapBbJyIJ\">데이터마이닝을 활용한 북한 <b>기상</b>기후 연구 동향 분석: 1982~ 2022 년 북한 학술지 <b>논문</b>을 중심으로</a>, <a data-clk=\"hl=ko&amp;sa=T&amp;ct=res&amp;cd=11&amp;d=8972040133600290431&amp;ei=x_abZKuTM7qI6rQPj-mt2AE\" data-clk-atid=\"fybLMfcWg3wJ\" href=\"https://www.dbpia.co.kr/Journal/articleDetail?nodeId=NODE00939861\" id=\"fybLMfcWg3wJ\">우리학회에서 발행하는 학술지에 대한 <b>논문 </b>투고에 대하여 다음과 같이 안내하니 업무에 참조하시기 바랍니다.-한국<b>기상</b>학회지• 제출<b>논문</b>: 3 부• 심사료 4 0, 0 0 0 원 (우리 …</a>, <a data-clk=\"hl=ko&amp;sa=T&amp;ct=res&amp;cd=12&amp;d=13426451345790042533&amp;ei=x_abZKuTM7qI6rQPj-mt2AE\" data-clk-atid=\"pYHh01xWVLoJ\" href=\"https://www.dbpia.co.kr/Journal/articleDetail?nodeId=NODE09750703\" id=\"pYHh01xWVLoJ\">2003 년 여름 강우패턴과 <b>기상</b>변화</a>, <a data-clk=\"hl=ko&amp;sa=T&amp;ct=res&amp;cd=13&amp;d=8981893593817250010&amp;ei=x_abZKuTM7qI6rQPj-mt2AE\" data-clk-atid=\"2njVraIYpnwJ\" href=\"https://papersearch.net/thesis/article.asp?key=80043\" id=\"2njVraIYpnwJ\">연구<b>논문</b>; 1992-93 년 하계 득량만의 수온과 염분의 분포</a>, <a data-clk=\"hl=ko&amp;sa=T&amp;ct=res&amp;cd=14&amp;d=6405362570659084961&amp;ei=x_abZKuTM7qI6rQPj-mt2AE\" data-clk-atid=\"obq3KVJr5FgJ\" href=\"https://www.dbpia.co.kr/Journal/articleDetail?nodeId=NODE01141074\" id=\"obq3KVJr5FgJ\">충돌예방시스템 시험평가용 시뮬레이터를 위한 HILS 개발</a>, <a data-clk=\"hl=ko&amp;sa=T&amp;ct=res&amp;cd=15&amp;d=2131622452779466780&amp;ei=x_abZKuTM7qI6rQPj-mt2AE\" data-clk-atid=\"HMAqtVMLlR0J\" href=\"https://papersearch.net/thesis/article.asp?key=1584993\" id=\"HMAqtVMLlR0J\">1990 년도 콩관련 연구<b>논문 </b>초록 (Abstracts of Soybean Studies in 1990): 재배, 육종 분야; 진주지방에서 <b>기상</b>요인이 콩 생육 및 수량에 미치는 영향</a>, <a data-clk=\"hl=ko&amp;sa=T&amp;ct=res&amp;cd=16&amp;d=2469081783921208416&amp;ei=x_abZKuTM7qI6rQPj-mt2AE\" data-clk-atid=\"YOwC_MzwQyIJ\" href=\"https://www.dbpia.co.kr/Journal/articleDetail?nodeId=NODE09633130\" id=\"YOwC_MzwQyIJ\">동해안 산불과 <b>기상</b></a>, <a data-clk=\"hl=ko&amp;sa=T&amp;ct=res&amp;cd=17&amp;d=8097936222156059025&amp;ei=x_abZKuTM7qI6rQPj-mt2AE\" data-clk-atid=\"kXFh3xamYXAJ\" href=\"https://papersearch.net/thesis/article.asp?key=70579\" id=\"kXFh3xamYXAJ\"><b>논문</b>; 초지 경영: 고온성 초지의 예취관리 (刈取管理) 에 관한 연구; 7. 고온건조한 <b>기상</b>조건하에서 초장이 초지내 미기상환경 (微氣象環境) 과 목초재생 및 초지식생에 …</a>, <a data-clk=\"hl=ko&amp;sa=T&amp;ct=res&amp;cd=18&amp;d=2297742644199116143&amp;ei=x_abZKuTM7qI6rQPj-mt2AE\" data-clk-atid=\"b03BzMI44x8J\" href=\"https://www.cheric.org/PDF/NICE/NI26/NI26-1-0102.pdf\" id=\"b03BzMI44x8J\">화학공학 게재 <b>논문 </b>목차</a>, <a data-clk=\"hl=ko&amp;sa=T&amp;ct=res&amp;cd=19&amp;d=15385443262105192317&amp;ei=x_abZKuTM7qI6rQPj-mt2AE\" data-clk-atid=\"fQe1nSEThNUJ\" href=\"https://www.dbpia.co.kr/Journal/articleDetail?nodeId=NODE09911230\" id=\"fQe1nSEThNUJ\">산불과 <b>기상</b></a>]\n",
      "[<a data-clk=\"hl=ko&amp;sa=T&amp;ct=res&amp;cd=20&amp;d=12157066266151844641&amp;ei=yPabZObyI6aP6rQPj9mjwAQ\" data-clk-atid=\"IXvdsFuTtqgJ\" href=\"https://www.dbpia.co.kr/Journal/articleDetail?nodeId=NODE09642368\" id=\"IXvdsFuTtqgJ\">2008 년 이상<b>기상</b>과 <b>기상</b>재해</a>, <a data-clk=\"hl=ko&amp;sa=T&amp;ct=res&amp;cd=21&amp;d=10228111376807564591&amp;ei=yPabZObyI6aP6rQPj9mjwAQ\" data-clk-atid=\"LxW_ORuN8Y0J\" href=\"https://www.dbpia.co.kr/Journal/articleDetail?nodeId=NODE00070890\" id=\"LxW_ORuN8Y0J\"><b>기상</b>통보</a>, <a data-clk=\"hl=ko&amp;sa=T&amp;ct=res&amp;cd=22&amp;d=15425443069227277175&amp;ei=yPabZObyI6aP6rQPj9mjwAQ\" data-clk-atid=\"d5tNdL4uEtYJ\" href=\"https://www.dbpia.co.kr/Journal/articleDetail?nodeId=NODE00354047\" id=\"d5tNdL4uEtYJ\">건축인의 <b>기상</b></a>, <a data-clk=\"hl=ko&amp;sa=T&amp;ct=res&amp;cd=23&amp;d=2032544609655142089&amp;ei=yPabZObyI6aP6rQPj9mjwAQ\" data-clk-atid=\"yTahuI0MNRwJ\" href=\"https://www.dbpia.co.kr/Journal/articleDetail?nodeId=NODE09443762\" id=\"yTahuI0MNRwJ\">최근의 <b>기상</b>변동과 PMP 의 변화</a>, <a data-clk=\"hl=ko&amp;sa=T&amp;ct=res&amp;cd=24&amp;d=2795245042291701264&amp;ei=yPabZObyI6aP6rQPj9mjwAQ\" data-clk-atid=\"EPb3XY60yiYJ\" href=\"https://www.dbpia.co.kr/Journal/articleDetail?nodeId=NODE10438233\" id=\"EPb3XY60yiYJ\">한국 서해에서 수온 및 염분에 미치는 <b>기상 </b>인자의 영향</a>, <a data-clk=\"hl=ko&amp;sa=T&amp;ct=res&amp;cd=25&amp;d=5491288487780200230&amp;ei=yPabZObyI6aP6rQPj9mjwAQ\" data-clk-atid=\"Jq9UGcn5NEwJ\" href=\"https://papersearch.net/thesis/article.asp?key=3870912\" id=\"Jq9UGcn5NEwJ\">실시간 <b>기상</b>지수 제공을 위한 웨어러블 기반의 스마트 의류 개발</a>, <a data-clk=\"hl=ko&amp;sa=T&amp;ct=res&amp;cd=26&amp;d=2140137321245304182&amp;ei=yPabZObyI6aP6rQPj9mjwAQ\" data-clk-atid=\"duVhA45Lsx0J\" href=\"https://www.dbpia.co.kr/Journal/articleDetail?nodeId=NODE09426877\" id=\"duVhA45Lsx0J\"><b>기상</b>자료를 이용한 일 증발량 추정</a>, <a data-clk=\"hl=ko&amp;sa=T&amp;ct=res&amp;cd=27&amp;d=18442471308813442416&amp;ei=yPabZObyI6aP6rQPj9mjwAQ\" data-clk-atid=\"cJ0oZvHR8P8J\" href=\"https://www.dbpia.co.kr/Journal/articleDetail?nodeId=NODE09649222\" id=\"cJ0oZvHR8P8J\">가뭄에 대한 <b>기상</b>학적 고찰</a>, <a data-clk=\"hl=ko&amp;sa=T&amp;ct=res&amp;cd=28&amp;d=13131986327105320677&amp;ei=yPabZObyI6aP6rQPj9mjwAQ\" data-clk-atid=\"5TZm_vwvPrYJ\" href=\"https://www.dbpia.co.kr/Journal/articleDetail?nodeId=NODE09633220\" id=\"5TZm_vwvPrYJ\">농업<b>기상 </b>정보의 활용 전망</a>, <a data-clk=\"hl=ko&amp;sa=T&amp;ct=res&amp;cd=29&amp;d=14255933304241006072&amp;ei=yPabZObyI6aP6rQPj9mjwAQ\" data-clk-atid=\"-CXyHM8_18UJ\" href=\"https://www.dbpia.co.kr/Journal/articleDetail?nodeId=NODE09693509\" id=\"-CXyHM8_18UJ\">20 세기 한국의 농업<b>기상</b>재해 특징</a>]\n"
     ]
    }
   ],
   "source": [
    "# 수집한 정보를 저장할 빈 리스트\n",
    "artricle = []\n",
    "for c in Clist:\n",
    "    url = \"https://scholar.google.co.kr/scholar?start={}&q=%EA%B8%B0%EC%83%81+%EB%85%BC%EB%AC%B8&hl=ko&as_sdt=0,5&as_vis=1\".format (c)\n",
    "\n",
    "    r = session.get(url)\n",
    "    # 접속에 실패한 경우\n",
    "    if r.status_code != 200:\n",
    "    # 에러코드와 에러메시지 출력\n",
    "        msg = \"[%d Error] %s 에러가 발생함\" % (r.status_code, r.reason)\n",
    "    # 에러를 강제로 생성시킴\n",
    "        raise Exception(msg)\n",
    "    r.encoding = \"utf-8\"\n",
    "    #print(r.text)\n",
    "    soup = BeautifulSoup(r.text)\n",
    "    # soup\n",
    "\n",
    "    college_list = soup.select(\"h3 > a\")\n",
    "    print(college_list) # 페이지 별로 artcle 수집"
   ]
  },
  {
   "cell_type": "code",
   "execution_count": null,
   "metadata": {},
   "outputs": [],
   "source": []
  }
 ],
 "metadata": {
  "kernelspec": {
   "display_name": "Python 3",
   "language": "python",
   "name": "python3"
  },
  "language_info": {
   "codemirror_mode": {
    "name": "ipython",
    "version": 3
   },
   "file_extension": ".py",
   "mimetype": "text/x-python",
   "name": "python",
   "nbconvert_exporter": "python",
   "pygments_lexer": "ipython3",
   "version": "3.11.3"
  },
  "orig_nbformat": 4
 },
 "nbformat": 4,
 "nbformat_minor": 2
}
