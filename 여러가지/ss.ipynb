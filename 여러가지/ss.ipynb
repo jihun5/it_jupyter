{
 "cells": [
  {
   "cell_type": "code",
   "execution_count": 24,
   "metadata": {},
   "outputs": [],
   "source": [
    "from tensorflow.keras.datasets import imdb\n",
    "(train_input, train_target), (test_input, test_target) = imdb.load_data(num_words=500)"
   ]
  },
  {
   "cell_type": "code",
   "execution_count": 25,
   "metadata": {},
   "outputs": [
    {
     "name": "stdout",
     "output_type": "stream",
     "text": [
      "(25000,) (25000,)\n"
     ]
    }
   ],
   "source": [
    "print(train_input.shape, test_input.shape)"
   ]
  },
  {
   "cell_type": "code",
   "execution_count": 26,
   "metadata": {},
   "outputs": [
    {
     "name": "stdout",
     "output_type": "stream",
     "text": [
      "218\n"
     ]
    }
   ],
   "source": [
    "print(len(train_input[0]))"
   ]
  },
  {
   "cell_type": "code",
   "execution_count": 27,
   "metadata": {},
   "outputs": [
    {
     "name": "stdout",
     "output_type": "stream",
     "text": [
      "189\n"
     ]
    }
   ],
   "source": [
    "print(len(train_input[1]))"
   ]
  },
  {
   "cell_type": "code",
   "execution_count": 28,
   "metadata": {},
   "outputs": [
    {
     "name": "stdout",
     "output_type": "stream",
     "text": [
      "[1, 14, 22, 16, 43, 2, 2, 2, 2, 65, 458, 2, 66, 2, 4, 173, 36, 256, 5, 25, 100, 43, 2, 112, 50, 2, 2, 9, 35, 480, 284, 5, 150, 4, 172, 112, 167, 2, 336, 385, 39, 4, 172, 2, 2, 17, 2, 38, 13, 447, 4, 192, 50, 16, 6, 147, 2, 19, 14, 22, 4, 2, 2, 469, 4, 22, 71, 87, 12, 16, 43, 2, 38, 76, 15, 13, 2, 4, 22, 17, 2, 17, 12, 16, 2, 18, 2, 5, 62, 386, 12, 8, 316, 8, 106, 5, 4, 2, 2, 16, 480, 66, 2, 33, 4, 130, 12, 16, 38, 2, 5, 25, 124, 51, 36, 135, 48, 25, 2, 33, 6, 22, 12, 215, 28, 77, 52, 5, 14, 407, 16, 82, 2, 8, 4, 107, 117, 2, 15, 256, 4, 2, 7, 2, 5, 2, 36, 71, 43, 2, 476, 26, 400, 317, 46, 7, 4, 2, 2, 13, 104, 88, 4, 381, 15, 297, 98, 32, 2, 56, 26, 141, 6, 194, 2, 18, 4, 226, 22, 21, 134, 476, 26, 480, 5, 144, 30, 2, 18, 51, 36, 28, 224, 92, 25, 104, 4, 226, 65, 16, 38, 2, 88, 12, 16, 283, 5, 16, 2, 113, 103, 32, 15, 16, 2, 19, 178, 32]\n"
     ]
    }
   ],
   "source": [
    "print(train_input[0])"
   ]
  },
  {
   "cell_type": "code",
   "execution_count": 29,
   "metadata": {},
   "outputs": [
    {
     "name": "stdout",
     "output_type": "stream",
     "text": [
      "[1 0 0 1 0 0 1 0 1 0 1 0 0 0 0 0 1 1 0 1]\n"
     ]
    }
   ],
   "source": [
    "print(train_target[:20])"
   ]
  },
  {
   "cell_type": "code",
   "execution_count": 30,
   "metadata": {},
   "outputs": [],
   "source": [
    "from sklearn.model_selection import train_test_split\n",
    "train_input, val_input, train_target, val_target = train_test_split(train_input, train_target, test_size=0.2, random_state=42)"
   ]
  },
  {
   "cell_type": "code",
   "execution_count": 31,
   "metadata": {},
   "outputs": [],
   "source": [
    "import numpy as np\n",
    "lengths = np.array([len(x) for x in train_input])"
   ]
  },
  {
   "cell_type": "code",
   "execution_count": 32,
   "metadata": {},
   "outputs": [
    {
     "data": {
      "image/png": "[encoded data removed]",
      "text/plain": [
       "<Figure size 640x480 with 1 Axes>"
      ]
     },
     "metadata": {},
     "output_type": "display_data"
    }
   ],
   "source": [
    "import matplotlib.pyplot as plt\n",
    "plt.hist(lengths)\n",
    "plt.xlabel('length')\n",
    "plt.ylabel('frequency')\n",
    "plt.show()"
   ]
  },
  {
   "cell_type": "code",
   "execution_count": 33,
   "metadata": {},
   "outputs": [],
   "source": [
    "# pad_sequences() 함수를 통해 데이터의 길이 맞추기\n",
    "from tensorflow.keras.preprocessing.sequence import pad_sequences\n",
    "train_seq = pad_sequences(train_input, maxlen=100)"
   ]
  },
  {
   "cell_type": "code",
   "execution_count": 34,
   "metadata": {},
   "outputs": [
    {
     "name": "stdout",
     "output_type": "stream",
     "text": [
      "(20000, 100)\n"
     ]
    }
   ],
   "source": [
    "print(train_seq.shape)"
   ]
  },
  {
   "cell_type": "code",
   "execution_count": 35,
   "metadata": {},
   "outputs": [
    {
     "name": "stdout",
     "output_type": "stream",
     "text": [
      "[6, 2, 46, 7, 14, 20, 10, 10, 470, 158]\n"
     ]
    }
   ],
   "source": [
    "print(train_input[0][-10:])"
   ]
  },
  {
   "cell_type": "code",
   "execution_count": 36,
   "metadata": {},
   "outputs": [],
   "source": [
    "val_seq = pad_sequences(val_input, maxlen=100)"
   ]
  },
  {
   "cell_type": "code",
   "execution_count": 37,
   "metadata": {},
   "outputs": [],
   "source": [
    "from tensorflow import keras\n",
    "model = keras.Sequential()\n",
    "model.add(keras.layers.SimpleRNN(8, input_shape=(100, 500)))\n",
    "model.add(keras.layers.Dense(1, activation='sigmoid'))\n",
    "# input_shape를 100, 500으로 둔 것은 샘플의 길이를 100으로 설정했기 때문\n",
    "# imdb.load_data() 함수에서 500개의 단어만 사용하도록 지정했기 때문에 100, 500"
   ]
  },
  {
   "cell_type": "code",
   "execution_count": 38,
   "metadata": {},
   "outputs": [],
   "source": [
    "train_oh = keras.utils.to_categorical(train_seq)\n",
    "# 원 핫 인코딩"
   ]
  },
  {
   "cell_type": "code",
   "execution_count": 39,
   "metadata": {},
   "outputs": [
    {
     "name": "stdout",
     "output_type": "stream",
     "text": [
      "(20000, 100, 500)\n"
     ]
    }
   ],
   "source": [
    "print(train_oh.shape)"
   ]
  },
  {
   "cell_type": "code",
   "execution_count": 40,
   "metadata": {},
   "outputs": [
    {
     "name": "stdout",
     "output_type": "stream",
     "text": [
      "[0. 0. 0. 0. 0. 0. 0. 0. 0. 0. 1. 0.]\n"
     ]
    }
   ],
   "source": [
    "print(train_oh[0][0][:12])"
   ]
  },
  {
   "cell_type": "code",
   "execution_count": 41,
   "metadata": {},
   "outputs": [
    {
     "name": "stdout",
     "output_type": "stream",
     "text": [
      "1.0\n"
     ]
    }
   ],
   "source": [
    "print(np.sum(train_oh[0][0]))"
   ]
  },
  {
   "cell_type": "code",
   "execution_count": 42,
   "metadata": {},
   "outputs": [],
   "source": [
    "val_oh = keras.utils.to_categorical(val_seq)"
   ]
  },
  {
   "cell_type": "code",
   "execution_count": 43,
   "metadata": {},
   "outputs": [
    {
     "name": "stdout",
     "output_type": "stream",
     "text": [
      "Model: \"sequential_1\"\n",
      "_________________________________________________________________\n",
      " Layer (type)                Output Shape              Param #   \n",
      "=================================================================\n",
      " simple_rnn_1 (SimpleRNN)    (None, 8)                 4072      \n",
      "                                                                 \n",
      " dense_1 (Dense)             (None, 1)                 9         \n",
      "                                                                 \n",
      "=================================================================\n",
      "Total params: 4081 (15.94 KB)\n",
      "Trainable params: 4081 (15.94 KB)\n",
      "Non-trainable params: 0 (0.00 Byte)\n",
      "_________________________________________________________________\n"
     ]
    }
   ],
   "source": [
    "model.summary()"
   ]
  },
  {
   "cell_type": "code",
   "execution_count": 44,
   "metadata": {},
   "outputs": [
    {
     "name": "stdout",
     "output_type": "stream",
     "text": [
      "Epoch 1/50\n",
      "313/313 [==============================] - 9s 25ms/step - loss: 0.6994 - accuracy: 0.5059 - val_loss: 0.6981 - val_accuracy: 0.5034\n",
      "Epoch 2/50\n",
      "  1/313 [..............................] - ETA: 5s - loss: 0.6792 - accuracy: 0.5000"
     ]
    },
    {
     "name": "stderr",
     "output_type": "stream",
     "text": [
      "c:\\Users\\user\\AppData\\Local\\Programs\\Python\\Python39\\lib\\site-packages\\keras\\src\\engine\\training.py:3000: UserWarning: You are saving your model as an HDF5 file via `model.save()`. This file format is considered legacy. We recommend using instead the native Keras format, e.g. `model.save('my_model.keras')`.\n",
      "  saving_api.save_model(\n"
     ]
    },
    {
     "name": "stdout",
     "output_type": "stream",
     "text": [
      "313/313 [==============================] - 7s 22ms/step - loss: 0.6953 - accuracy: 0.5167 - val_loss: 0.6955 - val_accuracy: 0.5074\n",
      "Epoch 3/50\n",
      "313/313 [==============================] - 7s 21ms/step - loss: 0.6922 - accuracy: 0.5250 - val_loss: 0.6935 - val_accuracy: 0.5170\n",
      "Epoch 4/50\n",
      "313/313 [==============================] - 7s 22ms/step - loss: 0.6895 - accuracy: 0.5332 - val_loss: 0.6917 - val_accuracy: 0.5230\n",
      "Epoch 5/50\n",
      "313/313 [==============================] - 7s 22ms/step - loss: 0.6871 - accuracy: 0.5437 - val_loss: 0.6900 - val_accuracy: 0.5316\n",
      "Epoch 6/50\n",
      "313/313 [==============================] - 7s 21ms/step - loss: 0.6847 - accuracy: 0.5523 - val_loss: 0.6883 - val_accuracy: 0.5362\n",
      "Epoch 7/50\n",
      "313/313 [==============================] - 7s 22ms/step - loss: 0.6824 - accuracy: 0.5622 - val_loss: 0.6868 - val_accuracy: 0.5412\n",
      "Epoch 8/50\n",
      "313/313 [==============================] - 7s 22ms/step - loss: 0.6800 - accuracy: 0.5717 - val_loss: 0.6851 - val_accuracy: 0.5464\n",
      "Epoch 9/50\n",
      "313/313 [==============================] - 7s 22ms/step - loss: 0.6774 - accuracy: 0.5810 - val_loss: 0.6834 - val_accuracy: 0.5540\n",
      "Epoch 10/50\n",
      "313/313 [==============================] - 7s 22ms/step - loss: 0.6747 - accuracy: 0.5887 - val_loss: 0.6817 - val_accuracy: 0.5654\n",
      "Epoch 11/50\n",
      "313/313 [==============================] - 7s 22ms/step - loss: 0.6718 - accuracy: 0.5970 - val_loss: 0.6794 - val_accuracy: 0.5700\n",
      "Epoch 12/50\n",
      "313/313 [==============================] - 7s 22ms/step - loss: 0.6688 - accuracy: 0.6033 - val_loss: 0.6774 - val_accuracy: 0.5734\n",
      "Epoch 13/50\n",
      "313/313 [==============================] - 7s 22ms/step - loss: 0.6654 - accuracy: 0.6094 - val_loss: 0.6745 - val_accuracy: 0.5764\n",
      "Epoch 14/50\n",
      "313/313 [==============================] - 7s 22ms/step - loss: 0.6615 - accuracy: 0.6154 - val_loss: 0.6709 - val_accuracy: 0.5840\n",
      "Epoch 15/50\n",
      "313/313 [==============================] - 7s 22ms/step - loss: 0.6565 - accuracy: 0.6234 - val_loss: 0.6647 - val_accuracy: 0.5980\n",
      "Epoch 16/50\n",
      "313/313 [==============================] - 7s 22ms/step - loss: 0.6483 - accuracy: 0.6355 - val_loss: 0.6511 - val_accuracy: 0.6232\n",
      "Epoch 17/50\n",
      "313/313 [==============================] - 7s 23ms/step - loss: 0.6220 - accuracy: 0.6685 - val_loss: 0.5990 - val_accuracy: 0.6916\n",
      "Epoch 18/50\n",
      "313/313 [==============================] - 7s 22ms/step - loss: 0.5800 - accuracy: 0.7003 - val_loss: 0.5810 - val_accuracy: 0.7084\n",
      "Epoch 19/50\n",
      "313/313 [==============================] - 7s 22ms/step - loss: 0.5652 - accuracy: 0.7172 - val_loss: 0.5684 - val_accuracy: 0.7130\n",
      "Epoch 20/50\n",
      "313/313 [==============================] - 7s 22ms/step - loss: 0.5500 - accuracy: 0.7321 - val_loss: 0.5585 - val_accuracy: 0.7216\n",
      "Epoch 21/50\n",
      "313/313 [==============================] - 7s 22ms/step - loss: 0.5371 - accuracy: 0.7441 - val_loss: 0.5508 - val_accuracy: 0.7264\n",
      "Epoch 22/50\n",
      "313/313 [==============================] - 7s 22ms/step - loss: 0.5278 - accuracy: 0.7503 - val_loss: 0.5433 - val_accuracy: 0.7368\n",
      "Epoch 23/50\n",
      "313/313 [==============================] - 7s 22ms/step - loss: 0.5194 - accuracy: 0.7560 - val_loss: 0.5349 - val_accuracy: 0.7428\n",
      "Epoch 24/50\n",
      "313/313 [==============================] - 7s 22ms/step - loss: 0.5129 - accuracy: 0.7602 - val_loss: 0.5293 - val_accuracy: 0.7488\n",
      "Epoch 25/50\n",
      "313/313 [==============================] - 7s 23ms/step - loss: 0.5051 - accuracy: 0.7663 - val_loss: 0.5234 - val_accuracy: 0.7510\n",
      "Epoch 26/50\n",
      "313/313 [==============================] - 8s 24ms/step - loss: 0.4988 - accuracy: 0.7700 - val_loss: 0.5196 - val_accuracy: 0.7524\n",
      "Epoch 27/50\n",
      "313/313 [==============================] - 7s 22ms/step - loss: 0.4925 - accuracy: 0.7749 - val_loss: 0.5169 - val_accuracy: 0.7574\n",
      "Epoch 28/50\n",
      "313/313 [==============================] - 7s 21ms/step - loss: 0.4876 - accuracy: 0.7778 - val_loss: 0.5113 - val_accuracy: 0.7592\n",
      "Epoch 29/50\n",
      "313/313 [==============================] - 7s 22ms/step - loss: 0.4829 - accuracy: 0.7793 - val_loss: 0.5087 - val_accuracy: 0.7604\n",
      "Epoch 30/50\n",
      "313/313 [==============================] - 7s 22ms/step - loss: 0.4791 - accuracy: 0.7821 - val_loss: 0.5063 - val_accuracy: 0.7608\n",
      "Epoch 31/50\n",
      "313/313 [==============================] - 7s 22ms/step - loss: 0.4741 - accuracy: 0.7865 - val_loss: 0.5034 - val_accuracy: 0.7636\n",
      "Epoch 32/50\n",
      "313/313 [==============================] - 7s 21ms/step - loss: 0.4700 - accuracy: 0.7894 - val_loss: 0.5008 - val_accuracy: 0.7630\n",
      "Epoch 33/50\n",
      "313/313 [==============================] - 7s 21ms/step - loss: 0.4670 - accuracy: 0.7897 - val_loss: 0.5007 - val_accuracy: 0.7644\n",
      "Epoch 34/50\n",
      "313/313 [==============================] - 7s 22ms/step - loss: 0.4630 - accuracy: 0.7934 - val_loss: 0.4976 - val_accuracy: 0.7654\n",
      "Epoch 35/50\n",
      "313/313 [==============================] - 7s 22ms/step - loss: 0.4597 - accuracy: 0.7956 - val_loss: 0.4960 - val_accuracy: 0.7674\n",
      "Epoch 36/50\n",
      "313/313 [==============================] - 7s 22ms/step - loss: 0.4576 - accuracy: 0.7965 - val_loss: 0.4944 - val_accuracy: 0.7672\n",
      "Epoch 37/50\n",
      "313/313 [==============================] - 7s 21ms/step - loss: 0.4546 - accuracy: 0.7988 - val_loss: 0.4931 - val_accuracy: 0.7714\n",
      "Epoch 38/50\n",
      "313/313 [==============================] - 7s 21ms/step - loss: 0.4524 - accuracy: 0.7987 - val_loss: 0.4935 - val_accuracy: 0.7700\n",
      "Epoch 39/50\n",
      "313/313 [==============================] - 7s 21ms/step - loss: 0.4501 - accuracy: 0.8008 - val_loss: 0.5017 - val_accuracy: 0.7642\n",
      "Epoch 40/50\n",
      "313/313 [==============================] - 7s 22ms/step - loss: 0.4479 - accuracy: 0.8027 - val_loss: 0.4898 - val_accuracy: 0.7756\n",
      "Epoch 41/50\n",
      "313/313 [==============================] - 7s 21ms/step - loss: 0.4460 - accuracy: 0.8037 - val_loss: 0.4906 - val_accuracy: 0.7732\n",
      "Epoch 42/50\n",
      "313/313 [==============================] - 7s 21ms/step - loss: 0.4443 - accuracy: 0.8044 - val_loss: 0.4879 - val_accuracy: 0.7736\n",
      "Epoch 43/50\n",
      "313/313 [==============================] - 7s 21ms/step - loss: 0.4423 - accuracy: 0.8051 - val_loss: 0.4892 - val_accuracy: 0.7714\n",
      "Epoch 44/50\n",
      "313/313 [==============================] - 7s 21ms/step - loss: 0.4407 - accuracy: 0.8062 - val_loss: 0.4898 - val_accuracy: 0.7730\n",
      "Epoch 45/50\n",
      "313/313 [==============================] - 7s 24ms/step - loss: 0.4393 - accuracy: 0.8072 - val_loss: 0.4874 - val_accuracy: 0.7750\n",
      "Epoch 46/50\n",
      "313/313 [==============================] - 7s 23ms/step - loss: 0.4382 - accuracy: 0.8076 - val_loss: 0.4890 - val_accuracy: 0.7728\n",
      "Epoch 47/50\n",
      "313/313 [==============================] - 7s 22ms/step - loss: 0.4356 - accuracy: 0.8088 - val_loss: 0.4867 - val_accuracy: 0.7760\n",
      "Epoch 48/50\n",
      "313/313 [==============================] - 7s 22ms/step - loss: 0.4348 - accuracy: 0.8105 - val_loss: 0.4861 - val_accuracy: 0.7742\n",
      "Epoch 49/50\n",
      "313/313 [==============================] - 7s 22ms/step - loss: 0.4339 - accuracy: 0.8091 - val_loss: 0.4878 - val_accuracy: 0.7760\n",
      "Epoch 50/50\n",
      "313/313 [==============================] - 7s 21ms/step - loss: 0.4320 - accuracy: 0.8110 - val_loss: 0.4903 - val_accuracy: 0.7714\n"
     ]
    }
   ],
   "source": [
    "from tensorflow.python.framework.ops import executing_eagerly_outside_functions\n",
    "rmsprop = keras.optimizers.RMSprop(learning_rate=1e-4)\n",
    "model.compile(optimizer=rmsprop, loss='binary_crossentropy', metrics=['accuracy'])\n",
    "checkpoint_cb = keras.callbacks.ModelCheckpoint('best-simplerann-model.h5', save_best_only=True)\n",
    "early_stopping_cb = keras.callbacks.EarlyStopping(patience=3, restore_best_weights=True)\n",
    "histroy = model.fit(train_oh, train_target, epochs=50, batch_size=64, validation_data=(val_oh, val_target),\n",
    "                    callbacks=[checkpoint_cb, early_stopping_cb])"
   ]
  },
  {
   "cell_type": "code",
   "execution_count": 46,
   "metadata": {},
   "outputs": [
    {
     "ename": "AttributeError",
     "evalue": "'Sequential' object has no attribute 'histroy'",
     "output_type": "error",
     "traceback": [
      "\u001b[1;31m---------------------------------------------------------------------------\u001b[0m",
      "\u001b[1;31mAttributeError\u001b[0m                            Traceback (most recent call last)",
      "\u001b[1;32md:\\jihun5\\jupyter\\여러가지\\ss.ipynb 셀 22\u001b[0m line \u001b[0;36m1\n\u001b[1;32m----> <a href='vscode-notebook-cell:/d%3A/jihun5/jupyter/%EC%97%AC%EB%9F%AC%EA%B0%80%EC%A7%80/ss.ipynb#X30sZmlsZQ%3D%3D?line=0'>1</a>\u001b[0m model\u001b[39m.\u001b[39;49mhistroy\n",
      "\u001b[1;31mAttributeError\u001b[0m: 'Sequential' object has no attribute 'histroy'"
     ]
    }
   ],
   "source": [
    "model.histroy"
   ]
  },
  {
   "cell_type": "code",
   "execution_count": null,
   "metadata": {},
   "outputs": [],
   "source": []
  }
 ],
 "metadata": {
  "kernelspec": {
   "display_name": "Python 3",
   "language": "python",
   "name": "python3"
  },
  "language_info": {
   "codemirror_mode": {
    "name": "ipython",
    "version": 3
   },
   "file_extension": ".py",
   "mimetype": "text/x-python",
   "name": "python",
   "nbconvert_exporter": "python",
   "pygments_lexer": "ipython3",
   "version": "3.9.13"
  },
  "orig_nbformat": 4
 },
 "nbformat": 4,
 "nbformat_minor": 2
}
