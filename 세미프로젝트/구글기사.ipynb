{
 "cells": [
  {
   "cell_type": "code",
   "execution_count": 70,
   "metadata": {},
   "outputs": [],
   "source": [
    "import requests\n",
    "from bs4 import BeautifulSoup\n",
    "from pandas import DataFrame"
   ]
  },
  {
   "cell_type": "code",
   "execution_count": 71,
   "metadata": {},
   "outputs": [],
   "source": [
    "userAgent = \"Mozilla/5.0 (Windows NT 10.0; Win64; x64) AppleWebKit/537.36 (KHTML, like Gecko) Chrome/114.0.0.0 Safari/537.36\""
   ]
  },
  {
   "cell_type": "code",
   "execution_count": 72,
   "metadata": {},
   "outputs": [],
   "source": [
    "Clist = [0, 10, 20]"
   ]
  },
  {
   "cell_type": "code",
   "execution_count": 73,
   "metadata": {},
   "outputs": [],
   "source": [
    "# 접속객체 생성\n",
    "session = requests.Session()\n",
    "# 접속객체에 부가정보(header) 삽입하기\n",
    "session.headers.update({\n",
    "    \"Referer\": \"\",\n",
    "    \"User-Agent\": userAgent\n",
    "})"
   ]
  },
  {
   "cell_type": "code",
   "execution_count": 74,
   "metadata": {},
   "outputs": [
    {
     "name": "stdout",
     "output_type": "stream",
     "text": [
      "[]\n",
      "[]\n",
      "[]\n"
     ]
    }
   ],
   "source": [
    "# 수집한 정보를 저장할 빈 리스트\n",
    "artricle = []\n",
    "for c in Clist:\n",
    "    url = \"https://scholar.google.co.kr/scholar?start={}&q=%EA%B8%B0%EC%83%81+%EB%85%BC%EB%AC%B8&hl=ko&as_sdt=0,5&as_vis=1\".format (c)\n",
    "\n",
    "    r = session.get(url)\n",
    "    # 접속에 실패한 경우\n",
    "    if r.status_code != 200:\n",
    "    # 에러코드와 에러메시지 출력\n",
    "        msg = \"[%d Error] %s 에러가 발생함\" % (r.status_code, r.reason)\n",
    "    # 에러를 강제로 생성시킴\n",
    "        raise Exception(msg)\n",
    "    r.encoding = \"utf-8\"\n",
    "    #print(r.text)\n",
    "    soup = BeautifulSoup(r.text)\n",
    "    # soup\n",
    "\n",
    "    college_list = soup.select(\"h3 > a\")\n",
    "    print(college_list) # 페이지 별로 artcle 수집"
   ]
  },
  {
   "cell_type": "code",
   "execution_count": null,
   "metadata": {},
   "outputs": [],
   "source": []
  }
 ],
 "metadata": {
  "kernelspec": {
   "display_name": "Python 3",
   "language": "python",
   "name": "python3"
  },
  "language_info": {
   "codemirror_mode": {
    "name": "ipython",
    "version": 3
   },
   "file_extension": ".py",
   "mimetype": "text/x-python",
   "name": "python",
   "nbconvert_exporter": "python",
   "pygments_lexer": "ipython3",
   "version": "3.11.3"
  },
  "orig_nbformat": 4
 },
 "nbformat": 4,
 "nbformat_minor": 2
}
