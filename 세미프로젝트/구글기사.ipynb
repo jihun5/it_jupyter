{
 "cells": [
  {
   "cell_type": "code",
   "execution_count": 2,
   "metadata": {},
   "outputs": [],
   "source": [
    "import requests\n",
    "from bs4 import BeautifulSoup\n",
    "from pandas import DataFrame"
   ]
  },
  {
   "cell_type": "code",
   "execution_count": 3,
   "metadata": {},
   "outputs": [],
   "source": [
    "userAgent = \"Mozilla/5.0 (Windows NT 10.0; Win64; x64) AppleWebKit/537.36 (KHTML, like Gecko) Chrome/114.0.0.0 Safari/537.36\""
   ]
  },
  {
   "cell_type": "code",
   "execution_count": 4,
   "metadata": {},
   "outputs": [],
   "source": [
    "url = \"https://www.coupang.com/np/search?component=&q=%EB%82%A0%EC%94%A8%EC%99%80+%EC%83%9D%ED%99%9C&channel=user\"\n",
    "# 접속객체 생성\n",
    "session = requests.Session()\n",
    "# 접속객체에 부가정보(header) 삽입하기\n",
    "session.headers.update({\n",
    "    \"Referer\": \"\",\n",
    "    \"User-Agent\": userAgent\n",
    "})\n",
    "r = session.get(url)\n",
    "if r.status_code !=200:\n",
    "    msg = \"[%d Error] %s 에러가 발생함\" % (r.status_code, r.reason)\n",
    "    raise Exception(msg)\n",
    "r.encoding = \"utf-8\"\n",
    "soup = BeautifulSoup(r.text)\n",
    "soup"
   ]
  },
  {
   "cell_type": "code",
   "execution_count": null,
   "metadata": {},
   "outputs": [],
   "source": [
    "product = soup.select(\".search-product-wrap\")\n",
    "print(\"검색결과 수:\", len(product))"
   ]
  },
  {
   "cell_type": "code",
   "execution_count": 60,
   "metadata": {},
   "outputs": [
    {
     "name": "stdout",
     "output_type": "stream",
     "text": [
      "725\n"
     ]
    }
   ],
   "source": [
    "# # 수집한 정보를 저장할 빈 리스트\n",
    "# book_name = []\n",
    "# url = \"https://www.coupang.com/np/search?component=&q=%EB%82%A0%EC%94%A8%EC%99%80+%EC%83%9D%ED%99%9C&channel=user\"\n",
    "# userAgent = \"Mozilla/5.0 (Windows NT 10.0; Win64; x64) AppleWebKit/537.36 (KHTML, like Gecko) Chrome/114.0.0.0 Safari/537.36\"\n",
    "# session = requests.Session()\n",
    "# session.headers.update({\n",
    "#     \"Referer\": \"\",\n",
    "#     \"User-Agent\": userAgent,\n",
    "#     \"Accept-Language\": \"ko-KR,ko;q=0.8,en-US;q=0.5,en;q=0.3\"\n",
    "# })\n",
    "# r = session.get(url)\n",
    "# if r.status_code !=200:\n",
    "#     msg = \"[%d Error] %s 에러가 발생함\" % (r.status_code, r.reason)\n",
    "#     raise Exception(msg)\n",
    "# r.encoding = \"utf-8\"\n",
    "# soup = BeautifulSoup(r.text)\n",
    "\n",
    "# college_list = soup.select(\"a\", class_=\"gd_name\")\n",
    "# print(len(college_list))"
   ]
  },
  {
   "cell_type": "code",
   "execution_count": 62,
   "metadata": {},
   "outputs": [
    {
     "name": "stdout",
     "output_type": "stream",
     "text": [
      "본문 바로가기\n"
     ]
    }
   ],
   "source": [
    "# data = []\n",
    "# for p in college_list:\n",
    "#     data = college_list[0].text.strip()\n",
    "# print(data)"
   ]
  },
  {
   "cell_type": "code",
   "execution_count": null,
   "metadata": {},
   "outputs": [],
   "source": []
  }
 ],
 "metadata": {
  "kernelspec": {
   "display_name": "Python 3",
   "language": "python",
   "name": "python3"
  },
  "language_info": {
   "codemirror_mode": {
    "name": "ipython",
    "version": 3
   },
   "file_extension": ".py",
   "mimetype": "text/x-python",
   "name": "python",
   "nbconvert_exporter": "python",
   "pygments_lexer": "ipython3",
   "version": "3.11.3"
  },
  "orig_nbformat": 4
 },
 "nbformat": 4,
 "nbformat_minor": 2
}
