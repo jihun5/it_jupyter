{
 "cells": [
  {
   "cell_type": "code",
   "execution_count": 1,
   "metadata": {},
   "outputs": [],
   "source": [
    "import requests\n",
    "import json\n",
    "from bs4 import BeautifulSoup\n",
    "from pandas import DataFrame"
   ]
  },
  {
   "cell_type": "code",
   "execution_count": 2,
   "metadata": {},
   "outputs": [],
   "source": [
    "url = \"https://www.weather.go.kr/plus/land/current/past_cal.jsp\""
   ]
  },
  {
   "cell_type": "code",
   "execution_count": 3,
   "metadata": {},
   "outputs": [],
   "source": [
    "userAgent = \"Mozilla/5.0 (Windows NT 10.0; Win64; x64) AppleWebKit/537.36 (KHTML, like Gecko) Chrome/114.0.0.0 Safari/537.36\""
   ]
  },
  {
   "cell_type": "code",
   "execution_count": 4,
   "metadata": {},
   "outputs": [],
   "source": [
    "# 접속객체 생성\n",
    "session = requests.Session()\n",
    "# 접속객체에 부가정보(header) 삽입하기\n",
    "session.headers.update({\n",
    "    \"Referer\": \"\",\n",
    "    \"User-Agent\": userAgent\n",
    "})"
   ]
  },
  {
   "cell_type": "code",
   "execution_count": 5,
   "metadata": {},
   "outputs": [],
   "source": [
    "# 생성한 접속객체를 활용하여 API에 접속\n",
    "r = session.get(url)\n",
    "if r.status_code != 200:\n",
    "    msg = \"[%d Error] %s 에러가 발생함\" % (r.status_code, r.reason)\n",
    "    raise Exception(msg)"
   ]
  },
  {
   "cell_type": "code",
   "execution_count": 6,
   "metadata": {},
   "outputs": [],
   "source": [
    "r.encoding = 'euc-kr'\n",
    "soup = BeautifulSoup(r.text)\n",
    "# soup"
   ]
  },
  {
   "cell_type": "code",
   "execution_count": 7,
   "metadata": {},
   "outputs": [],
   "source": [
    "# soup객체로부터 원하는 부분 추출하기\n",
    "date = soup.select('tr')\n",
    "# print(date)"
   ]
  },
  {
   "cell_type": "code",
   "execution_count": 8,
   "metadata": {},
   "outputs": [],
   "source": [
    "h1 = []\n",
    "h1_name = []\n",
    "day = []\n",
    "info = []\n",
    "for item in date:\n",
    "    h1 += item.text.strip().split()\n",
    "day.append(h1[25:28])\n",
    "info.append(h1[28:33])\n",
    "day.append(h1[33:40])\n",
    "info.append(h1[40:49])\n",
    "day.append(h1[49:56])\n",
    "info.append(h1[57:72])\n",
    "day.append(h1[72:78])\n",
    "info.append(h1[79:94])\n",
    "day1 = sum(day, [])\n",
    "info1 = sum(info, [])\n",
    "# print(day1)\n",
    "# print(info1)"
   ]
  },
  {
   "cell_type": "code",
   "execution_count": 195,
   "metadata": {},
   "outputs": [
    {
     "name": "stdout",
     "output_type": "stream",
     "text": [
      "28\n",
      "28\n"
     ]
    }
   ],
   "source": [
    "for i in info1:\n",
    "    if i == \"-\":\n",
    "        info1.remove(\"-\")\n",
    "# print(info1)\n",
    "for i in range(0,5):\n",
    "    day1.append(i)\n",
    "print(len(day1))\n",
    "print(len(info1))"
   ]
  },
  {
   "cell_type": "code",
   "execution_count": 196,
   "metadata": {},
   "outputs": [
    {
     "data": {
      "text/html": [
       "<div>\n",
       "<style scoped>\n",
       "    .dataframe tbody tr th:only-of-type {\n",
       "        vertical-align: middle;\n",
       "    }\n",
       "\n",
       "    .dataframe tbody tr th {\n",
       "        vertical-align: top;\n",
       "    }\n",
       "\n",
       "    .dataframe thead th {\n",
       "        text-align: right;\n",
       "    }\n",
       "</style>\n",
       "<table border=\"1\" class=\"dataframe\">\n",
       "  <thead>\n",
       "    <tr style=\"text-align: right;\">\n",
       "      <th></th>\n",
       "      <th>0</th>\n",
       "    </tr>\n",
       "  </thead>\n",
       "  <tbody>\n",
       "    <tr>\n",
       "      <th>평균기온:22.8℃최고기온:26.3℃최저기온:19.7℃평균운량:8.3일강수량:</th>\n",
       "      <td>1일</td>\n",
       "    </tr>\n",
       "    <tr>\n",
       "      <th>평균기온:20.4℃최고기온:25.0℃최저기온:17.9℃평균운량:3.5일강수량:0.0mm</th>\n",
       "      <td>2일</td>\n",
       "    </tr>\n",
       "    <tr>\n",
       "      <th>평균기온:22.0℃최고기온:27.8℃최저기온:16.6℃평균운량:2.1일강수량:</th>\n",
       "      <td>3일</td>\n",
       "    </tr>\n",
       "    <tr>\n",
       "      <th>평균기온:22.1℃최고기온:28.0℃최저기온:16.9℃평균운량:3.3일강수량:</th>\n",
       "      <td>4일</td>\n",
       "    </tr>\n",
       "    <tr>\n",
       "      <th>평균기온:21.5℃최고기온:26.3℃최저기온:17.6℃평균운량:4.4일강수량:</th>\n",
       "      <td>5일</td>\n",
       "    </tr>\n",
       "    <tr>\n",
       "      <th>평균기온:20.3℃최고기온:25.2℃최저기온:17.3℃평균운량:6.1일강수량:0.0mm</th>\n",
       "      <td>6일</td>\n",
       "    </tr>\n",
       "    <tr>\n",
       "      <th>평균기온:21.4℃최고기온:25.7℃최저기온:18.9℃평균운량:8.9일강수량:0.0mm</th>\n",
       "      <td>7일</td>\n",
       "    </tr>\n",
       "    <tr>\n",
       "      <th>평균기온:20.4℃최고기온:23.9℃최저기온:18.3℃평균운량:8.4일강수량:1.9mm</th>\n",
       "      <td>8일</td>\n",
       "    </tr>\n",
       "    <tr>\n",
       "      <th>평균기온:23.3℃최고기온:28.4℃최저기온:18.3℃평균운량:4.6일강수량:1.2mm</th>\n",
       "      <td>9일</td>\n",
       "    </tr>\n",
       "    <tr>\n",
       "      <th>평균기온:23.2℃최고기온:28.5℃최저기온:19.6℃평균운량:6.9일강수량:0.8mm</th>\n",
       "      <td>10일</td>\n",
       "    </tr>\n",
       "    <tr>\n",
       "      <th>평균기온:22.2℃최고기온:27.5℃최저기온:18.4℃평균운량:6.6일강수량:0.0mm</th>\n",
       "      <td>11일</td>\n",
       "    </tr>\n",
       "    <tr>\n",
       "      <th>평균기온:22.0℃최고기온:26.0℃최저기온:19.2℃평균운량:3.9일강수량:0.0mm</th>\n",
       "      <td>12일</td>\n",
       "    </tr>\n",
       "    <tr>\n",
       "      <th>평균기온:20.6℃최고기온:25.0℃최저기온:17.5℃평균운량:4.1일강수량:30.6mm</th>\n",
       "      <td>13일</td>\n",
       "    </tr>\n",
       "    <tr>\n",
       "      <th>평균기온:최고기온:28.3℃최저기온:17.7℃평균운량:</th>\n",
       "      <td>14일</td>\n",
       "    </tr>\n",
       "    <tr>\n",
       "      <th>일강수량:</th>\n",
       "      <td>15일</td>\n",
       "    </tr>\n",
       "    <tr>\n",
       "      <th>평균기온:최고기온:28.9℃최저기온:19.1℃평균운량:</th>\n",
       "      <td>16일</td>\n",
       "    </tr>\n",
       "    <tr>\n",
       "      <th>일강수량:</th>\n",
       "      <td>17일</td>\n",
       "    </tr>\n",
       "    <tr>\n",
       "      <th>평균기온:최고기온:30.2℃최저기온:18.9℃평균운량:</th>\n",
       "      <td>18일</td>\n",
       "    </tr>\n",
       "    <tr>\n",
       "      <th>일강수량:</th>\n",
       "      <td>19일</td>\n",
       "    </tr>\n",
       "    <tr>\n",
       "      <th>평균기온:최고기온:32.6℃최저기온:20.8℃평균운량:</th>\n",
       "      <td>20일</td>\n",
       "    </tr>\n",
       "    <tr>\n",
       "      <th>일강수량:</th>\n",
       "      <td>21일</td>\n",
       "    </tr>\n",
       "    <tr>\n",
       "      <th>평균기온:최고기온:34.0℃최저기온:23.3℃평균운량:</th>\n",
       "      <td>22일</td>\n",
       "    </tr>\n",
       "    <tr>\n",
       "      <th>일강수량:</th>\n",
       "      <td>23일</td>\n",
       "    </tr>\n",
       "    <tr>\n",
       "      <th>평균기온:24.7℃최고기온:26.4℃최저기온:21.4℃평균운량:8.8일강수량:6.4mm</th>\n",
       "      <td>0</td>\n",
       "    </tr>\n",
       "    <tr>\n",
       "      <th>평균기온:20.5℃최고기온:22.1℃최저기온:19.2℃평균운량:9.4일강수량:24.9mm</th>\n",
       "      <td>1</td>\n",
       "    </tr>\n",
       "    <tr>\n",
       "      <th>평균기온:22.5℃최고기온:26.4℃최저기온:18.9℃평균운량:6.3일강수량:0.0mm</th>\n",
       "      <td>2</td>\n",
       "    </tr>\n",
       "    <tr>\n",
       "      <th>평균기온:최고기온:29.9℃최저기온:20.0℃평균운량:</th>\n",
       "      <td>3</td>\n",
       "    </tr>\n",
       "    <tr>\n",
       "      <th>일강수량:</th>\n",
       "      <td>4</td>\n",
       "    </tr>\n",
       "  </tbody>\n",
       "</table>\n",
       "</div>"
      ],
      "text/plain": [
       "                                                     0\n",
       "평균기온:22.8℃최고기온:26.3℃최저기온:19.7℃평균운량:8.3일강수량:         1일\n",
       "평균기온:20.4℃최고기온:25.0℃최저기온:17.9℃평균운량:3.5일강수량:0.0mm    2일\n",
       "평균기온:22.0℃최고기온:27.8℃최저기온:16.6℃평균운량:2.1일강수량:         3일\n",
       "평균기온:22.1℃최고기온:28.0℃최저기온:16.9℃평균운량:3.3일강수량:         4일\n",
       "평균기온:21.5℃최고기온:26.3℃최저기온:17.6℃평균운량:4.4일강수량:         5일\n",
       "평균기온:20.3℃최고기온:25.2℃최저기온:17.3℃평균운량:6.1일강수량:0.0mm    6일\n",
       "평균기온:21.4℃최고기온:25.7℃최저기온:18.9℃평균운량:8.9일강수량:0.0mm    7일\n",
       "평균기온:20.4℃최고기온:23.9℃최저기온:18.3℃평균운량:8.4일강수량:1.9mm    8일\n",
       "평균기온:23.3℃최고기온:28.4℃최저기온:18.3℃평균운량:4.6일강수량:1.2mm    9일\n",
       "평균기온:23.2℃최고기온:28.5℃최저기온:19.6℃평균운량:6.9일강수량:0.8mm   10일\n",
       "평균기온:22.2℃최고기온:27.5℃최저기온:18.4℃평균운량:6.6일강수량:0.0mm   11일\n",
       "평균기온:22.0℃최고기온:26.0℃최저기온:19.2℃평균운량:3.9일강수량:0.0mm   12일\n",
       "평균기온:20.6℃최고기온:25.0℃최저기온:17.5℃평균운량:4.1일강수량:30.6mm  13일\n",
       "평균기온:최고기온:28.3℃최저기온:17.7℃평균운량:                     14일\n",
       "일강수량:                                              15일\n",
       "평균기온:최고기온:28.9℃최저기온:19.1℃평균운량:                     16일\n",
       "일강수량:                                              17일\n",
       "평균기온:최고기온:30.2℃최저기온:18.9℃평균운량:                     18일\n",
       "일강수량:                                              19일\n",
       "평균기온:최고기온:32.6℃최저기온:20.8℃평균운량:                     20일\n",
       "일강수량:                                              21일\n",
       "평균기온:최고기온:34.0℃최저기온:23.3℃평균운량:                     22일\n",
       "일강수량:                                              23일\n",
       "평균기온:24.7℃최고기온:26.4℃최저기온:21.4℃평균운량:8.8일강수량:6.4mm     0\n",
       "평균기온:20.5℃최고기온:22.1℃최저기온:19.2℃평균운량:9.4일강수량:24.9mm    1\n",
       "평균기온:22.5℃최고기온:26.4℃최저기온:18.9℃평균운량:6.3일강수량:0.0mm     2\n",
       "평균기온:최고기온:29.9℃최저기온:20.0℃평균운량:                       3\n",
       "일강수량:                                                4"
      ]
     },
     "execution_count": 196,
     "metadata": {},
     "output_type": "execute_result"
    }
   ],
   "source": [
    "df = DataFrame(day1, info1)\n",
    "df.to_excel(\"weather.xlsx\")\n",
    "df"
   ]
  },
  {
   "cell_type": "code",
   "execution_count": null,
   "metadata": {},
   "outputs": [],
   "source": []
  }
 ],
 "metadata": {
  "kernelspec": {
   "display_name": "Python 3",
   "language": "python",
   "name": "python3"
  },
  "language_info": {
   "codemirror_mode": {
    "name": "ipython",
    "version": 3
   },
   "file_extension": ".py",
   "mimetype": "text/x-python",
   "name": "python",
   "nbconvert_exporter": "python",
   "pygments_lexer": "ipython3",
   "version": "3.11.3"
  },
  "orig_nbformat": 4
 },
 "nbformat": 4,
 "nbformat_minor": 2
}
